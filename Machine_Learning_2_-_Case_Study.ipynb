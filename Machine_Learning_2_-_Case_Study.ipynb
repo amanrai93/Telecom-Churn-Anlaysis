{
 "cells": [
  {
   "cell_type": "markdown",
   "id": "3a0f3cd0",
   "metadata": {},
   "source": [
    "# Telecom Churn Case Study - ML Module II"
   ]
  },
  {
   "cell_type": "markdown",
   "id": "9cffb144",
   "metadata": {},
   "source": [
    "## Step 1: `Understanding the data"
   ]
  },
  {
   "cell_type": "markdown",
   "id": "f66d53fc",
   "metadata": {},
   "source": [
    "### Importing libraries"
   ]
  },
  {
   "cell_type": "code",
   "execution_count": 295,
   "id": "335c9a46",
   "metadata": {},
   "outputs": [],
   "source": [
    "import numpy as np \n",
    "import pandas as pd \n",
    "import sklearn\n",
    "import matplotlib.pyplot as plt\n",
    "import seaborn as sns\n",
    "\n",
    "from sklearn.model_selection import train_test_split\n",
    "from sklearn.model_selection import KFold\n",
    "from sklearn.model_selection import GridSearchCV\n",
    "from sklearn.model_selection import cross_val_score\n",
    "from sklearn.preprocessing import LabelEncoder\n",
    "from sklearn.tree import DecisionTreeClassifier\n",
    "from sklearn.ensemble import AdaBoostClassifier\n",
    "from sklearn.ensemble import GradientBoostingClassifier\n",
    "from sklearn import metrics\n",
    "\n",
    "\n",
    "import sklearn\n",
    "from sklearn.model_selection import train_test_split\n",
    "from sklearn.preprocessing import MinMaxScaler\n",
    "import statsmodels.api as sm\n",
    "from statsmodels.stats.outliers_influence import variance_inflation_factor\n",
    "\n",
    "import os\n",
    "import warnings\n",
    "warnings.filterwarnings('ignore')"
   ]
  },
  {
   "cell_type": "code",
   "execution_count": 296,
   "id": "7a61f8cd",
   "metadata": {},
   "outputs": [
    {
     "data": {
      "text/html": [
       "<div>\n",
       "<style scoped>\n",
       "    .dataframe tbody tr th:only-of-type {\n",
       "        vertical-align: middle;\n",
       "    }\n",
       "\n",
       "    .dataframe tbody tr th {\n",
       "        vertical-align: top;\n",
       "    }\n",
       "\n",
       "    .dataframe thead th {\n",
       "        text-align: right;\n",
       "    }\n",
       "</style>\n",
       "<table border=\"1\" class=\"dataframe\">\n",
       "  <thead>\n",
       "    <tr style=\"text-align: right;\">\n",
       "      <th></th>\n",
       "      <th>mobile_number</th>\n",
       "      <th>circle_id</th>\n",
       "      <th>loc_og_t2o_mou</th>\n",
       "      <th>std_og_t2o_mou</th>\n",
       "      <th>loc_ic_t2o_mou</th>\n",
       "      <th>last_date_of_month_6</th>\n",
       "      <th>last_date_of_month_7</th>\n",
       "      <th>last_date_of_month_8</th>\n",
       "      <th>last_date_of_month_9</th>\n",
       "      <th>arpu_6</th>\n",
       "      <th>...</th>\n",
       "      <th>sachet_3g_9</th>\n",
       "      <th>fb_user_6</th>\n",
       "      <th>fb_user_7</th>\n",
       "      <th>fb_user_8</th>\n",
       "      <th>fb_user_9</th>\n",
       "      <th>aon</th>\n",
       "      <th>aug_vbc_3g</th>\n",
       "      <th>jul_vbc_3g</th>\n",
       "      <th>jun_vbc_3g</th>\n",
       "      <th>sep_vbc_3g</th>\n",
       "    </tr>\n",
       "  </thead>\n",
       "  <tbody>\n",
       "    <tr>\n",
       "      <th>0</th>\n",
       "      <td>7000842753</td>\n",
       "      <td>109</td>\n",
       "      <td>0.0</td>\n",
       "      <td>0.0</td>\n",
       "      <td>0.0</td>\n",
       "      <td>6/30/2014</td>\n",
       "      <td>7/31/2014</td>\n",
       "      <td>8/31/2014</td>\n",
       "      <td>9/30/2014</td>\n",
       "      <td>197.385</td>\n",
       "      <td>...</td>\n",
       "      <td>0</td>\n",
       "      <td>1.0</td>\n",
       "      <td>1.0</td>\n",
       "      <td>1.0</td>\n",
       "      <td>NaN</td>\n",
       "      <td>968</td>\n",
       "      <td>30.4</td>\n",
       "      <td>0.0</td>\n",
       "      <td>101.20</td>\n",
       "      <td>3.58</td>\n",
       "    </tr>\n",
       "    <tr>\n",
       "      <th>1</th>\n",
       "      <td>7001865778</td>\n",
       "      <td>109</td>\n",
       "      <td>0.0</td>\n",
       "      <td>0.0</td>\n",
       "      <td>0.0</td>\n",
       "      <td>6/30/2014</td>\n",
       "      <td>7/31/2014</td>\n",
       "      <td>8/31/2014</td>\n",
       "      <td>9/30/2014</td>\n",
       "      <td>34.047</td>\n",
       "      <td>...</td>\n",
       "      <td>0</td>\n",
       "      <td>NaN</td>\n",
       "      <td>1.0</td>\n",
       "      <td>1.0</td>\n",
       "      <td>NaN</td>\n",
       "      <td>1006</td>\n",
       "      <td>0.0</td>\n",
       "      <td>0.0</td>\n",
       "      <td>0.00</td>\n",
       "      <td>0.00</td>\n",
       "    </tr>\n",
       "    <tr>\n",
       "      <th>2</th>\n",
       "      <td>7001625959</td>\n",
       "      <td>109</td>\n",
       "      <td>0.0</td>\n",
       "      <td>0.0</td>\n",
       "      <td>0.0</td>\n",
       "      <td>6/30/2014</td>\n",
       "      <td>7/31/2014</td>\n",
       "      <td>8/31/2014</td>\n",
       "      <td>9/30/2014</td>\n",
       "      <td>167.690</td>\n",
       "      <td>...</td>\n",
       "      <td>0</td>\n",
       "      <td>NaN</td>\n",
       "      <td>NaN</td>\n",
       "      <td>NaN</td>\n",
       "      <td>1.0</td>\n",
       "      <td>1103</td>\n",
       "      <td>0.0</td>\n",
       "      <td>0.0</td>\n",
       "      <td>4.17</td>\n",
       "      <td>0.00</td>\n",
       "    </tr>\n",
       "    <tr>\n",
       "      <th>3</th>\n",
       "      <td>7001204172</td>\n",
       "      <td>109</td>\n",
       "      <td>0.0</td>\n",
       "      <td>0.0</td>\n",
       "      <td>0.0</td>\n",
       "      <td>6/30/2014</td>\n",
       "      <td>7/31/2014</td>\n",
       "      <td>8/31/2014</td>\n",
       "      <td>9/30/2014</td>\n",
       "      <td>221.338</td>\n",
       "      <td>...</td>\n",
       "      <td>0</td>\n",
       "      <td>NaN</td>\n",
       "      <td>NaN</td>\n",
       "      <td>NaN</td>\n",
       "      <td>NaN</td>\n",
       "      <td>2491</td>\n",
       "      <td>0.0</td>\n",
       "      <td>0.0</td>\n",
       "      <td>0.00</td>\n",
       "      <td>0.00</td>\n",
       "    </tr>\n",
       "    <tr>\n",
       "      <th>4</th>\n",
       "      <td>7000142493</td>\n",
       "      <td>109</td>\n",
       "      <td>0.0</td>\n",
       "      <td>0.0</td>\n",
       "      <td>0.0</td>\n",
       "      <td>6/30/2014</td>\n",
       "      <td>7/31/2014</td>\n",
       "      <td>8/31/2014</td>\n",
       "      <td>9/30/2014</td>\n",
       "      <td>261.636</td>\n",
       "      <td>...</td>\n",
       "      <td>0</td>\n",
       "      <td>0.0</td>\n",
       "      <td>NaN</td>\n",
       "      <td>NaN</td>\n",
       "      <td>NaN</td>\n",
       "      <td>1526</td>\n",
       "      <td>0.0</td>\n",
       "      <td>0.0</td>\n",
       "      <td>0.00</td>\n",
       "      <td>0.00</td>\n",
       "    </tr>\n",
       "  </tbody>\n",
       "</table>\n",
       "<p>5 rows × 226 columns</p>\n",
       "</div>"
      ],
      "text/plain": [
       "   mobile_number  circle_id  loc_og_t2o_mou  std_og_t2o_mou  loc_ic_t2o_mou  \\\n",
       "0     7000842753        109             0.0             0.0             0.0   \n",
       "1     7001865778        109             0.0             0.0             0.0   \n",
       "2     7001625959        109             0.0             0.0             0.0   \n",
       "3     7001204172        109             0.0             0.0             0.0   \n",
       "4     7000142493        109             0.0             0.0             0.0   \n",
       "\n",
       "  last_date_of_month_6 last_date_of_month_7 last_date_of_month_8  \\\n",
       "0            6/30/2014            7/31/2014            8/31/2014   \n",
       "1            6/30/2014            7/31/2014            8/31/2014   \n",
       "2            6/30/2014            7/31/2014            8/31/2014   \n",
       "3            6/30/2014            7/31/2014            8/31/2014   \n",
       "4            6/30/2014            7/31/2014            8/31/2014   \n",
       "\n",
       "  last_date_of_month_9   arpu_6  ...  sachet_3g_9  fb_user_6  fb_user_7  \\\n",
       "0            9/30/2014  197.385  ...            0        1.0        1.0   \n",
       "1            9/30/2014   34.047  ...            0        NaN        1.0   \n",
       "2            9/30/2014  167.690  ...            0        NaN        NaN   \n",
       "3            9/30/2014  221.338  ...            0        NaN        NaN   \n",
       "4            9/30/2014  261.636  ...            0        0.0        NaN   \n",
       "\n",
       "   fb_user_8  fb_user_9   aon  aug_vbc_3g  jul_vbc_3g  jun_vbc_3g  sep_vbc_3g  \n",
       "0        1.0        NaN   968        30.4         0.0      101.20        3.58  \n",
       "1        1.0        NaN  1006         0.0         0.0        0.00        0.00  \n",
       "2        NaN        1.0  1103         0.0         0.0        4.17        0.00  \n",
       "3        NaN        NaN  2491         0.0         0.0        0.00        0.00  \n",
       "4        NaN        NaN  1526         0.0         0.0        0.00        0.00  \n",
       "\n",
       "[5 rows x 226 columns]"
      ]
     },
     "execution_count": 296,
     "metadata": {},
     "output_type": "execute_result"
    }
   ],
   "source": [
    "data = pd.read_csv(r'C:\\Users\\amanr\\Downloads\\telecom_churn_data.csv')\n",
    "data.head()"
   ]
  },
  {
   "cell_type": "code",
   "execution_count": 297,
   "id": "a88feef6",
   "metadata": {},
   "outputs": [
    {
     "data": {
      "text/plain": [
       "(99999, 226)"
      ]
     },
     "execution_count": 297,
     "metadata": {},
     "output_type": "execute_result"
    }
   ],
   "source": [
    "# Check the head of the dataset\n",
    "data.shape"
   ]
  },
  {
   "cell_type": "code",
   "execution_count": 298,
   "id": "7f0cfa99",
   "metadata": {},
   "outputs": [
    {
     "data": {
      "text/html": [
       "<div>\n",
       "<style scoped>\n",
       "    .dataframe tbody tr th:only-of-type {\n",
       "        vertical-align: middle;\n",
       "    }\n",
       "\n",
       "    .dataframe tbody tr th {\n",
       "        vertical-align: top;\n",
       "    }\n",
       "\n",
       "    .dataframe thead th {\n",
       "        text-align: right;\n",
       "    }\n",
       "</style>\n",
       "<table border=\"1\" class=\"dataframe\">\n",
       "  <thead>\n",
       "    <tr style=\"text-align: right;\">\n",
       "      <th></th>\n",
       "      <th>mobile_number</th>\n",
       "      <th>circle_id</th>\n",
       "      <th>loc_og_t2o_mou</th>\n",
       "      <th>std_og_t2o_mou</th>\n",
       "      <th>loc_ic_t2o_mou</th>\n",
       "      <th>arpu_6</th>\n",
       "      <th>arpu_7</th>\n",
       "      <th>arpu_8</th>\n",
       "      <th>arpu_9</th>\n",
       "      <th>onnet_mou_6</th>\n",
       "      <th>...</th>\n",
       "      <th>sachet_3g_9</th>\n",
       "      <th>fb_user_6</th>\n",
       "      <th>fb_user_7</th>\n",
       "      <th>fb_user_8</th>\n",
       "      <th>fb_user_9</th>\n",
       "      <th>aon</th>\n",
       "      <th>aug_vbc_3g</th>\n",
       "      <th>jul_vbc_3g</th>\n",
       "      <th>jun_vbc_3g</th>\n",
       "      <th>sep_vbc_3g</th>\n",
       "    </tr>\n",
       "  </thead>\n",
       "  <tbody>\n",
       "    <tr>\n",
       "      <th>count</th>\n",
       "      <td>9.999900e+04</td>\n",
       "      <td>99999.0</td>\n",
       "      <td>98981.0</td>\n",
       "      <td>98981.0</td>\n",
       "      <td>98981.0</td>\n",
       "      <td>99999.000000</td>\n",
       "      <td>99999.000000</td>\n",
       "      <td>99999.000000</td>\n",
       "      <td>99999.000000</td>\n",
       "      <td>96062.000000</td>\n",
       "      <td>...</td>\n",
       "      <td>99999.000000</td>\n",
       "      <td>25153.000000</td>\n",
       "      <td>25571.000000</td>\n",
       "      <td>26339.000000</td>\n",
       "      <td>25922.000000</td>\n",
       "      <td>99999.000000</td>\n",
       "      <td>99999.000000</td>\n",
       "      <td>99999.000000</td>\n",
       "      <td>99999.000000</td>\n",
       "      <td>99999.000000</td>\n",
       "    </tr>\n",
       "    <tr>\n",
       "      <th>mean</th>\n",
       "      <td>7.001207e+09</td>\n",
       "      <td>109.0</td>\n",
       "      <td>0.0</td>\n",
       "      <td>0.0</td>\n",
       "      <td>0.0</td>\n",
       "      <td>282.987358</td>\n",
       "      <td>278.536648</td>\n",
       "      <td>279.154731</td>\n",
       "      <td>261.645069</td>\n",
       "      <td>132.395875</td>\n",
       "      <td>...</td>\n",
       "      <td>0.084581</td>\n",
       "      <td>0.914404</td>\n",
       "      <td>0.908764</td>\n",
       "      <td>0.890808</td>\n",
       "      <td>0.860968</td>\n",
       "      <td>1219.854749</td>\n",
       "      <td>68.170248</td>\n",
       "      <td>66.839062</td>\n",
       "      <td>60.021204</td>\n",
       "      <td>3.299373</td>\n",
       "    </tr>\n",
       "    <tr>\n",
       "      <th>std</th>\n",
       "      <td>6.956694e+05</td>\n",
       "      <td>0.0</td>\n",
       "      <td>0.0</td>\n",
       "      <td>0.0</td>\n",
       "      <td>0.0</td>\n",
       "      <td>328.439770</td>\n",
       "      <td>338.156291</td>\n",
       "      <td>344.474791</td>\n",
       "      <td>341.998630</td>\n",
       "      <td>297.207406</td>\n",
       "      <td>...</td>\n",
       "      <td>0.650457</td>\n",
       "      <td>0.279772</td>\n",
       "      <td>0.287950</td>\n",
       "      <td>0.311885</td>\n",
       "      <td>0.345987</td>\n",
       "      <td>954.733842</td>\n",
       "      <td>267.580450</td>\n",
       "      <td>271.201856</td>\n",
       "      <td>253.938223</td>\n",
       "      <td>32.408353</td>\n",
       "    </tr>\n",
       "    <tr>\n",
       "      <th>min</th>\n",
       "      <td>7.000000e+09</td>\n",
       "      <td>109.0</td>\n",
       "      <td>0.0</td>\n",
       "      <td>0.0</td>\n",
       "      <td>0.0</td>\n",
       "      <td>-2258.709000</td>\n",
       "      <td>-2014.045000</td>\n",
       "      <td>-945.808000</td>\n",
       "      <td>-1899.505000</td>\n",
       "      <td>0.000000</td>\n",
       "      <td>...</td>\n",
       "      <td>0.000000</td>\n",
       "      <td>0.000000</td>\n",
       "      <td>0.000000</td>\n",
       "      <td>0.000000</td>\n",
       "      <td>0.000000</td>\n",
       "      <td>180.000000</td>\n",
       "      <td>0.000000</td>\n",
       "      <td>0.000000</td>\n",
       "      <td>0.000000</td>\n",
       "      <td>0.000000</td>\n",
       "    </tr>\n",
       "    <tr>\n",
       "      <th>25%</th>\n",
       "      <td>7.000606e+09</td>\n",
       "      <td>109.0</td>\n",
       "      <td>0.0</td>\n",
       "      <td>0.0</td>\n",
       "      <td>0.0</td>\n",
       "      <td>93.411500</td>\n",
       "      <td>86.980500</td>\n",
       "      <td>84.126000</td>\n",
       "      <td>62.685000</td>\n",
       "      <td>7.380000</td>\n",
       "      <td>...</td>\n",
       "      <td>0.000000</td>\n",
       "      <td>1.000000</td>\n",
       "      <td>1.000000</td>\n",
       "      <td>1.000000</td>\n",
       "      <td>1.000000</td>\n",
       "      <td>467.000000</td>\n",
       "      <td>0.000000</td>\n",
       "      <td>0.000000</td>\n",
       "      <td>0.000000</td>\n",
       "      <td>0.000000</td>\n",
       "    </tr>\n",
       "    <tr>\n",
       "      <th>50%</th>\n",
       "      <td>7.001205e+09</td>\n",
       "      <td>109.0</td>\n",
       "      <td>0.0</td>\n",
       "      <td>0.0</td>\n",
       "      <td>0.0</td>\n",
       "      <td>197.704000</td>\n",
       "      <td>191.640000</td>\n",
       "      <td>192.080000</td>\n",
       "      <td>176.849000</td>\n",
       "      <td>34.310000</td>\n",
       "      <td>...</td>\n",
       "      <td>0.000000</td>\n",
       "      <td>1.000000</td>\n",
       "      <td>1.000000</td>\n",
       "      <td>1.000000</td>\n",
       "      <td>1.000000</td>\n",
       "      <td>863.000000</td>\n",
       "      <td>0.000000</td>\n",
       "      <td>0.000000</td>\n",
       "      <td>0.000000</td>\n",
       "      <td>0.000000</td>\n",
       "    </tr>\n",
       "    <tr>\n",
       "      <th>75%</th>\n",
       "      <td>7.001812e+09</td>\n",
       "      <td>109.0</td>\n",
       "      <td>0.0</td>\n",
       "      <td>0.0</td>\n",
       "      <td>0.0</td>\n",
       "      <td>371.060000</td>\n",
       "      <td>365.344500</td>\n",
       "      <td>369.370500</td>\n",
       "      <td>353.466500</td>\n",
       "      <td>118.740000</td>\n",
       "      <td>...</td>\n",
       "      <td>0.000000</td>\n",
       "      <td>1.000000</td>\n",
       "      <td>1.000000</td>\n",
       "      <td>1.000000</td>\n",
       "      <td>1.000000</td>\n",
       "      <td>1807.500000</td>\n",
       "      <td>0.000000</td>\n",
       "      <td>0.000000</td>\n",
       "      <td>0.000000</td>\n",
       "      <td>0.000000</td>\n",
       "    </tr>\n",
       "    <tr>\n",
       "      <th>max</th>\n",
       "      <td>7.002411e+09</td>\n",
       "      <td>109.0</td>\n",
       "      <td>0.0</td>\n",
       "      <td>0.0</td>\n",
       "      <td>0.0</td>\n",
       "      <td>27731.088000</td>\n",
       "      <td>35145.834000</td>\n",
       "      <td>33543.624000</td>\n",
       "      <td>38805.617000</td>\n",
       "      <td>7376.710000</td>\n",
       "      <td>...</td>\n",
       "      <td>49.000000</td>\n",
       "      <td>1.000000</td>\n",
       "      <td>1.000000</td>\n",
       "      <td>1.000000</td>\n",
       "      <td>1.000000</td>\n",
       "      <td>4337.000000</td>\n",
       "      <td>12916.220000</td>\n",
       "      <td>9165.600000</td>\n",
       "      <td>11166.210000</td>\n",
       "      <td>2618.570000</td>\n",
       "    </tr>\n",
       "  </tbody>\n",
       "</table>\n",
       "<p>8 rows × 214 columns</p>\n",
       "</div>"
      ],
      "text/plain": [
       "       mobile_number  circle_id  loc_og_t2o_mou  std_og_t2o_mou  \\\n",
       "count   9.999900e+04    99999.0         98981.0         98981.0   \n",
       "mean    7.001207e+09      109.0             0.0             0.0   \n",
       "std     6.956694e+05        0.0             0.0             0.0   \n",
       "min     7.000000e+09      109.0             0.0             0.0   \n",
       "25%     7.000606e+09      109.0             0.0             0.0   \n",
       "50%     7.001205e+09      109.0             0.0             0.0   \n",
       "75%     7.001812e+09      109.0             0.0             0.0   \n",
       "max     7.002411e+09      109.0             0.0             0.0   \n",
       "\n",
       "       loc_ic_t2o_mou        arpu_6        arpu_7        arpu_8        arpu_9  \\\n",
       "count         98981.0  99999.000000  99999.000000  99999.000000  99999.000000   \n",
       "mean              0.0    282.987358    278.536648    279.154731    261.645069   \n",
       "std               0.0    328.439770    338.156291    344.474791    341.998630   \n",
       "min               0.0  -2258.709000  -2014.045000   -945.808000  -1899.505000   \n",
       "25%               0.0     93.411500     86.980500     84.126000     62.685000   \n",
       "50%               0.0    197.704000    191.640000    192.080000    176.849000   \n",
       "75%               0.0    371.060000    365.344500    369.370500    353.466500   \n",
       "max               0.0  27731.088000  35145.834000  33543.624000  38805.617000   \n",
       "\n",
       "        onnet_mou_6  ...   sachet_3g_9     fb_user_6     fb_user_7  \\\n",
       "count  96062.000000  ...  99999.000000  25153.000000  25571.000000   \n",
       "mean     132.395875  ...      0.084581      0.914404      0.908764   \n",
       "std      297.207406  ...      0.650457      0.279772      0.287950   \n",
       "min        0.000000  ...      0.000000      0.000000      0.000000   \n",
       "25%        7.380000  ...      0.000000      1.000000      1.000000   \n",
       "50%       34.310000  ...      0.000000      1.000000      1.000000   \n",
       "75%      118.740000  ...      0.000000      1.000000      1.000000   \n",
       "max     7376.710000  ...     49.000000      1.000000      1.000000   \n",
       "\n",
       "          fb_user_8     fb_user_9           aon    aug_vbc_3g    jul_vbc_3g  \\\n",
       "count  26339.000000  25922.000000  99999.000000  99999.000000  99999.000000   \n",
       "mean       0.890808      0.860968   1219.854749     68.170248     66.839062   \n",
       "std        0.311885      0.345987    954.733842    267.580450    271.201856   \n",
       "min        0.000000      0.000000    180.000000      0.000000      0.000000   \n",
       "25%        1.000000      1.000000    467.000000      0.000000      0.000000   \n",
       "50%        1.000000      1.000000    863.000000      0.000000      0.000000   \n",
       "75%        1.000000      1.000000   1807.500000      0.000000      0.000000   \n",
       "max        1.000000      1.000000   4337.000000  12916.220000   9165.600000   \n",
       "\n",
       "         jun_vbc_3g    sep_vbc_3g  \n",
       "count  99999.000000  99999.000000  \n",
       "mean      60.021204      3.299373  \n",
       "std      253.938223     32.408353  \n",
       "min        0.000000      0.000000  \n",
       "25%        0.000000      0.000000  \n",
       "50%        0.000000      0.000000  \n",
       "75%        0.000000      0.000000  \n",
       "max    11166.210000   2618.570000  \n",
       "\n",
       "[8 rows x 214 columns]"
      ]
     },
     "execution_count": 298,
     "metadata": {},
     "output_type": "execute_result"
    }
   ],
   "source": [
    "data.describe()"
   ]
  },
  {
   "cell_type": "code",
   "execution_count": 299,
   "id": "4b8b5b9e",
   "metadata": {},
   "outputs": [],
   "source": [
    "# 6 and 7 can be combined\n",
    "# can certain columns be combined too - like having just incoming cal usage and outgoing calll usage for 6-9 months\n",
    "# for month 9 i will put 1 or 0 and emove 9 related columns - can i do the same for other months\n",
    "# before all this i also need to do some data cleaning before we begin with combinig datas together"
   ]
  },
  {
   "cell_type": "markdown",
   "id": "2121d571",
   "metadata": {},
   "source": [
    "## Step 2: Data Preparation "
   ]
  },
  {
   "cell_type": "markdown",
   "id": "98f8be4e",
   "metadata": {},
   "source": [
    "#### Check for missing values and imputing them"
   ]
  },
  {
   "cell_type": "code",
   "execution_count": 300,
   "id": "b46adb1e",
   "metadata": {},
   "outputs": [
    {
     "name": "stdout",
     "output_type": "stream",
     "text": [
      "mobile_number 0\n",
      "circle_id 0\n",
      "loc_og_t2o_mou 1018\n",
      "std_og_t2o_mou 1018\n",
      "loc_ic_t2o_mou 1018\n",
      "last_date_of_month_6 0\n",
      "last_date_of_month_7 601\n",
      "last_date_of_month_8 1100\n",
      "last_date_of_month_9 1659\n",
      "arpu_6 0\n",
      "arpu_7 0\n",
      "arpu_8 0\n",
      "arpu_9 0\n",
      "onnet_mou_6 3937\n",
      "onnet_mou_7 3859\n",
      "onnet_mou_8 5378\n",
      "onnet_mou_9 7745\n",
      "offnet_mou_6 3937\n",
      "offnet_mou_7 3859\n",
      "offnet_mou_8 5378\n",
      "offnet_mou_9 7745\n",
      "roam_ic_mou_6 3937\n",
      "roam_ic_mou_7 3859\n",
      "roam_ic_mou_8 5378\n",
      "roam_ic_mou_9 7745\n",
      "roam_og_mou_6 3937\n",
      "roam_og_mou_7 3859\n",
      "roam_og_mou_8 5378\n",
      "roam_og_mou_9 7745\n",
      "loc_og_t2t_mou_6 3937\n",
      "loc_og_t2t_mou_7 3859\n",
      "loc_og_t2t_mou_8 5378\n",
      "loc_og_t2t_mou_9 7745\n",
      "loc_og_t2m_mou_6 3937\n",
      "loc_og_t2m_mou_7 3859\n",
      "loc_og_t2m_mou_8 5378\n",
      "loc_og_t2m_mou_9 7745\n",
      "loc_og_t2f_mou_6 3937\n",
      "loc_og_t2f_mou_7 3859\n",
      "loc_og_t2f_mou_8 5378\n",
      "loc_og_t2f_mou_9 7745\n",
      "loc_og_t2c_mou_6 3937\n",
      "loc_og_t2c_mou_7 3859\n",
      "loc_og_t2c_mou_8 5378\n",
      "loc_og_t2c_mou_9 7745\n",
      "loc_og_mou_6 3937\n",
      "loc_og_mou_7 3859\n",
      "loc_og_mou_8 5378\n",
      "loc_og_mou_9 7745\n",
      "std_og_t2t_mou_6 3937\n",
      "std_og_t2t_mou_7 3859\n",
      "std_og_t2t_mou_8 5378\n",
      "std_og_t2t_mou_9 7745\n",
      "std_og_t2m_mou_6 3937\n",
      "std_og_t2m_mou_7 3859\n",
      "std_og_t2m_mou_8 5378\n",
      "std_og_t2m_mou_9 7745\n",
      "std_og_t2f_mou_6 3937\n",
      "std_og_t2f_mou_7 3859\n",
      "std_og_t2f_mou_8 5378\n",
      "std_og_t2f_mou_9 7745\n",
      "std_og_t2c_mou_6 3937\n",
      "std_og_t2c_mou_7 3859\n",
      "std_og_t2c_mou_8 5378\n",
      "std_og_t2c_mou_9 7745\n",
      "std_og_mou_6 3937\n",
      "std_og_mou_7 3859\n",
      "std_og_mou_8 5378\n",
      "std_og_mou_9 7745\n",
      "isd_og_mou_6 3937\n",
      "isd_og_mou_7 3859\n",
      "isd_og_mou_8 5378\n",
      "isd_og_mou_9 7745\n",
      "spl_og_mou_6 3937\n",
      "spl_og_mou_7 3859\n",
      "spl_og_mou_8 5378\n",
      "spl_og_mou_9 7745\n",
      "og_others_6 3937\n",
      "og_others_7 3859\n",
      "og_others_8 5378\n",
      "og_others_9 7745\n",
      "total_og_mou_6 0\n",
      "total_og_mou_7 0\n",
      "total_og_mou_8 0\n",
      "total_og_mou_9 0\n",
      "loc_ic_t2t_mou_6 3937\n",
      "loc_ic_t2t_mou_7 3859\n",
      "loc_ic_t2t_mou_8 5378\n",
      "loc_ic_t2t_mou_9 7745\n",
      "loc_ic_t2m_mou_6 3937\n",
      "loc_ic_t2m_mou_7 3859\n",
      "loc_ic_t2m_mou_8 5378\n",
      "loc_ic_t2m_mou_9 7745\n",
      "loc_ic_t2f_mou_6 3937\n",
      "loc_ic_t2f_mou_7 3859\n",
      "loc_ic_t2f_mou_8 5378\n",
      "loc_ic_t2f_mou_9 7745\n",
      "loc_ic_mou_6 3937\n",
      "loc_ic_mou_7 3859\n",
      "loc_ic_mou_8 5378\n",
      "loc_ic_mou_9 7745\n",
      "std_ic_t2t_mou_6 3937\n",
      "std_ic_t2t_mou_7 3859\n",
      "std_ic_t2t_mou_8 5378\n",
      "std_ic_t2t_mou_9 7745\n",
      "std_ic_t2m_mou_6 3937\n",
      "std_ic_t2m_mou_7 3859\n",
      "std_ic_t2m_mou_8 5378\n",
      "std_ic_t2m_mou_9 7745\n",
      "std_ic_t2f_mou_6 3937\n",
      "std_ic_t2f_mou_7 3859\n",
      "std_ic_t2f_mou_8 5378\n",
      "std_ic_t2f_mou_9 7745\n",
      "std_ic_t2o_mou_6 3937\n",
      "std_ic_t2o_mou_7 3859\n",
      "std_ic_t2o_mou_8 5378\n",
      "std_ic_t2o_mou_9 7745\n",
      "std_ic_mou_6 3937\n",
      "std_ic_mou_7 3859\n",
      "std_ic_mou_8 5378\n",
      "std_ic_mou_9 7745\n",
      "total_ic_mou_6 0\n",
      "total_ic_mou_7 0\n",
      "total_ic_mou_8 0\n",
      "total_ic_mou_9 0\n",
      "spl_ic_mou_6 3937\n",
      "spl_ic_mou_7 3859\n",
      "spl_ic_mou_8 5378\n",
      "spl_ic_mou_9 7745\n",
      "isd_ic_mou_6 3937\n",
      "isd_ic_mou_7 3859\n",
      "isd_ic_mou_8 5378\n",
      "isd_ic_mou_9 7745\n",
      "ic_others_6 3937\n",
      "ic_others_7 3859\n",
      "ic_others_8 5378\n",
      "ic_others_9 7745\n",
      "total_rech_num_6 0\n",
      "total_rech_num_7 0\n",
      "total_rech_num_8 0\n",
      "total_rech_num_9 0\n",
      "total_rech_amt_6 0\n",
      "total_rech_amt_7 0\n",
      "total_rech_amt_8 0\n",
      "total_rech_amt_9 0\n",
      "max_rech_amt_6 0\n",
      "max_rech_amt_7 0\n",
      "max_rech_amt_8 0\n",
      "max_rech_amt_9 0\n",
      "date_of_last_rech_6 1607\n",
      "date_of_last_rech_7 1767\n",
      "date_of_last_rech_8 3622\n",
      "date_of_last_rech_9 4760\n",
      "last_day_rch_amt_6 0\n",
      "last_day_rch_amt_7 0\n",
      "last_day_rch_amt_8 0\n",
      "last_day_rch_amt_9 0\n",
      "date_of_last_rech_data_6 74846\n",
      "date_of_last_rech_data_7 74428\n",
      "date_of_last_rech_data_8 73660\n",
      "date_of_last_rech_data_9 74077\n",
      "total_rech_data_6 74846\n",
      "total_rech_data_7 74428\n",
      "total_rech_data_8 73660\n",
      "total_rech_data_9 74077\n",
      "max_rech_data_6 74846\n",
      "max_rech_data_7 74428\n",
      "max_rech_data_8 73660\n",
      "max_rech_data_9 74077\n",
      "count_rech_2g_6 74846\n",
      "count_rech_2g_7 74428\n",
      "count_rech_2g_8 73660\n",
      "count_rech_2g_9 74077\n",
      "count_rech_3g_6 74846\n",
      "count_rech_3g_7 74428\n",
      "count_rech_3g_8 73660\n",
      "count_rech_3g_9 74077\n",
      "av_rech_amt_data_6 74846\n",
      "av_rech_amt_data_7 74428\n",
      "av_rech_amt_data_8 73660\n",
      "av_rech_amt_data_9 74077\n",
      "vol_2g_mb_6 0\n",
      "vol_2g_mb_7 0\n",
      "vol_2g_mb_8 0\n",
      "vol_2g_mb_9 0\n",
      "vol_3g_mb_6 0\n",
      "vol_3g_mb_7 0\n",
      "vol_3g_mb_8 0\n",
      "vol_3g_mb_9 0\n",
      "arpu_3g_6 74846\n",
      "arpu_3g_7 74428\n",
      "arpu_3g_8 73660\n",
      "arpu_3g_9 74077\n",
      "arpu_2g_6 74846\n",
      "arpu_2g_7 74428\n",
      "arpu_2g_8 73660\n",
      "arpu_2g_9 74077\n",
      "night_pck_user_6 74846\n",
      "night_pck_user_7 74428\n",
      "night_pck_user_8 73660\n",
      "night_pck_user_9 74077\n",
      "monthly_2g_6 0\n",
      "monthly_2g_7 0\n",
      "monthly_2g_8 0\n",
      "monthly_2g_9 0\n",
      "sachet_2g_6 0\n",
      "sachet_2g_7 0\n",
      "sachet_2g_8 0\n",
      "sachet_2g_9 0\n",
      "monthly_3g_6 0\n",
      "monthly_3g_7 0\n",
      "monthly_3g_8 0\n",
      "monthly_3g_9 0\n",
      "sachet_3g_6 0\n",
      "sachet_3g_7 0\n",
      "sachet_3g_8 0\n",
      "sachet_3g_9 0\n",
      "fb_user_6 74846\n",
      "fb_user_7 74428\n",
      "fb_user_8 73660\n",
      "fb_user_9 74077\n",
      "aon 0\n",
      "aug_vbc_3g 0\n",
      "jul_vbc_3g 0\n",
      "jun_vbc_3g 0\n",
      "sep_vbc_3g 0\n"
     ]
    }
   ],
   "source": [
    "#Identify null values\n",
    "# adding up the missing values (column-wise)\n",
    "nulls = data.isnull().sum().to_frame()\n",
    "for index, row in nulls.iterrows():\n",
    "    print(index, row[0])"
   ]
  },
  {
   "cell_type": "code",
   "execution_count": 301,
   "id": "a366f1ba",
   "metadata": {},
   "outputs": [],
   "source": [
    "#same would be the case for other two\n",
    "\n",
    "#loc_og_t2o_mou - local - outgoiing - fixed line - minutes\n",
    "#std_og_t2o_mou - std - outgoiing - fixed line - minutes\n",
    "#loc_ic_t2o_mou - local - incoming - fixed line - minutes"
   ]
  },
  {
   "cell_type": "code",
   "execution_count": 302,
   "id": "41803b63",
   "metadata": {},
   "outputs": [
    {
     "name": "stdout",
     "output_type": "stream",
     "text": [
      "7/31/2014    99398\n",
      "Name: last_date_of_month_7, dtype: int64\n",
      "8/31/2014    98899\n",
      "Name: last_date_of_month_8, dtype: int64\n",
      "9/30/2014    98340\n",
      "Name: last_date_of_month_9, dtype: int64\n"
     ]
    }
   ],
   "source": [
    "print(data['last_date_of_month_7'].value_counts())\n",
    "print(data['last_date_of_month_8'].value_counts())\n",
    "print(data['last_date_of_month_9'].value_counts())"
   ]
  },
  {
   "cell_type": "code",
   "execution_count": 303,
   "id": "4e58e6ee",
   "metadata": {},
   "outputs": [],
   "source": [
    "#replacig null values with 0 for all minute columns - pt1\n",
    "data[['loc_og_t2o_mou','std_og_t2o_mou','loc_ic_t2o_mou','onnet_mou_6','onnet_mou_7','onnet_mou_8','onnet_mou_9','offnet_mou_6','offnet_mou_7','offnet_mou_8','offnet_mou_9','roam_ic_mou_6','roam_ic_mou_7','roam_ic_mou_8','roam_ic_mou_9','roam_og_mou_6','roam_og_mou_7','roam_og_mou_8','roam_og_mou_9','loc_og_t2t_mou_6','loc_og_t2t_mou_7','loc_og_t2t_mou_8','loc_og_t2t_mou_9','loc_og_t2m_mou_6','loc_og_t2m_mou_7','loc_og_t2m_mou_8','loc_og_t2m_mou_9','loc_og_t2f_mou_6','loc_og_t2f_mou_7','loc_og_t2f_mou_8','loc_og_t2f_mou_9','loc_og_t2c_mou_6','loc_og_t2c_mou_7','loc_og_t2c_mou_8','loc_og_t2c_mou_9','loc_og_mou_6','loc_og_mou_7','loc_og_mou_8','loc_og_mou_9','std_og_t2t_mou_6','std_og_t2t_mou_7','std_og_t2t_mou_8','std_og_t2t_mou_9','std_og_t2m_mou_6','std_og_t2m_mou_7','std_og_t2m_mou_8','std_og_t2m_mou_9','std_og_t2f_mou_6','std_og_t2f_mou_7','std_og_t2f_mou_8','std_og_t2f_mou_9','std_og_t2c_mou_6','std_og_t2c_mou_7','std_og_t2c_mou_8','std_og_t2c_mou_9','std_og_mou_6','std_og_mou_7','std_og_mou_8','std_og_mou_9','isd_og_mou_6','isd_og_mou_7','isd_og_mou_8','isd_og_mou_9','spl_og_mou_6','spl_og_mou_7','spl_og_mou_8','spl_og_mou_9','og_others_6','og_others_7','og_others_8','og_others_9','total_og_mou_6','total_og_mou_7','total_og_mou_8','total_og_mou_9','loc_ic_t2t_mou_6','loc_ic_t2t_mou_7','loc_ic_t2t_mou_8','loc_ic_t2t_mou_9','loc_ic_t2m_mou_6','loc_ic_t2m_mou_7','loc_ic_t2m_mou_8','loc_ic_t2m_mou_9','loc_ic_t2f_mou_6','loc_ic_t2f_mou_7','loc_ic_t2f_mou_8','loc_ic_t2f_mou_9','loc_ic_mou_6','loc_ic_mou_7','loc_ic_mou_8','loc_ic_mou_9','std_ic_t2t_mou_6','std_ic_t2t_mou_7','std_ic_t2t_mou_8','std_ic_t2t_mou_9','std_ic_t2m_mou_6','std_ic_t2m_mou_7','std_ic_t2m_mou_8','std_ic_t2m_mou_9','std_ic_t2f_mou_6','std_ic_t2f_mou_7','std_ic_t2f_mou_8','std_ic_t2f_mou_9','std_ic_t2o_mou_6','std_ic_t2o_mou_7','std_ic_t2o_mou_8','std_ic_t2o_mou_9','std_ic_mou_6','std_ic_mou_7','std_ic_mou_8','std_ic_mou_9','total_ic_mou_6','total_ic_mou_7','total_ic_mou_8','total_ic_mou_9','spl_ic_mou_6','spl_ic_mou_7','spl_ic_mou_8','spl_ic_mou_9','isd_ic_mou_6','isd_ic_mou_7','isd_ic_mou_8','isd_ic_mou_9' ]]=data[['loc_og_t2o_mou','std_og_t2o_mou','loc_ic_t2o_mou','onnet_mou_6','onnet_mou_7','onnet_mou_8','onnet_mou_9','offnet_mou_6','offnet_mou_7','offnet_mou_8','offnet_mou_9','roam_ic_mou_6','roam_ic_mou_7','roam_ic_mou_8','roam_ic_mou_9','roam_og_mou_6','roam_og_mou_7','roam_og_mou_8','roam_og_mou_9','loc_og_t2t_mou_6','loc_og_t2t_mou_7','loc_og_t2t_mou_8','loc_og_t2t_mou_9','loc_og_t2m_mou_6','loc_og_t2m_mou_7','loc_og_t2m_mou_8','loc_og_t2m_mou_9','loc_og_t2f_mou_6','loc_og_t2f_mou_7','loc_og_t2f_mou_8','loc_og_t2f_mou_9','loc_og_t2c_mou_6','loc_og_t2c_mou_7','loc_og_t2c_mou_8','loc_og_t2c_mou_9','loc_og_mou_6','loc_og_mou_7','loc_og_mou_8','loc_og_mou_9','std_og_t2t_mou_6','std_og_t2t_mou_7','std_og_t2t_mou_8','std_og_t2t_mou_9','std_og_t2m_mou_6','std_og_t2m_mou_7','std_og_t2m_mou_8','std_og_t2m_mou_9','std_og_t2f_mou_6','std_og_t2f_mou_7','std_og_t2f_mou_8','std_og_t2f_mou_9','std_og_t2c_mou_6','std_og_t2c_mou_7','std_og_t2c_mou_8','std_og_t2c_mou_9','std_og_mou_6','std_og_mou_7','std_og_mou_8','std_og_mou_9','isd_og_mou_6','isd_og_mou_7','isd_og_mou_8','isd_og_mou_9','spl_og_mou_6','spl_og_mou_7','spl_og_mou_8','spl_og_mou_9','og_others_6','og_others_7','og_others_8','og_others_9','total_og_mou_6','total_og_mou_7','total_og_mou_8','total_og_mou_9','loc_ic_t2t_mou_6','loc_ic_t2t_mou_7','loc_ic_t2t_mou_8','loc_ic_t2t_mou_9','loc_ic_t2m_mou_6','loc_ic_t2m_mou_7','loc_ic_t2m_mou_8','loc_ic_t2m_mou_9','loc_ic_t2f_mou_6','loc_ic_t2f_mou_7','loc_ic_t2f_mou_8','loc_ic_t2f_mou_9','loc_ic_mou_6','loc_ic_mou_7','loc_ic_mou_8','loc_ic_mou_9','std_ic_t2t_mou_6','std_ic_t2t_mou_7','std_ic_t2t_mou_8','std_ic_t2t_mou_9','std_ic_t2m_mou_6','std_ic_t2m_mou_7','std_ic_t2m_mou_8','std_ic_t2m_mou_9','std_ic_t2f_mou_6','std_ic_t2f_mou_7','std_ic_t2f_mou_8','std_ic_t2f_mou_9','std_ic_t2o_mou_6','std_ic_t2o_mou_7','std_ic_t2o_mou_8','std_ic_t2o_mou_9','std_ic_mou_6','std_ic_mou_7','std_ic_mou_8','std_ic_mou_9','total_ic_mou_6','total_ic_mou_7','total_ic_mou_8','total_ic_mou_9','spl_ic_mou_6','spl_ic_mou_7','spl_ic_mou_8','spl_ic_mou_9','isd_ic_mou_6','isd_ic_mou_7','isd_ic_mou_8','isd_ic_mou_9' ]].fillna(0)"
   ]
  },
  {
   "cell_type": "code",
   "execution_count": 304,
   "id": "472f4eb9",
   "metadata": {},
   "outputs": [],
   "source": [
    "#replacig null values with 0 for all minute columns - pt2\n",
    "data[['ic_others_9','ic_others_8','ic_others_7','ic_others_6']]=data[['ic_others_9','ic_others_8','ic_others_7','ic_others_6']].fillna(0)"
   ]
  },
  {
   "cell_type": "code",
   "execution_count": 305,
   "id": "96a38c11",
   "metadata": {},
   "outputs": [
    {
     "data": {
      "text/plain": [
       "<AxesSubplot:xlabel='total_rech_data_9'>"
      ]
     },
     "execution_count": 305,
     "metadata": {},
     "output_type": "execute_result"
    },
    {
     "data": {
      "image/png": "[encoded data removed]",
      "text/plain": [
       "<Figure size 432x288 with 1 Axes>"
      ]
     },
     "metadata": {
      "needs_background": "light"
     },
     "output_type": "display_data"
    }
   ],
   "source": [
    "sns.boxplot(data['total_rech_data_9'])"
   ]
  },
  {
   "cell_type": "code",
   "execution_count": 306,
   "id": "d12cb5c0",
   "metadata": {},
   "outputs": [
    {
     "data": {
      "text/plain": [
       "<AxesSubplot:xlabel='total_rech_data_9', ylabel='Density'>"
      ]
     },
     "execution_count": 306,
     "metadata": {},
     "output_type": "execute_result"
    },
    {
     "data": {
      "image/png": "[encoded data removed]",
      "text/plain": [
       "<Figure size 432x288 with 1 Axes>"
      ]
     },
     "metadata": {
      "needs_background": "light"
     },
     "output_type": "display_data"
    }
   ],
   "source": [
    "sns.distplot(data['total_rech_data_9'])"
   ]
  },
  {
   "cell_type": "code",
   "execution_count": 307,
   "id": "a3865e03",
   "metadata": {},
   "outputs": [],
   "source": [
    "#interpolating for null values - for all recharge columns \n",
    "data[['total_rech_data_9','total_rech_data_8','total_rech_data_7','total_rech_data_6','max_rech_data_9','max_rech_data_8','max_rech_data_7','max_rech_data_6','count_rech_2g_9','count_rech_2g_8','count_rech_2g_7','count_rech_2g_6','count_rech_3g_9','count_rech_3g_8','count_rech_3g_7','count_rech_3g_6','av_rech_amt_data_9','av_rech_amt_data_8','av_rech_amt_data_7','av_rech_amt_data_6','arpu_3g_6','arpu_3g_7','arpu_3g_8','arpu_3g_9','arpu_2g_9','arpu_2g_8','arpu_2g_7','arpu_2g_6']]=data[['total_rech_data_9','total_rech_data_8','total_rech_data_7','total_rech_data_6','max_rech_data_9','max_rech_data_8','max_rech_data_7','max_rech_data_6','count_rech_2g_9','count_rech_2g_8','count_rech_2g_7','count_rech_2g_6','count_rech_3g_9','count_rech_3g_8','count_rech_3g_7','count_rech_3g_6','av_rech_amt_data_9','av_rech_amt_data_8','av_rech_amt_data_7','av_rech_amt_data_6','arpu_3g_6','arpu_3g_7','arpu_3g_8','arpu_3g_9','arpu_2g_9','arpu_2g_8','arpu_2g_7','arpu_2g_6']].interpolate(method='linear')"
   ]
  },
  {
   "cell_type": "code",
   "execution_count": 308,
   "id": "82adea84",
   "metadata": {},
   "outputs": [
    {
     "data": {
      "text/plain": [
       "(99999, 234)"
      ]
     },
     "execution_count": 308,
     "metadata": {},
     "output_type": "execute_result"
    }
   ],
   "source": [
    "# Creating dummy variables for the remaining categorical variables and dropping null value cases:\n",
    "\n",
    "# Creating dummy variables for the variable 'fb_user_6'\n",
    "fb6 = pd.get_dummies(data['fb_user_6'], prefix='fb_user_6')\n",
    "# Creating dummy variables for the variable 'fb_user_7'\n",
    "fb7 = pd.get_dummies(data['fb_user_7'], prefix='fb_user_7')\n",
    "# Creating dummy variables for the variable 'fb_user_8'\n",
    "fb8 = pd.get_dummies(data['fb_user_8'], prefix='fb_user_8')\n",
    "# Creating dummy variables for the variable 'fb_user_9'\n",
    "fb9 = pd.get_dummies(data['fb_user_9'], prefix='fb_user_9')\n",
    "\n",
    "data = pd.concat([data,fb6,fb7,fb8,fb9], axis=1)\n",
    "\n",
    "data.shape"
   ]
  },
  {
   "cell_type": "code",
   "execution_count": 309,
   "id": "2776edfa",
   "metadata": {},
   "outputs": [],
   "source": [
    "# As we have created dummies for the below variables, so we can drop them\n",
    "data = data.drop(['fb_user_6','fb_user_7','fb_user_8','fb_user_9'], 1)"
   ]
  },
  {
   "cell_type": "code",
   "execution_count": 310,
   "id": "90d82b10",
   "metadata": {},
   "outputs": [
    {
     "data": {
      "text/plain": [
       "(99999, 230)"
      ]
     },
     "execution_count": 310,
     "metadata": {},
     "output_type": "execute_result"
    }
   ],
   "source": [
    "data.shape"
   ]
  },
  {
   "cell_type": "code",
   "execution_count": 311,
   "id": "0dbfffec",
   "metadata": {},
   "outputs": [
    {
     "data": {
      "text/plain": [
       "(99999, 238)"
      ]
     },
     "execution_count": 311,
     "metadata": {},
     "output_type": "execute_result"
    }
   ],
   "source": [
    "# Creating dummy variables for the remaining categorical variables\n",
    "\n",
    "# Creating dummy variables for the variable 'night_pck_user_6'\n",
    "np6 = pd.get_dummies(data['night_pck_user_6'], prefix='night_pck_user_6')\n",
    "# Creating dummy variables for the variable 'night_pck_user_7'\n",
    "np7 = pd.get_dummies(data['night_pck_user_7'], prefix='night_pck_user_7')\n",
    "# Creating dummy variables for the variable 'night_pck_user_8'\n",
    "np8 = pd.get_dummies(data['night_pck_user_8'], prefix='night_pck_user_8')\n",
    "# Creating dummy variables for the variable 'night_pck_user_9'\n",
    "np9 = pd.get_dummies(data['night_pck_user_9'], prefix='night_pck_user_9')\n",
    "\n",
    "data = pd.concat([data,np6,np7,np8,np9], axis=1)\n",
    "\n",
    "data.shape"
   ]
  },
  {
   "cell_type": "code",
   "execution_count": 312,
   "id": "0a60e7bd",
   "metadata": {},
   "outputs": [],
   "source": [
    "# As we have created dummies for the below variables, so we can drop them\n",
    "data = data.drop(['night_pck_user_6','night_pck_user_7','night_pck_user_8','night_pck_user_9'], 1)"
   ]
  },
  {
   "cell_type": "code",
   "execution_count": 313,
   "id": "1626a18b",
   "metadata": {},
   "outputs": [
    {
     "data": {
      "text/plain": [
       "(99999, 234)"
      ]
     },
     "execution_count": 313,
     "metadata": {},
     "output_type": "execute_result"
    }
   ],
   "source": [
    "data.shape"
   ]
  },
  {
   "cell_type": "code",
   "execution_count": 314,
   "id": "4c741bd2",
   "metadata": {},
   "outputs": [
    {
     "data": {
      "text/plain": [
       "(99999, 356)"
      ]
     },
     "execution_count": 314,
     "metadata": {},
     "output_type": "execute_result"
    }
   ],
   "source": [
    "# Creating dummy variables for the remaining categorical variables \n",
    "\n",
    "# Creating dummy variables for the variable 'date_of_last_rech_data_6'\n",
    "dlr6 = pd.get_dummies(data['date_of_last_rech_data_6'], prefix='date_of_last_rech_data_6')\n",
    "# Creating dummy variables for the variable 'date_of_last_rech_data_7'\n",
    "dlr7 = pd.get_dummies(data['date_of_last_rech_data_7'], prefix='date_of_last_rech_data_7')\n",
    "# Creating dummy variables for the variable 'date_of_last_rech_data_8'\n",
    "dlr8 = pd.get_dummies(data['date_of_last_rech_data_8'], prefix='date_of_last_rech_data_8')\n",
    "# Creating dummy variables for the variable 'date_of_last_rech_data_9'\n",
    "dlr9 = pd.get_dummies(data['date_of_last_rech_data_9'], prefix='date_of_last_rech_data_9')\n",
    "\n",
    "data = pd.concat([data,dlr6,dlr7,dlr8,dlr9], axis=1)\n",
    "\n",
    "data.shape"
   ]
  },
  {
   "cell_type": "code",
   "execution_count": 315,
   "id": "d6eb7132",
   "metadata": {},
   "outputs": [],
   "source": [
    "# We have created dummies for the below variables, so we can drop them\n",
    "data = data.drop(['date_of_last_rech_data_6','date_of_last_rech_data_7','date_of_last_rech_data_8','date_of_last_rech_data_9'], 1)"
   ]
  },
  {
   "cell_type": "code",
   "execution_count": 316,
   "id": "67e97c7b",
   "metadata": {},
   "outputs": [
    {
     "data": {
      "text/plain": [
       "(99999, 352)"
      ]
     },
     "execution_count": 316,
     "metadata": {},
     "output_type": "execute_result"
    }
   ],
   "source": [
    "data.shape"
   ]
  },
  {
   "cell_type": "code",
   "execution_count": 317,
   "id": "9efad3ec",
   "metadata": {},
   "outputs": [
    {
     "data": {
      "text/plain": [
       "(99999, 474)"
      ]
     },
     "execution_count": 317,
     "metadata": {},
     "output_type": "execute_result"
    }
   ],
   "source": [
    "# Creating dummy variables for the remaining categorical variables\n",
    "\n",
    "# Creating dummy variables for the variable 'date_of_last_rech_6'\n",
    "dlrvoice6 = pd.get_dummies(data['date_of_last_rech_6'], prefix='date_of_last_rech_6')\n",
    "# Creating dummy variables for the variable 'date_of_last_rech_7'\n",
    "dlrvoice7 = pd.get_dummies(data['date_of_last_rech_7'], prefix='date_of_last_rech_7')\n",
    "# Creating dummy variables for the variable 'date_of_last_rech_8'\n",
    "dlrvoice8 = pd.get_dummies(data['date_of_last_rech_8'], prefix='date_of_last_rech_8')\n",
    "# Creating dummy variables for the variable 'date_of_last_rech_data_9'\n",
    "dlrvoice9 = pd.get_dummies(data['date_of_last_rech_9'], prefix='date_of_last_rech_9')\n",
    "\n",
    "data = pd.concat([data,dlrvoice6,dlrvoice7,dlrvoice8,dlrvoice9], axis=1)\n",
    "\n",
    "data.shape"
   ]
  },
  {
   "cell_type": "code",
   "execution_count": 318,
   "id": "49fecaf8",
   "metadata": {},
   "outputs": [],
   "source": [
    "# We have created dummies for the below variables, so we can drop them\n",
    "data = data.drop(['date_of_last_rech_6','date_of_last_rech_7','date_of_last_rech_8','date_of_last_rech_9'], 1)"
   ]
  },
  {
   "cell_type": "code",
   "execution_count": 319,
   "id": "4b11999b",
   "metadata": {},
   "outputs": [
    {
     "data": {
      "text/plain": [
       "(99999, 470)"
      ]
     },
     "execution_count": 319,
     "metadata": {},
     "output_type": "execute_result"
    }
   ],
   "source": [
    "data.shape"
   ]
  },
  {
   "cell_type": "code",
   "execution_count": 320,
   "id": "0ef9a664",
   "metadata": {},
   "outputs": [
    {
     "data": {
      "text/plain": [
       "(99999, 474)"
      ]
     },
     "execution_count": 320,
     "metadata": {},
     "output_type": "execute_result"
    }
   ],
   "source": [
    "# Creating dummy variables for the remaining categorical variables \n",
    "\n",
    "# Creating dummy variables for the variable 'last_date_of_month_6'\n",
    "lstdt6 = pd.get_dummies(data['last_date_of_month_6'], prefix='last_date_of_month_6')\n",
    "# Creating dummy variables for the variable 'date_of_last_rech_7'\n",
    "lstdt7 = pd.get_dummies(data['last_date_of_month_7'], prefix='last_date_of_month_7')\n",
    "# Creating dummy variables for the variable 'date_of_last_rech_8'\n",
    "lstdt8 = pd.get_dummies(data['last_date_of_month_8'], prefix='last_date_of_month_8')\n",
    "# Creating dummy variables for the variable 'date_of_last_rech_data_9'\n",
    "lstdt9 = pd.get_dummies(data['last_date_of_month_9'], prefix='last_date_of_month_9')\n",
    "\n",
    "data = pd.concat([data,lstdt6,lstdt7,lstdt8,lstdt9], axis=1)\n",
    "\n",
    "data.shape"
   ]
  },
  {
   "cell_type": "code",
   "execution_count": 321,
   "id": "0210bc1e",
   "metadata": {},
   "outputs": [],
   "source": [
    "# We have created dummies for the below variables, so we can drop them\n",
    "data = data.drop(['last_date_of_month_6','last_date_of_month_7','last_date_of_month_8','last_date_of_month_9'], 1)"
   ]
  },
  {
   "cell_type": "markdown",
   "id": "066cc961",
   "metadata": {},
   "source": [
    " wouldnt it have been better if i had converted the dates into numbers and then scaled them???\n",
    " \n",
    " \n",
    " for minutes usage and recharge amt wouldnt it have been better to get values by regression????"
   ]
  },
  {
   "cell_type": "code",
   "execution_count": 322,
   "id": "a669e8b1",
   "metadata": {},
   "outputs": [],
   "source": [
    "data=data.dropna() # to remove remaining null values "
   ]
  },
  {
   "cell_type": "code",
   "execution_count": 323,
   "id": "ec92b17e",
   "metadata": {},
   "outputs": [
    {
     "data": {
      "text/plain": [
       "(99997, 470)"
      ]
     },
     "execution_count": 323,
     "metadata": {},
     "output_type": "execute_result"
    }
   ],
   "source": [
    "data.shape"
   ]
  },
  {
   "cell_type": "markdown",
   "id": "788d05c1",
   "metadata": {},
   "source": [
    "##### creating good phase"
   ]
  },
  {
   "cell_type": "code",
   "execution_count": 324,
   "id": "7e704431",
   "metadata": {},
   "outputs": [
    {
     "data": {
      "text/plain": [
       "(99997,)"
      ]
     },
     "execution_count": 324,
     "metadata": {},
     "output_type": "execute_result"
    }
   ],
   "source": [
    "data['good_phase_revenue']=data['av_rech_amt_data_6'] + data['av_rech_amt_data_7'] # column will combine revenue of 6 & 7 months\n",
    "data['good_phase_revenue'].shape"
   ]
  },
  {
   "cell_type": "code",
   "execution_count": 325,
   "id": "ef154643",
   "metadata": {},
   "outputs": [
    {
     "data": {
      "text/plain": [
       "count    99997.000000\n",
       "mean       392.371433\n",
       "std        275.144055\n",
       "min          2.000000\n",
       "25%        239.500000\n",
       "50%        335.500000\n",
       "70%        438.391111\n",
       "90%        655.800000\n",
       "95%        827.590476\n",
       "99%       1407.520000\n",
       "max      10285.000000\n",
       "Name: good_phase_revenue, dtype: float64"
      ]
     },
     "execution_count": 325,
     "metadata": {},
     "output_type": "execute_result"
    }
   ],
   "source": [
    "# Checking percetiles at 25%, 50%, 7%, 90%, 95% and 99%\n",
    "data['good_phase_revenue'].describe(percentiles=[.25, .5, .7, .90, .95, .99])"
   ]
  },
  {
   "cell_type": "code",
   "execution_count": 326,
   "id": "f3ae84ac",
   "metadata": {},
   "outputs": [
    {
     "data": {
      "text/plain": [
       "mobile_number                     29999\n",
       "circle_id                         29999\n",
       "loc_og_t2o_mou                    29999\n",
       "std_og_t2o_mou                    29999\n",
       "loc_ic_t2o_mou                    29999\n",
       "                                  ...  \n",
       "last_date_of_month_6_6/30/2014    29999\n",
       "last_date_of_month_7_7/31/2014    29999\n",
       "last_date_of_month_8_8/31/2014    29999\n",
       "last_date_of_month_9_9/30/2014    29999\n",
       "good_phase_revenue                29999\n",
       "Length: 471, dtype: int64"
      ]
     },
     "execution_count": 326,
     "metadata": {},
     "output_type": "execute_result"
    }
   ],
   "source": [
    "data[data['good_phase_revenue']>=438.391111].count() #filter o keep 70th percentile and higher"
   ]
  },
  {
   "cell_type": "code",
   "execution_count": 327,
   "id": "c34624ba",
   "metadata": {},
   "outputs": [],
   "source": [
    "data_high=data[data['good_phase_revenue']>=438.391111]#filter o keep 70th percentile and higher"
   ]
  },
  {
   "cell_type": "code",
   "execution_count": 328,
   "id": "f1b2e718",
   "metadata": {},
   "outputs": [
    {
     "name": "stdout",
     "output_type": "stream",
     "text": [
      "<class 'pandas.core.frame.DataFrame'>\n",
      "Int64Index: 29999 entries, 22 to 99998\n",
      "Columns: 471 entries, mobile_number to good_phase_revenue\n",
      "dtypes: float64(172), int64(35), uint8(264)\n",
      "memory usage: 55.2 MB\n"
     ]
    }
   ],
   "source": [
    "data_high.info()"
   ]
  },
  {
   "cell_type": "markdown",
   "id": "dd02d530",
   "metadata": {},
   "source": [
    "#### filtered data to 29.9K rows - data_high : only keeping high-value customers`"
   ]
  },
  {
   "cell_type": "markdown",
   "id": "6aed4aa1",
   "metadata": {},
   "source": [
    "#### combining columns phone number and circle and set them as index for referencing"
   ]
  },
  {
   "cell_type": "code",
   "execution_count": 329,
   "id": "40aa60b9",
   "metadata": {},
   "outputs": [
    {
     "data": {
      "text/html": [
       "<div>\n",
       "<style scoped>\n",
       "    .dataframe tbody tr th:only-of-type {\n",
       "        vertical-align: middle;\n",
       "    }\n",
       "\n",
       "    .dataframe tbody tr th {\n",
       "        vertical-align: top;\n",
       "    }\n",
       "\n",
       "    .dataframe thead th {\n",
       "        text-align: right;\n",
       "    }\n",
       "</style>\n",
       "<table border=\"1\" class=\"dataframe\">\n",
       "  <thead>\n",
       "    <tr style=\"text-align: right;\">\n",
       "      <th></th>\n",
       "      <th>mobile_number</th>\n",
       "      <th>circle_id</th>\n",
       "      <th>loc_og_t2o_mou</th>\n",
       "      <th>std_og_t2o_mou</th>\n",
       "      <th>loc_ic_t2o_mou</th>\n",
       "      <th>arpu_6</th>\n",
       "      <th>arpu_7</th>\n",
       "      <th>arpu_8</th>\n",
       "      <th>arpu_9</th>\n",
       "      <th>onnet_mou_6</th>\n",
       "      <th>...</th>\n",
       "      <th>date_of_last_rech_9_9/5/2014</th>\n",
       "      <th>date_of_last_rech_9_9/6/2014</th>\n",
       "      <th>date_of_last_rech_9_9/7/2014</th>\n",
       "      <th>date_of_last_rech_9_9/8/2014</th>\n",
       "      <th>date_of_last_rech_9_9/9/2014</th>\n",
       "      <th>last_date_of_month_6_6/30/2014</th>\n",
       "      <th>last_date_of_month_7_7/31/2014</th>\n",
       "      <th>last_date_of_month_8_8/31/2014</th>\n",
       "      <th>last_date_of_month_9_9/30/2014</th>\n",
       "      <th>good_phase_revenue</th>\n",
       "    </tr>\n",
       "    <tr>\n",
       "      <th>mobile_number_and_circle_id</th>\n",
       "      <th></th>\n",
       "      <th></th>\n",
       "      <th></th>\n",
       "      <th></th>\n",
       "      <th></th>\n",
       "      <th></th>\n",
       "      <th></th>\n",
       "      <th></th>\n",
       "      <th></th>\n",
       "      <th></th>\n",
       "      <th></th>\n",
       "      <th></th>\n",
       "      <th></th>\n",
       "      <th></th>\n",
       "      <th></th>\n",
       "      <th></th>\n",
       "      <th></th>\n",
       "      <th></th>\n",
       "      <th></th>\n",
       "      <th></th>\n",
       "      <th></th>\n",
       "    </tr>\n",
       "  </thead>\n",
       "  <tbody>\n",
       "    <tr>\n",
       "      <th>7001121249_109</th>\n",
       "      <td>7001121249</td>\n",
       "      <td>109</td>\n",
       "      <td>0.0</td>\n",
       "      <td>0.0</td>\n",
       "      <td>0.0</td>\n",
       "      <td>281.076</td>\n",
       "      <td>26.291</td>\n",
       "      <td>0.000</td>\n",
       "      <td>0.300</td>\n",
       "      <td>36.59</td>\n",
       "      <td>...</td>\n",
       "      <td>0</td>\n",
       "      <td>0</td>\n",
       "      <td>0</td>\n",
       "      <td>0</td>\n",
       "      <td>0</td>\n",
       "      <td>1</td>\n",
       "      <td>1</td>\n",
       "      <td>1</td>\n",
       "      <td>1</td>\n",
       "      <td>438.730769</td>\n",
       "    </tr>\n",
       "    <tr>\n",
       "      <th>7000887461_109</th>\n",
       "      <td>7000887461</td>\n",
       "      <td>109</td>\n",
       "      <td>0.0</td>\n",
       "      <td>0.0</td>\n",
       "      <td>0.0</td>\n",
       "      <td>74.350</td>\n",
       "      <td>193.897</td>\n",
       "      <td>366.966</td>\n",
       "      <td>811.480</td>\n",
       "      <td>48.96</td>\n",
       "      <td>...</td>\n",
       "      <td>0</td>\n",
       "      <td>0</td>\n",
       "      <td>0</td>\n",
       "      <td>0</td>\n",
       "      <td>0</td>\n",
       "      <td>1</td>\n",
       "      <td>1</td>\n",
       "      <td>1</td>\n",
       "      <td>1</td>\n",
       "      <td>482.307692</td>\n",
       "    </tr>\n",
       "    <tr>\n",
       "      <th>7000149764_109</th>\n",
       "      <td>7000149764</td>\n",
       "      <td>109</td>\n",
       "      <td>0.0</td>\n",
       "      <td>0.0</td>\n",
       "      <td>0.0</td>\n",
       "      <td>977.020</td>\n",
       "      <td>2362.833</td>\n",
       "      <td>409.230</td>\n",
       "      <td>799.356</td>\n",
       "      <td>0.00</td>\n",
       "      <td>...</td>\n",
       "      <td>0</td>\n",
       "      <td>0</td>\n",
       "      <td>0</td>\n",
       "      <td>0</td>\n",
       "      <td>0</td>\n",
       "      <td>1</td>\n",
       "      <td>1</td>\n",
       "      <td>1</td>\n",
       "      <td>1</td>\n",
       "      <td>3610.000000</td>\n",
       "    </tr>\n",
       "    <tr>\n",
       "      <th>7002022556_109</th>\n",
       "      <td>7002022556</td>\n",
       "      <td>109</td>\n",
       "      <td>0.0</td>\n",
       "      <td>0.0</td>\n",
       "      <td>0.0</td>\n",
       "      <td>50.037</td>\n",
       "      <td>401.320</td>\n",
       "      <td>145.312</td>\n",
       "      <td>107.324</td>\n",
       "      <td>3.26</td>\n",
       "      <td>...</td>\n",
       "      <td>0</td>\n",
       "      <td>0</td>\n",
       "      <td>0</td>\n",
       "      <td>0</td>\n",
       "      <td>0</td>\n",
       "      <td>1</td>\n",
       "      <td>1</td>\n",
       "      <td>1</td>\n",
       "      <td>1</td>\n",
       "      <td>947.500000</td>\n",
       "    </tr>\n",
       "    <tr>\n",
       "      <th>7002108620_109</th>\n",
       "      <td>7002108620</td>\n",
       "      <td>109</td>\n",
       "      <td>0.0</td>\n",
       "      <td>0.0</td>\n",
       "      <td>0.0</td>\n",
       "      <td>596.376</td>\n",
       "      <td>13.448</td>\n",
       "      <td>0.000</td>\n",
       "      <td>0.000</td>\n",
       "      <td>10.51</td>\n",
       "      <td>...</td>\n",
       "      <td>0</td>\n",
       "      <td>0</td>\n",
       "      <td>0</td>\n",
       "      <td>0</td>\n",
       "      <td>0</td>\n",
       "      <td>1</td>\n",
       "      <td>1</td>\n",
       "      <td>1</td>\n",
       "      <td>1</td>\n",
       "      <td>819.600000</td>\n",
       "    </tr>\n",
       "  </tbody>\n",
       "</table>\n",
       "<p>5 rows × 471 columns</p>\n",
       "</div>"
      ],
      "text/plain": [
       "                             mobile_number  circle_id  loc_og_t2o_mou  \\\n",
       "mobile_number_and_circle_id                                             \n",
       "7001121249_109                  7001121249        109             0.0   \n",
       "7000887461_109                  7000887461        109             0.0   \n",
       "7000149764_109                  7000149764        109             0.0   \n",
       "7002022556_109                  7002022556        109             0.0   \n",
       "7002108620_109                  7002108620        109             0.0   \n",
       "\n",
       "                             std_og_t2o_mou  loc_ic_t2o_mou   arpu_6  \\\n",
       "mobile_number_and_circle_id                                            \n",
       "7001121249_109                          0.0             0.0  281.076   \n",
       "7000887461_109                          0.0             0.0   74.350   \n",
       "7000149764_109                          0.0             0.0  977.020   \n",
       "7002022556_109                          0.0             0.0   50.037   \n",
       "7002108620_109                          0.0             0.0  596.376   \n",
       "\n",
       "                               arpu_7   arpu_8   arpu_9  onnet_mou_6  ...  \\\n",
       "mobile_number_and_circle_id                                           ...   \n",
       "7001121249_109                 26.291    0.000    0.300        36.59  ...   \n",
       "7000887461_109                193.897  366.966  811.480        48.96  ...   \n",
       "7000149764_109               2362.833  409.230  799.356         0.00  ...   \n",
       "7002022556_109                401.320  145.312  107.324         3.26  ...   \n",
       "7002108620_109                 13.448    0.000    0.000        10.51  ...   \n",
       "\n",
       "                             date_of_last_rech_9_9/5/2014  \\\n",
       "mobile_number_and_circle_id                                 \n",
       "7001121249_109                                          0   \n",
       "7000887461_109                                          0   \n",
       "7000149764_109                                          0   \n",
       "7002022556_109                                          0   \n",
       "7002108620_109                                          0   \n",
       "\n",
       "                             date_of_last_rech_9_9/6/2014  \\\n",
       "mobile_number_and_circle_id                                 \n",
       "7001121249_109                                          0   \n",
       "7000887461_109                                          0   \n",
       "7000149764_109                                          0   \n",
       "7002022556_109                                          0   \n",
       "7002108620_109                                          0   \n",
       "\n",
       "                             date_of_last_rech_9_9/7/2014  \\\n",
       "mobile_number_and_circle_id                                 \n",
       "7001121249_109                                          0   \n",
       "7000887461_109                                          0   \n",
       "7000149764_109                                          0   \n",
       "7002022556_109                                          0   \n",
       "7002108620_109                                          0   \n",
       "\n",
       "                             date_of_last_rech_9_9/8/2014  \\\n",
       "mobile_number_and_circle_id                                 \n",
       "7001121249_109                                          0   \n",
       "7000887461_109                                          0   \n",
       "7000149764_109                                          0   \n",
       "7002022556_109                                          0   \n",
       "7002108620_109                                          0   \n",
       "\n",
       "                             date_of_last_rech_9_9/9/2014  \\\n",
       "mobile_number_and_circle_id                                 \n",
       "7001121249_109                                          0   \n",
       "7000887461_109                                          0   \n",
       "7000149764_109                                          0   \n",
       "7002022556_109                                          0   \n",
       "7002108620_109                                          0   \n",
       "\n",
       "                             last_date_of_month_6_6/30/2014  \\\n",
       "mobile_number_and_circle_id                                   \n",
       "7001121249_109                                            1   \n",
       "7000887461_109                                            1   \n",
       "7000149764_109                                            1   \n",
       "7002022556_109                                            1   \n",
       "7002108620_109                                            1   \n",
       "\n",
       "                             last_date_of_month_7_7/31/2014  \\\n",
       "mobile_number_and_circle_id                                   \n",
       "7001121249_109                                            1   \n",
       "7000887461_109                                            1   \n",
       "7000149764_109                                            1   \n",
       "7002022556_109                                            1   \n",
       "7002108620_109                                            1   \n",
       "\n",
       "                             last_date_of_month_8_8/31/2014  \\\n",
       "mobile_number_and_circle_id                                   \n",
       "7001121249_109                                            1   \n",
       "7000887461_109                                            1   \n",
       "7000149764_109                                            1   \n",
       "7002022556_109                                            1   \n",
       "7002108620_109                                            1   \n",
       "\n",
       "                             last_date_of_month_9_9/30/2014  \\\n",
       "mobile_number_and_circle_id                                   \n",
       "7001121249_109                                            1   \n",
       "7000887461_109                                            1   \n",
       "7000149764_109                                            1   \n",
       "7002022556_109                                            1   \n",
       "7002108620_109                                            1   \n",
       "\n",
       "                             good_phase_revenue  \n",
       "mobile_number_and_circle_id                      \n",
       "7001121249_109                       438.730769  \n",
       "7000887461_109                       482.307692  \n",
       "7000149764_109                      3610.000000  \n",
       "7002022556_109                       947.500000  \n",
       "7002108620_109                       819.600000  \n",
       "\n",
       "[5 rows x 471 columns]"
      ]
     },
     "execution_count": 329,
     "metadata": {},
     "output_type": "execute_result"
    }
   ],
   "source": [
    "data_high['mobile_number_and_circle_id'] = data_high['mobile_number'].map(str)+'_'+ data_high['circle_id'].map(str)\n",
    "data_high.set_index('mobile_number_and_circle_id',inplace = True)\n",
    "data_high.head()"
   ]
  },
  {
   "cell_type": "markdown",
   "id": "692dd0d0",
   "metadata": {},
   "source": [
    "### Add chruning flag - by combing volume and data column for month 9 and then dropping the same"
   ]
  },
  {
   "cell_type": "code",
   "execution_count": 330,
   "id": "8b79f8ec",
   "metadata": {},
   "outputs": [],
   "source": [
    "data_high['churn_flag']=data_high[['total_ic_mou_9','total_og_mou_9','vol_2g_mb_9','vol_3g_mb_9']].apply(lambda x: 1 if x['total_ic_mou_9']==0 and x['total_og_mou_9']==0 and x['vol_2g_mb_9']==0 and x['vol_3g_mb_9']==0 else 0, axis=1)"
   ]
  },
  {
   "cell_type": "code",
   "execution_count": 331,
   "id": "d3a897d0",
   "metadata": {},
   "outputs": [
    {
     "data": {
      "text/html": [
       "<div>\n",
       "<style scoped>\n",
       "    .dataframe tbody tr th:only-of-type {\n",
       "        vertical-align: middle;\n",
       "    }\n",
       "\n",
       "    .dataframe tbody tr th {\n",
       "        vertical-align: top;\n",
       "    }\n",
       "\n",
       "    .dataframe thead th {\n",
       "        text-align: right;\n",
       "    }\n",
       "</style>\n",
       "<table border=\"1\" class=\"dataframe\">\n",
       "  <thead>\n",
       "    <tr style=\"text-align: right;\">\n",
       "      <th></th>\n",
       "      <th>total_ic_mou_9</th>\n",
       "      <th>total_og_mou_9</th>\n",
       "      <th>vol_2g_mb_9</th>\n",
       "      <th>vol_3g_mb_9</th>\n",
       "      <th>churn_flag</th>\n",
       "    </tr>\n",
       "    <tr>\n",
       "      <th>mobile_number_and_circle_id</th>\n",
       "      <th></th>\n",
       "      <th></th>\n",
       "      <th></th>\n",
       "      <th></th>\n",
       "      <th></th>\n",
       "    </tr>\n",
       "  </thead>\n",
       "  <tbody>\n",
       "    <tr>\n",
       "      <th>7001121249_109</th>\n",
       "      <td>7.51</td>\n",
       "      <td>0.68</td>\n",
       "      <td>0.00</td>\n",
       "      <td>0.00</td>\n",
       "      <td>0</td>\n",
       "    </tr>\n",
       "    <tr>\n",
       "      <th>7000887461_109</th>\n",
       "      <td>127.48</td>\n",
       "      <td>127.63</td>\n",
       "      <td>13.93</td>\n",
       "      <td>314.74</td>\n",
       "      <td>0</td>\n",
       "    </tr>\n",
       "    <tr>\n",
       "      <th>7000149764_109</th>\n",
       "      <td>114.16</td>\n",
       "      <td>1.70</td>\n",
       "      <td>30.92</td>\n",
       "      <td>5588.11</td>\n",
       "      <td>0</td>\n",
       "    </tr>\n",
       "    <tr>\n",
       "      <th>7002022556_109</th>\n",
       "      <td>48.21</td>\n",
       "      <td>14.54</td>\n",
       "      <td>0.03</td>\n",
       "      <td>0.00</td>\n",
       "      <td>0</td>\n",
       "    </tr>\n",
       "    <tr>\n",
       "      <th>7002108620_109</th>\n",
       "      <td>0.00</td>\n",
       "      <td>0.00</td>\n",
       "      <td>0.00</td>\n",
       "      <td>0.00</td>\n",
       "      <td>1</td>\n",
       "    </tr>\n",
       "    <tr>\n",
       "      <th>...</th>\n",
       "      <td>...</td>\n",
       "      <td>...</td>\n",
       "      <td>...</td>\n",
       "      <td>...</td>\n",
       "      <td>...</td>\n",
       "    </tr>\n",
       "    <tr>\n",
       "      <th>7002108597_109</th>\n",
       "      <td>135.29</td>\n",
       "      <td>1263.56</td>\n",
       "      <td>69.40</td>\n",
       "      <td>1777.24</td>\n",
       "      <td>0</td>\n",
       "    </tr>\n",
       "    <tr>\n",
       "      <th>7001792051_109</th>\n",
       "      <td>145.76</td>\n",
       "      <td>308.14</td>\n",
       "      <td>2.41</td>\n",
       "      <td>2989.96</td>\n",
       "      <td>0</td>\n",
       "    </tr>\n",
       "    <tr>\n",
       "      <th>7000630859_109</th>\n",
       "      <td>391.63</td>\n",
       "      <td>64.21</td>\n",
       "      <td>0.00</td>\n",
       "      <td>0.00</td>\n",
       "      <td>0</td>\n",
       "    </tr>\n",
       "    <tr>\n",
       "      <th>7000498689_109</th>\n",
       "      <td>2.21</td>\n",
       "      <td>0.00</td>\n",
       "      <td>85.67</td>\n",
       "      <td>4177.14</td>\n",
       "      <td>0</td>\n",
       "    </tr>\n",
       "    <tr>\n",
       "      <th>7001905007_109</th>\n",
       "      <td>0.00</td>\n",
       "      <td>0.00</td>\n",
       "      <td>0.00</td>\n",
       "      <td>0.00</td>\n",
       "      <td>1</td>\n",
       "    </tr>\n",
       "  </tbody>\n",
       "</table>\n",
       "<p>29999 rows × 5 columns</p>\n",
       "</div>"
      ],
      "text/plain": [
       "                             total_ic_mou_9  total_og_mou_9  vol_2g_mb_9  \\\n",
       "mobile_number_and_circle_id                                                \n",
       "7001121249_109                         7.51            0.68         0.00   \n",
       "7000887461_109                       127.48          127.63        13.93   \n",
       "7000149764_109                       114.16            1.70        30.92   \n",
       "7002022556_109                        48.21           14.54         0.03   \n",
       "7002108620_109                         0.00            0.00         0.00   \n",
       "...                                     ...             ...          ...   \n",
       "7002108597_109                       135.29         1263.56        69.40   \n",
       "7001792051_109                       145.76          308.14         2.41   \n",
       "7000630859_109                       391.63           64.21         0.00   \n",
       "7000498689_109                         2.21            0.00        85.67   \n",
       "7001905007_109                         0.00            0.00         0.00   \n",
       "\n",
       "                             vol_3g_mb_9  churn_flag  \n",
       "mobile_number_and_circle_id                           \n",
       "7001121249_109                      0.00           0  \n",
       "7000887461_109                    314.74           0  \n",
       "7000149764_109                   5588.11           0  \n",
       "7002022556_109                      0.00           0  \n",
       "7002108620_109                      0.00           1  \n",
       "...                                  ...         ...  \n",
       "7002108597_109                   1777.24           0  \n",
       "7001792051_109                   2989.96           0  \n",
       "7000630859_109                      0.00           0  \n",
       "7000498689_109                   4177.14           0  \n",
       "7001905007_109                      0.00           1  \n",
       "\n",
       "[29999 rows x 5 columns]"
      ]
     },
     "execution_count": 331,
     "metadata": {},
     "output_type": "execute_result"
    }
   ],
   "source": [
    "data_high[['total_ic_mou_9','total_og_mou_9','vol_2g_mb_9','vol_3g_mb_9','churn_flag']]"
   ]
  },
  {
   "cell_type": "code",
   "execution_count": 332,
   "id": "493c6650",
   "metadata": {},
   "outputs": [],
   "source": [
    "#removing _9 columns - pt1\n",
    "data3 = data_high.drop(['arpu_9','onnet_mou_9','offnet_mou_9','roam_ic_mou_9','roam_og_mou_9','loc_og_t2t_mou_9','loc_og_t2m_mou_9','loc_og_t2f_mou_9','loc_og_t2c_mou_9','loc_og_mou_9','loc_og_mou_9','std_og_t2t_mou_9','std_og_t2m_mou_9','std_og_t2f_mou_9','std_og_t2c_mou_9','std_og_mou_9','isd_og_mou_9','spl_og_mou_9','og_others_9','total_og_mou_9','loc_ic_t2t_mou_9','loc_ic_t2m_mou_9','loc_ic_t2f_mou_9','loc_ic_mou_9','std_ic_t2t_mou_9','std_ic_t2m_mou_9','std_ic_t2f_mou_9','std_ic_t2o_mou_9','std_ic_mou_9','std_ic_mou_9','total_ic_mou_9','total_ic_mou_9','isd_ic_mou_9','ic_others_9','total_rech_num_9','total_rech_amt_9','max_rech_amt_9','last_day_rch_amt_9','total_rech_data_9','max_rech_data_9','count_rech_2g_9','count_rech_3g_9','av_rech_amt_data_9','vol_2g_mb_9','vol_3g_mb_9','arpu_3g_9','arpu_2g_9','monthly_2g_9','sachet_2g_9','monthly_3g_9','sachet_3g_9','fb_user_9_0.0','fb_user_9_1.0'], 1)"
   ]
  },
  {
   "cell_type": "code",
   "execution_count": 333,
   "id": "1c01665e",
   "metadata": {},
   "outputs": [
    {
     "data": {
      "text/plain": [
       "(29999, 422)"
      ]
     },
     "execution_count": 333,
     "metadata": {},
     "output_type": "execute_result"
    }
   ],
   "source": [
    "data3.shape"
   ]
  },
  {
   "cell_type": "code",
   "execution_count": 334,
   "id": "14db8b05",
   "metadata": {},
   "outputs": [],
   "source": [
    "#removing _9 columns - pt2\n",
    "\n",
    "data3 = data3.drop(['night_pck_user_9_0.0','night_pck_user_9_1.0','date_of_last_rech_data_9_9/10/2014','date_of_last_rech_data_9_9/11/2014','date_of_last_rech_data_9_9/12/2014','date_of_last_rech_data_9_9/13/2014','date_of_last_rech_data_9_9/14/2014','date_of_last_rech_data_9_9/15/2014','date_of_last_rech_data_9_9/16/2014','date_of_last_rech_data_9_9/17/2014','date_of_last_rech_data_9_9/18/2014','date_of_last_rech_data_9_9/19/2014','date_of_last_rech_data_9_9/2/2014','date_of_last_rech_data_9_9/20/2014','date_of_last_rech_data_9_9/21/2014','date_of_last_rech_data_9_9/22/2014','date_of_last_rech_data_9_9/23/2014','date_of_last_rech_data_9_9/24/2014','date_of_last_rech_data_9_9/25/2014','date_of_last_rech_data_9_9/26/2014','date_of_last_rech_data_9_9/27/2014','date_of_last_rech_data_9_9/28/2014','date_of_last_rech_data_9_9/29/2014','date_of_last_rech_data_9_9/3/2014','date_of_last_rech_data_9_9/30/2014','date_of_last_rech_data_9_9/4/2014','date_of_last_rech_data_9_9/5/2014','date_of_last_rech_data_9_9/6/2014','date_of_last_rech_data_9_9/7/2014','date_of_last_rech_data_9_9/8/2014','date_of_last_rech_data_9_9/9/2014','date_of_last_rech_9_9/1/2014','date_of_last_rech_9_9/10/2014','date_of_last_rech_9_9/11/2014','date_of_last_rech_9_9/12/2014','date_of_last_rech_9_9/13/2014','date_of_last_rech_9_9/14/2014','date_of_last_rech_9_9/15/2014','date_of_last_rech_9_9/16/2014','date_of_last_rech_9_9/17/2014','date_of_last_rech_9_9/18/2014','date_of_last_rech_9_9/19/2014','date_of_last_rech_9_9/2/2014','date_of_last_rech_9_9/20/2014','date_of_last_rech_9_9/21/2014','date_of_last_rech_9_9/22/2014','date_of_last_rech_9_9/23/2014','date_of_last_rech_9_9/24/2014','date_of_last_rech_9_9/25/2014','date_of_last_rech_9_9/26/2014','date_of_last_rech_9_9/27/2014','date_of_last_rech_9_9/28/2014','date_of_last_rech_9_9/29/2014','date_of_last_rech_9_9/3/2014','date_of_last_rech_9_9/30/2014','date_of_last_rech_9_9/4/2014','date_of_last_rech_9_9/5/2014','date_of_last_rech_9_9/6/2014','date_of_last_rech_9_9/7/2014','date_of_last_rech_9_9/8/2014','date_of_last_rech_9_9/9/2014','last_date_of_month_9_9/30/2014'], 1)"
   ]
  },
  {
   "cell_type": "code",
   "execution_count": 335,
   "id": "c04a3eea",
   "metadata": {},
   "outputs": [
    {
     "data": {
      "text/plain": [
       "(29999, 360)"
      ]
     },
     "execution_count": 335,
     "metadata": {},
     "output_type": "execute_result"
    }
   ],
   "source": [
    "data3.shape"
   ]
  },
  {
   "cell_type": "markdown",
   "id": "3f2896b8",
   "metadata": {},
   "source": [
    "#### Derving features"
   ]
  },
  {
   "cell_type": "markdown",
   "id": "8d217d5a",
   "metadata": {},
   "source": [
    "fact 1: since you are working over a four-month window, the first two months are the ‘good’ phase, the third month is the ‘action’ phase, while the fourth month is the ‘churn’ phase\n",
    " - Action 1: we can combine 6&7 to get good phase: not a good idea - lots of columns + how will you combine dates of 6&7?\n",
    "\n",
    "\n",
    "\n",
    "fact 2: out of revenue and usage based, you will use the usage-based definition to define churn\n",
    " - Action 2: do we need revenue based data even for this project?\n",
    " \n",
    " \n",
    "deriving new metrics: can we segment usage? - high low and Medium?? How would we use the same for regression?? we already have the high-value customer in data!\n",
    "\n"
   ]
  },
  {
   "cell_type": "markdown",
   "id": "d4c9c9ed",
   "metadata": {},
   "source": [
    " #### Next Steps\n",
    " 1. Managing class imbalance\n",
    " 2. train test split\n",
    " i. Feature Scaling\n",
    " 3. PCA\n",
    " 4. Logistic Regression and AUC Score\n",
    " 5. Decision Tree and AUC Score - incl Hyperparameter tuning\n",
    " 6. XGBoost and Scores - incl Hyperparameter tuning\n",
    " 7. Do the same by removing Revenue\n",
    " 8. Finalize results"
   ]
  },
  {
   "cell_type": "markdown",
   "id": "f5706422",
   "metadata": {},
   "source": [
    "#### Managing Class Imbalance"
   ]
  },
  {
   "cell_type": "code",
   "execution_count": 336,
   "id": "84c0b57f",
   "metadata": {},
   "outputs": [
    {
     "data": {
      "text/plain": [
       "0    0.903897\n",
       "1    0.096103\n",
       "Name: churn_flag, dtype: float64"
      ]
     },
     "execution_count": 336,
     "metadata": {},
     "output_type": "execute_result"
    }
   ],
   "source": [
    "#identifying current churn rate\n",
    "data3['churn_flag'].value_counts(normalize=True)"
   ]
  },
  {
   "cell_type": "markdown",
   "id": "b9eeed4b",
   "metadata": {},
   "source": [
    "##### Churn rate is only 9% of total data - hence class balancing is necessary"
   ]
  },
  {
   "cell_type": "markdown",
   "id": "aad67066",
   "metadata": {},
   "source": [
    "###### Method to be applied - Resampling Techniques — Oversample minority class\n",
    "\n",
    "First, we'll split into test and train sets BEFORE trying oversampling techniques! Oversampling before splitting the data can allow the exact same observations to be present in both the test and train sets. This can allow our model to simply memorize specific data points and cause overfitting and poor generalization to the test data."
   ]
  },
  {
   "cell_type": "markdown",
   "id": "d1f6c114",
   "metadata": {},
   "source": [
    "## Step 3: Train -Test Split\n",
    "\n",
    "1. Upsampling minority\n",
    "2. Feature Scaling to normalize values\n",
    "3. Applying PCA - dimensionality reduction for faster processing"
   ]
  },
  {
   "cell_type": "code",
   "execution_count": 337,
   "id": "b161751e",
   "metadata": {},
   "outputs": [],
   "source": [
    "from sklearn.model_selection import train_test_split"
   ]
  },
  {
   "cell_type": "code",
   "execution_count": 338,
   "id": "9dff6260",
   "metadata": {},
   "outputs": [
    {
     "data": {
      "text/plain": [
       "(29999, 356)"
      ]
     },
     "execution_count": 338,
     "metadata": {},
     "output_type": "execute_result"
    }
   ],
   "source": [
    "# Putting feature variable to X\n",
    "X = data3.drop(['churn_flag','mobile_number','circle_id','good_phase_revenue'], axis=1)\n",
    "\n",
    "X.shape"
   ]
  },
  {
   "cell_type": "code",
   "execution_count": 339,
   "id": "c3e96f90",
   "metadata": {},
   "outputs": [
    {
     "data": {
      "text/plain": [
       "(29999,)"
      ]
     },
     "execution_count": 339,
     "metadata": {},
     "output_type": "execute_result"
    }
   ],
   "source": [
    "# Putting response variable to y\n",
    "y = data3['churn_flag']\n",
    "\n",
    "y.shape"
   ]
  },
  {
   "cell_type": "code",
   "execution_count": 340,
   "id": "00c39700",
   "metadata": {},
   "outputs": [],
   "source": [
    "# setting up testing and training sets\n",
    "X_train, X_test, y_train, y_test = train_test_split(X, y, train_size=0.7, test_size=0.3, random_state=42, stratify=y)"
   ]
  },
  {
   "cell_type": "code",
   "execution_count": 341,
   "id": "345da8db",
   "metadata": {},
   "outputs": [
    {
     "data": {
      "text/plain": [
       "(20999, 356)"
      ]
     },
     "execution_count": 341,
     "metadata": {},
     "output_type": "execute_result"
    }
   ],
   "source": [
    "X_train.shape"
   ]
  },
  {
   "cell_type": "code",
   "execution_count": 342,
   "id": "be48d7a6",
   "metadata": {},
   "outputs": [
    {
     "data": {
      "text/plain": [
       "(20999,)"
      ]
     },
     "execution_count": 342,
     "metadata": {},
     "output_type": "execute_result"
    }
   ],
   "source": [
    "y_train.shape"
   ]
  },
  {
   "cell_type": "code",
   "execution_count": 343,
   "id": "2ed305c2",
   "metadata": {},
   "outputs": [
    {
     "data": {
      "text/plain": [
       "0    0.9039\n",
       "1    0.0961\n",
       "Name: churn_flag, dtype: float64"
      ]
     },
     "execution_count": 343,
     "metadata": {},
     "output_type": "execute_result"
    }
   ],
   "source": [
    "y_train.value_counts(normalize=True)"
   ]
  },
  {
   "cell_type": "code",
   "execution_count": 344,
   "id": "a17def16",
   "metadata": {},
   "outputs": [
    {
     "data": {
      "text/plain": [
       "0    0.903889\n",
       "1    0.096111\n",
       "Name: churn_flag, dtype: float64"
      ]
     },
     "execution_count": 344,
     "metadata": {},
     "output_type": "execute_result"
    }
   ],
   "source": [
    "y_test.value_counts(normalize=True)"
   ]
  },
  {
   "cell_type": "code",
   "execution_count": 345,
   "id": "afa8059d",
   "metadata": {},
   "outputs": [
    {
     "data": {
      "text/plain": [
       "(20999, 357)"
      ]
     },
     "execution_count": 345,
     "metadata": {},
     "output_type": "execute_result"
    }
   ],
   "source": [
    "#concatenate our training data back together\n",
    "X = pd.concat([X_train, y_train], axis=1)\n",
    "X.shape"
   ]
  },
  {
   "cell_type": "code",
   "execution_count": 346,
   "id": "ddd972d3",
   "metadata": {},
   "outputs": [
    {
     "data": {
      "text/plain": [
       "(2018, 357)"
      ]
     },
     "execution_count": 346,
     "metadata": {},
     "output_type": "execute_result"
    }
   ],
   "source": [
    "# separate minority and majority classes\n",
    "not_churn = X[X.churn_flag==0]\n",
    "churn = X[X.churn_flag==1]\n",
    "churn.shape"
   ]
  },
  {
   "cell_type": "code",
   "execution_count": 347,
   "id": "fdb902bb",
   "metadata": {},
   "outputs": [
    {
     "data": {
      "text/plain": [
       "(18981, 357)"
      ]
     },
     "execution_count": 347,
     "metadata": {},
     "output_type": "execute_result"
    }
   ],
   "source": [
    "not_churn.shape"
   ]
  },
  {
   "cell_type": "code",
   "execution_count": 348,
   "id": "e1038030",
   "metadata": {},
   "outputs": [
    {
     "data": {
      "text/plain": [
       "(18981, 357)"
      ]
     },
     "execution_count": 348,
     "metadata": {},
     "output_type": "execute_result"
    }
   ],
   "source": [
    "from sklearn.utils import resample\n",
    "#upsample minority\n",
    "churn_upsampled = resample(churn,\n",
    "                          replace=True, # sample with replacement\n",
    "                          n_samples=len(not_churn), # match number in majority class\n",
    "                          random_state=27) # reproducible results\n",
    "churn_upsampled.shape"
   ]
  },
  {
   "cell_type": "code",
   "execution_count": 349,
   "id": "a620d0b3",
   "metadata": {},
   "outputs": [
    {
     "data": {
      "text/plain": [
       "(37962, 357)"
      ]
     },
     "execution_count": 349,
     "metadata": {},
     "output_type": "execute_result"
    }
   ],
   "source": [
    "#combine majority and upsampled minority\n",
    "upsampled = pd.concat([not_churn, churn_upsampled])\n",
    "upsampled.shape"
   ]
  },
  {
   "cell_type": "code",
   "execution_count": 350,
   "id": "21a5e46d",
   "metadata": {},
   "outputs": [
    {
     "data": {
      "text/plain": [
       "0    18981\n",
       "1    18981\n",
       "Name: churn_flag, dtype: int64"
      ]
     },
     "execution_count": 350,
     "metadata": {},
     "output_type": "execute_result"
    }
   ],
   "source": [
    "upsampled.churn_flag.value_counts()"
   ]
  },
  {
   "cell_type": "code",
   "execution_count": 351,
   "id": "35d672ee",
   "metadata": {},
   "outputs": [],
   "source": [
    "y_train = upsampled.churn_flag\n",
    "X_train = upsampled.drop('churn_flag', axis=1)"
   ]
  },
  {
   "cell_type": "markdown",
   "id": "e1172622",
   "metadata": {},
   "source": [
    "### Feature Scaling"
   ]
  },
  {
   "cell_type": "code",
   "execution_count": 352,
   "id": "1b1c7d6f",
   "metadata": {},
   "outputs": [
    {
     "data": {
      "text/plain": [
       "(37962, 356)"
      ]
     },
     "execution_count": 352,
     "metadata": {},
     "output_type": "execute_result"
    }
   ],
   "source": [
    "X_train.shape"
   ]
  },
  {
   "cell_type": "code",
   "execution_count": 353,
   "id": "a099965c",
   "metadata": {},
   "outputs": [],
   "source": [
    "from sklearn.preprocessing import StandardScaler"
   ]
  },
  {
   "cell_type": "code",
   "execution_count": 354,
   "id": "a6f68380",
   "metadata": {
    "scrolled": true
   },
   "outputs": [
    {
     "name": "stdout",
     "output_type": "stream",
     "text": [
      "['loc_og_t2o_mou', 'std_og_t2o_mou', 'loc_ic_t2o_mou', 'arpu_6', 'arpu_7', 'arpu_8', 'onnet_mou_6', 'onnet_mou_7', 'onnet_mou_8', 'offnet_mou_6', 'offnet_mou_7', 'offnet_mou_8', 'roam_ic_mou_6', 'roam_ic_mou_7', 'roam_ic_mou_8', 'roam_og_mou_6', 'roam_og_mou_7', 'roam_og_mou_8', 'loc_og_t2t_mou_6', 'loc_og_t2t_mou_7', 'loc_og_t2t_mou_8', 'loc_og_t2m_mou_6', 'loc_og_t2m_mou_7', 'loc_og_t2m_mou_8', 'loc_og_t2f_mou_6', 'loc_og_t2f_mou_7', 'loc_og_t2f_mou_8', 'loc_og_t2c_mou_6', 'loc_og_t2c_mou_7', 'loc_og_t2c_mou_8', 'loc_og_mou_6', 'loc_og_mou_7', 'loc_og_mou_8', 'std_og_t2t_mou_6', 'std_og_t2t_mou_7', 'std_og_t2t_mou_8', 'std_og_t2m_mou_6', 'std_og_t2m_mou_7', 'std_og_t2m_mou_8', 'std_og_t2f_mou_6', 'std_og_t2f_mou_7', 'std_og_t2f_mou_8', 'std_og_t2c_mou_6', 'std_og_t2c_mou_7', 'std_og_t2c_mou_8', 'std_og_mou_6', 'std_og_mou_7', 'std_og_mou_8', 'isd_og_mou_6', 'isd_og_mou_7', 'isd_og_mou_8', 'spl_og_mou_6', 'spl_og_mou_7', 'spl_og_mou_8', 'og_others_6', 'og_others_7', 'og_others_8', 'total_og_mou_6', 'total_og_mou_7', 'total_og_mou_8', 'loc_ic_t2t_mou_6', 'loc_ic_t2t_mou_7', 'loc_ic_t2t_mou_8', 'loc_ic_t2m_mou_6', 'loc_ic_t2m_mou_7', 'loc_ic_t2m_mou_8', 'loc_ic_t2f_mou_6', 'loc_ic_t2f_mou_7', 'loc_ic_t2f_mou_8', 'loc_ic_mou_6', 'loc_ic_mou_7', 'loc_ic_mou_8', 'std_ic_t2t_mou_6', 'std_ic_t2t_mou_7', 'std_ic_t2t_mou_8', 'std_ic_t2m_mou_6', 'std_ic_t2m_mou_7', 'std_ic_t2m_mou_8', 'std_ic_t2f_mou_6', 'std_ic_t2f_mou_7', 'std_ic_t2f_mou_8', 'std_ic_t2o_mou_6', 'std_ic_t2o_mou_7', 'std_ic_t2o_mou_8', 'std_ic_mou_6', 'std_ic_mou_7', 'std_ic_mou_8', 'total_ic_mou_6', 'total_ic_mou_7', 'total_ic_mou_8', 'spl_ic_mou_6', 'spl_ic_mou_7', 'spl_ic_mou_8', 'spl_ic_mou_9', 'isd_ic_mou_6', 'isd_ic_mou_7', 'isd_ic_mou_8', 'ic_others_6', 'ic_others_7', 'ic_others_8', 'total_rech_num_6', 'total_rech_num_7', 'total_rech_num_8', 'total_rech_amt_6', 'total_rech_amt_7', 'total_rech_amt_8', 'max_rech_amt_6', 'max_rech_amt_7', 'max_rech_amt_8', 'last_day_rch_amt_6', 'last_day_rch_amt_7', 'last_day_rch_amt_8', 'total_rech_data_6', 'total_rech_data_7', 'total_rech_data_8', 'max_rech_data_6', 'max_rech_data_7', 'max_rech_data_8', 'count_rech_2g_6', 'count_rech_2g_7', 'count_rech_2g_8', 'count_rech_3g_6', 'count_rech_3g_7', 'count_rech_3g_8', 'av_rech_amt_data_6', 'av_rech_amt_data_7', 'av_rech_amt_data_8', 'vol_2g_mb_6', 'vol_2g_mb_7', 'vol_2g_mb_8', 'vol_3g_mb_6', 'vol_3g_mb_7', 'vol_3g_mb_8', 'arpu_3g_6', 'arpu_3g_7', 'arpu_3g_8', 'arpu_2g_6', 'arpu_2g_7', 'arpu_2g_8', 'monthly_2g_6', 'monthly_2g_7', 'monthly_2g_8', 'sachet_2g_6', 'sachet_2g_7', 'sachet_2g_8', 'monthly_3g_6', 'monthly_3g_7', 'monthly_3g_8', 'sachet_3g_6', 'sachet_3g_7', 'sachet_3g_8', 'aon', 'aug_vbc_3g', 'jul_vbc_3g', 'jun_vbc_3g', 'sep_vbc_3g', 'fb_user_6_0.0', 'fb_user_6_1.0', 'fb_user_7_0.0', 'fb_user_7_1.0', 'fb_user_8_0.0', 'fb_user_8_1.0', 'night_pck_user_6_0.0', 'night_pck_user_6_1.0', 'night_pck_user_7_0.0', 'night_pck_user_7_1.0', 'night_pck_user_8_0.0', 'night_pck_user_8_1.0', 'date_of_last_rech_data_6_6/1/2014', 'date_of_last_rech_data_6_6/10/2014', 'date_of_last_rech_data_6_6/11/2014', 'date_of_last_rech_data_6_6/12/2014', 'date_of_last_rech_data_6_6/13/2014', 'date_of_last_rech_data_6_6/14/2014', 'date_of_last_rech_data_6_6/15/2014', 'date_of_last_rech_data_6_6/16/2014', 'date_of_last_rech_data_6_6/17/2014', 'date_of_last_rech_data_6_6/18/2014', 'date_of_last_rech_data_6_6/19/2014', 'date_of_last_rech_data_6_6/2/2014', 'date_of_last_rech_data_6_6/20/2014', 'date_of_last_rech_data_6_6/21/2014', 'date_of_last_rech_data_6_6/22/2014', 'date_of_last_rech_data_6_6/23/2014', 'date_of_last_rech_data_6_6/24/2014', 'date_of_last_rech_data_6_6/25/2014', 'date_of_last_rech_data_6_6/26/2014', 'date_of_last_rech_data_6_6/27/2014', 'date_of_last_rech_data_6_6/28/2014', 'date_of_last_rech_data_6_6/29/2014', 'date_of_last_rech_data_6_6/3/2014', 'date_of_last_rech_data_6_6/30/2014', 'date_of_last_rech_data_6_6/4/2014', 'date_of_last_rech_data_6_6/5/2014', 'date_of_last_rech_data_6_6/6/2014', 'date_of_last_rech_data_6_6/7/2014', 'date_of_last_rech_data_6_6/8/2014', 'date_of_last_rech_data_6_6/9/2014', 'date_of_last_rech_data_7_7/1/2014', 'date_of_last_rech_data_7_7/10/2014', 'date_of_last_rech_data_7_7/11/2014', 'date_of_last_rech_data_7_7/12/2014', 'date_of_last_rech_data_7_7/13/2014', 'date_of_last_rech_data_7_7/14/2014', 'date_of_last_rech_data_7_7/15/2014', 'date_of_last_rech_data_7_7/16/2014', 'date_of_last_rech_data_7_7/17/2014', 'date_of_last_rech_data_7_7/18/2014', 'date_of_last_rech_data_7_7/19/2014', 'date_of_last_rech_data_7_7/2/2014', 'date_of_last_rech_data_7_7/20/2014', 'date_of_last_rech_data_7_7/21/2014', 'date_of_last_rech_data_7_7/22/2014', 'date_of_last_rech_data_7_7/23/2014', 'date_of_last_rech_data_7_7/24/2014', 'date_of_last_rech_data_7_7/25/2014', 'date_of_last_rech_data_7_7/26/2014', 'date_of_last_rech_data_7_7/27/2014', 'date_of_last_rech_data_7_7/28/2014', 'date_of_last_rech_data_7_7/29/2014', 'date_of_last_rech_data_7_7/3/2014', 'date_of_last_rech_data_7_7/30/2014', 'date_of_last_rech_data_7_7/31/2014', 'date_of_last_rech_data_7_7/4/2014', 'date_of_last_rech_data_7_7/5/2014', 'date_of_last_rech_data_7_7/6/2014', 'date_of_last_rech_data_7_7/7/2014', 'date_of_last_rech_data_7_7/8/2014', 'date_of_last_rech_data_7_7/9/2014', 'date_of_last_rech_data_8_8/1/2014', 'date_of_last_rech_data_8_8/10/2014', 'date_of_last_rech_data_8_8/11/2014', 'date_of_last_rech_data_8_8/12/2014', 'date_of_last_rech_data_8_8/13/2014', 'date_of_last_rech_data_8_8/14/2014', 'date_of_last_rech_data_8_8/15/2014', 'date_of_last_rech_data_8_8/16/2014', 'date_of_last_rech_data_8_8/17/2014', 'date_of_last_rech_data_8_8/18/2014', 'date_of_last_rech_data_8_8/19/2014', 'date_of_last_rech_data_8_8/2/2014', 'date_of_last_rech_data_8_8/20/2014', 'date_of_last_rech_data_8_8/21/2014', 'date_of_last_rech_data_8_8/22/2014', 'date_of_last_rech_data_8_8/23/2014', 'date_of_last_rech_data_8_8/24/2014', 'date_of_last_rech_data_8_8/25/2014', 'date_of_last_rech_data_8_8/26/2014', 'date_of_last_rech_data_8_8/27/2014', 'date_of_last_rech_data_8_8/28/2014', 'date_of_last_rech_data_8_8/29/2014', 'date_of_last_rech_data_8_8/3/2014', 'date_of_last_rech_data_8_8/30/2014', 'date_of_last_rech_data_8_8/31/2014', 'date_of_last_rech_data_8_8/4/2014', 'date_of_last_rech_data_8_8/5/2014', 'date_of_last_rech_data_8_8/6/2014', 'date_of_last_rech_data_8_8/7/2014', 'date_of_last_rech_data_8_8/8/2014', 'date_of_last_rech_data_8_8/9/2014', 'date_of_last_rech_data_9_9/1/2014', 'date_of_last_rech_6_6/1/2014', 'date_of_last_rech_6_6/10/2014', 'date_of_last_rech_6_6/11/2014', 'date_of_last_rech_6_6/12/2014', 'date_of_last_rech_6_6/13/2014', 'date_of_last_rech_6_6/14/2014', 'date_of_last_rech_6_6/15/2014', 'date_of_last_rech_6_6/16/2014', 'date_of_last_rech_6_6/17/2014', 'date_of_last_rech_6_6/18/2014', 'date_of_last_rech_6_6/19/2014', 'date_of_last_rech_6_6/2/2014', 'date_of_last_rech_6_6/20/2014', 'date_of_last_rech_6_6/21/2014', 'date_of_last_rech_6_6/22/2014', 'date_of_last_rech_6_6/23/2014', 'date_of_last_rech_6_6/24/2014', 'date_of_last_rech_6_6/25/2014', 'date_of_last_rech_6_6/26/2014', 'date_of_last_rech_6_6/27/2014', 'date_of_last_rech_6_6/28/2014', 'date_of_last_rech_6_6/29/2014', 'date_of_last_rech_6_6/3/2014', 'date_of_last_rech_6_6/30/2014', 'date_of_last_rech_6_6/4/2014', 'date_of_last_rech_6_6/5/2014', 'date_of_last_rech_6_6/6/2014', 'date_of_last_rech_6_6/7/2014', 'date_of_last_rech_6_6/8/2014', 'date_of_last_rech_6_6/9/2014', 'date_of_last_rech_7_7/1/2014', 'date_of_last_rech_7_7/10/2014', 'date_of_last_rech_7_7/11/2014', 'date_of_last_rech_7_7/12/2014', 'date_of_last_rech_7_7/13/2014', 'date_of_last_rech_7_7/14/2014', 'date_of_last_rech_7_7/15/2014', 'date_of_last_rech_7_7/16/2014', 'date_of_last_rech_7_7/17/2014', 'date_of_last_rech_7_7/18/2014', 'date_of_last_rech_7_7/19/2014', 'date_of_last_rech_7_7/2/2014', 'date_of_last_rech_7_7/20/2014', 'date_of_last_rech_7_7/21/2014', 'date_of_last_rech_7_7/22/2014', 'date_of_last_rech_7_7/23/2014', 'date_of_last_rech_7_7/24/2014', 'date_of_last_rech_7_7/25/2014', 'date_of_last_rech_7_7/26/2014', 'date_of_last_rech_7_7/27/2014', 'date_of_last_rech_7_7/28/2014', 'date_of_last_rech_7_7/29/2014', 'date_of_last_rech_7_7/3/2014', 'date_of_last_rech_7_7/30/2014', 'date_of_last_rech_7_7/31/2014', 'date_of_last_rech_7_7/4/2014', 'date_of_last_rech_7_7/5/2014', 'date_of_last_rech_7_7/6/2014', 'date_of_last_rech_7_7/7/2014', 'date_of_last_rech_7_7/8/2014', 'date_of_last_rech_7_7/9/2014', 'date_of_last_rech_8_8/1/2014', 'date_of_last_rech_8_8/10/2014', 'date_of_last_rech_8_8/11/2014', 'date_of_last_rech_8_8/12/2014', 'date_of_last_rech_8_8/13/2014', 'date_of_last_rech_8_8/14/2014', 'date_of_last_rech_8_8/15/2014', 'date_of_last_rech_8_8/16/2014', 'date_of_last_rech_8_8/17/2014', 'date_of_last_rech_8_8/18/2014', 'date_of_last_rech_8_8/19/2014', 'date_of_last_rech_8_8/2/2014', 'date_of_last_rech_8_8/20/2014', 'date_of_last_rech_8_8/21/2014', 'date_of_last_rech_8_8/22/2014', 'date_of_last_rech_8_8/23/2014', 'date_of_last_rech_8_8/24/2014', 'date_of_last_rech_8_8/25/2014', 'date_of_last_rech_8_8/26/2014', 'date_of_last_rech_8_8/27/2014', 'date_of_last_rech_8_8/28/2014', 'date_of_last_rech_8_8/29/2014', 'date_of_last_rech_8_8/3/2014', 'date_of_last_rech_8_8/30/2014', 'date_of_last_rech_8_8/31/2014', 'date_of_last_rech_8_8/4/2014', 'date_of_last_rech_8_8/5/2014', 'date_of_last_rech_8_8/6/2014', 'date_of_last_rech_8_8/7/2014', 'date_of_last_rech_8_8/8/2014', 'date_of_last_rech_8_8/9/2014', 'last_date_of_month_6_6/30/2014', 'last_date_of_month_7_7/31/2014', 'last_date_of_month_8_8/31/2014']\n"
     ]
    }
   ],
   "source": [
    "#printing out all columns\n",
    "features= list(X_train)\n",
    "print(features)"
   ]
  },
  {
   "cell_type": "code",
   "execution_count": 355,
   "id": "5d68a194",
   "metadata": {},
   "outputs": [
    {
     "data": {
      "text/html": [
       "<div>\n",
       "<style scoped>\n",
       "    .dataframe tbody tr th:only-of-type {\n",
       "        vertical-align: middle;\n",
       "    }\n",
       "\n",
       "    .dataframe tbody tr th {\n",
       "        vertical-align: top;\n",
       "    }\n",
       "\n",
       "    .dataframe thead th {\n",
       "        text-align: right;\n",
       "    }\n",
       "</style>\n",
       "<table border=\"1\" class=\"dataframe\">\n",
       "  <thead>\n",
       "    <tr style=\"text-align: right;\">\n",
       "      <th></th>\n",
       "      <th>loc_og_t2o_mou</th>\n",
       "      <th>std_og_t2o_mou</th>\n",
       "      <th>loc_ic_t2o_mou</th>\n",
       "      <th>arpu_6</th>\n",
       "      <th>arpu_7</th>\n",
       "      <th>arpu_8</th>\n",
       "      <th>onnet_mou_6</th>\n",
       "      <th>onnet_mou_7</th>\n",
       "      <th>onnet_mou_8</th>\n",
       "      <th>offnet_mou_6</th>\n",
       "      <th>...</th>\n",
       "      <th>date_of_last_rech_8_8/31/2014</th>\n",
       "      <th>date_of_last_rech_8_8/4/2014</th>\n",
       "      <th>date_of_last_rech_8_8/5/2014</th>\n",
       "      <th>date_of_last_rech_8_8/6/2014</th>\n",
       "      <th>date_of_last_rech_8_8/7/2014</th>\n",
       "      <th>date_of_last_rech_8_8/8/2014</th>\n",
       "      <th>date_of_last_rech_8_8/9/2014</th>\n",
       "      <th>last_date_of_month_6_6/30/2014</th>\n",
       "      <th>last_date_of_month_7_7/31/2014</th>\n",
       "      <th>last_date_of_month_8_8/31/2014</th>\n",
       "    </tr>\n",
       "    <tr>\n",
       "      <th>mobile_number_and_circle_id</th>\n",
       "      <th></th>\n",
       "      <th></th>\n",
       "      <th></th>\n",
       "      <th></th>\n",
       "      <th></th>\n",
       "      <th></th>\n",
       "      <th></th>\n",
       "      <th></th>\n",
       "      <th></th>\n",
       "      <th></th>\n",
       "      <th></th>\n",
       "      <th></th>\n",
       "      <th></th>\n",
       "      <th></th>\n",
       "      <th></th>\n",
       "      <th></th>\n",
       "      <th></th>\n",
       "      <th></th>\n",
       "      <th></th>\n",
       "      <th></th>\n",
       "      <th></th>\n",
       "    </tr>\n",
       "  </thead>\n",
       "  <tbody>\n",
       "    <tr>\n",
       "      <th>7002049668_109</th>\n",
       "      <td>0.0</td>\n",
       "      <td>0.0</td>\n",
       "      <td>0.0</td>\n",
       "      <td>-0.247191</td>\n",
       "      <td>-0.197208</td>\n",
       "      <td>-0.313623</td>\n",
       "      <td>-0.310725</td>\n",
       "      <td>-0.260824</td>\n",
       "      <td>-0.275027</td>\n",
       "      <td>-0.219984</td>\n",
       "      <td>...</td>\n",
       "      <td>0</td>\n",
       "      <td>0</td>\n",
       "      <td>1</td>\n",
       "      <td>0</td>\n",
       "      <td>0</td>\n",
       "      <td>0</td>\n",
       "      <td>0</td>\n",
       "      <td>1</td>\n",
       "      <td>1</td>\n",
       "      <td>1</td>\n",
       "    </tr>\n",
       "    <tr>\n",
       "      <th>7000937354_109</th>\n",
       "      <td>0.0</td>\n",
       "      <td>0.0</td>\n",
       "      <td>0.0</td>\n",
       "      <td>0.213275</td>\n",
       "      <td>0.287068</td>\n",
       "      <td>-0.268053</td>\n",
       "      <td>-0.253024</td>\n",
       "      <td>-0.151617</td>\n",
       "      <td>-0.250964</td>\n",
       "      <td>0.002858</td>\n",
       "      <td>...</td>\n",
       "      <td>0</td>\n",
       "      <td>0</td>\n",
       "      <td>0</td>\n",
       "      <td>0</td>\n",
       "      <td>0</td>\n",
       "      <td>0</td>\n",
       "      <td>0</td>\n",
       "      <td>1</td>\n",
       "      <td>1</td>\n",
       "      <td>1</td>\n",
       "    </tr>\n",
       "    <tr>\n",
       "      <th>7001439111_109</th>\n",
       "      <td>0.0</td>\n",
       "      <td>0.0</td>\n",
       "      <td>0.0</td>\n",
       "      <td>-0.658413</td>\n",
       "      <td>-0.705633</td>\n",
       "      <td>-0.217257</td>\n",
       "      <td>-0.345892</td>\n",
       "      <td>-0.293930</td>\n",
       "      <td>0.250261</td>\n",
       "      <td>-0.521730</td>\n",
       "      <td>...</td>\n",
       "      <td>0</td>\n",
       "      <td>0</td>\n",
       "      <td>0</td>\n",
       "      <td>0</td>\n",
       "      <td>0</td>\n",
       "      <td>0</td>\n",
       "      <td>0</td>\n",
       "      <td>1</td>\n",
       "      <td>1</td>\n",
       "      <td>1</td>\n",
       "    </tr>\n",
       "    <tr>\n",
       "      <th>7001925801_109</th>\n",
       "      <td>0.0</td>\n",
       "      <td>0.0</td>\n",
       "      <td>0.0</td>\n",
       "      <td>-0.580439</td>\n",
       "      <td>-0.449087</td>\n",
       "      <td>1.081536</td>\n",
       "      <td>-0.286187</td>\n",
       "      <td>-0.123549</td>\n",
       "      <td>0.070581</td>\n",
       "      <td>-0.510518</td>\n",
       "      <td>...</td>\n",
       "      <td>1</td>\n",
       "      <td>0</td>\n",
       "      <td>0</td>\n",
       "      <td>0</td>\n",
       "      <td>0</td>\n",
       "      <td>0</td>\n",
       "      <td>0</td>\n",
       "      <td>1</td>\n",
       "      <td>1</td>\n",
       "      <td>1</td>\n",
       "    </tr>\n",
       "    <tr>\n",
       "      <th>7000965172_109</th>\n",
       "      <td>0.0</td>\n",
       "      <td>0.0</td>\n",
       "      <td>0.0</td>\n",
       "      <td>-0.405825</td>\n",
       "      <td>-0.295089</td>\n",
       "      <td>-0.115249</td>\n",
       "      <td>-0.394270</td>\n",
       "      <td>-0.333607</td>\n",
       "      <td>-0.094228</td>\n",
       "      <td>-0.125710</td>\n",
       "      <td>...</td>\n",
       "      <td>0</td>\n",
       "      <td>0</td>\n",
       "      <td>0</td>\n",
       "      <td>0</td>\n",
       "      <td>0</td>\n",
       "      <td>0</td>\n",
       "      <td>0</td>\n",
       "      <td>1</td>\n",
       "      <td>1</td>\n",
       "      <td>1</td>\n",
       "    </tr>\n",
       "  </tbody>\n",
       "</table>\n",
       "<p>5 rows × 356 columns</p>\n",
       "</div>"
      ],
      "text/plain": [
       "                             loc_og_t2o_mou  std_og_t2o_mou  loc_ic_t2o_mou  \\\n",
       "mobile_number_and_circle_id                                                   \n",
       "7002049668_109                          0.0             0.0             0.0   \n",
       "7000937354_109                          0.0             0.0             0.0   \n",
       "7001439111_109                          0.0             0.0             0.0   \n",
       "7001925801_109                          0.0             0.0             0.0   \n",
       "7000965172_109                          0.0             0.0             0.0   \n",
       "\n",
       "                               arpu_6    arpu_7    arpu_8  onnet_mou_6  \\\n",
       "mobile_number_and_circle_id                                              \n",
       "7002049668_109              -0.247191 -0.197208 -0.313623    -0.310725   \n",
       "7000937354_109               0.213275  0.287068 -0.268053    -0.253024   \n",
       "7001439111_109              -0.658413 -0.705633 -0.217257    -0.345892   \n",
       "7001925801_109              -0.580439 -0.449087  1.081536    -0.286187   \n",
       "7000965172_109              -0.405825 -0.295089 -0.115249    -0.394270   \n",
       "\n",
       "                             onnet_mou_7  onnet_mou_8  offnet_mou_6  ...  \\\n",
       "mobile_number_and_circle_id                                          ...   \n",
       "7002049668_109                 -0.260824    -0.275027     -0.219984  ...   \n",
       "7000937354_109                 -0.151617    -0.250964      0.002858  ...   \n",
       "7001439111_109                 -0.293930     0.250261     -0.521730  ...   \n",
       "7001925801_109                 -0.123549     0.070581     -0.510518  ...   \n",
       "7000965172_109                 -0.333607    -0.094228     -0.125710  ...   \n",
       "\n",
       "                             date_of_last_rech_8_8/31/2014  \\\n",
       "mobile_number_and_circle_id                                  \n",
       "7002049668_109                                           0   \n",
       "7000937354_109                                           0   \n",
       "7001439111_109                                           0   \n",
       "7001925801_109                                           1   \n",
       "7000965172_109                                           0   \n",
       "\n",
       "                             date_of_last_rech_8_8/4/2014  \\\n",
       "mobile_number_and_circle_id                                 \n",
       "7002049668_109                                          0   \n",
       "7000937354_109                                          0   \n",
       "7001439111_109                                          0   \n",
       "7001925801_109                                          0   \n",
       "7000965172_109                                          0   \n",
       "\n",
       "                             date_of_last_rech_8_8/5/2014  \\\n",
       "mobile_number_and_circle_id                                 \n",
       "7002049668_109                                          1   \n",
       "7000937354_109                                          0   \n",
       "7001439111_109                                          0   \n",
       "7001925801_109                                          0   \n",
       "7000965172_109                                          0   \n",
       "\n",
       "                             date_of_last_rech_8_8/6/2014  \\\n",
       "mobile_number_and_circle_id                                 \n",
       "7002049668_109                                          0   \n",
       "7000937354_109                                          0   \n",
       "7001439111_109                                          0   \n",
       "7001925801_109                                          0   \n",
       "7000965172_109                                          0   \n",
       "\n",
       "                             date_of_last_rech_8_8/7/2014  \\\n",
       "mobile_number_and_circle_id                                 \n",
       "7002049668_109                                          0   \n",
       "7000937354_109                                          0   \n",
       "7001439111_109                                          0   \n",
       "7001925801_109                                          0   \n",
       "7000965172_109                                          0   \n",
       "\n",
       "                             date_of_last_rech_8_8/8/2014  \\\n",
       "mobile_number_and_circle_id                                 \n",
       "7002049668_109                                          0   \n",
       "7000937354_109                                          0   \n",
       "7001439111_109                                          0   \n",
       "7001925801_109                                          0   \n",
       "7000965172_109                                          0   \n",
       "\n",
       "                             date_of_last_rech_8_8/9/2014  \\\n",
       "mobile_number_and_circle_id                                 \n",
       "7002049668_109                                          0   \n",
       "7000937354_109                                          0   \n",
       "7001439111_109                                          0   \n",
       "7001925801_109                                          0   \n",
       "7000965172_109                                          0   \n",
       "\n",
       "                             last_date_of_month_6_6/30/2014  \\\n",
       "mobile_number_and_circle_id                                   \n",
       "7002049668_109                                            1   \n",
       "7000937354_109                                            1   \n",
       "7001439111_109                                            1   \n",
       "7001925801_109                                            1   \n",
       "7000965172_109                                            1   \n",
       "\n",
       "                             last_date_of_month_7_7/31/2014  \\\n",
       "mobile_number_and_circle_id                                   \n",
       "7002049668_109                                            1   \n",
       "7000937354_109                                            1   \n",
       "7001439111_109                                            1   \n",
       "7001925801_109                                            1   \n",
       "7000965172_109                                            1   \n",
       "\n",
       "                             last_date_of_month_8_8/31/2014  \n",
       "mobile_number_and_circle_id                                  \n",
       "7002049668_109                                            1  \n",
       "7000937354_109                                            1  \n",
       "7001439111_109                                            1  \n",
       "7001925801_109                                            1  \n",
       "7000965172_109                                            1  \n",
       "\n",
       "[5 rows x 356 columns]"
      ]
     },
     "execution_count": 355,
     "metadata": {},
     "output_type": "execute_result"
    }
   ],
   "source": [
    "scaler = StandardScaler()\n",
    "\n",
    "X_train[['loc_og_t2o_mou', 'std_og_t2o_mou', 'loc_ic_t2o_mou', 'arpu_6', 'arpu_7', 'arpu_8', 'onnet_mou_6', 'onnet_mou_7', 'onnet_mou_8', 'offnet_mou_6', 'offnet_mou_7', 'offnet_mou_8', 'roam_ic_mou_6', 'roam_ic_mou_7', 'roam_ic_mou_8', 'roam_og_mou_6', 'roam_og_mou_7', 'roam_og_mou_8', 'loc_og_t2t_mou_6', 'loc_og_t2t_mou_7', 'loc_og_t2t_mou_8', 'loc_og_t2m_mou_6', 'loc_og_t2m_mou_7', 'loc_og_t2m_mou_8', 'loc_og_t2f_mou_6', 'loc_og_t2f_mou_7', 'loc_og_t2f_mou_8', 'loc_og_t2c_mou_6', 'loc_og_t2c_mou_7', 'loc_og_t2c_mou_8', 'loc_og_mou_6', 'loc_og_mou_7', 'loc_og_mou_8', 'std_og_t2t_mou_6', 'std_og_t2t_mou_7', 'std_og_t2t_mou_8', 'std_og_t2m_mou_6', 'std_og_t2m_mou_7', 'std_og_t2m_mou_8', 'std_og_t2f_mou_6', 'std_og_t2f_mou_7', 'std_og_t2f_mou_8', 'std_og_t2c_mou_6', 'std_og_t2c_mou_7', 'std_og_t2c_mou_8', 'std_og_mou_6', 'std_og_mou_7', 'std_og_mou_8', 'isd_og_mou_6', 'isd_og_mou_7', 'isd_og_mou_8', 'spl_og_mou_6', 'spl_og_mou_7', 'spl_og_mou_8', 'og_others_6', 'og_others_7', 'og_others_8', 'total_og_mou_6', 'total_og_mou_7', 'total_og_mou_8', 'loc_ic_t2t_mou_6', 'loc_ic_t2t_mou_7', 'loc_ic_t2t_mou_8', 'loc_ic_t2m_mou_6', 'loc_ic_t2m_mou_7', 'loc_ic_t2m_mou_8', 'loc_ic_t2f_mou_6', 'loc_ic_t2f_mou_7', 'loc_ic_t2f_mou_8', 'loc_ic_mou_6', 'loc_ic_mou_7', 'loc_ic_mou_8', 'std_ic_t2t_mou_6', 'std_ic_t2t_mou_7', 'std_ic_t2t_mou_8', 'std_ic_t2m_mou_6', 'std_ic_t2m_mou_7', 'std_ic_t2m_mou_8', 'std_ic_t2f_mou_6', 'std_ic_t2f_mou_7', 'std_ic_t2f_mou_8', 'std_ic_t2o_mou_6', 'std_ic_t2o_mou_7', 'std_ic_t2o_mou_8', 'std_ic_mou_6', 'std_ic_mou_7', 'std_ic_mou_8', 'total_ic_mou_6', 'total_ic_mou_7', 'total_ic_mou_8', 'spl_ic_mou_6', 'spl_ic_mou_7', 'spl_ic_mou_8', 'spl_ic_mou_9', 'isd_ic_mou_6', 'isd_ic_mou_7', 'isd_ic_mou_8', 'ic_others_6', 'ic_others_7', 'ic_others_8', 'total_rech_num_6', 'total_rech_num_7', 'total_rech_num_8', 'total_rech_amt_6', 'total_rech_amt_7', 'total_rech_amt_8', 'max_rech_amt_6', 'max_rech_amt_7', 'max_rech_amt_8', 'last_day_rch_amt_6', 'last_day_rch_amt_7', 'last_day_rch_amt_8', 'total_rech_data_6', 'total_rech_data_7', 'total_rech_data_8', 'max_rech_data_6', 'max_rech_data_7', 'max_rech_data_8', 'count_rech_2g_6', 'count_rech_2g_7', 'count_rech_2g_8', 'count_rech_3g_6', 'count_rech_3g_7', 'count_rech_3g_8', 'av_rech_amt_data_6', 'av_rech_amt_data_7', 'av_rech_amt_data_8', 'vol_2g_mb_6', 'vol_2g_mb_7', 'vol_2g_mb_8', 'vol_3g_mb_6', 'vol_3g_mb_7', 'vol_3g_mb_8', 'arpu_3g_6', 'arpu_3g_7', 'arpu_3g_8', 'arpu_2g_6', 'arpu_2g_7', 'arpu_2g_8', 'monthly_2g_6', 'monthly_2g_7', 'monthly_2g_8', 'sachet_2g_6', 'sachet_2g_7', 'sachet_2g_8', 'monthly_3g_6', 'monthly_3g_7', 'monthly_3g_8', 'sachet_3g_6', 'sachet_3g_7', 'sachet_3g_8', 'aon', 'aug_vbc_3g', 'jul_vbc_3g', 'jun_vbc_3g', 'sep_vbc_3g']]=scaler.fit_transform(X_train[['loc_og_t2o_mou', 'std_og_t2o_mou', 'loc_ic_t2o_mou', 'arpu_6', 'arpu_7', 'arpu_8', 'onnet_mou_6', 'onnet_mou_7', 'onnet_mou_8', 'offnet_mou_6', 'offnet_mou_7', 'offnet_mou_8', 'roam_ic_mou_6', 'roam_ic_mou_7', 'roam_ic_mou_8', 'roam_og_mou_6', 'roam_og_mou_7', 'roam_og_mou_8', 'loc_og_t2t_mou_6', 'loc_og_t2t_mou_7', 'loc_og_t2t_mou_8', 'loc_og_t2m_mou_6', 'loc_og_t2m_mou_7', 'loc_og_t2m_mou_8', 'loc_og_t2f_mou_6', 'loc_og_t2f_mou_7', 'loc_og_t2f_mou_8', 'loc_og_t2c_mou_6', 'loc_og_t2c_mou_7', 'loc_og_t2c_mou_8', 'loc_og_mou_6', 'loc_og_mou_7', 'loc_og_mou_8', 'std_og_t2t_mou_6', 'std_og_t2t_mou_7', 'std_og_t2t_mou_8', 'std_og_t2m_mou_6', 'std_og_t2m_mou_7', 'std_og_t2m_mou_8', 'std_og_t2f_mou_6', 'std_og_t2f_mou_7', 'std_og_t2f_mou_8', 'std_og_t2c_mou_6', 'std_og_t2c_mou_7', 'std_og_t2c_mou_8', 'std_og_mou_6', 'std_og_mou_7', 'std_og_mou_8', 'isd_og_mou_6', 'isd_og_mou_7', 'isd_og_mou_8', 'spl_og_mou_6', 'spl_og_mou_7', 'spl_og_mou_8', 'og_others_6', 'og_others_7', 'og_others_8', 'total_og_mou_6', 'total_og_mou_7', 'total_og_mou_8', 'loc_ic_t2t_mou_6', 'loc_ic_t2t_mou_7', 'loc_ic_t2t_mou_8', 'loc_ic_t2m_mou_6', 'loc_ic_t2m_mou_7', 'loc_ic_t2m_mou_8', 'loc_ic_t2f_mou_6', 'loc_ic_t2f_mou_7', 'loc_ic_t2f_mou_8', 'loc_ic_mou_6', 'loc_ic_mou_7', 'loc_ic_mou_8', 'std_ic_t2t_mou_6', 'std_ic_t2t_mou_7', 'std_ic_t2t_mou_8', 'std_ic_t2m_mou_6', 'std_ic_t2m_mou_7', 'std_ic_t2m_mou_8', 'std_ic_t2f_mou_6', 'std_ic_t2f_mou_7', 'std_ic_t2f_mou_8', 'std_ic_t2o_mou_6', 'std_ic_t2o_mou_7', 'std_ic_t2o_mou_8', 'std_ic_mou_6', 'std_ic_mou_7', 'std_ic_mou_8', 'total_ic_mou_6', 'total_ic_mou_7', 'total_ic_mou_8', 'spl_ic_mou_6', 'spl_ic_mou_7', 'spl_ic_mou_8', 'spl_ic_mou_9', 'isd_ic_mou_6', 'isd_ic_mou_7', 'isd_ic_mou_8', 'ic_others_6', 'ic_others_7', 'ic_others_8', 'total_rech_num_6', 'total_rech_num_7', 'total_rech_num_8', 'total_rech_amt_6', 'total_rech_amt_7', 'total_rech_amt_8', 'max_rech_amt_6', 'max_rech_amt_7', 'max_rech_amt_8', 'last_day_rch_amt_6', 'last_day_rch_amt_7', 'last_day_rch_amt_8', 'total_rech_data_6', 'total_rech_data_7', 'total_rech_data_8', 'max_rech_data_6', 'max_rech_data_7', 'max_rech_data_8', 'count_rech_2g_6', 'count_rech_2g_7', 'count_rech_2g_8', 'count_rech_3g_6', 'count_rech_3g_7', 'count_rech_3g_8', 'av_rech_amt_data_6', 'av_rech_amt_data_7', 'av_rech_amt_data_8', 'vol_2g_mb_6', 'vol_2g_mb_7', 'vol_2g_mb_8', 'vol_3g_mb_6', 'vol_3g_mb_7', 'vol_3g_mb_8', 'arpu_3g_6', 'arpu_3g_7', 'arpu_3g_8', 'arpu_2g_6', 'arpu_2g_7', 'arpu_2g_8', 'monthly_2g_6', 'monthly_2g_7', 'monthly_2g_8', 'sachet_2g_6', 'sachet_2g_7', 'sachet_2g_8', 'monthly_3g_6', 'monthly_3g_7', 'monthly_3g_8', 'sachet_3g_6', 'sachet_3g_7', 'sachet_3g_8', 'aon', 'aug_vbc_3g', 'jul_vbc_3g', 'jun_vbc_3g', 'sep_vbc_3g']])\n",
    "\n",
    "X_train.head()"
   ]
  },
  {
   "cell_type": "markdown",
   "id": "0bc63e0e",
   "metadata": {
    "scrolled": true
   },
   "source": [
    "### PCA on data"
   ]
  },
  {
   "cell_type": "code",
   "execution_count": 356,
   "id": "98ea5d7b",
   "metadata": {},
   "outputs": [
    {
     "data": {
      "text/plain": [
       "(37962, 356)"
      ]
     },
     "execution_count": 356,
     "metadata": {},
     "output_type": "execute_result"
    }
   ],
   "source": [
    "X_train.shape"
   ]
  },
  {
   "cell_type": "code",
   "execution_count": 357,
   "id": "b7c40b2d",
   "metadata": {},
   "outputs": [],
   "source": [
    "from sklearn.decomposition import PCA"
   ]
  },
  {
   "cell_type": "code",
   "execution_count": 358,
   "id": "01bb6901",
   "metadata": {},
   "outputs": [],
   "source": [
    "pca = PCA(random_state=42)"
   ]
  },
  {
   "cell_type": "code",
   "execution_count": 359,
   "id": "1f1bce57",
   "metadata": {},
   "outputs": [
    {
     "data": {
      "text/plain": [
       "PCA(random_state=42)"
      ]
     },
     "execution_count": 359,
     "metadata": {},
     "output_type": "execute_result"
    }
   ],
   "source": [
    "pca.fit(X_train)"
   ]
  },
  {
   "cell_type": "markdown",
   "id": "c57bef66",
   "metadata": {},
   "source": [
    "### Components from the PCA"
   ]
  },
  {
   "cell_type": "code",
   "execution_count": 360,
   "id": "403a5b90",
   "metadata": {},
   "outputs": [
    {
     "data": {
      "text/plain": [
       "array([[ 1.84813298e-19, -5.55111512e-17,  3.33066907e-16, ...,\n",
       "         0.00000000e+00,  5.57517289e-03,  7.86515186e-03],\n",
       "       [ 2.41246037e-19, -1.94289029e-16, -2.77555756e-17, ...,\n",
       "         0.00000000e+00, -1.15112549e-03, -2.17412324e-03],\n",
       "       [ 8.90377740e-19, -0.00000000e+00, -5.55111512e-17, ...,\n",
       "        -0.00000000e+00,  8.75568347e-05,  3.83946223e-04],\n",
       "       ...,\n",
       "       [-0.00000000e+00,  8.83986368e-02, -1.76627591e-02, ...,\n",
       "        -0.00000000e+00,  5.06186889e-18, -8.57874969e-17],\n",
       "       [-0.00000000e+00,  1.00306218e-01,  1.85819584e-02, ...,\n",
       "        -0.00000000e+00,  1.12062459e-16, -8.55028938e-17],\n",
       "       [ 0.00000000e+00,  7.87279735e-02,  1.92135265e-02, ...,\n",
       "         0.00000000e+00, -3.74456325e-16,  4.26362504e-17]])"
      ]
     },
     "execution_count": 360,
     "metadata": {},
     "output_type": "execute_result"
    }
   ],
   "source": [
    "pca.components_"
   ]
  },
  {
   "cell_type": "code",
   "execution_count": 361,
   "id": "cfc5ac6d",
   "metadata": {
    "scrolled": true
   },
   "outputs": [
    {
     "data": {
      "text/plain": [
       "array([1.12918845e-01, 6.35653870e-02, 5.63489018e-02, 4.26708018e-02,\n",
       "       3.49359848e-02, 3.30740704e-02, 2.91681010e-02, 2.63639896e-02,\n",
       "       2.46570444e-02, 2.18973593e-02, 2.05285972e-02, 1.93794198e-02,\n",
       "       1.85522621e-02, 1.76268277e-02, 1.69381983e-02, 1.64109732e-02,\n",
       "       1.55628256e-02, 1.54833281e-02, 1.45775971e-02, 1.35053608e-02,\n",
       "       1.31276431e-02, 1.22081838e-02, 1.14774811e-02, 1.11825053e-02,\n",
       "       1.07315330e-02, 1.04262998e-02, 1.00628217e-02, 9.08044994e-03,\n",
       "       8.98086641e-03, 8.66138585e-03, 8.32618264e-03, 8.22418050e-03,\n",
       "       7.45390570e-03, 7.21510055e-03, 6.87844298e-03, 6.76831626e-03,\n",
       "       6.71830048e-03, 6.57416917e-03, 6.37971530e-03, 6.24300376e-03,\n",
       "       6.03260412e-03, 5.78709382e-03, 5.72128932e-03, 5.59752348e-03,\n",
       "       5.46969107e-03, 5.27143183e-03, 5.15913850e-03, 4.92727449e-03,\n",
       "       4.88327086e-03, 4.65088968e-03, 4.37403591e-03, 4.23424286e-03,\n",
       "       4.23128100e-03, 4.02303118e-03, 3.88844360e-03, 3.83432748e-03,\n",
       "       3.82011828e-03, 3.72220975e-03, 3.59060728e-03, 3.46254987e-03,\n",
       "       3.35220443e-03, 3.26999517e-03, 3.24983132e-03, 3.08054166e-03,\n",
       "       3.05578898e-03, 2.98256674e-03, 2.90807258e-03, 2.89965157e-03,\n",
       "       2.80162221e-03, 2.69358327e-03, 2.54160053e-03, 2.46757672e-03,\n",
       "       2.43656031e-03, 2.32911190e-03, 2.28482127e-03, 2.21794966e-03,\n",
       "       2.21114369e-03, 2.18382087e-03, 2.08635621e-03, 2.04670163e-03,\n",
       "       1.96024839e-03, 1.93895938e-03, 1.84143287e-03, 1.80233041e-03,\n",
       "       1.77816142e-03, 1.76043672e-03, 1.67965839e-03, 1.61144169e-03,\n",
       "       1.56870033e-03, 1.55150676e-03, 1.48391368e-03, 1.45165413e-03,\n",
       "       1.38220992e-03, 1.37816350e-03, 1.34873820e-03, 1.32031589e-03,\n",
       "       1.24245934e-03, 1.18973169e-03, 1.16445765e-03, 1.07353735e-03,\n",
       "       9.32693657e-04, 9.28282734e-04, 8.90767825e-04, 8.82474398e-04,\n",
       "       8.71643125e-04, 8.19021123e-04, 8.07756941e-04, 7.60539130e-04,\n",
       "       7.39715128e-04, 7.10397881e-04, 6.85216514e-04, 6.69346515e-04,\n",
       "       6.58694468e-04, 6.36573329e-04, 6.30864433e-04, 6.28352053e-04,\n",
       "       6.04977058e-04, 5.55285881e-04, 5.53431371e-04, 5.42830162e-04,\n",
       "       5.10884416e-04, 4.98994051e-04, 4.75206908e-04, 4.47229980e-04,\n",
       "       4.38655513e-04, 4.06889290e-04, 3.94935143e-04, 3.86505884e-04,\n",
       "       3.78028715e-04, 3.47104451e-04, 3.39260080e-04, 3.28846576e-04,\n",
       "       3.24486065e-04, 3.13989060e-04, 3.02536528e-04, 2.97099984e-04,\n",
       "       2.89895021e-04, 2.85865560e-04, 2.80455158e-04, 2.75716485e-04,\n",
       "       2.65352065e-04, 2.55347595e-04, 2.47131689e-04, 2.30734128e-04,\n",
       "       2.23810744e-04, 2.08772697e-04, 2.05836004e-04, 2.00226339e-04,\n",
       "       1.94868225e-04, 1.92700511e-04, 1.84763011e-04, 1.76614548e-04,\n",
       "       1.73866190e-04, 1.70928672e-04, 1.64516047e-04, 1.59290481e-04,\n",
       "       1.54532635e-04, 1.50706152e-04, 1.49450178e-04, 1.46230245e-04,\n",
       "       1.44858994e-04, 1.41122487e-04, 1.36960530e-04, 1.31147698e-04,\n",
       "       1.24884462e-04, 1.17121189e-04, 1.12957689e-04, 1.04189934e-04,\n",
       "       1.02702834e-04, 9.61624674e-05, 9.43851850e-05, 9.21827649e-05,\n",
       "       8.94774633e-05, 8.76000983e-05, 8.55810798e-05, 8.49379978e-05,\n",
       "       8.33442887e-05, 8.07789523e-05, 7.88475106e-05, 7.86486890e-05,\n",
       "       7.72005233e-05, 7.51901378e-05, 7.44941316e-05, 7.35118977e-05,\n",
       "       7.31652137e-05, 7.17453631e-05, 6.99531756e-05, 6.91709344e-05,\n",
       "       6.83235985e-05, 6.73374673e-05, 6.68342894e-05, 6.65991752e-05,\n",
       "       6.54264906e-05, 6.52555980e-05, 6.37648978e-05, 6.33410767e-05,\n",
       "       6.23960615e-05, 6.13524685e-05, 6.12533512e-05, 5.97020984e-05,\n",
       "       5.92774989e-05, 5.82517993e-05, 5.71367873e-05, 5.67079516e-05,\n",
       "       5.66641278e-05, 5.54621459e-05, 5.48783380e-05, 5.45987714e-05,\n",
       "       5.41077381e-05, 5.35501342e-05, 5.28845932e-05, 5.17309877e-05,\n",
       "       5.09392089e-05, 5.02760751e-05, 4.97084071e-05, 4.94448002e-05,\n",
       "       4.88335135e-05, 4.84132208e-05, 4.74710670e-05, 4.63880779e-05,\n",
       "       4.62216117e-05, 4.55014352e-05, 4.48062149e-05, 4.42183525e-05,\n",
       "       4.36172237e-05, 4.30474981e-05, 4.23714943e-05, 4.17757545e-05,\n",
       "       4.13825331e-05, 4.12789776e-05, 4.06246100e-05, 4.00871121e-05,\n",
       "       4.00055273e-05, 3.91124610e-05, 3.89719298e-05, 3.84793182e-05,\n",
       "       3.83995674e-05, 3.78841300e-05, 3.76368052e-05, 3.74441060e-05,\n",
       "       3.68612715e-05, 3.68126011e-05, 3.64500776e-05, 3.62325719e-05,\n",
       "       3.59230654e-05, 3.56961832e-05, 3.54154316e-05, 3.52512485e-05,\n",
       "       3.51456564e-05, 3.46609004e-05, 3.42093027e-05, 3.40838423e-05,\n",
       "       3.37255411e-05, 3.33851454e-05, 3.32614395e-05, 3.31413012e-05,\n",
       "       3.27785302e-05, 3.23300489e-05, 3.18395921e-05, 3.14490997e-05,\n",
       "       3.11086061e-05, 3.06347162e-05, 3.04558164e-05, 3.01452883e-05,\n",
       "       2.98769482e-05, 2.97675534e-05, 2.91684081e-05, 2.88893522e-05,\n",
       "       2.81444146e-05, 2.79002786e-05, 2.75646726e-05, 2.66954932e-05,\n",
       "       2.63040678e-05, 2.59975572e-05, 2.58734378e-05, 2.56477696e-05,\n",
       "       2.51243499e-05, 2.49855987e-05, 2.47233157e-05, 2.41715967e-05,\n",
       "       2.39006691e-05, 2.32702059e-05, 2.30320022e-05, 2.25214842e-05,\n",
       "       2.16467996e-05, 2.13226879e-05, 2.09876840e-05, 2.06364442e-05,\n",
       "       2.00387611e-05, 1.99732592e-05, 1.95823813e-05, 1.94346422e-05,\n",
       "       1.91931408e-05, 1.82480081e-05, 1.79509028e-05, 1.71017642e-05,\n",
       "       1.69402257e-05, 1.66787254e-05, 1.66166015e-05, 1.60859435e-05,\n",
       "       1.52217677e-05, 1.49550930e-05, 1.43643519e-05, 1.41260714e-05,\n",
       "       1.34901209e-05, 1.31756586e-05, 1.30601769e-05, 1.23494097e-05,\n",
       "       1.14492817e-05, 1.07580932e-05, 9.73759855e-06, 8.28356757e-06,\n",
       "       7.33215638e-06, 6.81077033e-06, 4.49302548e-06, 3.82404276e-06,\n",
       "       2.48868676e-06, 1.11021574e-06, 3.71228307e-07, 1.28724607e-11,\n",
       "       6.74603805e-12, 5.73409668e-12, 5.32988292e-12, 3.01565728e-12,\n",
       "       2.60508079e-12, 2.43869736e-12, 1.86249317e-12, 1.75666559e-12,\n",
       "       1.52393636e-12, 1.06508062e-12, 1.03628981e-12, 8.88090265e-13,\n",
       "       6.01277359e-13, 4.83812096e-13, 2.99054217e-13, 2.35058092e-13,\n",
       "       2.00043766e-13, 2.22752001e-32, 1.00068039e-32, 7.30514264e-33,\n",
       "       6.80168353e-33, 5.72990357e-33, 2.40767954e-33, 2.06845625e-33,\n",
       "       1.09525188e-33, 5.20400348e-34, 3.93514151e-34, 3.93514151e-34,\n",
       "       3.93514151e-34, 3.93514151e-34, 3.93514151e-34, 3.90851163e-34,\n",
       "       2.68779199e-34, 2.45610793e-34, 2.19828373e-34, 1.29220648e-35])"
      ]
     },
     "execution_count": 361,
     "metadata": {},
     "output_type": "execute_result"
    }
   ],
   "source": [
    "pca.explained_variance_ratio_"
   ]
  },
  {
   "cell_type": "markdown",
   "id": "78fe3b71",
   "metadata": {},
   "source": [
    "Making a scree plot for the explained variance"
   ]
  },
  {
   "cell_type": "code",
   "execution_count": 362,
   "id": "87230aeb",
   "metadata": {},
   "outputs": [],
   "source": [
    "var_cumu = np.cumsum(pca.explained_variance_ratio_)"
   ]
  },
  {
   "cell_type": "code",
   "execution_count": 363,
   "id": "e2a9def5",
   "metadata": {},
   "outputs": [
    {
     "data": {
      "image/png": "[encoded data removed]",
      "text/plain": [
       "<Figure size 864x576 with 1 Axes>"
      ]
     },
     "metadata": {
      "needs_background": "light"
     },
     "output_type": "display_data"
    }
   ],
   "source": [
    "fig = plt.figure(figsize=[12,8])\n",
    "plt.vlines(x=65, ymax=1, ymin=0, colors=\"r\", linestyles=\"--\")\n",
    "plt.hlines(y=0.90, xmax=350, xmin=0, colors=\"g\", linestyles=\"--\")\n",
    "plt.plot(var_cumu)\n",
    "plt.ylabel(\"Cumulative variance explained\")\n",
    "plt.show()"
   ]
  },
  {
   "cell_type": "markdown",
   "id": "3b43babc",
   "metadata": {},
   "source": [
    "hence top 65 components explain 90% variance"
   ]
  },
  {
   "cell_type": "code",
   "execution_count": 364,
   "id": "7133c44d",
   "metadata": {},
   "outputs": [],
   "source": [
    "from sklearn.decomposition import IncrementalPCA"
   ]
  },
  {
   "cell_type": "code",
   "execution_count": 365,
   "id": "8888a632",
   "metadata": {},
   "outputs": [],
   "source": [
    "pca_final = IncrementalPCA(n_components=65)"
   ]
  },
  {
   "cell_type": "code",
   "execution_count": 366,
   "id": "6d294060",
   "metadata": {},
   "outputs": [
    {
     "data": {
      "text/plain": [
       "IncrementalPCA(n_components=65)"
      ]
     },
     "execution_count": 366,
     "metadata": {},
     "output_type": "execute_result"
    }
   ],
   "source": [
    "pca_final"
   ]
  },
  {
   "cell_type": "code",
   "execution_count": 367,
   "id": "0f17febc",
   "metadata": {},
   "outputs": [],
   "source": [
    "df_train_pca = pca_final.fit_transform(X_train)"
   ]
  },
  {
   "cell_type": "code",
   "execution_count": null,
   "id": "1654d896",
   "metadata": {},
   "outputs": [],
   "source": []
  },
  {
   "cell_type": "code",
   "execution_count": 368,
   "id": "6d1ed570",
   "metadata": {},
   "outputs": [
    {
     "data": {
      "text/plain": [
       "(37962, 65)"
      ]
     },
     "execution_count": 368,
     "metadata": {},
     "output_type": "execute_result"
    }
   ],
   "source": [
    "df_train_pca.shape"
   ]
  },
  {
   "cell_type": "code",
   "execution_count": 369,
   "id": "06c608d8",
   "metadata": {},
   "outputs": [],
   "source": [
    "corrmat = np.corrcoef(df_train_pca.transpose())"
   ]
  },
  {
   "cell_type": "code",
   "execution_count": 370,
   "id": "10d2f77c",
   "metadata": {},
   "outputs": [
    {
     "data": {
      "text/plain": [
       "(65, 65)"
      ]
     },
     "execution_count": 370,
     "metadata": {},
     "output_type": "execute_result"
    }
   ],
   "source": [
    "corrmat.shape"
   ]
  },
  {
   "cell_type": "code",
   "execution_count": 371,
   "id": "f627629d",
   "metadata": {},
   "outputs": [
    {
     "data": {
      "text/plain": [
       "array([[ 2.52223676, -1.85298072,  6.06368942, ..., -0.08948177,\n",
       "        -0.24383905, -0.17761066],\n",
       "       [ 2.87605781, -3.2050166 ,  2.63221518, ...,  0.82928747,\n",
       "        -1.00205768, -0.7014556 ],\n",
       "       [-2.0488941 , -1.47885702,  0.36481987, ..., -0.24675828,\n",
       "         0.73695272,  0.42094878],\n",
       "       ...,\n",
       "       [ 1.17345574,  3.32613524, -0.32616052, ..., -0.03159317,\n",
       "         1.04222108,  0.20566989],\n",
       "       [-2.72863385, -0.58812661, -0.84680301, ..., -0.25021297,\n",
       "        -0.06817848,  0.36310682],\n",
       "       [-2.02275961, -0.83088611,  2.60364069, ...,  0.32784649,\n",
       "        -1.73646428,  2.53197343]])"
      ]
     },
     "execution_count": 371,
     "metadata": {},
     "output_type": "execute_result"
    }
   ],
   "source": [
    "df_train_pca"
   ]
  },
  {
   "cell_type": "markdown",
   "id": "b987cce1",
   "metadata": {},
   "source": [
    "### Applying 1) Re-sampling 2) Feature Scaling and 3) PCA on test data"
   ]
  },
  {
   "cell_type": "code",
   "execution_count": 372,
   "id": "049fc1f3",
   "metadata": {},
   "outputs": [
    {
     "data": {
      "text/plain": [
       "(9000, 357)"
      ]
     },
     "execution_count": 372,
     "metadata": {},
     "output_type": "execute_result"
    }
   ],
   "source": [
    "#concatenate our test data back together\n",
    "X_test_comb = pd.concat([X_test, y_test], axis=1)\n",
    "X_test_comb.shape"
   ]
  },
  {
   "cell_type": "code",
   "execution_count": 373,
   "id": "40161757",
   "metadata": {},
   "outputs": [
    {
     "data": {
      "text/plain": [
       "(865, 357)"
      ]
     },
     "execution_count": 373,
     "metadata": {},
     "output_type": "execute_result"
    }
   ],
   "source": [
    "# separate minority and majority classes\n",
    "not_churn = X_test_comb[X_test_comb.churn_flag==0]\n",
    "churn = X_test_comb[X_test_comb.churn_flag==1]\n",
    "churn.shape"
   ]
  },
  {
   "cell_type": "code",
   "execution_count": 374,
   "id": "0ab58a2a",
   "metadata": {},
   "outputs": [
    {
     "data": {
      "text/plain": [
       "(8135, 357)"
      ]
     },
     "execution_count": 374,
     "metadata": {},
     "output_type": "execute_result"
    }
   ],
   "source": [
    "not_churn.shape"
   ]
  },
  {
   "cell_type": "code",
   "execution_count": 375,
   "id": "2d9cea4f",
   "metadata": {},
   "outputs": [
    {
     "data": {
      "text/plain": [
       "(8135, 357)"
      ]
     },
     "execution_count": 375,
     "metadata": {},
     "output_type": "execute_result"
    }
   ],
   "source": [
    "from sklearn.utils import resample\n",
    "#upsample minority\n",
    "churn_upsampled = resample(churn,\n",
    "                          replace=True, # sample with replacement\n",
    "                          n_samples=len(not_churn), # match number in majority class\n",
    "                          random_state=27) # reproducible results\n",
    "churn_upsampled.shape"
   ]
  },
  {
   "cell_type": "code",
   "execution_count": 376,
   "id": "c4137647",
   "metadata": {},
   "outputs": [
    {
     "data": {
      "text/plain": [
       "(16270, 357)"
      ]
     },
     "execution_count": 376,
     "metadata": {},
     "output_type": "execute_result"
    }
   ],
   "source": [
    "#combine majority and upsampled minority\n",
    "upsampled = pd.concat([not_churn, churn_upsampled])\n",
    "upsampled.shape"
   ]
  },
  {
   "cell_type": "code",
   "execution_count": 377,
   "id": "e8473f74",
   "metadata": {},
   "outputs": [
    {
     "data": {
      "text/plain": [
       "0    8135\n",
       "1    8135\n",
       "Name: churn_flag, dtype: int64"
      ]
     },
     "execution_count": 377,
     "metadata": {},
     "output_type": "execute_result"
    }
   ],
   "source": [
    "upsampled.churn_flag.value_counts()"
   ]
  },
  {
   "cell_type": "code",
   "execution_count": 378,
   "id": "960e4cd8",
   "metadata": {},
   "outputs": [],
   "source": [
    "y_test = upsampled.churn_flag\n",
    "X_test = upsampled.drop('churn_flag', axis=1)"
   ]
  },
  {
   "cell_type": "code",
   "execution_count": 379,
   "id": "250a826d",
   "metadata": {},
   "outputs": [
    {
     "data": {
      "text/plain": [
       "(16270, 356)"
      ]
     },
     "execution_count": 379,
     "metadata": {},
     "output_type": "execute_result"
    }
   ],
   "source": [
    "X_test.shape"
   ]
  },
  {
   "cell_type": "code",
   "execution_count": 380,
   "id": "a6bf92b7",
   "metadata": {},
   "outputs": [
    {
     "data": {
      "text/plain": [
       "(16270,)"
      ]
     },
     "execution_count": 380,
     "metadata": {},
     "output_type": "execute_result"
    }
   ],
   "source": [
    "y_test.shape"
   ]
  },
  {
   "cell_type": "markdown",
   "id": "8f98f822",
   "metadata": {},
   "source": [
    "#### feature Scaling"
   ]
  },
  {
   "cell_type": "code",
   "execution_count": 381,
   "id": "383dfb47",
   "metadata": {},
   "outputs": [],
   "source": [
    "X_test[['loc_og_t2o_mou', 'std_og_t2o_mou', 'loc_ic_t2o_mou', 'arpu_6', 'arpu_7', 'arpu_8', 'onnet_mou_6', 'onnet_mou_7', 'onnet_mou_8', 'offnet_mou_6', 'offnet_mou_7', 'offnet_mou_8', 'roam_ic_mou_6', 'roam_ic_mou_7', 'roam_ic_mou_8', 'roam_og_mou_6', 'roam_og_mou_7', 'roam_og_mou_8', 'loc_og_t2t_mou_6', 'loc_og_t2t_mou_7', 'loc_og_t2t_mou_8', 'loc_og_t2m_mou_6', 'loc_og_t2m_mou_7', 'loc_og_t2m_mou_8', 'loc_og_t2f_mou_6', 'loc_og_t2f_mou_7', 'loc_og_t2f_mou_8', 'loc_og_t2c_mou_6', 'loc_og_t2c_mou_7', 'loc_og_t2c_mou_8', 'loc_og_mou_6', 'loc_og_mou_7', 'loc_og_mou_8', 'std_og_t2t_mou_6', 'std_og_t2t_mou_7', 'std_og_t2t_mou_8', 'std_og_t2m_mou_6', 'std_og_t2m_mou_7', 'std_og_t2m_mou_8', 'std_og_t2f_mou_6', 'std_og_t2f_mou_7', 'std_og_t2f_mou_8', 'std_og_t2c_mou_6', 'std_og_t2c_mou_7', 'std_og_t2c_mou_8', 'std_og_mou_6', 'std_og_mou_7', 'std_og_mou_8', 'isd_og_mou_6', 'isd_og_mou_7', 'isd_og_mou_8', 'spl_og_mou_6', 'spl_og_mou_7', 'spl_og_mou_8', 'og_others_6', 'og_others_7', 'og_others_8', 'total_og_mou_6', 'total_og_mou_7', 'total_og_mou_8', 'loc_ic_t2t_mou_6', 'loc_ic_t2t_mou_7', 'loc_ic_t2t_mou_8', 'loc_ic_t2m_mou_6', 'loc_ic_t2m_mou_7', 'loc_ic_t2m_mou_8', 'loc_ic_t2f_mou_6', 'loc_ic_t2f_mou_7', 'loc_ic_t2f_mou_8', 'loc_ic_mou_6', 'loc_ic_mou_7', 'loc_ic_mou_8', 'std_ic_t2t_mou_6', 'std_ic_t2t_mou_7', 'std_ic_t2t_mou_8', 'std_ic_t2m_mou_6', 'std_ic_t2m_mou_7', 'std_ic_t2m_mou_8', 'std_ic_t2f_mou_6', 'std_ic_t2f_mou_7', 'std_ic_t2f_mou_8', 'std_ic_t2o_mou_6', 'std_ic_t2o_mou_7', 'std_ic_t2o_mou_8', 'std_ic_mou_6', 'std_ic_mou_7', 'std_ic_mou_8', 'total_ic_mou_6', 'total_ic_mou_7', 'total_ic_mou_8', 'spl_ic_mou_6', 'spl_ic_mou_7', 'spl_ic_mou_8', 'spl_ic_mou_9', 'isd_ic_mou_6', 'isd_ic_mou_7', 'isd_ic_mou_8', 'ic_others_6', 'ic_others_7', 'ic_others_8', 'total_rech_num_6', 'total_rech_num_7', 'total_rech_num_8', 'total_rech_amt_6', 'total_rech_amt_7', 'total_rech_amt_8', 'max_rech_amt_6', 'max_rech_amt_7', 'max_rech_amt_8', 'last_day_rch_amt_6', 'last_day_rch_amt_7', 'last_day_rch_amt_8', 'total_rech_data_6', 'total_rech_data_7', 'total_rech_data_8', 'max_rech_data_6', 'max_rech_data_7', 'max_rech_data_8', 'count_rech_2g_6', 'count_rech_2g_7', 'count_rech_2g_8', 'count_rech_3g_6', 'count_rech_3g_7', 'count_rech_3g_8', 'av_rech_amt_data_6', 'av_rech_amt_data_7', 'av_rech_amt_data_8', 'vol_2g_mb_6', 'vol_2g_mb_7', 'vol_2g_mb_8', 'vol_3g_mb_6', 'vol_3g_mb_7', 'vol_3g_mb_8', 'arpu_3g_6', 'arpu_3g_7', 'arpu_3g_8', 'arpu_2g_6', 'arpu_2g_7', 'arpu_2g_8', 'monthly_2g_6', 'monthly_2g_7', 'monthly_2g_8', 'sachet_2g_6', 'sachet_2g_7', 'sachet_2g_8', 'monthly_3g_6', 'monthly_3g_7', 'monthly_3g_8', 'sachet_3g_6', 'sachet_3g_7', 'sachet_3g_8', 'aon', 'aug_vbc_3g', 'jul_vbc_3g', 'jun_vbc_3g', 'sep_vbc_3g']]=scaler.transform(X_test[['loc_og_t2o_mou', 'std_og_t2o_mou', 'loc_ic_t2o_mou', 'arpu_6', 'arpu_7', 'arpu_8', 'onnet_mou_6', 'onnet_mou_7', 'onnet_mou_8', 'offnet_mou_6', 'offnet_mou_7', 'offnet_mou_8', 'roam_ic_mou_6', 'roam_ic_mou_7', 'roam_ic_mou_8', 'roam_og_mou_6', 'roam_og_mou_7', 'roam_og_mou_8', 'loc_og_t2t_mou_6', 'loc_og_t2t_mou_7', 'loc_og_t2t_mou_8', 'loc_og_t2m_mou_6', 'loc_og_t2m_mou_7', 'loc_og_t2m_mou_8', 'loc_og_t2f_mou_6', 'loc_og_t2f_mou_7', 'loc_og_t2f_mou_8', 'loc_og_t2c_mou_6', 'loc_og_t2c_mou_7', 'loc_og_t2c_mou_8', 'loc_og_mou_6', 'loc_og_mou_7', 'loc_og_mou_8', 'std_og_t2t_mou_6', 'std_og_t2t_mou_7', 'std_og_t2t_mou_8', 'std_og_t2m_mou_6', 'std_og_t2m_mou_7', 'std_og_t2m_mou_8', 'std_og_t2f_mou_6', 'std_og_t2f_mou_7', 'std_og_t2f_mou_8', 'std_og_t2c_mou_6', 'std_og_t2c_mou_7', 'std_og_t2c_mou_8', 'std_og_mou_6', 'std_og_mou_7', 'std_og_mou_8', 'isd_og_mou_6', 'isd_og_mou_7', 'isd_og_mou_8', 'spl_og_mou_6', 'spl_og_mou_7', 'spl_og_mou_8', 'og_others_6', 'og_others_7', 'og_others_8', 'total_og_mou_6', 'total_og_mou_7', 'total_og_mou_8', 'loc_ic_t2t_mou_6', 'loc_ic_t2t_mou_7', 'loc_ic_t2t_mou_8', 'loc_ic_t2m_mou_6', 'loc_ic_t2m_mou_7', 'loc_ic_t2m_mou_8', 'loc_ic_t2f_mou_6', 'loc_ic_t2f_mou_7', 'loc_ic_t2f_mou_8', 'loc_ic_mou_6', 'loc_ic_mou_7', 'loc_ic_mou_8', 'std_ic_t2t_mou_6', 'std_ic_t2t_mou_7', 'std_ic_t2t_mou_8', 'std_ic_t2m_mou_6', 'std_ic_t2m_mou_7', 'std_ic_t2m_mou_8', 'std_ic_t2f_mou_6', 'std_ic_t2f_mou_7', 'std_ic_t2f_mou_8', 'std_ic_t2o_mou_6', 'std_ic_t2o_mou_7', 'std_ic_t2o_mou_8', 'std_ic_mou_6', 'std_ic_mou_7', 'std_ic_mou_8', 'total_ic_mou_6', 'total_ic_mou_7', 'total_ic_mou_8', 'spl_ic_mou_6', 'spl_ic_mou_7', 'spl_ic_mou_8', 'spl_ic_mou_9', 'isd_ic_mou_6', 'isd_ic_mou_7', 'isd_ic_mou_8', 'ic_others_6', 'ic_others_7', 'ic_others_8', 'total_rech_num_6', 'total_rech_num_7', 'total_rech_num_8', 'total_rech_amt_6', 'total_rech_amt_7', 'total_rech_amt_8', 'max_rech_amt_6', 'max_rech_amt_7', 'max_rech_amt_8', 'last_day_rch_amt_6', 'last_day_rch_amt_7', 'last_day_rch_amt_8', 'total_rech_data_6', 'total_rech_data_7', 'total_rech_data_8', 'max_rech_data_6', 'max_rech_data_7', 'max_rech_data_8', 'count_rech_2g_6', 'count_rech_2g_7', 'count_rech_2g_8', 'count_rech_3g_6', 'count_rech_3g_7', 'count_rech_3g_8', 'av_rech_amt_data_6', 'av_rech_amt_data_7', 'av_rech_amt_data_8', 'vol_2g_mb_6', 'vol_2g_mb_7', 'vol_2g_mb_8', 'vol_3g_mb_6', 'vol_3g_mb_7', 'vol_3g_mb_8', 'arpu_3g_6', 'arpu_3g_7', 'arpu_3g_8', 'arpu_2g_6', 'arpu_2g_7', 'arpu_2g_8', 'monthly_2g_6', 'monthly_2g_7', 'monthly_2g_8', 'sachet_2g_6', 'sachet_2g_7', 'sachet_2g_8', 'monthly_3g_6', 'monthly_3g_7', 'monthly_3g_8', 'sachet_3g_6', 'sachet_3g_7', 'sachet_3g_8', 'aon', 'aug_vbc_3g', 'jul_vbc_3g', 'jun_vbc_3g', 'sep_vbc_3g']])\n"
   ]
  },
  {
   "cell_type": "markdown",
   "id": "c28b598b",
   "metadata": {},
   "source": [
    "Apply transformation on test set"
   ]
  },
  {
   "cell_type": "code",
   "execution_count": 382,
   "id": "8138a051",
   "metadata": {},
   "outputs": [
    {
     "data": {
      "text/plain": [
       "(16270, 65)"
      ]
     },
     "execution_count": 382,
     "metadata": {},
     "output_type": "execute_result"
    }
   ],
   "source": [
    "df_test_pca = pca_final.transform(X_test)\n",
    "df_test_pca.shape"
   ]
  },
  {
   "cell_type": "markdown",
   "id": "a117bad8",
   "metadata": {},
   "source": [
    "## Step 4: Data Modelling on Principal component:\n",
    "1. Applying logistic Regression \n",
    "2. Applying Random Forest - with Hyperparamterization\n",
    "3. Applying XGBoost\n",
    "\n",
    "-  Summarising results by capturing accuracy, AUC Scores and Recall scores for all and selecting the most appropriate model of them all"
   ]
  },
  {
   "cell_type": "markdown",
   "id": "e3593914",
   "metadata": {},
   "source": [
    "### 1. Applying Logistic Regression"
   ]
  },
  {
   "cell_type": "code",
   "execution_count": 124,
   "id": "5af31dd5",
   "metadata": {},
   "outputs": [],
   "source": [
    "from sklearn.linear_model import LogisticRegression"
   ]
  },
  {
   "cell_type": "code",
   "execution_count": 125,
   "id": "2f47bc73",
   "metadata": {},
   "outputs": [],
   "source": [
    "learner_pca = LogisticRegression()"
   ]
  },
  {
   "cell_type": "code",
   "execution_count": 126,
   "id": "92dc2029",
   "metadata": {},
   "outputs": [],
   "source": [
    "model_pca = learner_pca.fit(df_train_pca, y_train)"
   ]
  },
  {
   "cell_type": "code",
   "execution_count": 127,
   "id": "acb81a6a",
   "metadata": {},
   "outputs": [],
   "source": [
    "y_train_pred=learner_pca.predict(df_train_pca)"
   ]
  },
  {
   "cell_type": "code",
   "execution_count": 128,
   "id": "3c8280d4",
   "metadata": {},
   "outputs": [],
   "source": [
    "from sklearn.metrics import accuracy_score, confusion_matrix, classification_report"
   ]
  },
  {
   "cell_type": "code",
   "execution_count": 129,
   "id": "afa08d4d",
   "metadata": {},
   "outputs": [
    {
     "data": {
      "text/plain": [
       "0.8512723249565355"
      ]
     },
     "execution_count": 129,
     "metadata": {},
     "output_type": "execute_result"
    }
   ],
   "source": [
    "log_accuracy_tr=accuracy_score(y_train,y_train_pred)\n",
    "log_accuracy_tr"
   ]
  },
  {
   "cell_type": "code",
   "execution_count": 130,
   "id": "b397b617",
   "metadata": {},
   "outputs": [
    {
     "data": {
      "text/plain": [
       "array([[15346,  3635],\n",
       "       [ 2011, 16970]], dtype=int64)"
      ]
     },
     "execution_count": 130,
     "metadata": {},
     "output_type": "execute_result"
    }
   ],
   "source": [
    "confusion=confusion_matrix(y_train,y_train_pred)\n",
    "confusion"
   ]
  },
  {
   "cell_type": "code",
   "execution_count": 131,
   "id": "3721ddfb",
   "metadata": {},
   "outputs": [
    {
     "name": "stdout",
     "output_type": "stream",
     "text": [
      "              precision    recall  f1-score   support\n",
      "\n",
      "           0       0.88      0.81      0.84     18981\n",
      "           1       0.82      0.89      0.86     18981\n",
      "\n",
      "    accuracy                           0.85     37962\n",
      "   macro avg       0.85      0.85      0.85     37962\n",
      "weighted avg       0.85      0.85      0.85     37962\n",
      "\n"
     ]
    }
   ],
   "source": [
    "print(classification_report(y_train,y_train_pred))"
   ]
  },
  {
   "cell_type": "code",
   "execution_count": 132,
   "id": "d7a2f390",
   "metadata": {},
   "outputs": [],
   "source": [
    "#churn-yes -predicted =16962\n",
    "#churn- yes-actual=16962+2019\n",
    "#Nchurn-yes-predicted=15365\n",
    "#Nchurn-yes-total=15365+3616"
   ]
  },
  {
   "cell_type": "code",
   "execution_count": 133,
   "id": "6a54e30f",
   "metadata": {},
   "outputs": [],
   "source": [
    "TP = confusion[1,1] # true positive \n",
    "TN = confusion[0,0] # true negatives\n",
    "FP = confusion[0,1] # false positives\n",
    "FN = confusion[1,0] # false negatives"
   ]
  },
  {
   "cell_type": "code",
   "execution_count": 134,
   "id": "ebfb005d",
   "metadata": {},
   "outputs": [
    {
     "data": {
      "text/plain": [
       "0.8940519466835256"
      ]
     },
     "execution_count": 134,
     "metadata": {},
     "output_type": "execute_result"
    }
   ],
   "source": [
    "# Let's see the sensitivity of our logistic regression model\n",
    "TP / float(TP+FN)"
   ]
  },
  {
   "cell_type": "code",
   "execution_count": 135,
   "id": "c4a9d519",
   "metadata": {},
   "outputs": [
    {
     "data": {
      "text/plain": [
       "0.8084927032295454"
      ]
     },
     "execution_count": 135,
     "metadata": {},
     "output_type": "execute_result"
    }
   ],
   "source": [
    "# Let us calculate specificity\n",
    "TN / float(TN+FP)"
   ]
  },
  {
   "cell_type": "code",
   "execution_count": 136,
   "id": "311d0c68",
   "metadata": {},
   "outputs": [
    {
     "name": "stdout",
     "output_type": "stream",
     "text": [
      "0.19150729677045467\n"
     ]
    }
   ],
   "source": [
    "# Calculate false postive rate - predicting conversion when customer has not have converted\n",
    "print(FP/ float(TN+FP))"
   ]
  },
  {
   "cell_type": "code",
   "execution_count": 137,
   "id": "da147438",
   "metadata": {},
   "outputs": [
    {
     "name": "stdout",
     "output_type": "stream",
     "text": [
      "0.8235865081290948\n"
     ]
    }
   ],
   "source": [
    "# positive predictive value \n",
    "print (TP / float(TP+FP))"
   ]
  },
  {
   "cell_type": "code",
   "execution_count": 138,
   "id": "47492226",
   "metadata": {},
   "outputs": [
    {
     "name": "stdout",
     "output_type": "stream",
     "text": [
      "0.8841389641067005\n"
     ]
    }
   ],
   "source": [
    "# Negative predictive value\n",
    "print (TN / float(TN+ FN))"
   ]
  },
  {
   "cell_type": "code",
   "execution_count": null,
   "id": "0fd75747",
   "metadata": {},
   "outputs": [],
   "source": []
  },
  {
   "cell_type": "code",
   "execution_count": 140,
   "id": "52947bcb",
   "metadata": {},
   "outputs": [],
   "source": [
    "#performance on unseen data\n",
    "y_test_pred=learner_pca.predict(df_test_pca)"
   ]
  },
  {
   "cell_type": "code",
   "execution_count": 142,
   "id": "80550501",
   "metadata": {},
   "outputs": [
    {
     "data": {
      "text/plain": [
       "0.8245851259987708"
      ]
     },
     "execution_count": 142,
     "metadata": {},
     "output_type": "execute_result"
    }
   ],
   "source": [
    "log_accuracy_tst=accuracy_score(y_test,y_test_pred)\n",
    "log_accuracy_tst"
   ]
  },
  {
   "cell_type": "code",
   "execution_count": 143,
   "id": "db6bdf1c",
   "metadata": {},
   "outputs": [
    {
     "data": {
      "text/plain": [
       "array([[6544, 1591],\n",
       "       [1263, 6872]], dtype=int64)"
      ]
     },
     "execution_count": 143,
     "metadata": {},
     "output_type": "execute_result"
    }
   ],
   "source": [
    "confusion_test_log=confusion_matrix(y_test,y_test_pred)\n",
    "confusion_test_log"
   ]
  },
  {
   "cell_type": "code",
   "execution_count": 204,
   "id": "f70f8fc6",
   "metadata": {},
   "outputs": [
    {
     "data": {
      "text/plain": [
       "0.8447449293177628"
      ]
     },
     "execution_count": 204,
     "metadata": {},
     "output_type": "execute_result"
    }
   ],
   "source": [
    "recall_log=confusion_test_log[1,1]/(confusion_test_log[1,0]+confusion_test_log[1,1])\n",
    "recall_log"
   ]
  },
  {
   "cell_type": "code",
   "execution_count": 205,
   "id": "a022db21",
   "metadata": {},
   "outputs": [
    {
     "data": {
      "text/plain": [
       "0.8044253226797787"
      ]
     },
     "execution_count": 205,
     "metadata": {},
     "output_type": "execute_result"
    }
   ],
   "source": [
    "spec_log=confusion_test_log[0,0]/(confusion_test_log[0,0]+confusion_test_log[0,1])\n",
    "spec_log"
   ]
  },
  {
   "cell_type": "code",
   "execution_count": 145,
   "id": "02fea93f",
   "metadata": {},
   "outputs": [
    {
     "name": "stdout",
     "output_type": "stream",
     "text": [
      "              precision    recall  f1-score   support\n",
      "\n",
      "           0       0.84      0.80      0.82      8135\n",
      "           1       0.81      0.84      0.83      8135\n",
      "\n",
      "    accuracy                           0.82     16270\n",
      "   macro avg       0.83      0.82      0.82     16270\n",
      "weighted avg       0.83      0.82      0.82     16270\n",
      "\n"
     ]
    }
   ],
   "source": [
    "print(classification_report(y_test,y_test_pred))"
   ]
  },
  {
   "cell_type": "code",
   "execution_count": 146,
   "id": "91b6b5d2",
   "metadata": {},
   "outputs": [],
   "source": [
    "#performance on unseen data\n",
    "y_test_pred_2=model_pca.predict_proba(df_test_pca)[:,1]"
   ]
  },
  {
   "cell_type": "code",
   "execution_count": 147,
   "id": "faaf91de",
   "metadata": {},
   "outputs": [],
   "source": [
    "y_train_pred_2=model_pca.predict_proba(df_train_pca)[:,1]"
   ]
  },
  {
   "cell_type": "code",
   "execution_count": 148,
   "id": "dfe9a041",
   "metadata": {},
   "outputs": [
    {
     "data": {
      "text/plain": [
       "'0.91'"
      ]
     },
     "execution_count": 148,
     "metadata": {},
     "output_type": "execute_result"
    }
   ],
   "source": [
    "#getting AUC Score\n",
    "log_AUC_Test=\"{:2.2}\".format(metrics.roc_auc_score(y_test, y_test_pred_2))\n",
    "log_AUC_Test"
   ]
  },
  {
   "cell_type": "code",
   "execution_count": 149,
   "id": "27c2376b",
   "metadata": {},
   "outputs": [
    {
     "data": {
      "text/plain": [
       "'0.92'"
      ]
     },
     "execution_count": 149,
     "metadata": {},
     "output_type": "execute_result"
    }
   ],
   "source": [
    "log_AUC_Train=\"{:2.2}\".format(metrics.roc_auc_score(y_train, y_train_pred_2))\n",
    "log_AUC_Train"
   ]
  },
  {
   "cell_type": "markdown",
   "id": "8bf84233",
   "metadata": {},
   "source": [
    "### 2. Applying Random Forest on Principal compnents"
   ]
  },
  {
   "cell_type": "code",
   "execution_count": 150,
   "id": "69cd6d5f",
   "metadata": {},
   "outputs": [],
   "source": [
    "from sklearn.ensemble import RandomForestClassifier"
   ]
  },
  {
   "cell_type": "code",
   "execution_count": 151,
   "id": "417cdb91",
   "metadata": {},
   "outputs": [],
   "source": [
    "rf_pca = RandomForestClassifier(random_state=42, n_estimators=50, oob_score=True)"
   ]
  },
  {
   "cell_type": "code",
   "execution_count": 152,
   "id": "c7fefab5",
   "metadata": {},
   "outputs": [
    {
     "data": {
      "text/plain": [
       "RandomForestClassifier(n_estimators=50, oob_score=True, random_state=42)"
      ]
     },
     "execution_count": 152,
     "metadata": {},
     "output_type": "execute_result"
    }
   ],
   "source": [
    "rf_pca.fit(df_train_pca, y_train)"
   ]
  },
  {
   "cell_type": "markdown",
   "id": "eae98f6a",
   "metadata": {},
   "source": [
    "Performance on the train set"
   ]
  },
  {
   "cell_type": "code",
   "execution_count": 153,
   "id": "8b562cb3",
   "metadata": {},
   "outputs": [],
   "source": [
    "y_train_pred_rf=rf_pca.predict(df_train_pca)"
   ]
  },
  {
   "cell_type": "code",
   "execution_count": 154,
   "id": "641a76a4",
   "metadata": {},
   "outputs": [
    {
     "data": {
      "text/plain": [
       "1.0"
      ]
     },
     "execution_count": 154,
     "metadata": {},
     "output_type": "execute_result"
    }
   ],
   "source": [
    "rf_accuracy_train=accuracy_score(y_train,y_train_pred_rf)\n",
    "rf_accuracy_train"
   ]
  },
  {
   "cell_type": "markdown",
   "id": "6a8402f1",
   "metadata": {},
   "source": [
    "##### seems like its overfitting the train data"
   ]
  },
  {
   "cell_type": "markdown",
   "id": "4fca5353",
   "metadata": {},
   "source": [
    "##### Performance on unseen data"
   ]
  },
  {
   "cell_type": "code",
   "execution_count": 155,
   "id": "0d055716",
   "metadata": {},
   "outputs": [],
   "source": [
    "y_test_pred_rf=rf_pca.predict(df_test_pca)"
   ]
  },
  {
   "cell_type": "code",
   "execution_count": 156,
   "id": "288075d8",
   "metadata": {},
   "outputs": [
    {
     "data": {
      "text/plain": [
       "0.6389059618930547"
      ]
     },
     "execution_count": 156,
     "metadata": {},
     "output_type": "execute_result"
    }
   ],
   "source": [
    "rf_accuracy_test=accuracy_score(y_test,y_test_pred_rf)\n",
    "rf_accuracy_test"
   ]
  },
  {
   "cell_type": "markdown",
   "id": "ae18ab95",
   "metadata": {},
   "source": [
    "##### hence training data accuracy has misled us as the model has overfitted"
   ]
  },
  {
   "cell_type": "markdown",
   "id": "e3557121",
   "metadata": {},
   "source": [
    "### Model evaluation:Cross validation"
   ]
  },
  {
   "cell_type": "code",
   "execution_count": 279,
   "id": "e2f3fe5c",
   "metadata": {},
   "outputs": [],
   "source": [
    "from sklearn.model_selection import cross_val_score"
   ]
  },
  {
   "cell_type": "code",
   "execution_count": 280,
   "id": "ce18a413",
   "metadata": {},
   "outputs": [
    {
     "data": {
      "text/plain": [
       "array([0.84709601, 0.84617411, 0.8495785 , 0.84839305, 0.85313488])"
      ]
     },
     "execution_count": 280,
     "metadata": {},
     "output_type": "execute_result"
    }
   ],
   "source": [
    "cross_val_score(learner_pca, df_train_pca, y_train, cv=5, n_jobs=-1)"
   ]
  },
  {
   "cell_type": "code",
   "execution_count": 281,
   "id": "de350bd4",
   "metadata": {},
   "outputs": [
    {
     "data": {
      "text/plain": [
       "array([0.98643487, 0.98827868, 0.98893572, 0.98893572, 0.98682824])"
      ]
     },
     "execution_count": 281,
     "metadata": {},
     "output_type": "execute_result"
    }
   ],
   "source": [
    "cross_val_score(rf_pca, df_train_pca, y_train, cv=5, n_jobs=-1)"
   ]
  },
  {
   "cell_type": "code",
   "execution_count": 282,
   "id": "292cce17",
   "metadata": {},
   "outputs": [
    {
     "data": {
      "text/plain": [
       "0.9904114640956746"
      ]
     },
     "execution_count": 282,
     "metadata": {},
     "output_type": "execute_result"
    }
   ],
   "source": [
    "rf_pca.oob_score_"
   ]
  },
  {
   "cell_type": "code",
   "execution_count": 157,
   "id": "9e78db93",
   "metadata": {},
   "outputs": [
    {
     "data": {
      "text/plain": [
       "array([1.        , 0.99947327, 1.        , 1.        , 0.99815595])"
      ]
     },
     "execution_count": 157,
     "metadata": {},
     "output_type": "execute_result"
    }
   ],
   "source": [
    "cross_val_score(rf_pca, df_train_pca, y_train, cv=5, n_jobs=-1, scoring=\"recall\")"
   ]
  },
  {
   "cell_type": "code",
   "execution_count": 158,
   "id": "ab1be3d6",
   "metadata": {},
   "outputs": [
    {
     "data": {
      "text/plain": [
       "0.9878826471667029"
      ]
     },
     "execution_count": 158,
     "metadata": {},
     "output_type": "execute_result"
    }
   ],
   "source": [
    "cross_val_score(rf_pca, df_train_pca, y_train, cv=5, n_jobs=-1).mean()"
   ]
  },
  {
   "cell_type": "code",
   "execution_count": 159,
   "id": "a6d2e47e",
   "metadata": {},
   "outputs": [
    {
     "data": {
      "text/plain": [
       "0.9904114640956746"
      ]
     },
     "execution_count": 159,
     "metadata": {},
     "output_type": "execute_result"
    }
   ],
   "source": [
    "rf_pca.oob_score_"
   ]
  },
  {
   "cell_type": "markdown",
   "id": "a3898f0f",
   "metadata": {},
   "source": [
    "oob score is pretty similiar to cross val score"
   ]
  },
  {
   "cell_type": "markdown",
   "id": "6751cba0",
   "metadata": {},
   "source": [
    "### Hyper-parameter Tuning using CV"
   ]
  },
  {
   "cell_type": "code",
   "execution_count": 160,
   "id": "e58b7efb",
   "metadata": {},
   "outputs": [],
   "source": [
    "from sklearn.ensemble import RandomForestClassifier\n",
    "from sklearn.model_selection import GridSearchCV"
   ]
  },
  {
   "cell_type": "code",
   "execution_count": 161,
   "id": "6da0d0ff",
   "metadata": {},
   "outputs": [],
   "source": [
    "rf_pca_cv = RandomForestClassifier(random_state=42, n_jobs=-1)"
   ]
  },
  {
   "cell_type": "code",
   "execution_count": 162,
   "id": "a0df11c0",
   "metadata": {},
   "outputs": [],
   "source": [
    "#hyper_params={'max_depth':[5,10,20,30,50],'min_samples_leaf':[20,50,100,200],'n_estimators':[10,25,50,80,100]}"
   ]
  },
  {
   "cell_type": "markdown",
   "id": "419182d6",
   "metadata": {},
   "source": [
    "#### we will directly move to Randomized SearchCV as it has a faster processing than GridSearchCV"
   ]
  },
  {
   "cell_type": "markdown",
   "id": "7217e73c",
   "metadata": {},
   "source": [
    "### Applying RandomizedCV for faster processing"
   ]
  },
  {
   "cell_type": "markdown",
   "id": "91da666f",
   "metadata": {},
   "source": [
    "### Randomized searchCV"
   ]
  },
  {
   "cell_type": "code",
   "execution_count": 165,
   "id": "88b631d0",
   "metadata": {},
   "outputs": [],
   "source": [
    "from sklearn.model_selection import RandomizedSearchCV"
   ]
  },
  {
   "cell_type": "code",
   "execution_count": 166,
   "id": "a4135e29",
   "metadata": {},
   "outputs": [],
   "source": [
    "hyper_params = {'max_depth': range(3, 50),\n",
    "                'max_features': range(3, 60),\n",
    "                'min_samples_leaf': range(20, 400, 50),\n",
    "                'n_estimators': range(10, 101, 10)}"
   ]
  },
  {
   "cell_type": "code",
   "execution_count": 167,
   "id": "89007829",
   "metadata": {},
   "outputs": [],
   "source": [
    "model_rcv = RandomizedSearchCV(estimator=rf_pca_cv, \n",
    "                              param_distributions=hyper_params,\n",
    "                              verbose=1,\n",
    "                              cv=5,\n",
    "                              return_train_score=True,\n",
    "                              n_jobs=-1,\n",
    "                              n_iter=50)\n"
   ]
  },
  {
   "cell_type": "code",
   "execution_count": 168,
   "id": "2033faf3",
   "metadata": {},
   "outputs": [
    {
     "name": "stdout",
     "output_type": "stream",
     "text": [
      "Fitting 5 folds for each of 50 candidates, totalling 250 fits\n"
     ]
    },
    {
     "data": {
      "text/plain": [
       "RandomizedSearchCV(cv=5,\n",
       "                   estimator=RandomForestClassifier(n_jobs=-1, random_state=42),\n",
       "                   n_iter=50, n_jobs=-1,\n",
       "                   param_distributions={'max_depth': range(3, 50),\n",
       "                                        'max_features': range(3, 60),\n",
       "                                        'min_samples_leaf': range(20, 400, 50),\n",
       "                                        'n_estimators': range(10, 101, 10)},\n",
       "                   return_train_score=True, verbose=1)"
      ]
     },
     "execution_count": 168,
     "metadata": {},
     "output_type": "execute_result"
    }
   ],
   "source": [
    "model_rcv.fit(df_train_pca, y_train)"
   ]
  },
  {
   "cell_type": "code",
   "execution_count": 169,
   "id": "0662d6d7",
   "metadata": {},
   "outputs": [
    {
     "data": {
      "text/plain": [
       "0.9490018120233585"
      ]
     },
     "execution_count": 169,
     "metadata": {},
     "output_type": "execute_result"
    }
   ],
   "source": [
    "model_rcv.best_score_"
   ]
  },
  {
   "cell_type": "code",
   "execution_count": 170,
   "id": "4d66444a",
   "metadata": {},
   "outputs": [
    {
     "data": {
      "text/plain": [
       "RandomForestClassifier(max_depth=30, max_features=45, min_samples_leaf=20,\n",
       "                       n_estimators=60, n_jobs=-1, random_state=42)"
      ]
     },
     "execution_count": 170,
     "metadata": {},
     "output_type": "execute_result"
    }
   ],
   "source": [
    "model_rcv.best_estimator_"
   ]
  },
  {
   "cell_type": "code",
   "execution_count": 171,
   "id": "3c5f228a",
   "metadata": {},
   "outputs": [
    {
     "data": {
      "text/plain": [
       "RandomForestClassifier(max_depth=30, max_features=45, min_samples_leaf=20,\n",
       "                       n_estimators=60, n_jobs=-1, random_state=42)"
      ]
     },
     "execution_count": 171,
     "metadata": {},
     "output_type": "execute_result"
    }
   ],
   "source": [
    "rf_best = model_rcv.best_estimator_\n",
    "rf_best"
   ]
  },
  {
   "cell_type": "code",
   "execution_count": 172,
   "id": "75e40c03",
   "metadata": {},
   "outputs": [],
   "source": [
    "y_test_pred = rf_best.predict(df_test_pca)"
   ]
  },
  {
   "cell_type": "code",
   "execution_count": 173,
   "id": "9723d9a7",
   "metadata": {},
   "outputs": [
    {
     "data": {
      "text/plain": [
       "0.7886908420405655"
      ]
     },
     "execution_count": 173,
     "metadata": {},
     "output_type": "execute_result"
    }
   ],
   "source": [
    "rf_accuracy_test=accuracy_score(y_test, y_test_pred)\n",
    "rf_accuracy_test"
   ]
  },
  {
   "cell_type": "code",
   "execution_count": 174,
   "id": "1bd6ccb4",
   "metadata": {},
   "outputs": [
    {
     "name": "stdout",
     "output_type": "stream",
     "text": [
      "AUC on train data by RF-RandoizedSearchCV = 0.9965390344384297\n"
     ]
    }
   ],
   "source": [
    "print('AUC on train data by RF-RandoizedSearchCV =', metrics.roc_auc_score(y_true=y_train,\n",
    "                                                              y_score=rf_best.predict_proba(df_train_pca)[:, 1]))\n",
    "\n",
    "RF_AUC_Train=metrics.roc_auc_score(y_true=y_train,y_score=rf_best.predict_proba(df_train_pca)[:, 1])"
   ]
  },
  {
   "cell_type": "code",
   "execution_count": 175,
   "id": "2041fe9b",
   "metadata": {},
   "outputs": [
    {
     "name": "stdout",
     "output_type": "stream",
     "text": [
      "AUC on test data by RF-RandoizedSearchCV = 0.8915314365110277\n"
     ]
    }
   ],
   "source": [
    "print('AUC on test data by RF-RandoizedSearchCV =', metrics.roc_auc_score(y_true=y_test,\n",
    "                                                              y_score=rf_best.predict_proba(df_test_pca)[:, 1]))\n",
    "\n",
    "RF_AUC_Test=metrics.roc_auc_score(y_true=y_test,y_score=rf_best.predict_proba(df_test_pca)[:, 1])"
   ]
  },
  {
   "cell_type": "code",
   "execution_count": 176,
   "id": "17a0d331",
   "metadata": {},
   "outputs": [
    {
     "name": "stdout",
     "output_type": "stream",
     "text": [
      "              precision    recall  f1-score   support\n",
      "\n",
      "           0       0.73      0.93      0.81      8135\n",
      "           1       0.90      0.65      0.75      8135\n",
      "\n",
      "    accuracy                           0.79     16270\n",
      "   macro avg       0.81      0.79      0.78     16270\n",
      "weighted avg       0.81      0.79      0.78     16270\n",
      "\n"
     ]
    }
   ],
   "source": [
    "print(classification_report(y_test,y_test_pred))"
   ]
  },
  {
   "cell_type": "code",
   "execution_count": 177,
   "id": "4845b095",
   "metadata": {},
   "outputs": [
    {
     "data": {
      "text/plain": [
       "array([[7555,  580],\n",
       "       [2858, 5277]], dtype=int64)"
      ]
     },
     "execution_count": 177,
     "metadata": {},
     "output_type": "execute_result"
    }
   ],
   "source": [
    "confusion_test_rf=confusion_matrix(y_test,y_test_pred)\n",
    "confusion_test_rf"
   ]
  },
  {
   "cell_type": "code",
   "execution_count": 178,
   "id": "9f28246b",
   "metadata": {},
   "outputs": [
    {
     "data": {
      "text/plain": [
       "0.6486785494775661"
      ]
     },
     "execution_count": 178,
     "metadata": {},
     "output_type": "execute_result"
    }
   ],
   "source": [
    "recall_rf=confusion_test_rf[1,1]/(confusion_test_rf[1,0]+confusion_test_rf[1,1])\n",
    "recall_rf"
   ]
  },
  {
   "cell_type": "code",
   "execution_count": 202,
   "id": "0aa7640a",
   "metadata": {},
   "outputs": [
    {
     "data": {
      "text/plain": [
       "0.9287031346035648"
      ]
     },
     "execution_count": 202,
     "metadata": {},
     "output_type": "execute_result"
    }
   ],
   "source": [
    "spec_rf=confusion_test_rf[0,0]/(confusion_test_rf[0,0]+confusion_test_rf[0,1])\n",
    "spec_rf"
   ]
  },
  {
   "cell_type": "code",
   "execution_count": null,
   "id": "6002b536",
   "metadata": {},
   "outputs": [],
   "source": []
  },
  {
   "cell_type": "code",
   "execution_count": null,
   "id": "74de36ea",
   "metadata": {},
   "outputs": [],
   "source": []
  },
  {
   "cell_type": "markdown",
   "id": "8570192a",
   "metadata": {},
   "source": [
    "### 3. Applying  XGBoost on PCA compenents"
   ]
  },
  {
   "cell_type": "code",
   "execution_count": 179,
   "id": "f6ea5c40",
   "metadata": {},
   "outputs": [
    {
     "name": "stdout",
     "output_type": "stream",
     "text": [
      "[09:24:22] WARNING: D:\\bld\\xgboost-split_1645118015404\\work\\src\\learner.cc:1115: Starting in XGBoost 1.3.0, the default evaluation metric used with the objective 'binary:logistic' was changed from 'error' to 'logloss'. Explicitly set eval_metric if you'd like to restore the old behavior.\n"
     ]
    },
    {
     "data": {
      "text/plain": [
       "XGBClassifier(base_score=0.5, booster='gbtree', colsample_bylevel=1,\n",
       "              colsample_bynode=1, colsample_bytree=1, enable_categorical=False,\n",
       "              gamma=0, gpu_id=-1, importance_type=None,\n",
       "              interaction_constraints='', learning_rate=0.300000012,\n",
       "              max_delta_step=0, max_depth=6, min_child_weight=1, missing=nan,\n",
       "              monotone_constraints='()', n_estimators=100, n_jobs=8,\n",
       "              num_parallel_tree=1, predictor='auto', random_state=0,\n",
       "              reg_alpha=0, reg_lambda=1, scale_pos_weight=1, subsample=1,\n",
       "              tree_method='exact', validate_parameters=1, verbosity=None)"
      ]
     },
     "execution_count": 179,
     "metadata": {},
     "output_type": "execute_result"
    }
   ],
   "source": [
    "import xgboost as xgb\n",
    "from sklearn import metrics\n",
    "\n",
    "\n",
    "xgclf = xgb.XGBClassifier()\n",
    "\n",
    "xgclf.fit(df_train_pca, y_train)"
   ]
  },
  {
   "cell_type": "code",
   "execution_count": 180,
   "id": "d5435e39",
   "metadata": {},
   "outputs": [],
   "source": [
    "y_train_pred=xgclf.predict(df_train_pca)"
   ]
  },
  {
   "cell_type": "code",
   "execution_count": 181,
   "id": "f6a91cec",
   "metadata": {},
   "outputs": [
    {
     "data": {
      "text/plain": [
       "0.9992360781834466"
      ]
     },
     "execution_count": 181,
     "metadata": {},
     "output_type": "execute_result"
    }
   ],
   "source": [
    "xgb_accuracy_tr=accuracy_score(y_train,y_train_pred)\n",
    "xgb_accuracy_tr"
   ]
  },
  {
   "cell_type": "code",
   "execution_count": 182,
   "id": "6b34b884",
   "metadata": {},
   "outputs": [],
   "source": [
    "#performance on unseen data\n",
    "y_test_pred=xgclf.predict(df_test_pca)"
   ]
  },
  {
   "cell_type": "code",
   "execution_count": 183,
   "id": "6087cf7f",
   "metadata": {},
   "outputs": [
    {
     "data": {
      "text/plain": [
       "0.7502151198524892"
      ]
     },
     "execution_count": 183,
     "metadata": {},
     "output_type": "execute_result"
    }
   ],
   "source": [
    "xgb_accuracy_tst=accuracy_score(y_test,y_test_pred)\n",
    "xgb_accuracy_tst"
   ]
  },
  {
   "cell_type": "code",
   "execution_count": 184,
   "id": "cf83890b",
   "metadata": {},
   "outputs": [
    {
     "name": "stdout",
     "output_type": "stream",
     "text": [
      "AUC on train data by XGBoost = 0.9999999472629998\n"
     ]
    }
   ],
   "source": [
    "print('AUC on train data by XGBoost =', metrics.roc_auc_score(y_true=y_train,\n",
    "                                                              y_score=xgclf.predict_proba(df_train_pca)[:, 1]))\n",
    "XGB_AUC_Train=metrics.roc_auc_score(y_true=y_train,y_score=xgclf.predict_proba(df_train_pca)[:, 1])"
   ]
  },
  {
   "cell_type": "code",
   "execution_count": 185,
   "id": "4a2c10b0",
   "metadata": {},
   "outputs": [
    {
     "name": "stdout",
     "output_type": "stream",
     "text": [
      "AUC on test data by XGBoost = 0.8932881623827172\n"
     ]
    }
   ],
   "source": [
    "print('AUC on test data by XGBoost =', metrics.roc_auc_score(y_true=y_test,\n",
    "                                                             y_score=xgclf.predict_proba(df_test_pca)[:, 1]))\n",
    "XGB_AUC_Test=metrics.roc_auc_score(y_true=y_test,y_score=xgclf.predict_proba(df_test_pca)[:, 1])"
   ]
  },
  {
   "cell_type": "code",
   "execution_count": 186,
   "id": "a19d8b2c",
   "metadata": {},
   "outputs": [
    {
     "name": "stdout",
     "output_type": "stream",
     "text": [
      "[09:25:27] WARNING: D:\\bld\\xgboost-split_1645118015404\\work\\src\\learner.cc:1115: Starting in XGBoost 1.3.0, the default evaluation metric used with the objective 'binary:logistic' was changed from 'error' to 'logloss'. Explicitly set eval_metric if you'd like to restore the old behavior.\n"
     ]
    },
    {
     "data": {
      "text/plain": [
       "GridSearchCV(cv=5,\n",
       "             estimator=XGBClassifier(base_score=0.5, booster='gbtree',\n",
       "                                     colsample_bylevel=1, colsample_bynode=1,\n",
       "                                     colsample_bytree=1,\n",
       "                                     enable_categorical=False, gamma=0,\n",
       "                                     gpu_id=-1, importance_type=None,\n",
       "                                     interaction_constraints='',\n",
       "                                     learning_rate=0.300000012,\n",
       "                                     max_delta_step=0, max_depth=6,\n",
       "                                     min_child_weight=1, missing=nan,\n",
       "                                     monotone_constraints='()',\n",
       "                                     n_estimators=100, n_jobs=8,\n",
       "                                     num_parallel_tree=1, predictor='auto',\n",
       "                                     random_state=0, reg_alpha=0, reg_lambda=1,\n",
       "                                     scale_pos_weight=1, subsample=1,\n",
       "                                     tree_method='exact', validate_parameters=1,\n",
       "                                     verbosity=None),\n",
       "             n_jobs=-1,\n",
       "             param_grid={'learning_rate': [0.3], 'max_depth': [6],\n",
       "                         'min_child_weight': [1], 'n_estimators': [100]},\n",
       "             scoring=make_scorer(roc_auc_score, needs_proba=True))"
      ]
     },
     "execution_count": 186,
     "metadata": {},
     "output_type": "execute_result"
    }
   ],
   "source": [
    "from sklearn import model_selection\n",
    "\n",
    "\n",
    "# Default-Run of default-hyperparameters\n",
    "parameters = {'learning_rate': [0.3],\n",
    "              'max_depth': [6],\n",
    "              'min_child_weight': [1],\n",
    "              'n_estimators': [100]}\n",
    "\n",
    "scorer = metrics.make_scorer(metrics.roc_auc_score,\n",
    "                             greater_is_better=True,\n",
    "                             needs_proba=True,\n",
    "                             needs_threshold=False)\n",
    "\n",
    "clf_xgb = model_selection.GridSearchCV(estimator=xgclf,\n",
    "                                       param_grid=parameters,\n",
    "                                       n_jobs=-1,\n",
    "                                       cv=5,\n",
    "                                       scoring=scorer,\n",
    "                                       refit=True)\n",
    "\n",
    "clf_xgb.fit(df_train_pca, y_train)"
   ]
  },
  {
   "cell_type": "code",
   "execution_count": 187,
   "id": "68da0f61",
   "metadata": {},
   "outputs": [
    {
     "name": "stdout",
     "output_type": "stream",
     "text": [
      "{'learning_rate': 0.3, 'max_depth': 6, 'min_child_weight': 1, 'n_estimators': 100}\n",
      "0.9966246940861117\n",
      "XGBClassifier(base_score=0.5, booster='gbtree', colsample_bylevel=1,\n",
      "              colsample_bynode=1, colsample_bytree=1, enable_categorical=False,\n",
      "              gamma=0, gpu_id=-1, importance_type=None,\n",
      "              interaction_constraints='', learning_rate=0.3, max_delta_step=0,\n",
      "              max_depth=6, min_child_weight=1, missing=nan,\n",
      "              monotone_constraints='()', n_estimators=100, n_jobs=8,\n",
      "              num_parallel_tree=1, predictor='auto', random_state=0,\n",
      "              reg_alpha=0, reg_lambda=1, scale_pos_weight=1, subsample=1,\n",
      "              tree_method='exact', validate_parameters=1, verbosity=None)\n"
     ]
    }
   ],
   "source": [
    "print(clf_xgb.best_params_)\n",
    "print(clf_xgb.best_score_)\n",
    "print(clf_xgb.best_estimator_)"
   ]
  },
  {
   "cell_type": "markdown",
   "id": "4e9cb670",
   "metadata": {},
   "source": [
    "##### only if we improve on \"best_score_\"(i.e. better than best_score 0.9966246940861117), only then exploring more on any hyperparameter makes sense. since the best score value is very close to 1, we can avoid any hyperrarameterisation"
   ]
  },
  {
   "cell_type": "code",
   "execution_count": 188,
   "id": "7d3fe74f",
   "metadata": {},
   "outputs": [
    {
     "data": {
      "text/plain": [
       "XGBClassifier(base_score=0.5, booster='gbtree', colsample_bylevel=1,\n",
       "              colsample_bynode=1, colsample_bytree=1, enable_categorical=False,\n",
       "              gamma=0, gpu_id=-1, importance_type=None,\n",
       "              interaction_constraints='', learning_rate=0.3, max_delta_step=0,\n",
       "              max_depth=6, min_child_weight=1, missing=nan,\n",
       "              monotone_constraints='()', n_estimators=100, n_jobs=8,\n",
       "              num_parallel_tree=1, predictor='auto', random_state=0,\n",
       "              reg_alpha=0, reg_lambda=1, scale_pos_weight=1, subsample=1,\n",
       "              tree_method='exact', validate_parameters=1, verbosity=None)"
      ]
     },
     "execution_count": 188,
     "metadata": {},
     "output_type": "execute_result"
    }
   ],
   "source": [
    "xgb_best=clf_xgb.best_estimator_\n",
    "xgb_best"
   ]
  },
  {
   "cell_type": "code",
   "execution_count": 192,
   "id": "0307cbf2",
   "metadata": {},
   "outputs": [],
   "source": [
    "y_train_pred_2 = xgb_best.predict(df_train_pca)\n",
    "y_test_pred_2 = xgb_best.predict(df_test_pca)"
   ]
  },
  {
   "cell_type": "code",
   "execution_count": 193,
   "id": "876062b9",
   "metadata": {},
   "outputs": [
    {
     "data": {
      "text/plain": [
       "0.9992360781834466"
      ]
     },
     "execution_count": 193,
     "metadata": {},
     "output_type": "execute_result"
    }
   ],
   "source": [
    "XGB_accuracy_train=accuracy_score(y_train,y_train_pred_2)\n",
    "XGB_accuracy_train"
   ]
  },
  {
   "cell_type": "code",
   "execution_count": 194,
   "id": "55b55321",
   "metadata": {},
   "outputs": [
    {
     "data": {
      "text/plain": [
       "0.7502151198524892"
      ]
     },
     "execution_count": 194,
     "metadata": {},
     "output_type": "execute_result"
    }
   ],
   "source": [
    "XGB_accuracy_test=accuracy_score(y_test,y_test_pred_2)\n",
    "XGB_accuracy_test"
   ]
  },
  {
   "cell_type": "code",
   "execution_count": 195,
   "id": "2dca3f9f",
   "metadata": {},
   "outputs": [
    {
     "name": "stdout",
     "output_type": "stream",
     "text": [
      "[09:26:25] WARNING: D:\\bld\\xgboost-split_1645118015404\\work\\src\\learner.cc:1115: Starting in XGBoost 1.3.0, the default evaluation metric used with the objective 'binary:logistic' was changed from 'error' to 'logloss'. Explicitly set eval_metric if you'd like to restore the old behavior.\n",
      "[09:26:33] WARNING: D:\\bld\\xgboost-split_1645118015404\\work\\src\\learner.cc:1115: Starting in XGBoost 1.3.0, the default evaluation metric used with the objective 'binary:logistic' was changed from 'error' to 'logloss'. Explicitly set eval_metric if you'd like to restore the old behavior.\n",
      "[09:26:43] WARNING: D:\\bld\\xgboost-split_1645118015404\\work\\src\\learner.cc:1115: Starting in XGBoost 1.3.0, the default evaluation metric used with the objective 'binary:logistic' was changed from 'error' to 'logloss'. Explicitly set eval_metric if you'd like to restore the old behavior.\n",
      "[09:26:51] WARNING: D:\\bld\\xgboost-split_1645118015404\\work\\src\\learner.cc:1115: Starting in XGBoost 1.3.0, the default evaluation metric used with the objective 'binary:logistic' was changed from 'error' to 'logloss'. Explicitly set eval_metric if you'd like to restore the old behavior.\n",
      "[09:26:59] WARNING: D:\\bld\\xgboost-split_1645118015404\\work\\src\\learner.cc:1115: Starting in XGBoost 1.3.0, the default evaluation metric used with the objective 'binary:logistic' was changed from 'error' to 'logloss'. Explicitly set eval_metric if you'd like to restore the old behavior.\n",
      "[09:27:07] WARNING: D:\\bld\\xgboost-split_1645118015404\\work\\src\\learner.cc:1115: Starting in XGBoost 1.3.0, the default evaluation metric used with the objective 'binary:logistic' was changed from 'error' to 'logloss'. Explicitly set eval_metric if you'd like to restore the old behavior.\n",
      "[09:27:15] WARNING: D:\\bld\\xgboost-split_1645118015404\\work\\src\\learner.cc:1115: Starting in XGBoost 1.3.0, the default evaluation metric used with the objective 'binary:logistic' was changed from 'error' to 'logloss'. Explicitly set eval_metric if you'd like to restore the old behavior.\n",
      "[09:27:22] WARNING: D:\\bld\\xgboost-split_1645118015404\\work\\src\\learner.cc:1115: Starting in XGBoost 1.3.0, the default evaluation metric used with the objective 'binary:logistic' was changed from 'error' to 'logloss'. Explicitly set eval_metric if you'd like to restore the old behavior.\n",
      "[09:27:30] WARNING: D:\\bld\\xgboost-split_1645118015404\\work\\src\\learner.cc:1115: Starting in XGBoost 1.3.0, the default evaluation metric used with the objective 'binary:logistic' was changed from 'error' to 'logloss'. Explicitly set eval_metric if you'd like to restore the old behavior.\n",
      "[09:27:38] WARNING: D:\\bld\\xgboost-split_1645118015404\\work\\src\\learner.cc:1115: Starting in XGBoost 1.3.0, the default evaluation metric used with the objective 'binary:logistic' was changed from 'error' to 'logloss'. Explicitly set eval_metric if you'd like to restore the old behavior.\n",
      "[0.97814064 0.97181986 0.97655427 0.97497366 0.97629083 0.97471022\n",
      " 0.97787144 0.97708114 0.97734457 0.97708114]\n"
     ]
    }
   ],
   "source": [
    "from sklearn.model_selection import cross_val_score\n",
    "score=cross_val_score(xgclf,df_train_pca,y_train,cv=10)\n",
    "print(score)"
   ]
  },
  {
   "cell_type": "code",
   "execution_count": 197,
   "id": "c58a5a56",
   "metadata": {},
   "outputs": [
    {
     "name": "stdout",
     "output_type": "stream",
     "text": [
      "              precision    recall  f1-score   support\n",
      "\n",
      "           0       0.68      0.95      0.79      8135\n",
      "           1       0.92      0.55      0.69      8135\n",
      "\n",
      "    accuracy                           0.75     16270\n",
      "   macro avg       0.80      0.75      0.74     16270\n",
      "weighted avg       0.80      0.75      0.74     16270\n",
      "\n"
     ]
    }
   ],
   "source": [
    "print(classification_report(y_test,y_test_pred_2))"
   ]
  },
  {
   "cell_type": "code",
   "execution_count": 198,
   "id": "0b7ef0e8",
   "metadata": {},
   "outputs": [
    {
     "data": {
      "text/plain": [
       "array([[7765,  370],\n",
       "       [3694, 4441]], dtype=int64)"
      ]
     },
     "execution_count": 198,
     "metadata": {},
     "output_type": "execute_result"
    }
   ],
   "source": [
    "confusion_test_xg=confusion_matrix(y_test,y_test_pred)\n",
    "confusion_test_xg"
   ]
  },
  {
   "cell_type": "code",
   "execution_count": 199,
   "id": "f4fe421f",
   "metadata": {},
   "outputs": [
    {
     "data": {
      "text/plain": [
       "0.5459127228027043"
      ]
     },
     "execution_count": 199,
     "metadata": {},
     "output_type": "execute_result"
    }
   ],
   "source": [
    "recall_xg=confusion_test_xg[1,1]/(confusion_test_xg[1,0]+confusion_test_xg[1,1])\n",
    "recall_xg"
   ]
  },
  {
   "cell_type": "code",
   "execution_count": 200,
   "id": "e5a65b3f",
   "metadata": {},
   "outputs": [
    {
     "data": {
      "text/plain": [
       "0.9545175169022742"
      ]
     },
     "execution_count": 200,
     "metadata": {},
     "output_type": "execute_result"
    }
   ],
   "source": [
    "spec_xg=confusion_test_xg[0,0]/(confusion_test_xg[0,0]+confusion_test_xg[0,1])\n",
    "spec_xg"
   ]
  },
  {
   "cell_type": "markdown",
   "id": "6410b68d",
   "metadata": {},
   "source": [
    "### Evaluation: which one is best of the three classifiers"
   ]
  },
  {
   "cell_type": "code",
   "execution_count": 206,
   "id": "c8c6dbcf",
   "metadata": {},
   "outputs": [
    {
     "data": {
      "text/html": [
       "<div>\n",
       "<style scoped>\n",
       "    .dataframe tbody tr th:only-of-type {\n",
       "        vertical-align: middle;\n",
       "    }\n",
       "\n",
       "    .dataframe tbody tr th {\n",
       "        vertical-align: top;\n",
       "    }\n",
       "\n",
       "    .dataframe thead th {\n",
       "        text-align: right;\n",
       "    }\n",
       "</style>\n",
       "<table border=\"1\" class=\"dataframe\">\n",
       "  <thead>\n",
       "    <tr style=\"text-align: right;\">\n",
       "      <th></th>\n",
       "      <th>Model_type</th>\n",
       "      <th>Accuracy_Test</th>\n",
       "      <th>AUC_Score_Train</th>\n",
       "      <th>AUC_Score_Test</th>\n",
       "      <th>Churners predicted accurately</th>\n",
       "      <th>Non-Churners predicted accurately</th>\n",
       "    </tr>\n",
       "  </thead>\n",
       "  <tbody>\n",
       "    <tr>\n",
       "      <th>0</th>\n",
       "      <td>Logistic</td>\n",
       "      <td>0.824585</td>\n",
       "      <td>0.92</td>\n",
       "      <td>0.91</td>\n",
       "      <td>0.844745</td>\n",
       "      <td>0.804425</td>\n",
       "    </tr>\n",
       "    <tr>\n",
       "      <th>1</th>\n",
       "      <td>Random Forest</td>\n",
       "      <td>0.788691</td>\n",
       "      <td>0.996539</td>\n",
       "      <td>0.891531</td>\n",
       "      <td>0.648679</td>\n",
       "      <td>0.928703</td>\n",
       "    </tr>\n",
       "    <tr>\n",
       "      <th>2</th>\n",
       "      <td>XGBoost</td>\n",
       "      <td>0.750215</td>\n",
       "      <td>1.0</td>\n",
       "      <td>0.893288</td>\n",
       "      <td>0.545913</td>\n",
       "      <td>0.954518</td>\n",
       "    </tr>\n",
       "  </tbody>\n",
       "</table>\n",
       "</div>"
      ],
      "text/plain": [
       "      Model_type  Accuracy_Test AUC_Score_Train AUC_Score_Test  \\\n",
       "0       Logistic       0.824585            0.92           0.91   \n",
       "1  Random Forest       0.788691        0.996539       0.891531   \n",
       "2        XGBoost       0.750215             1.0       0.893288   \n",
       "\n",
       "   Churners predicted accurately  Non-Churners predicted accurately  \n",
       "0                       0.844745                           0.804425  \n",
       "1                       0.648679                           0.928703  \n",
       "2                       0.545913                           0.954518  "
      ]
     },
     "execution_count": 206,
     "metadata": {},
     "output_type": "execute_result"
    }
   ],
   "source": [
    "# Define a dictionary containing employee data\n",
    "model_evaluation = {'Model_type':['Logistic', 'Random Forest', 'XGBoost'],\n",
    "        'Accuracy_Test':[log_accuracy_tst, rf_accuracy_test, XGB_accuracy_test ],\n",
    "        'AUC_Score_Train':[log_AUC_Train, RF_AUC_Train, XGB_AUC_Train],\n",
    "        'AUC_Score_Test':[log_AUC_Test, RF_AUC_Test, XGB_AUC_Test],\n",
    "        'Churners predicted accurately':[recall_log, recall_rf, recall_xg],\n",
    "        'Non-Churners predicted accurately':[spec_log, spec_rf, spec_xg],\n",
    "                 }\n",
    "\n",
    "\n",
    "df=pd.DataFrame(model_evaluation)\n",
    "df\n"
   ]
  },
  {
   "cell_type": "markdown",
   "id": "4aa2b632",
   "metadata": {},
   "source": [
    "## the classifier that best predicts churners with the highest AUC Score for test - logistic regression "
   ]
  },
  {
   "cell_type": "markdown",
   "id": "416fc5ab",
   "metadata": {},
   "source": [
    "## Step 5: Running logistic regression on pre-PCA data to:\n",
    "\n",
    "- identifying important predictors- trying both Logistic Regression and Random Forest\n",
    "- visualise the relation with target(i.e. Churn flag)\n",
    "- provide recommendation"
   ]
  },
  {
   "cell_type": "code",
   "execution_count": 383,
   "id": "9ee23e8c",
   "metadata": {},
   "outputs": [
    {
     "data": {
      "text/plain": [
       "(37962, 356)"
      ]
     },
     "execution_count": 383,
     "metadata": {},
     "output_type": "execute_result"
    }
   ],
   "source": [
    "X_train.shape # to ensure that rescaling (for class imbalance) and feature scaling has been applied"
   ]
  },
  {
   "cell_type": "code",
   "execution_count": 384,
   "id": "47758012",
   "metadata": {},
   "outputs": [
    {
     "data": {
      "text/plain": [
       "(16270, 356)"
      ]
     },
     "execution_count": 384,
     "metadata": {},
     "output_type": "execute_result"
    }
   ],
   "source": [
    "X_test.shape"
   ]
  },
  {
   "cell_type": "code",
   "execution_count": 385,
   "id": "c88aa085",
   "metadata": {},
   "outputs": [
    {
     "data": {
      "text/plain": [
       "(37962,)"
      ]
     },
     "execution_count": 385,
     "metadata": {},
     "output_type": "execute_result"
    }
   ],
   "source": [
    "y_train.shape"
   ]
  },
  {
   "cell_type": "code",
   "execution_count": 386,
   "id": "47fccf2a",
   "metadata": {},
   "outputs": [
    {
     "data": {
      "text/plain": [
       "(16270,)"
      ]
     },
     "execution_count": 386,
     "metadata": {},
     "output_type": "execute_result"
    }
   ],
   "source": [
    "y_test.shape"
   ]
  },
  {
   "cell_type": "code",
   "execution_count": 387,
   "id": "21771f2b",
   "metadata": {},
   "outputs": [
    {
     "data": {
      "text/plain": [
       "<statsmodels.genmod.generalized_linear_model.GLMResultsWrapper at 0x2b4942ea9d0>"
      ]
     },
     "execution_count": 387,
     "metadata": {},
     "output_type": "execute_result"
    }
   ],
   "source": [
    "# Logistic regression model\n",
    "logm1 = sm.GLM(y_train,(sm.add_constant(X_train)), family = sm.families.Binomial())\n",
    "logm1.fit()"
   ]
  },
  {
   "cell_type": "markdown",
   "id": "f1040888",
   "metadata": {},
   "source": [
    "### Feature Selection using RFE"
   ]
  },
  {
   "cell_type": "code",
   "execution_count": 412,
   "id": "804b59fe",
   "metadata": {},
   "outputs": [],
   "source": [
    "from sklearn.linear_model import LogisticRegression\n",
    "logreg2 = LogisticRegression()"
   ]
  },
  {
   "cell_type": "code",
   "execution_count": 413,
   "id": "bc5a4ca5",
   "metadata": {},
   "outputs": [
    {
     "data": {
      "text/html": [
       "<div>\n",
       "<style scoped>\n",
       "    .dataframe tbody tr th:only-of-type {\n",
       "        vertical-align: middle;\n",
       "    }\n",
       "\n",
       "    .dataframe tbody tr th {\n",
       "        vertical-align: top;\n",
       "    }\n",
       "\n",
       "    .dataframe thead th {\n",
       "        text-align: right;\n",
       "    }\n",
       "</style>\n",
       "<table border=\"1\" class=\"dataframe\">\n",
       "  <thead>\n",
       "    <tr style=\"text-align: right;\">\n",
       "      <th></th>\n",
       "      <th>loc_og_t2o_mou</th>\n",
       "      <th>std_og_t2o_mou</th>\n",
       "      <th>loc_ic_t2o_mou</th>\n",
       "      <th>arpu_6</th>\n",
       "      <th>arpu_7</th>\n",
       "      <th>arpu_8</th>\n",
       "      <th>onnet_mou_6</th>\n",
       "      <th>onnet_mou_7</th>\n",
       "      <th>onnet_mou_8</th>\n",
       "      <th>offnet_mou_6</th>\n",
       "      <th>...</th>\n",
       "      <th>date_of_last_rech_8_8/31/2014</th>\n",
       "      <th>date_of_last_rech_8_8/4/2014</th>\n",
       "      <th>date_of_last_rech_8_8/5/2014</th>\n",
       "      <th>date_of_last_rech_8_8/6/2014</th>\n",
       "      <th>date_of_last_rech_8_8/7/2014</th>\n",
       "      <th>date_of_last_rech_8_8/8/2014</th>\n",
       "      <th>date_of_last_rech_8_8/9/2014</th>\n",
       "      <th>last_date_of_month_6_6/30/2014</th>\n",
       "      <th>last_date_of_month_7_7/31/2014</th>\n",
       "      <th>last_date_of_month_8_8/31/2014</th>\n",
       "    </tr>\n",
       "    <tr>\n",
       "      <th>mobile_number_and_circle_id</th>\n",
       "      <th></th>\n",
       "      <th></th>\n",
       "      <th></th>\n",
       "      <th></th>\n",
       "      <th></th>\n",
       "      <th></th>\n",
       "      <th></th>\n",
       "      <th></th>\n",
       "      <th></th>\n",
       "      <th></th>\n",
       "      <th></th>\n",
       "      <th></th>\n",
       "      <th></th>\n",
       "      <th></th>\n",
       "      <th></th>\n",
       "      <th></th>\n",
       "      <th></th>\n",
       "      <th></th>\n",
       "      <th></th>\n",
       "      <th></th>\n",
       "      <th></th>\n",
       "    </tr>\n",
       "  </thead>\n",
       "  <tbody>\n",
       "    <tr>\n",
       "      <th>7002049668_109</th>\n",
       "      <td>0.0</td>\n",
       "      <td>0.0</td>\n",
       "      <td>0.0</td>\n",
       "      <td>-0.247191</td>\n",
       "      <td>-0.197208</td>\n",
       "      <td>-0.313623</td>\n",
       "      <td>-0.310725</td>\n",
       "      <td>-0.260824</td>\n",
       "      <td>-0.275027</td>\n",
       "      <td>-0.219984</td>\n",
       "      <td>...</td>\n",
       "      <td>0</td>\n",
       "      <td>0</td>\n",
       "      <td>1</td>\n",
       "      <td>0</td>\n",
       "      <td>0</td>\n",
       "      <td>0</td>\n",
       "      <td>0</td>\n",
       "      <td>1</td>\n",
       "      <td>1</td>\n",
       "      <td>1</td>\n",
       "    </tr>\n",
       "    <tr>\n",
       "      <th>7000937354_109</th>\n",
       "      <td>0.0</td>\n",
       "      <td>0.0</td>\n",
       "      <td>0.0</td>\n",
       "      <td>0.213275</td>\n",
       "      <td>0.287068</td>\n",
       "      <td>-0.268053</td>\n",
       "      <td>-0.253024</td>\n",
       "      <td>-0.151617</td>\n",
       "      <td>-0.250964</td>\n",
       "      <td>0.002858</td>\n",
       "      <td>...</td>\n",
       "      <td>0</td>\n",
       "      <td>0</td>\n",
       "      <td>0</td>\n",
       "      <td>0</td>\n",
       "      <td>0</td>\n",
       "      <td>0</td>\n",
       "      <td>0</td>\n",
       "      <td>1</td>\n",
       "      <td>1</td>\n",
       "      <td>1</td>\n",
       "    </tr>\n",
       "    <tr>\n",
       "      <th>7001439111_109</th>\n",
       "      <td>0.0</td>\n",
       "      <td>0.0</td>\n",
       "      <td>0.0</td>\n",
       "      <td>-0.658413</td>\n",
       "      <td>-0.705633</td>\n",
       "      <td>-0.217257</td>\n",
       "      <td>-0.345892</td>\n",
       "      <td>-0.293930</td>\n",
       "      <td>0.250261</td>\n",
       "      <td>-0.521730</td>\n",
       "      <td>...</td>\n",
       "      <td>0</td>\n",
       "      <td>0</td>\n",
       "      <td>0</td>\n",
       "      <td>0</td>\n",
       "      <td>0</td>\n",
       "      <td>0</td>\n",
       "      <td>0</td>\n",
       "      <td>1</td>\n",
       "      <td>1</td>\n",
       "      <td>1</td>\n",
       "    </tr>\n",
       "    <tr>\n",
       "      <th>7001925801_109</th>\n",
       "      <td>0.0</td>\n",
       "      <td>0.0</td>\n",
       "      <td>0.0</td>\n",
       "      <td>-0.580439</td>\n",
       "      <td>-0.449087</td>\n",
       "      <td>1.081536</td>\n",
       "      <td>-0.286187</td>\n",
       "      <td>-0.123549</td>\n",
       "      <td>0.070581</td>\n",
       "      <td>-0.510518</td>\n",
       "      <td>...</td>\n",
       "      <td>1</td>\n",
       "      <td>0</td>\n",
       "      <td>0</td>\n",
       "      <td>0</td>\n",
       "      <td>0</td>\n",
       "      <td>0</td>\n",
       "      <td>0</td>\n",
       "      <td>1</td>\n",
       "      <td>1</td>\n",
       "      <td>1</td>\n",
       "    </tr>\n",
       "    <tr>\n",
       "      <th>7000965172_109</th>\n",
       "      <td>0.0</td>\n",
       "      <td>0.0</td>\n",
       "      <td>0.0</td>\n",
       "      <td>-0.405825</td>\n",
       "      <td>-0.295089</td>\n",
       "      <td>-0.115249</td>\n",
       "      <td>-0.394270</td>\n",
       "      <td>-0.333607</td>\n",
       "      <td>-0.094228</td>\n",
       "      <td>-0.125710</td>\n",
       "      <td>...</td>\n",
       "      <td>0</td>\n",
       "      <td>0</td>\n",
       "      <td>0</td>\n",
       "      <td>0</td>\n",
       "      <td>0</td>\n",
       "      <td>0</td>\n",
       "      <td>0</td>\n",
       "      <td>1</td>\n",
       "      <td>1</td>\n",
       "      <td>1</td>\n",
       "    </tr>\n",
       "  </tbody>\n",
       "</table>\n",
       "<p>5 rows × 356 columns</p>\n",
       "</div>"
      ],
      "text/plain": [
       "                             loc_og_t2o_mou  std_og_t2o_mou  loc_ic_t2o_mou  \\\n",
       "mobile_number_and_circle_id                                                   \n",
       "7002049668_109                          0.0             0.0             0.0   \n",
       "7000937354_109                          0.0             0.0             0.0   \n",
       "7001439111_109                          0.0             0.0             0.0   \n",
       "7001925801_109                          0.0             0.0             0.0   \n",
       "7000965172_109                          0.0             0.0             0.0   \n",
       "\n",
       "                               arpu_6    arpu_7    arpu_8  onnet_mou_6  \\\n",
       "mobile_number_and_circle_id                                              \n",
       "7002049668_109              -0.247191 -0.197208 -0.313623    -0.310725   \n",
       "7000937354_109               0.213275  0.287068 -0.268053    -0.253024   \n",
       "7001439111_109              -0.658413 -0.705633 -0.217257    -0.345892   \n",
       "7001925801_109              -0.580439 -0.449087  1.081536    -0.286187   \n",
       "7000965172_109              -0.405825 -0.295089 -0.115249    -0.394270   \n",
       "\n",
       "                             onnet_mou_7  onnet_mou_8  offnet_mou_6  ...  \\\n",
       "mobile_number_and_circle_id                                          ...   \n",
       "7002049668_109                 -0.260824    -0.275027     -0.219984  ...   \n",
       "7000937354_109                 -0.151617    -0.250964      0.002858  ...   \n",
       "7001439111_109                 -0.293930     0.250261     -0.521730  ...   \n",
       "7001925801_109                 -0.123549     0.070581     -0.510518  ...   \n",
       "7000965172_109                 -0.333607    -0.094228     -0.125710  ...   \n",
       "\n",
       "                             date_of_last_rech_8_8/31/2014  \\\n",
       "mobile_number_and_circle_id                                  \n",
       "7002049668_109                                           0   \n",
       "7000937354_109                                           0   \n",
       "7001439111_109                                           0   \n",
       "7001925801_109                                           1   \n",
       "7000965172_109                                           0   \n",
       "\n",
       "                             date_of_last_rech_8_8/4/2014  \\\n",
       "mobile_number_and_circle_id                                 \n",
       "7002049668_109                                          0   \n",
       "7000937354_109                                          0   \n",
       "7001439111_109                                          0   \n",
       "7001925801_109                                          0   \n",
       "7000965172_109                                          0   \n",
       "\n",
       "                             date_of_last_rech_8_8/5/2014  \\\n",
       "mobile_number_and_circle_id                                 \n",
       "7002049668_109                                          1   \n",
       "7000937354_109                                          0   \n",
       "7001439111_109                                          0   \n",
       "7001925801_109                                          0   \n",
       "7000965172_109                                          0   \n",
       "\n",
       "                             date_of_last_rech_8_8/6/2014  \\\n",
       "mobile_number_and_circle_id                                 \n",
       "7002049668_109                                          0   \n",
       "7000937354_109                                          0   \n",
       "7001439111_109                                          0   \n",
       "7001925801_109                                          0   \n",
       "7000965172_109                                          0   \n",
       "\n",
       "                             date_of_last_rech_8_8/7/2014  \\\n",
       "mobile_number_and_circle_id                                 \n",
       "7002049668_109                                          0   \n",
       "7000937354_109                                          0   \n",
       "7001439111_109                                          0   \n",
       "7001925801_109                                          0   \n",
       "7000965172_109                                          0   \n",
       "\n",
       "                             date_of_last_rech_8_8/8/2014  \\\n",
       "mobile_number_and_circle_id                                 \n",
       "7002049668_109                                          0   \n",
       "7000937354_109                                          0   \n",
       "7001439111_109                                          0   \n",
       "7001925801_109                                          0   \n",
       "7000965172_109                                          0   \n",
       "\n",
       "                             date_of_last_rech_8_8/9/2014  \\\n",
       "mobile_number_and_circle_id                                 \n",
       "7002049668_109                                          0   \n",
       "7000937354_109                                          0   \n",
       "7001439111_109                                          0   \n",
       "7001925801_109                                          0   \n",
       "7000965172_109                                          0   \n",
       "\n",
       "                             last_date_of_month_6_6/30/2014  \\\n",
       "mobile_number_and_circle_id                                   \n",
       "7002049668_109                                            1   \n",
       "7000937354_109                                            1   \n",
       "7001439111_109                                            1   \n",
       "7001925801_109                                            1   \n",
       "7000965172_109                                            1   \n",
       "\n",
       "                             last_date_of_month_7_7/31/2014  \\\n",
       "mobile_number_and_circle_id                                   \n",
       "7002049668_109                                            1   \n",
       "7000937354_109                                            1   \n",
       "7001439111_109                                            1   \n",
       "7001925801_109                                            1   \n",
       "7000965172_109                                            1   \n",
       "\n",
       "                             last_date_of_month_8_8/31/2014  \n",
       "mobile_number_and_circle_id                                  \n",
       "7002049668_109                                            1  \n",
       "7000937354_109                                            1  \n",
       "7001439111_109                                            1  \n",
       "7001925801_109                                            1  \n",
       "7000965172_109                                            1  \n",
       "\n",
       "[5 rows x 356 columns]"
      ]
     },
     "execution_count": 413,
     "metadata": {},
     "output_type": "execute_result"
    }
   ],
   "source": [
    "X_train.head()"
   ]
  },
  {
   "cell_type": "code",
   "execution_count": 389,
   "id": "c7d86307",
   "metadata": {},
   "outputs": [],
   "source": [
    "from sklearn.feature_selection import RFE\n",
    "rfe = RFE(logreg2, 90)             # running RFE with 90 variables as output - as we want to be conservative\n",
    "rfe = rfe.fit(X_train, y_train)"
   ]
  },
  {
   "cell_type": "code",
   "execution_count": 390,
   "id": "d1577588",
   "metadata": {},
   "outputs": [],
   "source": [
    "col = X_train.columns[rfe.support_]"
   ]
  },
  {
   "cell_type": "code",
   "execution_count": 391,
   "id": "4ca45dc6",
   "metadata": {},
   "outputs": [
    {
     "data": {
      "text/plain": [
       "Index(['loc_og_t2o_mou', 'std_og_t2o_mou', 'loc_ic_t2o_mou', 'arpu_6',\n",
       "       'onnet_mou_6', 'onnet_mou_7', 'onnet_mou_8', 'offnet_mou_6',\n",
       "       'offnet_mou_7', 'offnet_mou_8',\n",
       "       ...\n",
       "       'date_of_last_rech_8_8/2/2014', 'date_of_last_rech_8_8/20/2014',\n",
       "       'date_of_last_rech_8_8/21/2014', 'date_of_last_rech_8_8/22/2014',\n",
       "       'date_of_last_rech_8_8/25/2014', 'date_of_last_rech_8_8/26/2014',\n",
       "       'date_of_last_rech_8_8/28/2014', 'date_of_last_rech_8_8/4/2014',\n",
       "       'date_of_last_rech_8_8/5/2014', 'date_of_last_rech_8_8/7/2014'],\n",
       "      dtype='object', length=266)"
      ]
     },
     "execution_count": 391,
     "metadata": {},
     "output_type": "execute_result"
    }
   ],
   "source": [
    "X_train.columns[~rfe.support_] # list of columns that have been excluded"
   ]
  },
  {
   "cell_type": "code",
   "execution_count": 392,
   "id": "9bb1112b",
   "metadata": {},
   "outputs": [
    {
     "data": {
      "text/plain": [
       "(37962, 90)"
      ]
     },
     "execution_count": 392,
     "metadata": {},
     "output_type": "execute_result"
    }
   ],
   "source": [
    "X_train_1=X_train[col]\n",
    "X_train_1.shape"
   ]
  },
  {
   "cell_type": "code",
   "execution_count": 225,
   "id": "579090f8",
   "metadata": {},
   "outputs": [],
   "source": [
    "#re-running log regression\n",
    "#X_train_sm = sm.add_constant(X_train_1)\n",
    "#logm2 = sm.GLM(y_train,X_train_sm, family = sm.families.Binomial())\n",
    "#res = logm2.fit()"
   ]
  },
  {
   "cell_type": "code",
   "execution_count": 226,
   "id": "68f1ab44",
   "metadata": {},
   "outputs": [],
   "source": [
    "from sklearn.feature_selection import RFECV"
   ]
  },
  {
   "cell_type": "code",
   "execution_count": 227,
   "id": "0d9a2ecc",
   "metadata": {},
   "outputs": [],
   "source": [
    "rfecv = RFECV(estimator=logreg2, cv=4)"
   ]
  },
  {
   "cell_type": "code",
   "execution_count": 228,
   "id": "9a0c28ec",
   "metadata": {},
   "outputs": [
    {
     "data": {
      "text/plain": [
       "RFECV(cv=4, estimator=LogisticRegression())"
      ]
     },
     "execution_count": 228,
     "metadata": {},
     "output_type": "execute_result"
    }
   ],
   "source": [
    "rfecv.fit(X_train, y_train)"
   ]
  },
  {
   "cell_type": "code",
   "execution_count": 229,
   "id": "dc533d57",
   "metadata": {},
   "outputs": [
    {
     "data": {
      "text/plain": [
       "344"
      ]
     },
     "execution_count": 229,
     "metadata": {},
     "output_type": "execute_result"
    }
   ],
   "source": [
    "rfecv.n_features_"
   ]
  },
  {
   "cell_type": "markdown",
   "id": "73f5e05a",
   "metadata": {},
   "source": [
    "### hence we re not using rfecv for further modelling"
   ]
  },
  {
   "cell_type": "code",
   "execution_count": 393,
   "id": "4087b570",
   "metadata": {},
   "outputs": [
    {
     "data": {
      "text/html": [
       "<table class=\"simpletable\">\n",
       "<caption>Generalized Linear Model Regression Results</caption>\n",
       "<tr>\n",
       "  <th>Dep. Variable:</th>      <td>churn_flag</td>    <th>  No. Observations:  </th>  <td> 37962</td> \n",
       "</tr>\n",
       "<tr>\n",
       "  <th>Model:</th>                  <td>GLM</td>       <th>  Df Residuals:      </th>  <td> 37872</td> \n",
       "</tr>\n",
       "<tr>\n",
       "  <th>Model Family:</th>        <td>Binomial</td>     <th>  Df Model:          </th>  <td>    89</td> \n",
       "</tr>\n",
       "<tr>\n",
       "  <th>Link Function:</th>         <td>logit</td>      <th>  Scale:             </th> <td>  1.0000</td>\n",
       "</tr>\n",
       "<tr>\n",
       "  <th>Method:</th>                <td>IRLS</td>       <th>  Log-Likelihood:    </th> <td>     nan</td>\n",
       "</tr>\n",
       "<tr>\n",
       "  <th>Date:</th>            <td>Wed, 09 Mar 2022</td> <th>  Deviance:          </th> <td>  25267.</td>\n",
       "</tr>\n",
       "<tr>\n",
       "  <th>Time:</th>                <td>23:06:59</td>     <th>  Pearson chi2:      </th> <td>1.31e+05</td>\n",
       "</tr>\n",
       "<tr>\n",
       "  <th>No. Iterations:</th>         <td>34</td>        <th>                     </th>     <td> </td>   \n",
       "</tr>\n",
       "<tr>\n",
       "  <th>Covariance Type:</th>     <td>nonrobust</td>    <th>                     </th>     <td> </td>   \n",
       "</tr>\n",
       "</table>\n",
       "<table class=\"simpletable\">\n",
       "<tr>\n",
       "                   <td></td>                     <th>coef</th>     <th>std err</th>      <th>z</th>      <th>P>|z|</th>  <th>[0.025</th>    <th>0.975]</th>  \n",
       "</tr>\n",
       "<tr>\n",
       "  <th>arpu_7</th>                             <td>    0.8607</td> <td>    0.070</td> <td>   12.303</td> <td> 0.000</td> <td>    0.724</td> <td>    0.998</td>\n",
       "</tr>\n",
       "<tr>\n",
       "  <th>arpu_8</th>                             <td>    0.6362</td> <td>    0.066</td> <td>    9.621</td> <td> 0.000</td> <td>    0.507</td> <td>    0.766</td>\n",
       "</tr>\n",
       "<tr>\n",
       "  <th>std_og_mou_6</th>                       <td>    0.4880</td> <td>    0.026</td> <td>   18.948</td> <td> 0.000</td> <td>    0.438</td> <td>    0.538</td>\n",
       "</tr>\n",
       "<tr>\n",
       "  <th>total_og_mou_8</th>                     <td>   -0.7028</td> <td>    0.031</td> <td>  -22.669</td> <td> 0.000</td> <td>   -0.764</td> <td>   -0.642</td>\n",
       "</tr>\n",
       "<tr>\n",
       "  <th>loc_ic_t2m_mou_7</th>                   <td>    0.4572</td> <td>    0.037</td> <td>   12.459</td> <td> 0.000</td> <td>    0.385</td> <td>    0.529</td>\n",
       "</tr>\n",
       "<tr>\n",
       "  <th>loc_ic_t2m_mou_8</th>                   <td>   -0.6095</td> <td>    0.099</td> <td>   -6.182</td> <td> 0.000</td> <td>   -0.803</td> <td>   -0.416</td>\n",
       "</tr>\n",
       "<tr>\n",
       "  <th>loc_ic_mou_8</th>                       <td>   -1.6892</td> <td>    0.100</td> <td>  -16.922</td> <td> 0.000</td> <td>   -1.885</td> <td>   -1.494</td>\n",
       "</tr>\n",
       "<tr>\n",
       "  <th>spl_ic_mou_9</th>                       <td> -725.7719</td> <td> 2.39e+05</td> <td>   -0.003</td> <td> 0.998</td> <td>-4.69e+05</td> <td> 4.68e+05</td>\n",
       "</tr>\n",
       "<tr>\n",
       "  <th>total_rech_amt_7</th>                   <td>   -0.4774</td> <td>    0.068</td> <td>   -7.032</td> <td> 0.000</td> <td>   -0.611</td> <td>   -0.344</td>\n",
       "</tr>\n",
       "<tr>\n",
       "  <th>total_rech_amt_8</th>                   <td>   -0.5316</td> <td>    0.063</td> <td>   -8.429</td> <td> 0.000</td> <td>   -0.655</td> <td>   -0.408</td>\n",
       "</tr>\n",
       "<tr>\n",
       "  <th>aon</th>                                <td>   -0.5787</td> <td>    0.017</td> <td>  -34.067</td> <td> 0.000</td> <td>   -0.612</td> <td>   -0.545</td>\n",
       "</tr>\n",
       "<tr>\n",
       "  <th>sep_vbc_3g</th>                         <td>   -0.4423</td> <td>    0.060</td> <td>   -7.314</td> <td> 0.000</td> <td>   -0.561</td> <td>   -0.324</td>\n",
       "</tr>\n",
       "<tr>\n",
       "  <th>fb_user_8_1.0</th>                      <td>   -1.7339</td> <td>    0.067</td> <td>  -25.798</td> <td> 0.000</td> <td>   -1.866</td> <td>   -1.602</td>\n",
       "</tr>\n",
       "<tr>\n",
       "  <th>night_pck_user_8_1.0</th>               <td>   -1.2970</td> <td>    0.438</td> <td>   -2.961</td> <td> 0.003</td> <td>   -2.156</td> <td>   -0.438</td>\n",
       "</tr>\n",
       "<tr>\n",
       "  <th>date_of_last_rech_data_6_6/13/2014</th> <td>    0.8062</td> <td>    0.207</td> <td>    3.901</td> <td> 0.000</td> <td>    0.401</td> <td>    1.211</td>\n",
       "</tr>\n",
       "<tr>\n",
       "  <th>date_of_last_rech_data_6_6/15/2014</th> <td>    0.7254</td> <td>    0.229</td> <td>    3.163</td> <td> 0.002</td> <td>    0.276</td> <td>    1.175</td>\n",
       "</tr>\n",
       "<tr>\n",
       "  <th>date_of_last_rech_data_6_6/16/2014</th> <td>    0.8727</td> <td>    0.187</td> <td>    4.667</td> <td> 0.000</td> <td>    0.506</td> <td>    1.239</td>\n",
       "</tr>\n",
       "<tr>\n",
       "  <th>date_of_last_rech_data_6_6/18/2014</th> <td>   -0.8703</td> <td>    0.229</td> <td>   -3.797</td> <td> 0.000</td> <td>   -1.320</td> <td>   -0.421</td>\n",
       "</tr>\n",
       "<tr>\n",
       "  <th>date_of_last_rech_data_6_6/19/2014</th> <td>    0.8814</td> <td>    0.182</td> <td>    4.843</td> <td> 0.000</td> <td>    0.525</td> <td>    1.238</td>\n",
       "</tr>\n",
       "<tr>\n",
       "  <th>date_of_last_rech_data_6_6/21/2014</th> <td>    0.8754</td> <td>    0.160</td> <td>    5.479</td> <td> 0.000</td> <td>    0.562</td> <td>    1.189</td>\n",
       "</tr>\n",
       "<tr>\n",
       "  <th>date_of_last_rech_data_6_6/22/2014</th> <td>    0.7942</td> <td>    0.177</td> <td>    4.479</td> <td> 0.000</td> <td>    0.447</td> <td>    1.142</td>\n",
       "</tr>\n",
       "<tr>\n",
       "  <th>date_of_last_rech_data_6_6/23/2014</th> <td>    0.8059</td> <td>    0.177</td> <td>    4.549</td> <td> 0.000</td> <td>    0.459</td> <td>    1.153</td>\n",
       "</tr>\n",
       "<tr>\n",
       "  <th>date_of_last_rech_data_6_6/25/2014</th> <td>    0.6647</td> <td>    0.154</td> <td>    4.310</td> <td> 0.000</td> <td>    0.362</td> <td>    0.967</td>\n",
       "</tr>\n",
       "<tr>\n",
       "  <th>date_of_last_rech_data_6_6/27/2014</th> <td>   -0.6449</td> <td>    0.168</td> <td>   -3.842</td> <td> 0.000</td> <td>   -0.974</td> <td>   -0.316</td>\n",
       "</tr>\n",
       "<tr>\n",
       "  <th>date_of_last_rech_data_6_6/4/2014</th>  <td>    0.6798</td> <td>    0.288</td> <td>    2.359</td> <td> 0.018</td> <td>    0.115</td> <td>    1.245</td>\n",
       "</tr>\n",
       "<tr>\n",
       "  <th>date_of_last_rech_data_6_6/9/2014</th>  <td>    0.7686</td> <td>    0.223</td> <td>    3.439</td> <td> 0.001</td> <td>    0.331</td> <td>    1.207</td>\n",
       "</tr>\n",
       "<tr>\n",
       "  <th>date_of_last_rech_data_7_7/1/2014</th>  <td>    0.8815</td> <td>    0.369</td> <td>    2.388</td> <td> 0.017</td> <td>    0.158</td> <td>    1.605</td>\n",
       "</tr>\n",
       "<tr>\n",
       "  <th>date_of_last_rech_data_7_7/14/2014</th> <td>   -0.9988</td> <td>    0.210</td> <td>   -4.762</td> <td> 0.000</td> <td>   -1.410</td> <td>   -0.588</td>\n",
       "</tr>\n",
       "<tr>\n",
       "  <th>date_of_last_rech_data_7_7/16/2014</th> <td>   -0.8249</td> <td>    0.214</td> <td>   -3.857</td> <td> 0.000</td> <td>   -1.244</td> <td>   -0.406</td>\n",
       "</tr>\n",
       "<tr>\n",
       "  <th>date_of_last_rech_data_7_7/17/2014</th> <td>   -1.2606</td> <td>    0.240</td> <td>   -5.260</td> <td> 0.000</td> <td>   -1.730</td> <td>   -0.791</td>\n",
       "</tr>\n",
       "<tr>\n",
       "  <th>date_of_last_rech_data_7_7/20/2014</th> <td>   -0.6575</td> <td>    0.236</td> <td>   -2.789</td> <td> 0.005</td> <td>   -1.120</td> <td>   -0.195</td>\n",
       "</tr>\n",
       "<tr>\n",
       "  <th>date_of_last_rech_data_7_7/21/2014</th> <td>    0.7052</td> <td>    0.203</td> <td>    3.473</td> <td> 0.001</td> <td>    0.307</td> <td>    1.103</td>\n",
       "</tr>\n",
       "<tr>\n",
       "  <th>date_of_last_rech_data_7_7/27/2014</th> <td>   -0.5113</td> <td>    0.161</td> <td>   -3.171</td> <td> 0.002</td> <td>   -0.827</td> <td>   -0.195</td>\n",
       "</tr>\n",
       "<tr>\n",
       "  <th>date_of_last_rech_data_7_7/28/2014</th> <td>   -0.7233</td> <td>    0.189</td> <td>   -3.827</td> <td> 0.000</td> <td>   -1.094</td> <td>   -0.353</td>\n",
       "</tr>\n",
       "<tr>\n",
       "  <th>date_of_last_rech_data_7_7/29/2014</th> <td>   -0.8680</td> <td>    0.155</td> <td>   -5.594</td> <td> 0.000</td> <td>   -1.172</td> <td>   -0.564</td>\n",
       "</tr>\n",
       "<tr>\n",
       "  <th>date_of_last_rech_data_7_7/3/2014</th>  <td>   -1.3470</td> <td>    0.393</td> <td>   -3.425</td> <td> 0.001</td> <td>   -2.118</td> <td>   -0.576</td>\n",
       "</tr>\n",
       "<tr>\n",
       "  <th>date_of_last_rech_data_7_7/30/2014</th> <td>   -0.8794</td> <td>    0.151</td> <td>   -5.813</td> <td> 0.000</td> <td>   -1.176</td> <td>   -0.583</td>\n",
       "</tr>\n",
       "<tr>\n",
       "  <th>date_of_last_rech_data_7_7/4/2014</th>  <td>   -0.5273</td> <td>    0.305</td> <td>   -1.730</td> <td> 0.084</td> <td>   -1.124</td> <td>    0.070</td>\n",
       "</tr>\n",
       "<tr>\n",
       "  <th>date_of_last_rech_data_7_7/6/2014</th>  <td>   -0.7090</td> <td>    0.329</td> <td>   -2.158</td> <td> 0.031</td> <td>   -1.353</td> <td>   -0.065</td>\n",
       "</tr>\n",
       "<tr>\n",
       "  <th>date_of_last_rech_data_7_7/7/2014</th>  <td>   -0.7968</td> <td>    0.258</td> <td>   -3.089</td> <td> 0.002</td> <td>   -1.302</td> <td>   -0.291</td>\n",
       "</tr>\n",
       "<tr>\n",
       "  <th>date_of_last_rech_data_8_8/1/2014</th>  <td>    0.8552</td> <td>    0.294</td> <td>    2.910</td> <td> 0.004</td> <td>    0.279</td> <td>    1.431</td>\n",
       "</tr>\n",
       "<tr>\n",
       "  <th>date_of_last_rech_data_8_8/10/2014</th> <td>    0.7731</td> <td>    0.201</td> <td>    3.851</td> <td> 0.000</td> <td>    0.380</td> <td>    1.167</td>\n",
       "</tr>\n",
       "<tr>\n",
       "  <th>date_of_last_rech_data_8_8/12/2014</th> <td>    0.9802</td> <td>    0.217</td> <td>    4.512</td> <td> 0.000</td> <td>    0.554</td> <td>    1.406</td>\n",
       "</tr>\n",
       "<tr>\n",
       "  <th>date_of_last_rech_data_8_8/13/2014</th> <td>    1.5777</td> <td>    0.199</td> <td>    7.924</td> <td> 0.000</td> <td>    1.187</td> <td>    1.968</td>\n",
       "</tr>\n",
       "<tr>\n",
       "  <th>date_of_last_rech_data_8_8/15/2014</th> <td>    0.6353</td> <td>    0.210</td> <td>    3.029</td> <td> 0.002</td> <td>    0.224</td> <td>    1.046</td>\n",
       "</tr>\n",
       "<tr>\n",
       "  <th>date_of_last_rech_data_8_8/19/2014</th> <td>    0.9751</td> <td>    0.180</td> <td>    5.410</td> <td> 0.000</td> <td>    0.622</td> <td>    1.328</td>\n",
       "</tr>\n",
       "<tr>\n",
       "  <th>date_of_last_rech_data_8_8/2/2014</th>  <td>    1.1178</td> <td>    0.265</td> <td>    4.220</td> <td> 0.000</td> <td>    0.599</td> <td>    1.637</td>\n",
       "</tr>\n",
       "<tr>\n",
       "  <th>date_of_last_rech_data_8_8/20/2014</th> <td>   -1.7843</td> <td>    0.332</td> <td>   -5.380</td> <td> 0.000</td> <td>   -2.434</td> <td>   -1.134</td>\n",
       "</tr>\n",
       "<tr>\n",
       "  <th>date_of_last_rech_data_8_8/24/2014</th> <td>    0.6355</td> <td>    0.194</td> <td>    3.277</td> <td> 0.001</td> <td>    0.255</td> <td>    1.016</td>\n",
       "</tr>\n",
       "<tr>\n",
       "  <th>date_of_last_rech_data_8_8/28/2014</th> <td>   -1.3803</td> <td>    0.244</td> <td>   -5.651</td> <td> 0.000</td> <td>   -1.859</td> <td>   -0.902</td>\n",
       "</tr>\n",
       "<tr>\n",
       "  <th>date_of_last_rech_data_8_8/29/2014</th> <td>   -0.4179</td> <td>    0.200</td> <td>   -2.085</td> <td> 0.037</td> <td>   -0.811</td> <td>   -0.025</td>\n",
       "</tr>\n",
       "<tr>\n",
       "  <th>date_of_last_rech_data_8_8/30/2014</th> <td>    0.5435</td> <td>    0.216</td> <td>    2.512</td> <td> 0.012</td> <td>    0.119</td> <td>    0.968</td>\n",
       "</tr>\n",
       "<tr>\n",
       "  <th>date_of_last_rech_data_8_8/31/2014</th> <td>    1.4443</td> <td>    0.172</td> <td>    8.394</td> <td> 0.000</td> <td>    1.107</td> <td>    1.782</td>\n",
       "</tr>\n",
       "<tr>\n",
       "  <th>date_of_last_rech_data_8_8/4/2014</th>  <td>    1.0345</td> <td>    0.218</td> <td>    4.752</td> <td> 0.000</td> <td>    0.608</td> <td>    1.461</td>\n",
       "</tr>\n",
       "<tr>\n",
       "  <th>date_of_last_rech_data_8_8/5/2014</th>  <td>   -1.1474</td> <td>    0.361</td> <td>   -3.174</td> <td> 0.002</td> <td>   -1.856</td> <td>   -0.439</td>\n",
       "</tr>\n",
       "<tr>\n",
       "  <th>date_of_last_rech_data_8_8/6/2014</th>  <td>    0.9985</td> <td>    0.224</td> <td>    4.464</td> <td> 0.000</td> <td>    0.560</td> <td>    1.437</td>\n",
       "</tr>\n",
       "<tr>\n",
       "  <th>date_of_last_rech_data_8_8/7/2014</th>  <td>   -0.5660</td> <td>    0.291</td> <td>   -1.946</td> <td> 0.052</td> <td>   -1.136</td> <td>    0.004</td>\n",
       "</tr>\n",
       "<tr>\n",
       "  <th>date_of_last_rech_data_8_8/8/2014</th>  <td>   -2.4709</td> <td>    0.525</td> <td>   -4.709</td> <td> 0.000</td> <td>   -3.499</td> <td>   -1.442</td>\n",
       "</tr>\n",
       "<tr>\n",
       "  <th>date_of_last_rech_data_9_9/1/2014</th>  <td>  -36.2893</td> <td> 2.46e+06</td> <td>-1.47e-05</td> <td> 1.000</td> <td>-4.82e+06</td> <td> 4.82e+06</td>\n",
       "</tr>\n",
       "<tr>\n",
       "  <th>date_of_last_rech_6_6/10/2014</th>      <td>    0.9827</td> <td>    0.246</td> <td>    3.990</td> <td> 0.000</td> <td>    0.500</td> <td>    1.465</td>\n",
       "</tr>\n",
       "<tr>\n",
       "  <th>date_of_last_rech_6_6/16/2014</th>      <td>   -0.5059</td> <td>    0.153</td> <td>   -3.304</td> <td> 0.001</td> <td>   -0.806</td> <td>   -0.206</td>\n",
       "</tr>\n",
       "<tr>\n",
       "  <th>date_of_last_rech_6_6/18/2014</th>      <td>   -0.4394</td> <td>    0.097</td> <td>   -4.528</td> <td> 0.000</td> <td>   -0.630</td> <td>   -0.249</td>\n",
       "</tr>\n",
       "<tr>\n",
       "  <th>date_of_last_rech_6_6/23/2014</th>      <td>   -0.4587</td> <td>    0.099</td> <td>   -4.646</td> <td> 0.000</td> <td>   -0.652</td> <td>   -0.265</td>\n",
       "</tr>\n",
       "<tr>\n",
       "  <th>date_of_last_rech_6_6/3/2014</th>       <td>    0.8228</td> <td>    0.262</td> <td>    3.137</td> <td> 0.002</td> <td>    0.309</td> <td>    1.337</td>\n",
       "</tr>\n",
       "<tr>\n",
       "  <th>date_of_last_rech_6_6/4/2014</th>       <td>    1.2100</td> <td>    0.390</td> <td>    3.102</td> <td> 0.002</td> <td>    0.445</td> <td>    1.975</td>\n",
       "</tr>\n",
       "<tr>\n",
       "  <th>date_of_last_rech_6_6/8/2014</th>       <td>    0.6870</td> <td>    0.190</td> <td>    3.614</td> <td> 0.000</td> <td>    0.314</td> <td>    1.060</td>\n",
       "</tr>\n",
       "<tr>\n",
       "  <th>date_of_last_rech_6_6/9/2014</th>       <td>    0.6971</td> <td>    0.316</td> <td>    2.206</td> <td> 0.027</td> <td>    0.078</td> <td>    1.316</td>\n",
       "</tr>\n",
       "<tr>\n",
       "  <th>date_of_last_rech_7_7/14/2014</th>      <td>   -0.8215</td> <td>    0.239</td> <td>   -3.433</td> <td> 0.001</td> <td>   -1.291</td> <td>   -0.352</td>\n",
       "</tr>\n",
       "<tr>\n",
       "  <th>date_of_last_rech_7_7/18/2014</th>      <td>   -0.4496</td> <td>    0.128</td> <td>   -3.507</td> <td> 0.000</td> <td>   -0.701</td> <td>   -0.198</td>\n",
       "</tr>\n",
       "<tr>\n",
       "  <th>date_of_last_rech_7_7/20/2014</th>      <td>   -0.4287</td> <td>    0.093</td> <td>   -4.624</td> <td> 0.000</td> <td>   -0.610</td> <td>   -0.247</td>\n",
       "</tr>\n",
       "<tr>\n",
       "  <th>date_of_last_rech_7_7/28/2014</th>      <td>   -0.5935</td> <td>    0.072</td> <td>   -8.299</td> <td> 0.000</td> <td>   -0.734</td> <td>   -0.453</td>\n",
       "</tr>\n",
       "<tr>\n",
       "  <th>date_of_last_rech_7_7/5/2014</th>       <td>   -0.5044</td> <td>    0.333</td> <td>   -1.514</td> <td> 0.130</td> <td>   -1.157</td> <td>    0.148</td>\n",
       "</tr>\n",
       "<tr>\n",
       "  <th>date_of_last_rech_7_7/9/2014</th>       <td>   -0.6393</td> <td>    0.162</td> <td>   -3.943</td> <td> 0.000</td> <td>   -0.957</td> <td>   -0.322</td>\n",
       "</tr>\n",
       "<tr>\n",
       "  <th>date_of_last_rech_8_8/1/2014</th>       <td>    0.7869</td> <td>    0.247</td> <td>    3.180</td> <td> 0.001</td> <td>    0.302</td> <td>    1.272</td>\n",
       "</tr>\n",
       "<tr>\n",
       "  <th>date_of_last_rech_8_8/10/2014</th>      <td>   -0.7709</td> <td>    0.212</td> <td>   -3.628</td> <td> 0.000</td> <td>   -1.187</td> <td>   -0.354</td>\n",
       "</tr>\n",
       "<tr>\n",
       "  <th>date_of_last_rech_8_8/15/2014</th>      <td>   -0.5419</td> <td>    0.166</td> <td>   -3.272</td> <td> 0.001</td> <td>   -0.866</td> <td>   -0.217</td>\n",
       "</tr>\n",
       "<tr>\n",
       "  <th>date_of_last_rech_8_8/17/2014</th>      <td>   -0.5792</td> <td>    0.165</td> <td>   -3.507</td> <td> 0.000</td> <td>   -0.903</td> <td>   -0.256</td>\n",
       "</tr>\n",
       "<tr>\n",
       "  <th>date_of_last_rech_8_8/23/2014</th>      <td>   -0.4899</td> <td>    0.122</td> <td>   -4.011</td> <td> 0.000</td> <td>   -0.729</td> <td>   -0.251</td>\n",
       "</tr>\n",
       "<tr>\n",
       "  <th>date_of_last_rech_8_8/24/2014</th>      <td>   -0.4645</td> <td>    0.056</td> <td>   -8.310</td> <td> 0.000</td> <td>   -0.574</td> <td>   -0.355</td>\n",
       "</tr>\n",
       "<tr>\n",
       "  <th>date_of_last_rech_8_8/27/2014</th>      <td>   -0.9157</td> <td>    0.079</td> <td>  -11.560</td> <td> 0.000</td> <td>   -1.071</td> <td>   -0.760</td>\n",
       "</tr>\n",
       "<tr>\n",
       "  <th>date_of_last_rech_8_8/29/2014</th>      <td>   -0.6687</td> <td>    0.058</td> <td>  -11.555</td> <td> 0.000</td> <td>   -0.782</td> <td>   -0.555</td>\n",
       "</tr>\n",
       "<tr>\n",
       "  <th>date_of_last_rech_8_8/3/2014</th>       <td>   -0.7861</td> <td>    0.339</td> <td>   -2.322</td> <td> 0.020</td> <td>   -1.450</td> <td>   -0.122</td>\n",
       "</tr>\n",
       "<tr>\n",
       "  <th>date_of_last_rech_8_8/30/2014</th>      <td>   -2.0678</td> <td>    0.085</td> <td>  -24.269</td> <td> 0.000</td> <td>   -2.235</td> <td>   -1.901</td>\n",
       "</tr>\n",
       "<tr>\n",
       "  <th>date_of_last_rech_8_8/31/2014</th>      <td>   -2.1364</td> <td>    0.076</td> <td>  -28.124</td> <td> 0.000</td> <td>   -2.285</td> <td>   -1.988</td>\n",
       "</tr>\n",
       "<tr>\n",
       "  <th>date_of_last_rech_8_8/6/2014</th>       <td>   -0.6051</td> <td>    0.165</td> <td>   -3.659</td> <td> 0.000</td> <td>   -0.929</td> <td>   -0.281</td>\n",
       "</tr>\n",
       "<tr>\n",
       "  <th>date_of_last_rech_8_8/8/2014</th>       <td>   -0.6246</td> <td>    0.155</td> <td>   -4.023</td> <td> 0.000</td> <td>   -0.929</td> <td>   -0.320</td>\n",
       "</tr>\n",
       "<tr>\n",
       "  <th>date_of_last_rech_8_8/9/2014</th>       <td>   -1.2653</td> <td>    0.160</td> <td>   -7.902</td> <td> 0.000</td> <td>   -1.579</td> <td>   -0.951</td>\n",
       "</tr>\n",
       "<tr>\n",
       "  <th>last_date_of_month_6_6/30/2014</th>     <td> -107.2475</td> <td> 8.52e+05</td> <td>   -0.000</td> <td> 1.000</td> <td>-1.67e+06</td> <td> 1.67e+06</td>\n",
       "</tr>\n",
       "<tr>\n",
       "  <th>last_date_of_month_7_7/31/2014</th>     <td>  -30.9481</td> <td> 6.93e+05</td> <td>-4.47e-05</td> <td> 1.000</td> <td>-1.36e+06</td> <td> 1.36e+06</td>\n",
       "</tr>\n",
       "<tr>\n",
       "  <th>last_date_of_month_8_8/31/2014</th>     <td>  -33.0028</td> <td> 5.52e+05</td> <td>-5.98e-05</td> <td> 1.000</td> <td>-1.08e+06</td> <td> 1.08e+06</td>\n",
       "</tr>\n",
       "</table>"
      ],
      "text/plain": [
       "<class 'statsmodels.iolib.summary.Summary'>\n",
       "\"\"\"\n",
       "                 Generalized Linear Model Regression Results                  \n",
       "==============================================================================\n",
       "Dep. Variable:             churn_flag   No. Observations:                37962\n",
       "Model:                            GLM   Df Residuals:                    37872\n",
       "Model Family:                Binomial   Df Model:                           89\n",
       "Link Function:                  logit   Scale:                          1.0000\n",
       "Method:                          IRLS   Log-Likelihood:                    nan\n",
       "Date:                Wed, 09 Mar 2022   Deviance:                       25267.\n",
       "Time:                        23:06:59   Pearson chi2:                 1.31e+05\n",
       "No. Iterations:                    34                                         \n",
       "Covariance Type:            nonrobust                                         \n",
       "======================================================================================================\n",
       "                                         coef    std err          z      P>|z|      [0.025      0.975]\n",
       "------------------------------------------------------------------------------------------------------\n",
       "arpu_7                                 0.8607      0.070     12.303      0.000       0.724       0.998\n",
       "arpu_8                                 0.6362      0.066      9.621      0.000       0.507       0.766\n",
       "std_og_mou_6                           0.4880      0.026     18.948      0.000       0.438       0.538\n",
       "total_og_mou_8                        -0.7028      0.031    -22.669      0.000      -0.764      -0.642\n",
       "loc_ic_t2m_mou_7                       0.4572      0.037     12.459      0.000       0.385       0.529\n",
       "loc_ic_t2m_mou_8                      -0.6095      0.099     -6.182      0.000      -0.803      -0.416\n",
       "loc_ic_mou_8                          -1.6892      0.100    -16.922      0.000      -1.885      -1.494\n",
       "spl_ic_mou_9                        -725.7719   2.39e+05     -0.003      0.998   -4.69e+05    4.68e+05\n",
       "total_rech_amt_7                      -0.4774      0.068     -7.032      0.000      -0.611      -0.344\n",
       "total_rech_amt_8                      -0.5316      0.063     -8.429      0.000      -0.655      -0.408\n",
       "aon                                   -0.5787      0.017    -34.067      0.000      -0.612      -0.545\n",
       "sep_vbc_3g                            -0.4423      0.060     -7.314      0.000      -0.561      -0.324\n",
       "fb_user_8_1.0                         -1.7339      0.067    -25.798      0.000      -1.866      -1.602\n",
       "night_pck_user_8_1.0                  -1.2970      0.438     -2.961      0.003      -2.156      -0.438\n",
       "date_of_last_rech_data_6_6/13/2014     0.8062      0.207      3.901      0.000       0.401       1.211\n",
       "date_of_last_rech_data_6_6/15/2014     0.7254      0.229      3.163      0.002       0.276       1.175\n",
       "date_of_last_rech_data_6_6/16/2014     0.8727      0.187      4.667      0.000       0.506       1.239\n",
       "date_of_last_rech_data_6_6/18/2014    -0.8703      0.229     -3.797      0.000      -1.320      -0.421\n",
       "date_of_last_rech_data_6_6/19/2014     0.8814      0.182      4.843      0.000       0.525       1.238\n",
       "date_of_last_rech_data_6_6/21/2014     0.8754      0.160      5.479      0.000       0.562       1.189\n",
       "date_of_last_rech_data_6_6/22/2014     0.7942      0.177      4.479      0.000       0.447       1.142\n",
       "date_of_last_rech_data_6_6/23/2014     0.8059      0.177      4.549      0.000       0.459       1.153\n",
       "date_of_last_rech_data_6_6/25/2014     0.6647      0.154      4.310      0.000       0.362       0.967\n",
       "date_of_last_rech_data_6_6/27/2014    -0.6449      0.168     -3.842      0.000      -0.974      -0.316\n",
       "date_of_last_rech_data_6_6/4/2014      0.6798      0.288      2.359      0.018       0.115       1.245\n",
       "date_of_last_rech_data_6_6/9/2014      0.7686      0.223      3.439      0.001       0.331       1.207\n",
       "date_of_last_rech_data_7_7/1/2014      0.8815      0.369      2.388      0.017       0.158       1.605\n",
       "date_of_last_rech_data_7_7/14/2014    -0.9988      0.210     -4.762      0.000      -1.410      -0.588\n",
       "date_of_last_rech_data_7_7/16/2014    -0.8249      0.214     -3.857      0.000      -1.244      -0.406\n",
       "date_of_last_rech_data_7_7/17/2014    -1.2606      0.240     -5.260      0.000      -1.730      -0.791\n",
       "date_of_last_rech_data_7_7/20/2014    -0.6575      0.236     -2.789      0.005      -1.120      -0.195\n",
       "date_of_last_rech_data_7_7/21/2014     0.7052      0.203      3.473      0.001       0.307       1.103\n",
       "date_of_last_rech_data_7_7/27/2014    -0.5113      0.161     -3.171      0.002      -0.827      -0.195\n",
       "date_of_last_rech_data_7_7/28/2014    -0.7233      0.189     -3.827      0.000      -1.094      -0.353\n",
       "date_of_last_rech_data_7_7/29/2014    -0.8680      0.155     -5.594      0.000      -1.172      -0.564\n",
       "date_of_last_rech_data_7_7/3/2014     -1.3470      0.393     -3.425      0.001      -2.118      -0.576\n",
       "date_of_last_rech_data_7_7/30/2014    -0.8794      0.151     -5.813      0.000      -1.176      -0.583\n",
       "date_of_last_rech_data_7_7/4/2014     -0.5273      0.305     -1.730      0.084      -1.124       0.070\n",
       "date_of_last_rech_data_7_7/6/2014     -0.7090      0.329     -2.158      0.031      -1.353      -0.065\n",
       "date_of_last_rech_data_7_7/7/2014     -0.7968      0.258     -3.089      0.002      -1.302      -0.291\n",
       "date_of_last_rech_data_8_8/1/2014      0.8552      0.294      2.910      0.004       0.279       1.431\n",
       "date_of_last_rech_data_8_8/10/2014     0.7731      0.201      3.851      0.000       0.380       1.167\n",
       "date_of_last_rech_data_8_8/12/2014     0.9802      0.217      4.512      0.000       0.554       1.406\n",
       "date_of_last_rech_data_8_8/13/2014     1.5777      0.199      7.924      0.000       1.187       1.968\n",
       "date_of_last_rech_data_8_8/15/2014     0.6353      0.210      3.029      0.002       0.224       1.046\n",
       "date_of_last_rech_data_8_8/19/2014     0.9751      0.180      5.410      0.000       0.622       1.328\n",
       "date_of_last_rech_data_8_8/2/2014      1.1178      0.265      4.220      0.000       0.599       1.637\n",
       "date_of_last_rech_data_8_8/20/2014    -1.7843      0.332     -5.380      0.000      -2.434      -1.134\n",
       "date_of_last_rech_data_8_8/24/2014     0.6355      0.194      3.277      0.001       0.255       1.016\n",
       "date_of_last_rech_data_8_8/28/2014    -1.3803      0.244     -5.651      0.000      -1.859      -0.902\n",
       "date_of_last_rech_data_8_8/29/2014    -0.4179      0.200     -2.085      0.037      -0.811      -0.025\n",
       "date_of_last_rech_data_8_8/30/2014     0.5435      0.216      2.512      0.012       0.119       0.968\n",
       "date_of_last_rech_data_8_8/31/2014     1.4443      0.172      8.394      0.000       1.107       1.782\n",
       "date_of_last_rech_data_8_8/4/2014      1.0345      0.218      4.752      0.000       0.608       1.461\n",
       "date_of_last_rech_data_8_8/5/2014     -1.1474      0.361     -3.174      0.002      -1.856      -0.439\n",
       "date_of_last_rech_data_8_8/6/2014      0.9985      0.224      4.464      0.000       0.560       1.437\n",
       "date_of_last_rech_data_8_8/7/2014     -0.5660      0.291     -1.946      0.052      -1.136       0.004\n",
       "date_of_last_rech_data_8_8/8/2014     -2.4709      0.525     -4.709      0.000      -3.499      -1.442\n",
       "date_of_last_rech_data_9_9/1/2014    -36.2893   2.46e+06  -1.47e-05      1.000   -4.82e+06    4.82e+06\n",
       "date_of_last_rech_6_6/10/2014          0.9827      0.246      3.990      0.000       0.500       1.465\n",
       "date_of_last_rech_6_6/16/2014         -0.5059      0.153     -3.304      0.001      -0.806      -0.206\n",
       "date_of_last_rech_6_6/18/2014         -0.4394      0.097     -4.528      0.000      -0.630      -0.249\n",
       "date_of_last_rech_6_6/23/2014         -0.4587      0.099     -4.646      0.000      -0.652      -0.265\n",
       "date_of_last_rech_6_6/3/2014           0.8228      0.262      3.137      0.002       0.309       1.337\n",
       "date_of_last_rech_6_6/4/2014           1.2100      0.390      3.102      0.002       0.445       1.975\n",
       "date_of_last_rech_6_6/8/2014           0.6870      0.190      3.614      0.000       0.314       1.060\n",
       "date_of_last_rech_6_6/9/2014           0.6971      0.316      2.206      0.027       0.078       1.316\n",
       "date_of_last_rech_7_7/14/2014         -0.8215      0.239     -3.433      0.001      -1.291      -0.352\n",
       "date_of_last_rech_7_7/18/2014         -0.4496      0.128     -3.507      0.000      -0.701      -0.198\n",
       "date_of_last_rech_7_7/20/2014         -0.4287      0.093     -4.624      0.000      -0.610      -0.247\n",
       "date_of_last_rech_7_7/28/2014         -0.5935      0.072     -8.299      0.000      -0.734      -0.453\n",
       "date_of_last_rech_7_7/5/2014          -0.5044      0.333     -1.514      0.130      -1.157       0.148\n",
       "date_of_last_rech_7_7/9/2014          -0.6393      0.162     -3.943      0.000      -0.957      -0.322\n",
       "date_of_last_rech_8_8/1/2014           0.7869      0.247      3.180      0.001       0.302       1.272\n",
       "date_of_last_rech_8_8/10/2014         -0.7709      0.212     -3.628      0.000      -1.187      -0.354\n",
       "date_of_last_rech_8_8/15/2014         -0.5419      0.166     -3.272      0.001      -0.866      -0.217\n",
       "date_of_last_rech_8_8/17/2014         -0.5792      0.165     -3.507      0.000      -0.903      -0.256\n",
       "date_of_last_rech_8_8/23/2014         -0.4899      0.122     -4.011      0.000      -0.729      -0.251\n",
       "date_of_last_rech_8_8/24/2014         -0.4645      0.056     -8.310      0.000      -0.574      -0.355\n",
       "date_of_last_rech_8_8/27/2014         -0.9157      0.079    -11.560      0.000      -1.071      -0.760\n",
       "date_of_last_rech_8_8/29/2014         -0.6687      0.058    -11.555      0.000      -0.782      -0.555\n",
       "date_of_last_rech_8_8/3/2014          -0.7861      0.339     -2.322      0.020      -1.450      -0.122\n",
       "date_of_last_rech_8_8/30/2014         -2.0678      0.085    -24.269      0.000      -2.235      -1.901\n",
       "date_of_last_rech_8_8/31/2014         -2.1364      0.076    -28.124      0.000      -2.285      -1.988\n",
       "date_of_last_rech_8_8/6/2014          -0.6051      0.165     -3.659      0.000      -0.929      -0.281\n",
       "date_of_last_rech_8_8/8/2014          -0.6246      0.155     -4.023      0.000      -0.929      -0.320\n",
       "date_of_last_rech_8_8/9/2014          -1.2653      0.160     -7.902      0.000      -1.579      -0.951\n",
       "last_date_of_month_6_6/30/2014      -107.2475   8.52e+05     -0.000      1.000   -1.67e+06    1.67e+06\n",
       "last_date_of_month_7_7/31/2014       -30.9481   6.93e+05  -4.47e-05      1.000   -1.36e+06    1.36e+06\n",
       "last_date_of_month_8_8/31/2014       -33.0028   5.52e+05  -5.98e-05      1.000   -1.08e+06    1.08e+06\n",
       "======================================================================================================\n",
       "\"\"\""
      ]
     },
     "execution_count": 393,
     "metadata": {},
     "output_type": "execute_result"
    }
   ],
   "source": [
    "X_train_sm = sm.add_constant(X_train_1)\n",
    "logm2 = sm.GLM(y_train,X_train_sm, family = sm.families.Binomial())\n",
    "res = logm2.fit()\n",
    "res.summary()"
   ]
  },
  {
   "cell_type": "code",
   "execution_count": 394,
   "id": "6de0956a",
   "metadata": {},
   "outputs": [],
   "source": [
    "# will remove multiple columns, where p value is greater than 0.05 -\n",
    "\n",
    "X = X_train_1.drop(['spl_ic_mou_9','date_of_last_rech_data_7_7/4/2014','date_of_last_rech_data_9_9/1/2014','date_of_last_rech_data_9_9/1/2014','date_of_last_rech_data_9_9/1/2014','last_date_of_month_7_7/31/2014'],axis=1)"
   ]
  },
  {
   "cell_type": "code",
   "execution_count": 395,
   "id": "e71d6436",
   "metadata": {},
   "outputs": [
    {
     "data": {
      "text/html": [
       "<table class=\"simpletable\">\n",
       "<caption>Generalized Linear Model Regression Results</caption>\n",
       "<tr>\n",
       "  <th>Dep. Variable:</th>      <td>churn_flag</td>    <th>  No. Observations:  </th>  <td> 37962</td> \n",
       "</tr>\n",
       "<tr>\n",
       "  <th>Model:</th>                  <td>GLM</td>       <th>  Df Residuals:      </th>  <td> 37876</td> \n",
       "</tr>\n",
       "<tr>\n",
       "  <th>Model Family:</th>        <td>Binomial</td>     <th>  Df Model:          </th>  <td>    85</td> \n",
       "</tr>\n",
       "<tr>\n",
       "  <th>Link Function:</th>         <td>logit</td>      <th>  Scale:             </th> <td>  1.0000</td>\n",
       "</tr>\n",
       "<tr>\n",
       "  <th>Method:</th>                <td>IRLS</td>       <th>  Log-Likelihood:    </th> <td> -15249.</td>\n",
       "</tr>\n",
       "<tr>\n",
       "  <th>Date:</th>            <td>Wed, 09 Mar 2022</td> <th>  Deviance:          </th> <td>  30498.</td>\n",
       "</tr>\n",
       "<tr>\n",
       "  <th>Time:</th>                <td>23:07:02</td>     <th>  Pearson chi2:      </th> <td>2.67e+05</td>\n",
       "</tr>\n",
       "<tr>\n",
       "  <th>No. Iterations:</th>         <td>26</td>        <th>                     </th>     <td> </td>   \n",
       "</tr>\n",
       "<tr>\n",
       "  <th>Covariance Type:</th>     <td>nonrobust</td>    <th>                     </th>     <td> </td>   \n",
       "</tr>\n",
       "</table>\n",
       "<table class=\"simpletable\">\n",
       "<tr>\n",
       "                   <td></td>                     <th>coef</th>     <th>std err</th>      <th>z</th>      <th>P>|z|</th>  <th>[0.025</th>    <th>0.975]</th>  \n",
       "</tr>\n",
       "<tr>\n",
       "  <th>arpu_7</th>                             <td>    0.8764</td> <td>    0.067</td> <td>   13.163</td> <td> 0.000</td> <td>    0.746</td> <td>    1.007</td>\n",
       "</tr>\n",
       "<tr>\n",
       "  <th>arpu_8</th>                             <td>    0.6233</td> <td>    0.063</td> <td>    9.908</td> <td> 0.000</td> <td>    0.500</td> <td>    0.747</td>\n",
       "</tr>\n",
       "<tr>\n",
       "  <th>std_og_mou_6</th>                       <td>    0.4839</td> <td>    0.023</td> <td>   21.063</td> <td> 0.000</td> <td>    0.439</td> <td>    0.529</td>\n",
       "</tr>\n",
       "<tr>\n",
       "  <th>total_og_mou_8</th>                     <td>   -0.8053</td> <td>    0.030</td> <td>  -26.819</td> <td> 0.000</td> <td>   -0.864</td> <td>   -0.746</td>\n",
       "</tr>\n",
       "<tr>\n",
       "  <th>loc_ic_t2m_mou_7</th>                   <td>    0.4837</td> <td>    0.035</td> <td>   13.757</td> <td> 0.000</td> <td>    0.415</td> <td>    0.553</td>\n",
       "</tr>\n",
       "<tr>\n",
       "  <th>loc_ic_t2m_mou_8</th>                   <td>   -0.6426</td> <td>    0.098</td> <td>   -6.531</td> <td> 0.000</td> <td>   -0.835</td> <td>   -0.450</td>\n",
       "</tr>\n",
       "<tr>\n",
       "  <th>loc_ic_mou_8</th>                       <td>   -1.8215</td> <td>    0.099</td> <td>  -18.341</td> <td> 0.000</td> <td>   -2.016</td> <td>   -1.627</td>\n",
       "</tr>\n",
       "<tr>\n",
       "  <th>total_rech_amt_7</th>                   <td>   -0.4395</td> <td>    0.065</td> <td>   -6.777</td> <td> 0.000</td> <td>   -0.567</td> <td>   -0.312</td>\n",
       "</tr>\n",
       "<tr>\n",
       "  <th>total_rech_amt_8</th>                   <td>   -0.5194</td> <td>    0.060</td> <td>   -8.634</td> <td> 0.000</td> <td>   -0.637</td> <td>   -0.401</td>\n",
       "</tr>\n",
       "<tr>\n",
       "  <th>aon</th>                                <td>   -0.4617</td> <td>    0.016</td> <td>  -29.184</td> <td> 0.000</td> <td>   -0.493</td> <td>   -0.431</td>\n",
       "</tr>\n",
       "<tr>\n",
       "  <th>sep_vbc_3g</th>                         <td>   -0.5004</td> <td>    0.068</td> <td>   -7.393</td> <td> 0.000</td> <td>   -0.633</td> <td>   -0.368</td>\n",
       "</tr>\n",
       "<tr>\n",
       "  <th>fb_user_8_1.0</th>                      <td>   -1.6696</td> <td>    0.063</td> <td>  -26.611</td> <td> 0.000</td> <td>   -1.793</td> <td>   -1.547</td>\n",
       "</tr>\n",
       "<tr>\n",
       "  <th>night_pck_user_8_1.0</th>               <td>   -1.0979</td> <td>    0.392</td> <td>   -2.803</td> <td> 0.005</td> <td>   -1.866</td> <td>   -0.330</td>\n",
       "</tr>\n",
       "<tr>\n",
       "  <th>date_of_last_rech_data_6_6/13/2014</th> <td>    0.7946</td> <td>    0.186</td> <td>    4.281</td> <td> 0.000</td> <td>    0.431</td> <td>    1.158</td>\n",
       "</tr>\n",
       "<tr>\n",
       "  <th>date_of_last_rech_data_6_6/15/2014</th> <td>    0.6913</td> <td>    0.210</td> <td>    3.291</td> <td> 0.001</td> <td>    0.280</td> <td>    1.103</td>\n",
       "</tr>\n",
       "<tr>\n",
       "  <th>date_of_last_rech_data_6_6/16/2014</th> <td>    0.8556</td> <td>    0.171</td> <td>    4.992</td> <td> 0.000</td> <td>    0.520</td> <td>    1.191</td>\n",
       "</tr>\n",
       "<tr>\n",
       "  <th>date_of_last_rech_data_6_6/18/2014</th> <td>   -0.8106</td> <td>    0.212</td> <td>   -3.821</td> <td> 0.000</td> <td>   -1.226</td> <td>   -0.395</td>\n",
       "</tr>\n",
       "<tr>\n",
       "  <th>date_of_last_rech_data_6_6/19/2014</th> <td>    0.9483</td> <td>    0.171</td> <td>    5.537</td> <td> 0.000</td> <td>    0.613</td> <td>    1.284</td>\n",
       "</tr>\n",
       "<tr>\n",
       "  <th>date_of_last_rech_data_6_6/21/2014</th> <td>    0.9500</td> <td>    0.150</td> <td>    6.349</td> <td> 0.000</td> <td>    0.657</td> <td>    1.243</td>\n",
       "</tr>\n",
       "<tr>\n",
       "  <th>date_of_last_rech_data_6_6/22/2014</th> <td>    0.6932</td> <td>    0.161</td> <td>    4.301</td> <td> 0.000</td> <td>    0.377</td> <td>    1.009</td>\n",
       "</tr>\n",
       "<tr>\n",
       "  <th>date_of_last_rech_data_6_6/23/2014</th> <td>    0.9208</td> <td>    0.166</td> <td>    5.534</td> <td> 0.000</td> <td>    0.595</td> <td>    1.247</td>\n",
       "</tr>\n",
       "<tr>\n",
       "  <th>date_of_last_rech_data_6_6/25/2014</th> <td>    0.5596</td> <td>    0.140</td> <td>    3.986</td> <td> 0.000</td> <td>    0.284</td> <td>    0.835</td>\n",
       "</tr>\n",
       "<tr>\n",
       "  <th>date_of_last_rech_data_6_6/27/2014</th> <td>   -0.5388</td> <td>    0.161</td> <td>   -3.353</td> <td> 0.001</td> <td>   -0.854</td> <td>   -0.224</td>\n",
       "</tr>\n",
       "<tr>\n",
       "  <th>date_of_last_rech_data_6_6/4/2014</th>  <td>    0.6370</td> <td>    0.266</td> <td>    2.395</td> <td> 0.017</td> <td>    0.116</td> <td>    1.158</td>\n",
       "</tr>\n",
       "<tr>\n",
       "  <th>date_of_last_rech_data_6_6/9/2014</th>  <td>    0.7540</td> <td>    0.202</td> <td>    3.740</td> <td> 0.000</td> <td>    0.359</td> <td>    1.149</td>\n",
       "</tr>\n",
       "<tr>\n",
       "  <th>date_of_last_rech_data_7_7/1/2014</th>  <td>    0.6914</td> <td>    0.320</td> <td>    2.161</td> <td> 0.031</td> <td>    0.064</td> <td>    1.319</td>\n",
       "</tr>\n",
       "<tr>\n",
       "  <th>date_of_last_rech_data_7_7/14/2014</th> <td>   -0.8406</td> <td>    0.199</td> <td>   -4.217</td> <td> 0.000</td> <td>   -1.231</td> <td>   -0.450</td>\n",
       "</tr>\n",
       "<tr>\n",
       "  <th>date_of_last_rech_data_7_7/16/2014</th> <td>   -0.7319</td> <td>    0.198</td> <td>   -3.704</td> <td> 0.000</td> <td>   -1.119</td> <td>   -0.345</td>\n",
       "</tr>\n",
       "<tr>\n",
       "  <th>date_of_last_rech_data_7_7/17/2014</th> <td>   -1.1644</td> <td>    0.229</td> <td>   -5.076</td> <td> 0.000</td> <td>   -1.614</td> <td>   -0.715</td>\n",
       "</tr>\n",
       "<tr>\n",
       "  <th>date_of_last_rech_data_7_7/20/2014</th> <td>   -0.5753</td> <td>    0.222</td> <td>   -2.593</td> <td> 0.010</td> <td>   -1.010</td> <td>   -0.140</td>\n",
       "</tr>\n",
       "<tr>\n",
       "  <th>date_of_last_rech_data_7_7/21/2014</th> <td>    0.5158</td> <td>    0.185</td> <td>    2.796</td> <td> 0.005</td> <td>    0.154</td> <td>    0.877</td>\n",
       "</tr>\n",
       "<tr>\n",
       "  <th>date_of_last_rech_data_7_7/27/2014</th> <td>   -0.4806</td> <td>    0.149</td> <td>   -3.235</td> <td> 0.001</td> <td>   -0.772</td> <td>   -0.189</td>\n",
       "</tr>\n",
       "<tr>\n",
       "  <th>date_of_last_rech_data_7_7/28/2014</th> <td>   -0.7477</td> <td>    0.179</td> <td>   -4.178</td> <td> 0.000</td> <td>   -1.098</td> <td>   -0.397</td>\n",
       "</tr>\n",
       "<tr>\n",
       "  <th>date_of_last_rech_data_7_7/29/2014</th> <td>   -0.7826</td> <td>    0.149</td> <td>   -5.243</td> <td> 0.000</td> <td>   -1.075</td> <td>   -0.490</td>\n",
       "</tr>\n",
       "<tr>\n",
       "  <th>date_of_last_rech_data_7_7/3/2014</th>  <td>   -1.2395</td> <td>    0.374</td> <td>   -3.318</td> <td> 0.001</td> <td>   -1.972</td> <td>   -0.507</td>\n",
       "</tr>\n",
       "<tr>\n",
       "  <th>date_of_last_rech_data_7_7/30/2014</th> <td>   -0.8255</td> <td>    0.144</td> <td>   -5.723</td> <td> 0.000</td> <td>   -1.108</td> <td>   -0.543</td>\n",
       "</tr>\n",
       "<tr>\n",
       "  <th>date_of_last_rech_data_7_7/6/2014</th>  <td>   -0.7639</td> <td>    0.297</td> <td>   -2.576</td> <td> 0.010</td> <td>   -1.345</td> <td>   -0.183</td>\n",
       "</tr>\n",
       "<tr>\n",
       "  <th>date_of_last_rech_data_7_7/7/2014</th>  <td>   -0.6883</td> <td>    0.242</td> <td>   -2.848</td> <td> 0.004</td> <td>   -1.162</td> <td>   -0.215</td>\n",
       "</tr>\n",
       "<tr>\n",
       "  <th>date_of_last_rech_data_8_8/1/2014</th>  <td>    0.6814</td> <td>    0.263</td> <td>    2.592</td> <td> 0.010</td> <td>    0.166</td> <td>    1.197</td>\n",
       "</tr>\n",
       "<tr>\n",
       "  <th>date_of_last_rech_data_8_8/10/2014</th> <td>    0.7849</td> <td>    0.191</td> <td>    4.118</td> <td> 0.000</td> <td>    0.411</td> <td>    1.159</td>\n",
       "</tr>\n",
       "<tr>\n",
       "  <th>date_of_last_rech_data_8_8/12/2014</th> <td>    0.8338</td> <td>    0.203</td> <td>    4.098</td> <td> 0.000</td> <td>    0.435</td> <td>    1.232</td>\n",
       "</tr>\n",
       "<tr>\n",
       "  <th>date_of_last_rech_data_8_8/13/2014</th> <td>    1.4276</td> <td>    0.185</td> <td>    7.725</td> <td> 0.000</td> <td>    1.065</td> <td>    1.790</td>\n",
       "</tr>\n",
       "<tr>\n",
       "  <th>date_of_last_rech_data_8_8/15/2014</th> <td>    0.4587</td> <td>    0.194</td> <td>    2.367</td> <td> 0.018</td> <td>    0.079</td> <td>    0.838</td>\n",
       "</tr>\n",
       "<tr>\n",
       "  <th>date_of_last_rech_data_8_8/19/2014</th> <td>    0.9734</td> <td>    0.174</td> <td>    5.592</td> <td> 0.000</td> <td>    0.632</td> <td>    1.315</td>\n",
       "</tr>\n",
       "<tr>\n",
       "  <th>date_of_last_rech_data_8_8/2/2014</th>  <td>    0.9362</td> <td>    0.250</td> <td>    3.741</td> <td> 0.000</td> <td>    0.446</td> <td>    1.427</td>\n",
       "</tr>\n",
       "<tr>\n",
       "  <th>date_of_last_rech_data_8_8/20/2014</th> <td>   -1.6397</td> <td>    0.315</td> <td>   -5.198</td> <td> 0.000</td> <td>   -2.258</td> <td>   -1.021</td>\n",
       "</tr>\n",
       "<tr>\n",
       "  <th>date_of_last_rech_data_8_8/24/2014</th> <td>    0.6732</td> <td>    0.179</td> <td>    3.755</td> <td> 0.000</td> <td>    0.322</td> <td>    1.025</td>\n",
       "</tr>\n",
       "<tr>\n",
       "  <th>date_of_last_rech_data_8_8/28/2014</th> <td>   -1.4216</td> <td>    0.236</td> <td>   -6.015</td> <td> 0.000</td> <td>   -1.885</td> <td>   -0.958</td>\n",
       "</tr>\n",
       "<tr>\n",
       "  <th>date_of_last_rech_data_8_8/29/2014</th> <td>   -0.4194</td> <td>    0.189</td> <td>   -2.216</td> <td> 0.027</td> <td>   -0.790</td> <td>   -0.048</td>\n",
       "</tr>\n",
       "<tr>\n",
       "  <th>date_of_last_rech_data_8_8/30/2014</th> <td>    0.5982</td> <td>    0.203</td> <td>    2.942</td> <td> 0.003</td> <td>    0.200</td> <td>    0.997</td>\n",
       "</tr>\n",
       "<tr>\n",
       "  <th>date_of_last_rech_data_8_8/31/2014</th> <td>    1.5178</td> <td>    0.162</td> <td>    9.371</td> <td> 0.000</td> <td>    1.200</td> <td>    1.835</td>\n",
       "</tr>\n",
       "<tr>\n",
       "  <th>date_of_last_rech_data_8_8/4/2014</th>  <td>    0.9192</td> <td>    0.201</td> <td>    4.567</td> <td> 0.000</td> <td>    0.525</td> <td>    1.314</td>\n",
       "</tr>\n",
       "<tr>\n",
       "  <th>date_of_last_rech_data_8_8/5/2014</th>  <td>   -1.3014</td> <td>    0.352</td> <td>   -3.695</td> <td> 0.000</td> <td>   -1.992</td> <td>   -0.611</td>\n",
       "</tr>\n",
       "<tr>\n",
       "  <th>date_of_last_rech_data_8_8/6/2014</th>  <td>    0.8416</td> <td>    0.211</td> <td>    3.989</td> <td> 0.000</td> <td>    0.428</td> <td>    1.255</td>\n",
       "</tr>\n",
       "<tr>\n",
       "  <th>date_of_last_rech_data_8_8/7/2014</th>  <td>   -0.5181</td> <td>    0.273</td> <td>   -1.901</td> <td> 0.057</td> <td>   -1.052</td> <td>    0.016</td>\n",
       "</tr>\n",
       "<tr>\n",
       "  <th>date_of_last_rech_data_8_8/8/2014</th>  <td>   -2.4066</td> <td>    0.491</td> <td>   -4.902</td> <td> 0.000</td> <td>   -3.369</td> <td>   -1.444</td>\n",
       "</tr>\n",
       "<tr>\n",
       "  <th>date_of_last_rech_6_6/10/2014</th>      <td>    0.8489</td> <td>    0.223</td> <td>    3.814</td> <td> 0.000</td> <td>    0.413</td> <td>    1.285</td>\n",
       "</tr>\n",
       "<tr>\n",
       "  <th>date_of_last_rech_6_6/16/2014</th>      <td>   -0.4521</td> <td>    0.140</td> <td>   -3.239</td> <td> 0.001</td> <td>   -0.726</td> <td>   -0.179</td>\n",
       "</tr>\n",
       "<tr>\n",
       "  <th>date_of_last_rech_6_6/18/2014</th>      <td>   -0.4023</td> <td>    0.088</td> <td>   -4.558</td> <td> 0.000</td> <td>   -0.575</td> <td>   -0.229</td>\n",
       "</tr>\n",
       "<tr>\n",
       "  <th>date_of_last_rech_6_6/23/2014</th>      <td>   -0.4625</td> <td>    0.090</td> <td>   -5.157</td> <td> 0.000</td> <td>   -0.638</td> <td>   -0.287</td>\n",
       "</tr>\n",
       "<tr>\n",
       "  <th>date_of_last_rech_6_6/3/2014</th>       <td>    0.9071</td> <td>    0.233</td> <td>    3.898</td> <td> 0.000</td> <td>    0.451</td> <td>    1.363</td>\n",
       "</tr>\n",
       "<tr>\n",
       "  <th>date_of_last_rech_6_6/4/2014</th>       <td>    0.9303</td> <td>    0.334</td> <td>    2.787</td> <td> 0.005</td> <td>    0.276</td> <td>    1.585</td>\n",
       "</tr>\n",
       "<tr>\n",
       "  <th>date_of_last_rech_6_6/8/2014</th>       <td>    0.6965</td> <td>    0.177</td> <td>    3.933</td> <td> 0.000</td> <td>    0.349</td> <td>    1.044</td>\n",
       "</tr>\n",
       "<tr>\n",
       "  <th>date_of_last_rech_6_6/9/2014</th>       <td>    0.7795</td> <td>    0.283</td> <td>    2.753</td> <td> 0.006</td> <td>    0.225</td> <td>    1.334</td>\n",
       "</tr>\n",
       "<tr>\n",
       "  <th>date_of_last_rech_7_7/14/2014</th>      <td>   -0.7136</td> <td>    0.218</td> <td>   -3.269</td> <td> 0.001</td> <td>   -1.141</td> <td>   -0.286</td>\n",
       "</tr>\n",
       "<tr>\n",
       "  <th>date_of_last_rech_7_7/18/2014</th>      <td>   -0.4411</td> <td>    0.117</td> <td>   -3.763</td> <td> 0.000</td> <td>   -0.671</td> <td>   -0.211</td>\n",
       "</tr>\n",
       "<tr>\n",
       "  <th>date_of_last_rech_7_7/20/2014</th>      <td>   -0.4124</td> <td>    0.084</td> <td>   -4.907</td> <td> 0.000</td> <td>   -0.577</td> <td>   -0.248</td>\n",
       "</tr>\n",
       "<tr>\n",
       "  <th>date_of_last_rech_7_7/28/2014</th>      <td>   -0.5916</td> <td>    0.065</td> <td>   -9.063</td> <td> 0.000</td> <td>   -0.719</td> <td>   -0.464</td>\n",
       "</tr>\n",
       "<tr>\n",
       "  <th>date_of_last_rech_7_7/5/2014</th>       <td>   -0.3014</td> <td>    0.319</td> <td>   -0.944</td> <td> 0.345</td> <td>   -0.928</td> <td>    0.325</td>\n",
       "</tr>\n",
       "<tr>\n",
       "  <th>date_of_last_rech_7_7/9/2014</th>       <td>   -0.6170</td> <td>    0.146</td> <td>   -4.238</td> <td> 0.000</td> <td>   -0.902</td> <td>   -0.332</td>\n",
       "</tr>\n",
       "<tr>\n",
       "  <th>date_of_last_rech_8_8/1/2014</th>       <td>    0.8099</td> <td>    0.220</td> <td>    3.676</td> <td> 0.000</td> <td>    0.378</td> <td>    1.242</td>\n",
       "</tr>\n",
       "<tr>\n",
       "  <th>date_of_last_rech_8_8/10/2014</th>      <td>   -0.6610</td> <td>    0.200</td> <td>   -3.309</td> <td> 0.001</td> <td>   -1.053</td> <td>   -0.269</td>\n",
       "</tr>\n",
       "<tr>\n",
       "  <th>date_of_last_rech_8_8/15/2014</th>      <td>   -0.4026</td> <td>    0.150</td> <td>   -2.677</td> <td> 0.007</td> <td>   -0.697</td> <td>   -0.108</td>\n",
       "</tr>\n",
       "<tr>\n",
       "  <th>date_of_last_rech_8_8/17/2014</th>      <td>   -0.4495</td> <td>    0.154</td> <td>   -2.912</td> <td> 0.004</td> <td>   -0.752</td> <td>   -0.147</td>\n",
       "</tr>\n",
       "<tr>\n",
       "  <th>date_of_last_rech_8_8/23/2014</th>      <td>   -0.4633</td> <td>    0.114</td> <td>   -4.052</td> <td> 0.000</td> <td>   -0.687</td> <td>   -0.239</td>\n",
       "</tr>\n",
       "<tr>\n",
       "  <th>date_of_last_rech_8_8/24/2014</th>      <td>   -0.5973</td> <td>    0.048</td> <td>  -12.325</td> <td> 0.000</td> <td>   -0.692</td> <td>   -0.502</td>\n",
       "</tr>\n",
       "<tr>\n",
       "  <th>date_of_last_rech_8_8/27/2014</th>      <td>   -0.9677</td> <td>    0.073</td> <td>  -13.197</td> <td> 0.000</td> <td>   -1.111</td> <td>   -0.824</td>\n",
       "</tr>\n",
       "<tr>\n",
       "  <th>date_of_last_rech_8_8/29/2014</th>      <td>   -0.7298</td> <td>    0.051</td> <td>  -14.240</td> <td> 0.000</td> <td>   -0.830</td> <td>   -0.629</td>\n",
       "</tr>\n",
       "<tr>\n",
       "  <th>date_of_last_rech_8_8/3/2014</th>       <td>   -0.6610</td> <td>    0.318</td> <td>   -2.076</td> <td> 0.038</td> <td>   -1.285</td> <td>   -0.037</td>\n",
       "</tr>\n",
       "<tr>\n",
       "  <th>date_of_last_rech_8_8/30/2014</th>      <td>   -2.1327</td> <td>    0.078</td> <td>  -27.342</td> <td> 0.000</td> <td>   -2.286</td> <td>   -1.980</td>\n",
       "</tr>\n",
       "<tr>\n",
       "  <th>date_of_last_rech_8_8/31/2014</th>      <td>   -2.3043</td> <td>    0.071</td> <td>  -32.542</td> <td> 0.000</td> <td>   -2.443</td> <td>   -2.166</td>\n",
       "</tr>\n",
       "<tr>\n",
       "  <th>date_of_last_rech_8_8/6/2014</th>       <td>   -0.4003</td> <td>    0.158</td> <td>   -2.541</td> <td> 0.011</td> <td>   -0.709</td> <td>   -0.092</td>\n",
       "</tr>\n",
       "<tr>\n",
       "  <th>date_of_last_rech_8_8/8/2014</th>       <td>   -0.4672</td> <td>    0.148</td> <td>   -3.153</td> <td> 0.002</td> <td>   -0.758</td> <td>   -0.177</td>\n",
       "</tr>\n",
       "<tr>\n",
       "  <th>date_of_last_rech_8_8/9/2014</th>       <td>   -1.1921</td> <td>    0.151</td> <td>   -7.882</td> <td> 0.000</td> <td>   -1.489</td> <td>   -0.896</td>\n",
       "</tr>\n",
       "<tr>\n",
       "  <th>last_date_of_month_6_6/30/2014</th>     <td>   26.5656</td> <td> 1.16e+04</td> <td>    0.002</td> <td> 0.998</td> <td>-2.27e+04</td> <td> 2.27e+04</td>\n",
       "</tr>\n",
       "<tr>\n",
       "  <th>last_date_of_month_8_8/31/2014</th>     <td>  -26.2699</td> <td> 1.16e+04</td> <td>   -0.002</td> <td> 0.998</td> <td>-2.27e+04</td> <td> 2.27e+04</td>\n",
       "</tr>\n",
       "</table>"
      ],
      "text/plain": [
       "<class 'statsmodels.iolib.summary.Summary'>\n",
       "\"\"\"\n",
       "                 Generalized Linear Model Regression Results                  \n",
       "==============================================================================\n",
       "Dep. Variable:             churn_flag   No. Observations:                37962\n",
       "Model:                            GLM   Df Residuals:                    37876\n",
       "Model Family:                Binomial   Df Model:                           85\n",
       "Link Function:                  logit   Scale:                          1.0000\n",
       "Method:                          IRLS   Log-Likelihood:                -15249.\n",
       "Date:                Wed, 09 Mar 2022   Deviance:                       30498.\n",
       "Time:                        23:07:02   Pearson chi2:                 2.67e+05\n",
       "No. Iterations:                    26                                         \n",
       "Covariance Type:            nonrobust                                         \n",
       "======================================================================================================\n",
       "                                         coef    std err          z      P>|z|      [0.025      0.975]\n",
       "------------------------------------------------------------------------------------------------------\n",
       "arpu_7                                 0.8764      0.067     13.163      0.000       0.746       1.007\n",
       "arpu_8                                 0.6233      0.063      9.908      0.000       0.500       0.747\n",
       "std_og_mou_6                           0.4839      0.023     21.063      0.000       0.439       0.529\n",
       "total_og_mou_8                        -0.8053      0.030    -26.819      0.000      -0.864      -0.746\n",
       "loc_ic_t2m_mou_7                       0.4837      0.035     13.757      0.000       0.415       0.553\n",
       "loc_ic_t2m_mou_8                      -0.6426      0.098     -6.531      0.000      -0.835      -0.450\n",
       "loc_ic_mou_8                          -1.8215      0.099    -18.341      0.000      -2.016      -1.627\n",
       "total_rech_amt_7                      -0.4395      0.065     -6.777      0.000      -0.567      -0.312\n",
       "total_rech_amt_8                      -0.5194      0.060     -8.634      0.000      -0.637      -0.401\n",
       "aon                                   -0.4617      0.016    -29.184      0.000      -0.493      -0.431\n",
       "sep_vbc_3g                            -0.5004      0.068     -7.393      0.000      -0.633      -0.368\n",
       "fb_user_8_1.0                         -1.6696      0.063    -26.611      0.000      -1.793      -1.547\n",
       "night_pck_user_8_1.0                  -1.0979      0.392     -2.803      0.005      -1.866      -0.330\n",
       "date_of_last_rech_data_6_6/13/2014     0.7946      0.186      4.281      0.000       0.431       1.158\n",
       "date_of_last_rech_data_6_6/15/2014     0.6913      0.210      3.291      0.001       0.280       1.103\n",
       "date_of_last_rech_data_6_6/16/2014     0.8556      0.171      4.992      0.000       0.520       1.191\n",
       "date_of_last_rech_data_6_6/18/2014    -0.8106      0.212     -3.821      0.000      -1.226      -0.395\n",
       "date_of_last_rech_data_6_6/19/2014     0.9483      0.171      5.537      0.000       0.613       1.284\n",
       "date_of_last_rech_data_6_6/21/2014     0.9500      0.150      6.349      0.000       0.657       1.243\n",
       "date_of_last_rech_data_6_6/22/2014     0.6932      0.161      4.301      0.000       0.377       1.009\n",
       "date_of_last_rech_data_6_6/23/2014     0.9208      0.166      5.534      0.000       0.595       1.247\n",
       "date_of_last_rech_data_6_6/25/2014     0.5596      0.140      3.986      0.000       0.284       0.835\n",
       "date_of_last_rech_data_6_6/27/2014    -0.5388      0.161     -3.353      0.001      -0.854      -0.224\n",
       "date_of_last_rech_data_6_6/4/2014      0.6370      0.266      2.395      0.017       0.116       1.158\n",
       "date_of_last_rech_data_6_6/9/2014      0.7540      0.202      3.740      0.000       0.359       1.149\n",
       "date_of_last_rech_data_7_7/1/2014      0.6914      0.320      2.161      0.031       0.064       1.319\n",
       "date_of_last_rech_data_7_7/14/2014    -0.8406      0.199     -4.217      0.000      -1.231      -0.450\n",
       "date_of_last_rech_data_7_7/16/2014    -0.7319      0.198     -3.704      0.000      -1.119      -0.345\n",
       "date_of_last_rech_data_7_7/17/2014    -1.1644      0.229     -5.076      0.000      -1.614      -0.715\n",
       "date_of_last_rech_data_7_7/20/2014    -0.5753      0.222     -2.593      0.010      -1.010      -0.140\n",
       "date_of_last_rech_data_7_7/21/2014     0.5158      0.185      2.796      0.005       0.154       0.877\n",
       "date_of_last_rech_data_7_7/27/2014    -0.4806      0.149     -3.235      0.001      -0.772      -0.189\n",
       "date_of_last_rech_data_7_7/28/2014    -0.7477      0.179     -4.178      0.000      -1.098      -0.397\n",
       "date_of_last_rech_data_7_7/29/2014    -0.7826      0.149     -5.243      0.000      -1.075      -0.490\n",
       "date_of_last_rech_data_7_7/3/2014     -1.2395      0.374     -3.318      0.001      -1.972      -0.507\n",
       "date_of_last_rech_data_7_7/30/2014    -0.8255      0.144     -5.723      0.000      -1.108      -0.543\n",
       "date_of_last_rech_data_7_7/6/2014     -0.7639      0.297     -2.576      0.010      -1.345      -0.183\n",
       "date_of_last_rech_data_7_7/7/2014     -0.6883      0.242     -2.848      0.004      -1.162      -0.215\n",
       "date_of_last_rech_data_8_8/1/2014      0.6814      0.263      2.592      0.010       0.166       1.197\n",
       "date_of_last_rech_data_8_8/10/2014     0.7849      0.191      4.118      0.000       0.411       1.159\n",
       "date_of_last_rech_data_8_8/12/2014     0.8338      0.203      4.098      0.000       0.435       1.232\n",
       "date_of_last_rech_data_8_8/13/2014     1.4276      0.185      7.725      0.000       1.065       1.790\n",
       "date_of_last_rech_data_8_8/15/2014     0.4587      0.194      2.367      0.018       0.079       0.838\n",
       "date_of_last_rech_data_8_8/19/2014     0.9734      0.174      5.592      0.000       0.632       1.315\n",
       "date_of_last_rech_data_8_8/2/2014      0.9362      0.250      3.741      0.000       0.446       1.427\n",
       "date_of_last_rech_data_8_8/20/2014    -1.6397      0.315     -5.198      0.000      -2.258      -1.021\n",
       "date_of_last_rech_data_8_8/24/2014     0.6732      0.179      3.755      0.000       0.322       1.025\n",
       "date_of_last_rech_data_8_8/28/2014    -1.4216      0.236     -6.015      0.000      -1.885      -0.958\n",
       "date_of_last_rech_data_8_8/29/2014    -0.4194      0.189     -2.216      0.027      -0.790      -0.048\n",
       "date_of_last_rech_data_8_8/30/2014     0.5982      0.203      2.942      0.003       0.200       0.997\n",
       "date_of_last_rech_data_8_8/31/2014     1.5178      0.162      9.371      0.000       1.200       1.835\n",
       "date_of_last_rech_data_8_8/4/2014      0.9192      0.201      4.567      0.000       0.525       1.314\n",
       "date_of_last_rech_data_8_8/5/2014     -1.3014      0.352     -3.695      0.000      -1.992      -0.611\n",
       "date_of_last_rech_data_8_8/6/2014      0.8416      0.211      3.989      0.000       0.428       1.255\n",
       "date_of_last_rech_data_8_8/7/2014     -0.5181      0.273     -1.901      0.057      -1.052       0.016\n",
       "date_of_last_rech_data_8_8/8/2014     -2.4066      0.491     -4.902      0.000      -3.369      -1.444\n",
       "date_of_last_rech_6_6/10/2014          0.8489      0.223      3.814      0.000       0.413       1.285\n",
       "date_of_last_rech_6_6/16/2014         -0.4521      0.140     -3.239      0.001      -0.726      -0.179\n",
       "date_of_last_rech_6_6/18/2014         -0.4023      0.088     -4.558      0.000      -0.575      -0.229\n",
       "date_of_last_rech_6_6/23/2014         -0.4625      0.090     -5.157      0.000      -0.638      -0.287\n",
       "date_of_last_rech_6_6/3/2014           0.9071      0.233      3.898      0.000       0.451       1.363\n",
       "date_of_last_rech_6_6/4/2014           0.9303      0.334      2.787      0.005       0.276       1.585\n",
       "date_of_last_rech_6_6/8/2014           0.6965      0.177      3.933      0.000       0.349       1.044\n",
       "date_of_last_rech_6_6/9/2014           0.7795      0.283      2.753      0.006       0.225       1.334\n",
       "date_of_last_rech_7_7/14/2014         -0.7136      0.218     -3.269      0.001      -1.141      -0.286\n",
       "date_of_last_rech_7_7/18/2014         -0.4411      0.117     -3.763      0.000      -0.671      -0.211\n",
       "date_of_last_rech_7_7/20/2014         -0.4124      0.084     -4.907      0.000      -0.577      -0.248\n",
       "date_of_last_rech_7_7/28/2014         -0.5916      0.065     -9.063      0.000      -0.719      -0.464\n",
       "date_of_last_rech_7_7/5/2014          -0.3014      0.319     -0.944      0.345      -0.928       0.325\n",
       "date_of_last_rech_7_7/9/2014          -0.6170      0.146     -4.238      0.000      -0.902      -0.332\n",
       "date_of_last_rech_8_8/1/2014           0.8099      0.220      3.676      0.000       0.378       1.242\n",
       "date_of_last_rech_8_8/10/2014         -0.6610      0.200     -3.309      0.001      -1.053      -0.269\n",
       "date_of_last_rech_8_8/15/2014         -0.4026      0.150     -2.677      0.007      -0.697      -0.108\n",
       "date_of_last_rech_8_8/17/2014         -0.4495      0.154     -2.912      0.004      -0.752      -0.147\n",
       "date_of_last_rech_8_8/23/2014         -0.4633      0.114     -4.052      0.000      -0.687      -0.239\n",
       "date_of_last_rech_8_8/24/2014         -0.5973      0.048    -12.325      0.000      -0.692      -0.502\n",
       "date_of_last_rech_8_8/27/2014         -0.9677      0.073    -13.197      0.000      -1.111      -0.824\n",
       "date_of_last_rech_8_8/29/2014         -0.7298      0.051    -14.240      0.000      -0.830      -0.629\n",
       "date_of_last_rech_8_8/3/2014          -0.6610      0.318     -2.076      0.038      -1.285      -0.037\n",
       "date_of_last_rech_8_8/30/2014         -2.1327      0.078    -27.342      0.000      -2.286      -1.980\n",
       "date_of_last_rech_8_8/31/2014         -2.3043      0.071    -32.542      0.000      -2.443      -2.166\n",
       "date_of_last_rech_8_8/6/2014          -0.4003      0.158     -2.541      0.011      -0.709      -0.092\n",
       "date_of_last_rech_8_8/8/2014          -0.4672      0.148     -3.153      0.002      -0.758      -0.177\n",
       "date_of_last_rech_8_8/9/2014          -1.1921      0.151     -7.882      0.000      -1.489      -0.896\n",
       "last_date_of_month_6_6/30/2014        26.5656   1.16e+04      0.002      0.998   -2.27e+04    2.27e+04\n",
       "last_date_of_month_8_8/31/2014       -26.2699   1.16e+04     -0.002      0.998   -2.27e+04    2.27e+04\n",
       "======================================================================================================\n",
       "\"\"\""
      ]
     },
     "execution_count": 395,
     "metadata": {},
     "output_type": "execute_result"
    }
   ],
   "source": [
    "#re-run the model and check statistics\n",
    "X_train_sm = sm.add_constant(X)\n",
    "logm2 = sm.GLM(y_train,X_train_sm, family = sm.families.Binomial())\n",
    "res = logm2.fit()\n",
    "res.summary()"
   ]
  },
  {
   "cell_type": "code",
   "execution_count": 396,
   "id": "a044ddcc",
   "metadata": {},
   "outputs": [],
   "source": [
    "X = X.drop(['date_of_last_rech_7_7/5/2014','last_date_of_month_6_6/30/2014','last_date_of_month_8_8/31/2014'],axis=1)"
   ]
  },
  {
   "cell_type": "code",
   "execution_count": 397,
   "id": "3c065a6a",
   "metadata": {},
   "outputs": [
    {
     "data": {
      "text/plain": [
       "(37962, 83)"
      ]
     },
     "execution_count": 397,
     "metadata": {},
     "output_type": "execute_result"
    }
   ],
   "source": [
    "X.shape"
   ]
  },
  {
   "cell_type": "code",
   "execution_count": 398,
   "id": "4acc0a9d",
   "metadata": {},
   "outputs": [
    {
     "data": {
      "text/html": [
       "<table class=\"simpletable\">\n",
       "<caption>Generalized Linear Model Regression Results</caption>\n",
       "<tr>\n",
       "  <th>Dep. Variable:</th>      <td>churn_flag</td>    <th>  No. Observations:  </th>  <td> 37962</td> \n",
       "</tr>\n",
       "<tr>\n",
       "  <th>Model:</th>                  <td>GLM</td>       <th>  Df Residuals:      </th>  <td> 37878</td> \n",
       "</tr>\n",
       "<tr>\n",
       "  <th>Model Family:</th>        <td>Binomial</td>     <th>  Df Model:          </th>  <td>    83</td> \n",
       "</tr>\n",
       "<tr>\n",
       "  <th>Link Function:</th>         <td>logit</td>      <th>  Scale:             </th> <td>  1.0000</td>\n",
       "</tr>\n",
       "<tr>\n",
       "  <th>Method:</th>                <td>IRLS</td>       <th>  Log-Likelihood:    </th> <td> -15758.</td>\n",
       "</tr>\n",
       "<tr>\n",
       "  <th>Date:</th>            <td>Wed, 09 Mar 2022</td> <th>  Deviance:          </th> <td>  31516.</td>\n",
       "</tr>\n",
       "<tr>\n",
       "  <th>Time:</th>                <td>23:07:03</td>     <th>  Pearson chi2:      </th> <td>4.54e+05</td>\n",
       "</tr>\n",
       "<tr>\n",
       "  <th>No. Iterations:</th>          <td>8</td>        <th>                     </th>     <td> </td>   \n",
       "</tr>\n",
       "<tr>\n",
       "  <th>Covariance Type:</th>     <td>nonrobust</td>    <th>                     </th>     <td> </td>   \n",
       "</tr>\n",
       "</table>\n",
       "<table class=\"simpletable\">\n",
       "<tr>\n",
       "                   <td></td>                     <th>coef</th>     <th>std err</th>      <th>z</th>      <th>P>|z|</th>  <th>[0.025</th>    <th>0.975]</th>  \n",
       "</tr>\n",
       "<tr>\n",
       "  <th>const</th>                              <td>    0.4017</td> <td>    0.024</td> <td>   16.619</td> <td> 0.000</td> <td>    0.354</td> <td>    0.449</td>\n",
       "</tr>\n",
       "<tr>\n",
       "  <th>arpu_7</th>                             <td>    0.9426</td> <td>    0.067</td> <td>   14.103</td> <td> 0.000</td> <td>    0.812</td> <td>    1.074</td>\n",
       "</tr>\n",
       "<tr>\n",
       "  <th>arpu_8</th>                             <td>    0.6116</td> <td>    0.063</td> <td>    9.650</td> <td> 0.000</td> <td>    0.487</td> <td>    0.736</td>\n",
       "</tr>\n",
       "<tr>\n",
       "  <th>std_og_mou_6</th>                       <td>    0.4727</td> <td>    0.023</td> <td>   20.457</td> <td> 0.000</td> <td>    0.427</td> <td>    0.518</td>\n",
       "</tr>\n",
       "<tr>\n",
       "  <th>total_og_mou_8</th>                     <td>   -0.8145</td> <td>    0.030</td> <td>  -26.851</td> <td> 0.000</td> <td>   -0.874</td> <td>   -0.755</td>\n",
       "</tr>\n",
       "<tr>\n",
       "  <th>loc_ic_t2m_mou_7</th>                   <td>    0.5091</td> <td>    0.036</td> <td>   14.320</td> <td> 0.000</td> <td>    0.439</td> <td>    0.579</td>\n",
       "</tr>\n",
       "<tr>\n",
       "  <th>loc_ic_t2m_mou_8</th>                   <td>   -0.6858</td> <td>    0.100</td> <td>   -6.831</td> <td> 0.000</td> <td>   -0.883</td> <td>   -0.489</td>\n",
       "</tr>\n",
       "<tr>\n",
       "  <th>loc_ic_mou_8</th>                       <td>   -1.9668</td> <td>    0.101</td> <td>  -19.470</td> <td> 0.000</td> <td>   -2.165</td> <td>   -1.769</td>\n",
       "</tr>\n",
       "<tr>\n",
       "  <th>total_rech_amt_7</th>                   <td>   -0.5027</td> <td>    0.065</td> <td>   -7.737</td> <td> 0.000</td> <td>   -0.630</td> <td>   -0.375</td>\n",
       "</tr>\n",
       "<tr>\n",
       "  <th>total_rech_amt_8</th>                   <td>   -0.5344</td> <td>    0.060</td> <td>   -8.856</td> <td> 0.000</td> <td>   -0.653</td> <td>   -0.416</td>\n",
       "</tr>\n",
       "<tr>\n",
       "  <th>aon</th>                                <td>   -0.4221</td> <td>    0.015</td> <td>  -27.727</td> <td> 0.000</td> <td>   -0.452</td> <td>   -0.392</td>\n",
       "</tr>\n",
       "<tr>\n",
       "  <th>sep_vbc_3g</th>                         <td>   -0.4793</td> <td>    0.062</td> <td>   -7.732</td> <td> 0.000</td> <td>   -0.601</td> <td>   -0.358</td>\n",
       "</tr>\n",
       "<tr>\n",
       "  <th>fb_user_8_1.0</th>                      <td>   -1.7619</td> <td>    0.063</td> <td>  -27.953</td> <td> 0.000</td> <td>   -1.885</td> <td>   -1.638</td>\n",
       "</tr>\n",
       "<tr>\n",
       "  <th>night_pck_user_8_1.0</th>               <td>   -0.9878</td> <td>    0.390</td> <td>   -2.531</td> <td> 0.011</td> <td>   -1.753</td> <td>   -0.223</td>\n",
       "</tr>\n",
       "<tr>\n",
       "  <th>date_of_last_rech_data_6_6/13/2014</th> <td>    0.7875</td> <td>    0.187</td> <td>    4.215</td> <td> 0.000</td> <td>    0.421</td> <td>    1.154</td>\n",
       "</tr>\n",
       "<tr>\n",
       "  <th>date_of_last_rech_data_6_6/15/2014</th> <td>    0.7229</td> <td>    0.208</td> <td>    3.472</td> <td> 0.001</td> <td>    0.315</td> <td>    1.131</td>\n",
       "</tr>\n",
       "<tr>\n",
       "  <th>date_of_last_rech_data_6_6/16/2014</th> <td>    0.8854</td> <td>    0.170</td> <td>    5.205</td> <td> 0.000</td> <td>    0.552</td> <td>    1.219</td>\n",
       "</tr>\n",
       "<tr>\n",
       "  <th>date_of_last_rech_data_6_6/18/2014</th> <td>   -0.9268</td> <td>    0.214</td> <td>   -4.333</td> <td> 0.000</td> <td>   -1.346</td> <td>   -0.508</td>\n",
       "</tr>\n",
       "<tr>\n",
       "  <th>date_of_last_rech_data_6_6/19/2014</th> <td>    0.9505</td> <td>    0.172</td> <td>    5.526</td> <td> 0.000</td> <td>    0.613</td> <td>    1.288</td>\n",
       "</tr>\n",
       "<tr>\n",
       "  <th>date_of_last_rech_data_6_6/21/2014</th> <td>    0.9508</td> <td>    0.154</td> <td>    6.179</td> <td> 0.000</td> <td>    0.649</td> <td>    1.252</td>\n",
       "</tr>\n",
       "<tr>\n",
       "  <th>date_of_last_rech_data_6_6/22/2014</th> <td>    0.6907</td> <td>    0.161</td> <td>    4.281</td> <td> 0.000</td> <td>    0.375</td> <td>    1.007</td>\n",
       "</tr>\n",
       "<tr>\n",
       "  <th>date_of_last_rech_data_6_6/23/2014</th> <td>    0.9186</td> <td>    0.166</td> <td>    5.518</td> <td> 0.000</td> <td>    0.592</td> <td>    1.245</td>\n",
       "</tr>\n",
       "<tr>\n",
       "  <th>date_of_last_rech_data_6_6/25/2014</th> <td>    0.5977</td> <td>    0.139</td> <td>    4.315</td> <td> 0.000</td> <td>    0.326</td> <td>    0.869</td>\n",
       "</tr>\n",
       "<tr>\n",
       "  <th>date_of_last_rech_data_6_6/27/2014</th> <td>   -0.5109</td> <td>    0.158</td> <td>   -3.227</td> <td> 0.001</td> <td>   -0.821</td> <td>   -0.201</td>\n",
       "</tr>\n",
       "<tr>\n",
       "  <th>date_of_last_rech_data_6_6/4/2014</th>  <td>    0.5363</td> <td>    0.274</td> <td>    1.958</td> <td> 0.050</td> <td>   -0.000</td> <td>    1.073</td>\n",
       "</tr>\n",
       "<tr>\n",
       "  <th>date_of_last_rech_data_6_6/9/2014</th>  <td>    0.6874</td> <td>    0.206</td> <td>    3.345</td> <td> 0.001</td> <td>    0.285</td> <td>    1.090</td>\n",
       "</tr>\n",
       "<tr>\n",
       "  <th>date_of_last_rech_data_7_7/1/2014</th>  <td>    0.7159</td> <td>    0.318</td> <td>    2.252</td> <td> 0.024</td> <td>    0.093</td> <td>    1.339</td>\n",
       "</tr>\n",
       "<tr>\n",
       "  <th>date_of_last_rech_data_7_7/14/2014</th> <td>   -0.8166</td> <td>    0.194</td> <td>   -4.218</td> <td> 0.000</td> <td>   -1.196</td> <td>   -0.437</td>\n",
       "</tr>\n",
       "<tr>\n",
       "  <th>date_of_last_rech_data_7_7/16/2014</th> <td>   -0.7612</td> <td>    0.199</td> <td>   -3.822</td> <td> 0.000</td> <td>   -1.151</td> <td>   -0.371</td>\n",
       "</tr>\n",
       "<tr>\n",
       "  <th>date_of_last_rech_data_7_7/17/2014</th> <td>   -1.0467</td> <td>    0.217</td> <td>   -4.817</td> <td> 0.000</td> <td>   -1.473</td> <td>   -0.621</td>\n",
       "</tr>\n",
       "<tr>\n",
       "  <th>date_of_last_rech_data_7_7/20/2014</th> <td>   -0.5921</td> <td>    0.227</td> <td>   -2.604</td> <td> 0.009</td> <td>   -1.038</td> <td>   -0.146</td>\n",
       "</tr>\n",
       "<tr>\n",
       "  <th>date_of_last_rech_data_7_7/21/2014</th> <td>    0.4971</td> <td>    0.187</td> <td>    2.655</td> <td> 0.008</td> <td>    0.130</td> <td>    0.864</td>\n",
       "</tr>\n",
       "<tr>\n",
       "  <th>date_of_last_rech_data_7_7/27/2014</th> <td>   -0.4797</td> <td>    0.148</td> <td>   -3.232</td> <td> 0.001</td> <td>   -0.771</td> <td>   -0.189</td>\n",
       "</tr>\n",
       "<tr>\n",
       "  <th>date_of_last_rech_data_7_7/28/2014</th> <td>   -0.7605</td> <td>    0.182</td> <td>   -4.184</td> <td> 0.000</td> <td>   -1.117</td> <td>   -0.404</td>\n",
       "</tr>\n",
       "<tr>\n",
       "  <th>date_of_last_rech_data_7_7/29/2014</th> <td>   -0.8260</td> <td>    0.152</td> <td>   -5.428</td> <td> 0.000</td> <td>   -1.124</td> <td>   -0.528</td>\n",
       "</tr>\n",
       "<tr>\n",
       "  <th>date_of_last_rech_data_7_7/3/2014</th>  <td>   -0.8758</td> <td>    0.323</td> <td>   -2.708</td> <td> 0.007</td> <td>   -1.510</td> <td>   -0.242</td>\n",
       "</tr>\n",
       "<tr>\n",
       "  <th>date_of_last_rech_data_7_7/30/2014</th> <td>   -0.8756</td> <td>    0.146</td> <td>   -5.988</td> <td> 0.000</td> <td>   -1.162</td> <td>   -0.589</td>\n",
       "</tr>\n",
       "<tr>\n",
       "  <th>date_of_last_rech_data_7_7/6/2014</th>  <td>   -0.5535</td> <td>    0.276</td> <td>   -2.002</td> <td> 0.045</td> <td>   -1.095</td> <td>   -0.012</td>\n",
       "</tr>\n",
       "<tr>\n",
       "  <th>date_of_last_rech_data_7_7/7/2014</th>  <td>   -0.6963</td> <td>    0.240</td> <td>   -2.900</td> <td> 0.004</td> <td>   -1.167</td> <td>   -0.226</td>\n",
       "</tr>\n",
       "<tr>\n",
       "  <th>date_of_last_rech_data_8_8/1/2014</th>  <td>    0.6344</td> <td>    0.266</td> <td>    2.389</td> <td> 0.017</td> <td>    0.114</td> <td>    1.155</td>\n",
       "</tr>\n",
       "<tr>\n",
       "  <th>date_of_last_rech_data_8_8/10/2014</th> <td>    0.8130</td> <td>    0.192</td> <td>    4.242</td> <td> 0.000</td> <td>    0.437</td> <td>    1.189</td>\n",
       "</tr>\n",
       "<tr>\n",
       "  <th>date_of_last_rech_data_8_8/12/2014</th> <td>    0.8455</td> <td>    0.206</td> <td>    4.112</td> <td> 0.000</td> <td>    0.442</td> <td>    1.249</td>\n",
       "</tr>\n",
       "<tr>\n",
       "  <th>date_of_last_rech_data_8_8/13/2014</th> <td>    1.4527</td> <td>    0.186</td> <td>    7.797</td> <td> 0.000</td> <td>    1.087</td> <td>    1.818</td>\n",
       "</tr>\n",
       "<tr>\n",
       "  <th>date_of_last_rech_data_8_8/15/2014</th> <td>    0.4521</td> <td>    0.196</td> <td>    2.309</td> <td> 0.021</td> <td>    0.068</td> <td>    0.836</td>\n",
       "</tr>\n",
       "<tr>\n",
       "  <th>date_of_last_rech_data_8_8/19/2014</th> <td>    0.9921</td> <td>    0.177</td> <td>    5.617</td> <td> 0.000</td> <td>    0.646</td> <td>    1.338</td>\n",
       "</tr>\n",
       "<tr>\n",
       "  <th>date_of_last_rech_data_8_8/2/2014</th>  <td>    0.9313</td> <td>    0.252</td> <td>    3.700</td> <td> 0.000</td> <td>    0.438</td> <td>    1.425</td>\n",
       "</tr>\n",
       "<tr>\n",
       "  <th>date_of_last_rech_data_8_8/20/2014</th> <td>   -1.6941</td> <td>    0.318</td> <td>   -5.327</td> <td> 0.000</td> <td>   -2.317</td> <td>   -1.071</td>\n",
       "</tr>\n",
       "<tr>\n",
       "  <th>date_of_last_rech_data_8_8/24/2014</th> <td>    0.7624</td> <td>    0.181</td> <td>    4.211</td> <td> 0.000</td> <td>    0.408</td> <td>    1.117</td>\n",
       "</tr>\n",
       "<tr>\n",
       "  <th>date_of_last_rech_data_8_8/28/2014</th> <td>   -1.4513</td> <td>    0.236</td> <td>   -6.137</td> <td> 0.000</td> <td>   -1.915</td> <td>   -0.988</td>\n",
       "</tr>\n",
       "<tr>\n",
       "  <th>date_of_last_rech_data_8_8/29/2014</th> <td>   -0.3402</td> <td>    0.190</td> <td>   -1.791</td> <td> 0.073</td> <td>   -0.713</td> <td>    0.032</td>\n",
       "</tr>\n",
       "<tr>\n",
       "  <th>date_of_last_rech_data_8_8/30/2014</th> <td>    0.6520</td> <td>    0.205</td> <td>    3.173</td> <td> 0.002</td> <td>    0.249</td> <td>    1.055</td>\n",
       "</tr>\n",
       "<tr>\n",
       "  <th>date_of_last_rech_data_8_8/31/2014</th> <td>    1.5664</td> <td>    0.163</td> <td>    9.587</td> <td> 0.000</td> <td>    1.246</td> <td>    1.887</td>\n",
       "</tr>\n",
       "<tr>\n",
       "  <th>date_of_last_rech_data_8_8/4/2014</th>  <td>    0.9164</td> <td>    0.204</td> <td>    4.503</td> <td> 0.000</td> <td>    0.518</td> <td>    1.315</td>\n",
       "</tr>\n",
       "<tr>\n",
       "  <th>date_of_last_rech_data_8_8/5/2014</th>  <td>   -1.3495</td> <td>    0.354</td> <td>   -3.812</td> <td> 0.000</td> <td>   -2.043</td> <td>   -0.656</td>\n",
       "</tr>\n",
       "<tr>\n",
       "  <th>date_of_last_rech_data_8_8/6/2014</th>  <td>    0.8408</td> <td>    0.212</td> <td>    3.967</td> <td> 0.000</td> <td>    0.425</td> <td>    1.256</td>\n",
       "</tr>\n",
       "<tr>\n",
       "  <th>date_of_last_rech_data_8_8/7/2014</th>  <td>   -0.5370</td> <td>    0.273</td> <td>   -1.970</td> <td> 0.049</td> <td>   -1.071</td> <td>   -0.003</td>\n",
       "</tr>\n",
       "<tr>\n",
       "  <th>date_of_last_rech_data_8_8/8/2014</th>  <td>   -2.4797</td> <td>    0.504</td> <td>   -4.923</td> <td> 0.000</td> <td>   -3.467</td> <td>   -1.493</td>\n",
       "</tr>\n",
       "<tr>\n",
       "  <th>date_of_last_rech_6_6/10/2014</th>      <td>    0.8439</td> <td>    0.216</td> <td>    3.900</td> <td> 0.000</td> <td>    0.420</td> <td>    1.268</td>\n",
       "</tr>\n",
       "<tr>\n",
       "  <th>date_of_last_rech_6_6/16/2014</th>      <td>   -0.4468</td> <td>    0.137</td> <td>   -3.268</td> <td> 0.001</td> <td>   -0.715</td> <td>   -0.179</td>\n",
       "</tr>\n",
       "<tr>\n",
       "  <th>date_of_last_rech_6_6/18/2014</th>      <td>   -0.3337</td> <td>    0.084</td> <td>   -3.959</td> <td> 0.000</td> <td>   -0.499</td> <td>   -0.168</td>\n",
       "</tr>\n",
       "<tr>\n",
       "  <th>date_of_last_rech_6_6/23/2014</th>      <td>   -0.3950</td> <td>    0.087</td> <td>   -4.550</td> <td> 0.000</td> <td>   -0.565</td> <td>   -0.225</td>\n",
       "</tr>\n",
       "<tr>\n",
       "  <th>date_of_last_rech_6_6/3/2014</th>       <td>    0.9545</td> <td>    0.229</td> <td>    4.171</td> <td> 0.000</td> <td>    0.506</td> <td>    1.403</td>\n",
       "</tr>\n",
       "<tr>\n",
       "  <th>date_of_last_rech_6_6/4/2014</th>       <td>    1.0004</td> <td>    0.319</td> <td>    3.138</td> <td> 0.002</td> <td>    0.376</td> <td>    1.625</td>\n",
       "</tr>\n",
       "<tr>\n",
       "  <th>date_of_last_rech_6_6/8/2014</th>       <td>    1.0942</td> <td>    0.159</td> <td>    6.864</td> <td> 0.000</td> <td>    0.782</td> <td>    1.407</td>\n",
       "</tr>\n",
       "<tr>\n",
       "  <th>date_of_last_rech_6_6/9/2014</th>       <td>    0.7926</td> <td>    0.282</td> <td>    2.811</td> <td> 0.005</td> <td>    0.240</td> <td>    1.345</td>\n",
       "</tr>\n",
       "<tr>\n",
       "  <th>date_of_last_rech_7_7/14/2014</th>      <td>   -0.3033</td> <td>    0.193</td> <td>   -1.574</td> <td> 0.115</td> <td>   -0.681</td> <td>    0.074</td>\n",
       "</tr>\n",
       "<tr>\n",
       "  <th>date_of_last_rech_7_7/18/2014</th>      <td>   -0.5544</td> <td>    0.118</td> <td>   -4.683</td> <td> 0.000</td> <td>   -0.786</td> <td>   -0.322</td>\n",
       "</tr>\n",
       "<tr>\n",
       "  <th>date_of_last_rech_7_7/20/2014</th>      <td>   -0.4654</td> <td>    0.083</td> <td>   -5.587</td> <td> 0.000</td> <td>   -0.629</td> <td>   -0.302</td>\n",
       "</tr>\n",
       "<tr>\n",
       "  <th>date_of_last_rech_7_7/28/2014</th>      <td>   -0.6340</td> <td>    0.065</td> <td>   -9.715</td> <td> 0.000</td> <td>   -0.762</td> <td>   -0.506</td>\n",
       "</tr>\n",
       "<tr>\n",
       "  <th>date_of_last_rech_7_7/9/2014</th>       <td>   -0.6167</td> <td>    0.142</td> <td>   -4.353</td> <td> 0.000</td> <td>   -0.894</td> <td>   -0.339</td>\n",
       "</tr>\n",
       "<tr>\n",
       "  <th>date_of_last_rech_8_8/1/2014</th>       <td>    0.6046</td> <td>    0.221</td> <td>    2.734</td> <td> 0.006</td> <td>    0.171</td> <td>    1.038</td>\n",
       "</tr>\n",
       "<tr>\n",
       "  <th>date_of_last_rech_8_8/10/2014</th>      <td>   -0.7949</td> <td>    0.201</td> <td>   -3.957</td> <td> 0.000</td> <td>   -1.189</td> <td>   -0.401</td>\n",
       "</tr>\n",
       "<tr>\n",
       "  <th>date_of_last_rech_8_8/15/2014</th>      <td>   -0.5488</td> <td>    0.151</td> <td>   -3.625</td> <td> 0.000</td> <td>   -0.846</td> <td>   -0.252</td>\n",
       "</tr>\n",
       "<tr>\n",
       "  <th>date_of_last_rech_8_8/17/2014</th>      <td>   -0.5903</td> <td>    0.155</td> <td>   -3.809</td> <td> 0.000</td> <td>   -0.894</td> <td>   -0.287</td>\n",
       "</tr>\n",
       "<tr>\n",
       "  <th>date_of_last_rech_8_8/23/2014</th>      <td>   -0.5792</td> <td>    0.115</td> <td>   -5.030</td> <td> 0.000</td> <td>   -0.805</td> <td>   -0.353</td>\n",
       "</tr>\n",
       "<tr>\n",
       "  <th>date_of_last_rech_8_8/24/2014</th>      <td>   -0.7544</td> <td>    0.049</td> <td>  -15.532</td> <td> 0.000</td> <td>   -0.850</td> <td>   -0.659</td>\n",
       "</tr>\n",
       "<tr>\n",
       "  <th>date_of_last_rech_8_8/27/2014</th>      <td>   -1.0813</td> <td>    0.074</td> <td>  -14.642</td> <td> 0.000</td> <td>   -1.226</td> <td>   -0.937</td>\n",
       "</tr>\n",
       "<tr>\n",
       "  <th>date_of_last_rech_8_8/29/2014</th>      <td>   -0.8604</td> <td>    0.052</td> <td>  -16.691</td> <td> 0.000</td> <td>   -0.961</td> <td>   -0.759</td>\n",
       "</tr>\n",
       "<tr>\n",
       "  <th>date_of_last_rech_8_8/3/2014</th>       <td>   -0.8152</td> <td>    0.317</td> <td>   -2.569</td> <td> 0.010</td> <td>   -1.437</td> <td>   -0.193</td>\n",
       "</tr>\n",
       "<tr>\n",
       "  <th>date_of_last_rech_8_8/30/2014</th>      <td>   -2.2516</td> <td>    0.078</td> <td>  -28.754</td> <td> 0.000</td> <td>   -2.405</td> <td>   -2.098</td>\n",
       "</tr>\n",
       "<tr>\n",
       "  <th>date_of_last_rech_8_8/31/2014</th>      <td>   -2.4151</td> <td>    0.071</td> <td>  -34.083</td> <td> 0.000</td> <td>   -2.554</td> <td>   -2.276</td>\n",
       "</tr>\n",
       "<tr>\n",
       "  <th>date_of_last_rech_8_8/6/2014</th>       <td>   -0.5593</td> <td>    0.158</td> <td>   -3.537</td> <td> 0.000</td> <td>   -0.869</td> <td>   -0.249</td>\n",
       "</tr>\n",
       "<tr>\n",
       "  <th>date_of_last_rech_8_8/8/2014</th>       <td>   -0.6302</td> <td>    0.149</td> <td>   -4.226</td> <td> 0.000</td> <td>   -0.923</td> <td>   -0.338</td>\n",
       "</tr>\n",
       "<tr>\n",
       "  <th>date_of_last_rech_8_8/9/2014</th>       <td>   -1.3627</td> <td>    0.152</td> <td>   -8.978</td> <td> 0.000</td> <td>   -1.660</td> <td>   -1.065</td>\n",
       "</tr>\n",
       "</table>"
      ],
      "text/plain": [
       "<class 'statsmodels.iolib.summary.Summary'>\n",
       "\"\"\"\n",
       "                 Generalized Linear Model Regression Results                  \n",
       "==============================================================================\n",
       "Dep. Variable:             churn_flag   No. Observations:                37962\n",
       "Model:                            GLM   Df Residuals:                    37878\n",
       "Model Family:                Binomial   Df Model:                           83\n",
       "Link Function:                  logit   Scale:                          1.0000\n",
       "Method:                          IRLS   Log-Likelihood:                -15758.\n",
       "Date:                Wed, 09 Mar 2022   Deviance:                       31516.\n",
       "Time:                        23:07:03   Pearson chi2:                 4.54e+05\n",
       "No. Iterations:                     8                                         \n",
       "Covariance Type:            nonrobust                                         \n",
       "======================================================================================================\n",
       "                                         coef    std err          z      P>|z|      [0.025      0.975]\n",
       "------------------------------------------------------------------------------------------------------\n",
       "const                                  0.4017      0.024     16.619      0.000       0.354       0.449\n",
       "arpu_7                                 0.9426      0.067     14.103      0.000       0.812       1.074\n",
       "arpu_8                                 0.6116      0.063      9.650      0.000       0.487       0.736\n",
       "std_og_mou_6                           0.4727      0.023     20.457      0.000       0.427       0.518\n",
       "total_og_mou_8                        -0.8145      0.030    -26.851      0.000      -0.874      -0.755\n",
       "loc_ic_t2m_mou_7                       0.5091      0.036     14.320      0.000       0.439       0.579\n",
       "loc_ic_t2m_mou_8                      -0.6858      0.100     -6.831      0.000      -0.883      -0.489\n",
       "loc_ic_mou_8                          -1.9668      0.101    -19.470      0.000      -2.165      -1.769\n",
       "total_rech_amt_7                      -0.5027      0.065     -7.737      0.000      -0.630      -0.375\n",
       "total_rech_amt_8                      -0.5344      0.060     -8.856      0.000      -0.653      -0.416\n",
       "aon                                   -0.4221      0.015    -27.727      0.000      -0.452      -0.392\n",
       "sep_vbc_3g                            -0.4793      0.062     -7.732      0.000      -0.601      -0.358\n",
       "fb_user_8_1.0                         -1.7619      0.063    -27.953      0.000      -1.885      -1.638\n",
       "night_pck_user_8_1.0                  -0.9878      0.390     -2.531      0.011      -1.753      -0.223\n",
       "date_of_last_rech_data_6_6/13/2014     0.7875      0.187      4.215      0.000       0.421       1.154\n",
       "date_of_last_rech_data_6_6/15/2014     0.7229      0.208      3.472      0.001       0.315       1.131\n",
       "date_of_last_rech_data_6_6/16/2014     0.8854      0.170      5.205      0.000       0.552       1.219\n",
       "date_of_last_rech_data_6_6/18/2014    -0.9268      0.214     -4.333      0.000      -1.346      -0.508\n",
       "date_of_last_rech_data_6_6/19/2014     0.9505      0.172      5.526      0.000       0.613       1.288\n",
       "date_of_last_rech_data_6_6/21/2014     0.9508      0.154      6.179      0.000       0.649       1.252\n",
       "date_of_last_rech_data_6_6/22/2014     0.6907      0.161      4.281      0.000       0.375       1.007\n",
       "date_of_last_rech_data_6_6/23/2014     0.9186      0.166      5.518      0.000       0.592       1.245\n",
       "date_of_last_rech_data_6_6/25/2014     0.5977      0.139      4.315      0.000       0.326       0.869\n",
       "date_of_last_rech_data_6_6/27/2014    -0.5109      0.158     -3.227      0.001      -0.821      -0.201\n",
       "date_of_last_rech_data_6_6/4/2014      0.5363      0.274      1.958      0.050      -0.000       1.073\n",
       "date_of_last_rech_data_6_6/9/2014      0.6874      0.206      3.345      0.001       0.285       1.090\n",
       "date_of_last_rech_data_7_7/1/2014      0.7159      0.318      2.252      0.024       0.093       1.339\n",
       "date_of_last_rech_data_7_7/14/2014    -0.8166      0.194     -4.218      0.000      -1.196      -0.437\n",
       "date_of_last_rech_data_7_7/16/2014    -0.7612      0.199     -3.822      0.000      -1.151      -0.371\n",
       "date_of_last_rech_data_7_7/17/2014    -1.0467      0.217     -4.817      0.000      -1.473      -0.621\n",
       "date_of_last_rech_data_7_7/20/2014    -0.5921      0.227     -2.604      0.009      -1.038      -0.146\n",
       "date_of_last_rech_data_7_7/21/2014     0.4971      0.187      2.655      0.008       0.130       0.864\n",
       "date_of_last_rech_data_7_7/27/2014    -0.4797      0.148     -3.232      0.001      -0.771      -0.189\n",
       "date_of_last_rech_data_7_7/28/2014    -0.7605      0.182     -4.184      0.000      -1.117      -0.404\n",
       "date_of_last_rech_data_7_7/29/2014    -0.8260      0.152     -5.428      0.000      -1.124      -0.528\n",
       "date_of_last_rech_data_7_7/3/2014     -0.8758      0.323     -2.708      0.007      -1.510      -0.242\n",
       "date_of_last_rech_data_7_7/30/2014    -0.8756      0.146     -5.988      0.000      -1.162      -0.589\n",
       "date_of_last_rech_data_7_7/6/2014     -0.5535      0.276     -2.002      0.045      -1.095      -0.012\n",
       "date_of_last_rech_data_7_7/7/2014     -0.6963      0.240     -2.900      0.004      -1.167      -0.226\n",
       "date_of_last_rech_data_8_8/1/2014      0.6344      0.266      2.389      0.017       0.114       1.155\n",
       "date_of_last_rech_data_8_8/10/2014     0.8130      0.192      4.242      0.000       0.437       1.189\n",
       "date_of_last_rech_data_8_8/12/2014     0.8455      0.206      4.112      0.000       0.442       1.249\n",
       "date_of_last_rech_data_8_8/13/2014     1.4527      0.186      7.797      0.000       1.087       1.818\n",
       "date_of_last_rech_data_8_8/15/2014     0.4521      0.196      2.309      0.021       0.068       0.836\n",
       "date_of_last_rech_data_8_8/19/2014     0.9921      0.177      5.617      0.000       0.646       1.338\n",
       "date_of_last_rech_data_8_8/2/2014      0.9313      0.252      3.700      0.000       0.438       1.425\n",
       "date_of_last_rech_data_8_8/20/2014    -1.6941      0.318     -5.327      0.000      -2.317      -1.071\n",
       "date_of_last_rech_data_8_8/24/2014     0.7624      0.181      4.211      0.000       0.408       1.117\n",
       "date_of_last_rech_data_8_8/28/2014    -1.4513      0.236     -6.137      0.000      -1.915      -0.988\n",
       "date_of_last_rech_data_8_8/29/2014    -0.3402      0.190     -1.791      0.073      -0.713       0.032\n",
       "date_of_last_rech_data_8_8/30/2014     0.6520      0.205      3.173      0.002       0.249       1.055\n",
       "date_of_last_rech_data_8_8/31/2014     1.5664      0.163      9.587      0.000       1.246       1.887\n",
       "date_of_last_rech_data_8_8/4/2014      0.9164      0.204      4.503      0.000       0.518       1.315\n",
       "date_of_last_rech_data_8_8/5/2014     -1.3495      0.354     -3.812      0.000      -2.043      -0.656\n",
       "date_of_last_rech_data_8_8/6/2014      0.8408      0.212      3.967      0.000       0.425       1.256\n",
       "date_of_last_rech_data_8_8/7/2014     -0.5370      0.273     -1.970      0.049      -1.071      -0.003\n",
       "date_of_last_rech_data_8_8/8/2014     -2.4797      0.504     -4.923      0.000      -3.467      -1.493\n",
       "date_of_last_rech_6_6/10/2014          0.8439      0.216      3.900      0.000       0.420       1.268\n",
       "date_of_last_rech_6_6/16/2014         -0.4468      0.137     -3.268      0.001      -0.715      -0.179\n",
       "date_of_last_rech_6_6/18/2014         -0.3337      0.084     -3.959      0.000      -0.499      -0.168\n",
       "date_of_last_rech_6_6/23/2014         -0.3950      0.087     -4.550      0.000      -0.565      -0.225\n",
       "date_of_last_rech_6_6/3/2014           0.9545      0.229      4.171      0.000       0.506       1.403\n",
       "date_of_last_rech_6_6/4/2014           1.0004      0.319      3.138      0.002       0.376       1.625\n",
       "date_of_last_rech_6_6/8/2014           1.0942      0.159      6.864      0.000       0.782       1.407\n",
       "date_of_last_rech_6_6/9/2014           0.7926      0.282      2.811      0.005       0.240       1.345\n",
       "date_of_last_rech_7_7/14/2014         -0.3033      0.193     -1.574      0.115      -0.681       0.074\n",
       "date_of_last_rech_7_7/18/2014         -0.5544      0.118     -4.683      0.000      -0.786      -0.322\n",
       "date_of_last_rech_7_7/20/2014         -0.4654      0.083     -5.587      0.000      -0.629      -0.302\n",
       "date_of_last_rech_7_7/28/2014         -0.6340      0.065     -9.715      0.000      -0.762      -0.506\n",
       "date_of_last_rech_7_7/9/2014          -0.6167      0.142     -4.353      0.000      -0.894      -0.339\n",
       "date_of_last_rech_8_8/1/2014           0.6046      0.221      2.734      0.006       0.171       1.038\n",
       "date_of_last_rech_8_8/10/2014         -0.7949      0.201     -3.957      0.000      -1.189      -0.401\n",
       "date_of_last_rech_8_8/15/2014         -0.5488      0.151     -3.625      0.000      -0.846      -0.252\n",
       "date_of_last_rech_8_8/17/2014         -0.5903      0.155     -3.809      0.000      -0.894      -0.287\n",
       "date_of_last_rech_8_8/23/2014         -0.5792      0.115     -5.030      0.000      -0.805      -0.353\n",
       "date_of_last_rech_8_8/24/2014         -0.7544      0.049    -15.532      0.000      -0.850      -0.659\n",
       "date_of_last_rech_8_8/27/2014         -1.0813      0.074    -14.642      0.000      -1.226      -0.937\n",
       "date_of_last_rech_8_8/29/2014         -0.8604      0.052    -16.691      0.000      -0.961      -0.759\n",
       "date_of_last_rech_8_8/3/2014          -0.8152      0.317     -2.569      0.010      -1.437      -0.193\n",
       "date_of_last_rech_8_8/30/2014         -2.2516      0.078    -28.754      0.000      -2.405      -2.098\n",
       "date_of_last_rech_8_8/31/2014         -2.4151      0.071    -34.083      0.000      -2.554      -2.276\n",
       "date_of_last_rech_8_8/6/2014          -0.5593      0.158     -3.537      0.000      -0.869      -0.249\n",
       "date_of_last_rech_8_8/8/2014          -0.6302      0.149     -4.226      0.000      -0.923      -0.338\n",
       "date_of_last_rech_8_8/9/2014          -1.3627      0.152     -8.978      0.000      -1.660      -1.065\n",
       "======================================================================================================\n",
       "\"\"\""
      ]
     },
     "execution_count": 398,
     "metadata": {},
     "output_type": "execute_result"
    }
   ],
   "source": [
    "#re-run the model and check statistics\n",
    "X_train_sm = sm.add_constant(X)\n",
    "logm2 = sm.GLM(y_train,X_train_sm, family = sm.families.Binomial())\n",
    "res = logm2.fit()\n",
    "res.summary()"
   ]
  },
  {
   "cell_type": "code",
   "execution_count": 399,
   "id": "28250027",
   "metadata": {},
   "outputs": [],
   "source": [
    "X = X.drop(['date_of_last_rech_7_7/14/2014','date_of_last_rech_data_8_8/29/2014','date_of_last_rech_data_6_6/4/2014'],axis=1)"
   ]
  },
  {
   "cell_type": "code",
   "execution_count": 400,
   "id": "f7246976",
   "metadata": {},
   "outputs": [
    {
     "data": {
      "text/html": [
       "<table class=\"simpletable\">\n",
       "<caption>Generalized Linear Model Regression Results</caption>\n",
       "<tr>\n",
       "  <th>Dep. Variable:</th>      <td>churn_flag</td>    <th>  No. Observations:  </th>  <td> 37962</td> \n",
       "</tr>\n",
       "<tr>\n",
       "  <th>Model:</th>                  <td>GLM</td>       <th>  Df Residuals:      </th>  <td> 37881</td> \n",
       "</tr>\n",
       "<tr>\n",
       "  <th>Model Family:</th>        <td>Binomial</td>     <th>  Df Model:          </th>  <td>    80</td> \n",
       "</tr>\n",
       "<tr>\n",
       "  <th>Link Function:</th>         <td>logit</td>      <th>  Scale:             </th> <td>  1.0000</td>\n",
       "</tr>\n",
       "<tr>\n",
       "  <th>Method:</th>                <td>IRLS</td>       <th>  Log-Likelihood:    </th> <td> -15763.</td>\n",
       "</tr>\n",
       "<tr>\n",
       "  <th>Date:</th>            <td>Wed, 09 Mar 2022</td> <th>  Deviance:          </th> <td>  31526.</td>\n",
       "</tr>\n",
       "<tr>\n",
       "  <th>Time:</th>                <td>23:07:04</td>     <th>  Pearson chi2:      </th> <td>4.49e+05</td>\n",
       "</tr>\n",
       "<tr>\n",
       "  <th>No. Iterations:</th>          <td>8</td>        <th>                     </th>     <td> </td>   \n",
       "</tr>\n",
       "<tr>\n",
       "  <th>Covariance Type:</th>     <td>nonrobust</td>    <th>                     </th>     <td> </td>   \n",
       "</tr>\n",
       "</table>\n",
       "<table class=\"simpletable\">\n",
       "<tr>\n",
       "                   <td></td>                     <th>coef</th>     <th>std err</th>      <th>z</th>      <th>P>|z|</th>  <th>[0.025</th>    <th>0.975]</th>  \n",
       "</tr>\n",
       "<tr>\n",
       "  <th>const</th>                              <td>    0.4022</td> <td>    0.024</td> <td>   16.680</td> <td> 0.000</td> <td>    0.355</td> <td>    0.449</td>\n",
       "</tr>\n",
       "<tr>\n",
       "  <th>arpu_7</th>                             <td>    0.9424</td> <td>    0.067</td> <td>   14.101</td> <td> 0.000</td> <td>    0.811</td> <td>    1.073</td>\n",
       "</tr>\n",
       "<tr>\n",
       "  <th>arpu_8</th>                             <td>    0.6100</td> <td>    0.063</td> <td>    9.627</td> <td> 0.000</td> <td>    0.486</td> <td>    0.734</td>\n",
       "</tr>\n",
       "<tr>\n",
       "  <th>std_og_mou_6</th>                       <td>    0.4720</td> <td>    0.023</td> <td>   20.446</td> <td> 0.000</td> <td>    0.427</td> <td>    0.517</td>\n",
       "</tr>\n",
       "<tr>\n",
       "  <th>total_og_mou_8</th>                     <td>   -0.8134</td> <td>    0.030</td> <td>  -26.835</td> <td> 0.000</td> <td>   -0.873</td> <td>   -0.754</td>\n",
       "</tr>\n",
       "<tr>\n",
       "  <th>loc_ic_t2m_mou_7</th>                   <td>    0.5038</td> <td>    0.036</td> <td>   14.184</td> <td> 0.000</td> <td>    0.434</td> <td>    0.573</td>\n",
       "</tr>\n",
       "<tr>\n",
       "  <th>loc_ic_t2m_mou_8</th>                   <td>   -0.6830</td> <td>    0.100</td> <td>   -6.799</td> <td> 0.000</td> <td>   -0.880</td> <td>   -0.486</td>\n",
       "</tr>\n",
       "<tr>\n",
       "  <th>loc_ic_mou_8</th>                       <td>   -1.9636</td> <td>    0.101</td> <td>  -19.442</td> <td> 0.000</td> <td>   -2.162</td> <td>   -1.766</td>\n",
       "</tr>\n",
       "<tr>\n",
       "  <th>total_rech_amt_7</th>                   <td>   -0.5024</td> <td>    0.065</td> <td>   -7.731</td> <td> 0.000</td> <td>   -0.630</td> <td>   -0.375</td>\n",
       "</tr>\n",
       "<tr>\n",
       "  <th>total_rech_amt_8</th>                   <td>   -0.5343</td> <td>    0.060</td> <td>   -8.859</td> <td> 0.000</td> <td>   -0.653</td> <td>   -0.416</td>\n",
       "</tr>\n",
       "<tr>\n",
       "  <th>aon</th>                                <td>   -0.4224</td> <td>    0.015</td> <td>  -27.745</td> <td> 0.000</td> <td>   -0.452</td> <td>   -0.393</td>\n",
       "</tr>\n",
       "<tr>\n",
       "  <th>sep_vbc_3g</th>                         <td>   -0.4792</td> <td>    0.062</td> <td>   -7.727</td> <td> 0.000</td> <td>   -0.601</td> <td>   -0.358</td>\n",
       "</tr>\n",
       "<tr>\n",
       "  <th>fb_user_8_1.0</th>                      <td>   -1.7792</td> <td>    0.062</td> <td>  -28.781</td> <td> 0.000</td> <td>   -1.900</td> <td>   -1.658</td>\n",
       "</tr>\n",
       "<tr>\n",
       "  <th>night_pck_user_8_1.0</th>               <td>   -0.9960</td> <td>    0.390</td> <td>   -2.554</td> <td> 0.011</td> <td>   -1.761</td> <td>   -0.232</td>\n",
       "</tr>\n",
       "<tr>\n",
       "  <th>date_of_last_rech_data_6_6/13/2014</th> <td>    0.7864</td> <td>    0.187</td> <td>    4.211</td> <td> 0.000</td> <td>    0.420</td> <td>    1.152</td>\n",
       "</tr>\n",
       "<tr>\n",
       "  <th>date_of_last_rech_data_6_6/15/2014</th> <td>    0.7254</td> <td>    0.208</td> <td>    3.490</td> <td> 0.000</td> <td>    0.318</td> <td>    1.133</td>\n",
       "</tr>\n",
       "<tr>\n",
       "  <th>date_of_last_rech_data_6_6/16/2014</th> <td>    0.8917</td> <td>    0.170</td> <td>    5.246</td> <td> 0.000</td> <td>    0.559</td> <td>    1.225</td>\n",
       "</tr>\n",
       "<tr>\n",
       "  <th>date_of_last_rech_data_6_6/18/2014</th> <td>   -0.9331</td> <td>    0.214</td> <td>   -4.369</td> <td> 0.000</td> <td>   -1.352</td> <td>   -0.514</td>\n",
       "</tr>\n",
       "<tr>\n",
       "  <th>date_of_last_rech_data_6_6/19/2014</th> <td>    0.9546</td> <td>    0.172</td> <td>    5.550</td> <td> 0.000</td> <td>    0.617</td> <td>    1.292</td>\n",
       "</tr>\n",
       "<tr>\n",
       "  <th>date_of_last_rech_data_6_6/21/2014</th> <td>    0.9476</td> <td>    0.154</td> <td>    6.165</td> <td> 0.000</td> <td>    0.646</td> <td>    1.249</td>\n",
       "</tr>\n",
       "<tr>\n",
       "  <th>date_of_last_rech_data_6_6/22/2014</th> <td>    0.6851</td> <td>    0.161</td> <td>    4.258</td> <td> 0.000</td> <td>    0.370</td> <td>    1.000</td>\n",
       "</tr>\n",
       "<tr>\n",
       "  <th>date_of_last_rech_data_6_6/23/2014</th> <td>    0.9074</td> <td>    0.166</td> <td>    5.458</td> <td> 0.000</td> <td>    0.582</td> <td>    1.233</td>\n",
       "</tr>\n",
       "<tr>\n",
       "  <th>date_of_last_rech_data_6_6/25/2014</th> <td>    0.5954</td> <td>    0.138</td> <td>    4.302</td> <td> 0.000</td> <td>    0.324</td> <td>    0.867</td>\n",
       "</tr>\n",
       "<tr>\n",
       "  <th>date_of_last_rech_data_6_6/27/2014</th> <td>   -0.5145</td> <td>    0.158</td> <td>   -3.257</td> <td> 0.001</td> <td>   -0.824</td> <td>   -0.205</td>\n",
       "</tr>\n",
       "<tr>\n",
       "  <th>date_of_last_rech_data_6_6/9/2014</th>  <td>    0.6884</td> <td>    0.205</td> <td>    3.352</td> <td> 0.001</td> <td>    0.286</td> <td>    1.091</td>\n",
       "</tr>\n",
       "<tr>\n",
       "  <th>date_of_last_rech_data_7_7/1/2014</th>  <td>    0.7023</td> <td>    0.317</td> <td>    2.216</td> <td> 0.027</td> <td>    0.081</td> <td>    1.323</td>\n",
       "</tr>\n",
       "<tr>\n",
       "  <th>date_of_last_rech_data_7_7/14/2014</th> <td>   -0.8230</td> <td>    0.193</td> <td>   -4.255</td> <td> 0.000</td> <td>   -1.202</td> <td>   -0.444</td>\n",
       "</tr>\n",
       "<tr>\n",
       "  <th>date_of_last_rech_data_7_7/16/2014</th> <td>   -0.7672</td> <td>    0.199</td> <td>   -3.858</td> <td> 0.000</td> <td>   -1.157</td> <td>   -0.377</td>\n",
       "</tr>\n",
       "<tr>\n",
       "  <th>date_of_last_rech_data_7_7/17/2014</th> <td>   -1.0431</td> <td>    0.217</td> <td>   -4.801</td> <td> 0.000</td> <td>   -1.469</td> <td>   -0.617</td>\n",
       "</tr>\n",
       "<tr>\n",
       "  <th>date_of_last_rech_data_7_7/20/2014</th> <td>   -0.5911</td> <td>    0.227</td> <td>   -2.600</td> <td> 0.009</td> <td>   -1.037</td> <td>   -0.145</td>\n",
       "</tr>\n",
       "<tr>\n",
       "  <th>date_of_last_rech_data_7_7/21/2014</th> <td>    0.4977</td> <td>    0.187</td> <td>    2.662</td> <td> 0.008</td> <td>    0.131</td> <td>    0.864</td>\n",
       "</tr>\n",
       "<tr>\n",
       "  <th>date_of_last_rech_data_7_7/27/2014</th> <td>   -0.4797</td> <td>    0.148</td> <td>   -3.236</td> <td> 0.001</td> <td>   -0.770</td> <td>   -0.189</td>\n",
       "</tr>\n",
       "<tr>\n",
       "  <th>date_of_last_rech_data_7_7/28/2014</th> <td>   -0.7561</td> <td>    0.182</td> <td>   -4.162</td> <td> 0.000</td> <td>   -1.112</td> <td>   -0.400</td>\n",
       "</tr>\n",
       "<tr>\n",
       "  <th>date_of_last_rech_data_7_7/29/2014</th> <td>   -0.8200</td> <td>    0.152</td> <td>   -5.393</td> <td> 0.000</td> <td>   -1.118</td> <td>   -0.522</td>\n",
       "</tr>\n",
       "<tr>\n",
       "  <th>date_of_last_rech_data_7_7/3/2014</th>  <td>   -0.8620</td> <td>    0.323</td> <td>   -2.667</td> <td> 0.008</td> <td>   -1.496</td> <td>   -0.228</td>\n",
       "</tr>\n",
       "<tr>\n",
       "  <th>date_of_last_rech_data_7_7/30/2014</th> <td>   -0.8704</td> <td>    0.146</td> <td>   -5.953</td> <td> 0.000</td> <td>   -1.157</td> <td>   -0.584</td>\n",
       "</tr>\n",
       "<tr>\n",
       "  <th>date_of_last_rech_data_7_7/6/2014</th>  <td>   -0.5451</td> <td>    0.277</td> <td>   -1.967</td> <td> 0.049</td> <td>   -1.088</td> <td>   -0.002</td>\n",
       "</tr>\n",
       "<tr>\n",
       "  <th>date_of_last_rech_data_7_7/7/2014</th>  <td>   -0.6980</td> <td>    0.240</td> <td>   -2.911</td> <td> 0.004</td> <td>   -1.168</td> <td>   -0.228</td>\n",
       "</tr>\n",
       "<tr>\n",
       "  <th>date_of_last_rech_data_8_8/1/2014</th>  <td>    0.6587</td> <td>    0.265</td> <td>    2.485</td> <td> 0.013</td> <td>    0.139</td> <td>    1.178</td>\n",
       "</tr>\n",
       "<tr>\n",
       "  <th>date_of_last_rech_data_8_8/10/2014</th> <td>    0.8324</td> <td>    0.191</td> <td>    4.351</td> <td> 0.000</td> <td>    0.457</td> <td>    1.207</td>\n",
       "</tr>\n",
       "<tr>\n",
       "  <th>date_of_last_rech_data_8_8/12/2014</th> <td>    0.8677</td> <td>    0.205</td> <td>    4.229</td> <td> 0.000</td> <td>    0.466</td> <td>    1.270</td>\n",
       "</tr>\n",
       "<tr>\n",
       "  <th>date_of_last_rech_data_8_8/13/2014</th> <td>    1.4743</td> <td>    0.186</td> <td>    7.943</td> <td> 0.000</td> <td>    1.110</td> <td>    1.838</td>\n",
       "</tr>\n",
       "<tr>\n",
       "  <th>date_of_last_rech_data_8_8/15/2014</th> <td>    0.4716</td> <td>    0.196</td> <td>    2.411</td> <td> 0.016</td> <td>    0.088</td> <td>    0.855</td>\n",
       "</tr>\n",
       "<tr>\n",
       "  <th>date_of_last_rech_data_8_8/19/2014</th> <td>    1.0105</td> <td>    0.176</td> <td>    5.734</td> <td> 0.000</td> <td>    0.665</td> <td>    1.356</td>\n",
       "</tr>\n",
       "<tr>\n",
       "  <th>date_of_last_rech_data_8_8/2/2014</th>  <td>    0.9529</td> <td>    0.252</td> <td>    3.787</td> <td> 0.000</td> <td>    0.460</td> <td>    1.446</td>\n",
       "</tr>\n",
       "<tr>\n",
       "  <th>date_of_last_rech_data_8_8/20/2014</th> <td>   -1.6735</td> <td>    0.317</td> <td>   -5.272</td> <td> 0.000</td> <td>   -2.296</td> <td>   -1.051</td>\n",
       "</tr>\n",
       "<tr>\n",
       "  <th>date_of_last_rech_data_8_8/24/2014</th> <td>    0.7823</td> <td>    0.181</td> <td>    4.327</td> <td> 0.000</td> <td>    0.428</td> <td>    1.137</td>\n",
       "</tr>\n",
       "<tr>\n",
       "  <th>date_of_last_rech_data_8_8/28/2014</th> <td>   -1.4239</td> <td>    0.236</td> <td>   -6.027</td> <td> 0.000</td> <td>   -1.887</td> <td>   -0.961</td>\n",
       "</tr>\n",
       "<tr>\n",
       "  <th>date_of_last_rech_data_8_8/30/2014</th> <td>    0.6663</td> <td>    0.206</td> <td>    3.240</td> <td> 0.001</td> <td>    0.263</td> <td>    1.069</td>\n",
       "</tr>\n",
       "<tr>\n",
       "  <th>date_of_last_rech_data_8_8/31/2014</th> <td>    1.5865</td> <td>    0.163</td> <td>    9.741</td> <td> 0.000</td> <td>    1.267</td> <td>    1.906</td>\n",
       "</tr>\n",
       "<tr>\n",
       "  <th>date_of_last_rech_data_8_8/4/2014</th>  <td>    0.9363</td> <td>    0.203</td> <td>    4.605</td> <td> 0.000</td> <td>    0.538</td> <td>    1.335</td>\n",
       "</tr>\n",
       "<tr>\n",
       "  <th>date_of_last_rech_data_8_8/5/2014</th>  <td>   -1.3310</td> <td>    0.354</td> <td>   -3.762</td> <td> 0.000</td> <td>   -2.024</td> <td>   -0.638</td>\n",
       "</tr>\n",
       "<tr>\n",
       "  <th>date_of_last_rech_data_8_8/6/2014</th>  <td>    0.8670</td> <td>    0.212</td> <td>    4.098</td> <td> 0.000</td> <td>    0.452</td> <td>    1.282</td>\n",
       "</tr>\n",
       "<tr>\n",
       "  <th>date_of_last_rech_data_8_8/7/2014</th>  <td>   -0.5221</td> <td>    0.272</td> <td>   -1.916</td> <td> 0.055</td> <td>   -1.056</td> <td>    0.012</td>\n",
       "</tr>\n",
       "<tr>\n",
       "  <th>date_of_last_rech_data_8_8/8/2014</th>  <td>   -2.4690</td> <td>    0.505</td> <td>   -4.892</td> <td> 0.000</td> <td>   -3.458</td> <td>   -1.480</td>\n",
       "</tr>\n",
       "<tr>\n",
       "  <th>date_of_last_rech_6_6/10/2014</th>      <td>    0.8419</td> <td>    0.216</td> <td>    3.894</td> <td> 0.000</td> <td>    0.418</td> <td>    1.266</td>\n",
       "</tr>\n",
       "<tr>\n",
       "  <th>date_of_last_rech_6_6/16/2014</th>      <td>   -0.4459</td> <td>    0.137</td> <td>   -3.263</td> <td> 0.001</td> <td>   -0.714</td> <td>   -0.178</td>\n",
       "</tr>\n",
       "<tr>\n",
       "  <th>date_of_last_rech_6_6/18/2014</th>      <td>   -0.3341</td> <td>    0.084</td> <td>   -3.966</td> <td> 0.000</td> <td>   -0.499</td> <td>   -0.169</td>\n",
       "</tr>\n",
       "<tr>\n",
       "  <th>date_of_last_rech_6_6/23/2014</th>      <td>   -0.3801</td> <td>    0.086</td> <td>   -4.399</td> <td> 0.000</td> <td>   -0.549</td> <td>   -0.211</td>\n",
       "</tr>\n",
       "<tr>\n",
       "  <th>date_of_last_rech_6_6/3/2014</th>       <td>    0.9543</td> <td>    0.229</td> <td>    4.176</td> <td> 0.000</td> <td>    0.506</td> <td>    1.402</td>\n",
       "</tr>\n",
       "<tr>\n",
       "  <th>date_of_last_rech_6_6/4/2014</th>       <td>    1.0777</td> <td>    0.316</td> <td>    3.413</td> <td> 0.001</td> <td>    0.459</td> <td>    1.697</td>\n",
       "</tr>\n",
       "<tr>\n",
       "  <th>date_of_last_rech_6_6/8/2014</th>       <td>    1.0938</td> <td>    0.159</td> <td>    6.869</td> <td> 0.000</td> <td>    0.782</td> <td>    1.406</td>\n",
       "</tr>\n",
       "<tr>\n",
       "  <th>date_of_last_rech_6_6/9/2014</th>       <td>    0.7937</td> <td>    0.282</td> <td>    2.813</td> <td> 0.005</td> <td>    0.241</td> <td>    1.347</td>\n",
       "</tr>\n",
       "<tr>\n",
       "  <th>date_of_last_rech_7_7/18/2014</th>      <td>   -0.5535</td> <td>    0.118</td> <td>   -4.678</td> <td> 0.000</td> <td>   -0.785</td> <td>   -0.322</td>\n",
       "</tr>\n",
       "<tr>\n",
       "  <th>date_of_last_rech_7_7/20/2014</th>      <td>   -0.4657</td> <td>    0.083</td> <td>   -5.594</td> <td> 0.000</td> <td>   -0.629</td> <td>   -0.303</td>\n",
       "</tr>\n",
       "<tr>\n",
       "  <th>date_of_last_rech_7_7/28/2014</th>      <td>   -0.6326</td> <td>    0.065</td> <td>   -9.695</td> <td> 0.000</td> <td>   -0.760</td> <td>   -0.505</td>\n",
       "</tr>\n",
       "<tr>\n",
       "  <th>date_of_last_rech_7_7/9/2014</th>       <td>   -0.6144</td> <td>    0.142</td> <td>   -4.338</td> <td> 0.000</td> <td>   -0.892</td> <td>   -0.337</td>\n",
       "</tr>\n",
       "<tr>\n",
       "  <th>date_of_last_rech_8_8/1/2014</th>       <td>    0.6040</td> <td>    0.221</td> <td>    2.732</td> <td> 0.006</td> <td>    0.171</td> <td>    1.037</td>\n",
       "</tr>\n",
       "<tr>\n",
       "  <th>date_of_last_rech_8_8/10/2014</th>      <td>   -0.7922</td> <td>    0.201</td> <td>   -3.944</td> <td> 0.000</td> <td>   -1.186</td> <td>   -0.399</td>\n",
       "</tr>\n",
       "<tr>\n",
       "  <th>date_of_last_rech_8_8/15/2014</th>      <td>   -0.5517</td> <td>    0.151</td> <td>   -3.645</td> <td> 0.000</td> <td>   -0.848</td> <td>   -0.255</td>\n",
       "</tr>\n",
       "<tr>\n",
       "  <th>date_of_last_rech_8_8/17/2014</th>      <td>   -0.5894</td> <td>    0.155</td> <td>   -3.802</td> <td> 0.000</td> <td>   -0.893</td> <td>   -0.286</td>\n",
       "</tr>\n",
       "<tr>\n",
       "  <th>date_of_last_rech_8_8/23/2014</th>      <td>   -0.5741</td> <td>    0.115</td> <td>   -4.982</td> <td> 0.000</td> <td>   -0.800</td> <td>   -0.348</td>\n",
       "</tr>\n",
       "<tr>\n",
       "  <th>date_of_last_rech_8_8/24/2014</th>      <td>   -0.7582</td> <td>    0.049</td> <td>  -15.616</td> <td> 0.000</td> <td>   -0.853</td> <td>   -0.663</td>\n",
       "</tr>\n",
       "<tr>\n",
       "  <th>date_of_last_rech_8_8/27/2014</th>      <td>   -1.0792</td> <td>    0.074</td> <td>  -14.611</td> <td> 0.000</td> <td>   -1.224</td> <td>   -0.934</td>\n",
       "</tr>\n",
       "<tr>\n",
       "  <th>date_of_last_rech_8_8/29/2014</th>      <td>   -0.8805</td> <td>    0.050</td> <td>  -17.565</td> <td> 0.000</td> <td>   -0.979</td> <td>   -0.782</td>\n",
       "</tr>\n",
       "<tr>\n",
       "  <th>date_of_last_rech_8_8/3/2014</th>       <td>   -0.8156</td> <td>    0.317</td> <td>   -2.569</td> <td> 0.010</td> <td>   -1.438</td> <td>   -0.193</td>\n",
       "</tr>\n",
       "<tr>\n",
       "  <th>date_of_last_rech_8_8/30/2014</th>      <td>   -2.2524</td> <td>    0.078</td> <td>  -28.777</td> <td> 0.000</td> <td>   -2.406</td> <td>   -2.099</td>\n",
       "</tr>\n",
       "<tr>\n",
       "  <th>date_of_last_rech_8_8/31/2014</th>      <td>   -2.4186</td> <td>    0.071</td> <td>  -34.139</td> <td> 0.000</td> <td>   -2.557</td> <td>   -2.280</td>\n",
       "</tr>\n",
       "<tr>\n",
       "  <th>date_of_last_rech_8_8/6/2014</th>       <td>   -0.5607</td> <td>    0.158</td> <td>   -3.547</td> <td> 0.000</td> <td>   -0.871</td> <td>   -0.251</td>\n",
       "</tr>\n",
       "<tr>\n",
       "  <th>date_of_last_rech_8_8/8/2014</th>       <td>   -0.6315</td> <td>    0.149</td> <td>   -4.235</td> <td> 0.000</td> <td>   -0.924</td> <td>   -0.339</td>\n",
       "</tr>\n",
       "<tr>\n",
       "  <th>date_of_last_rech_8_8/9/2014</th>       <td>   -1.3583</td> <td>    0.152</td> <td>   -8.948</td> <td> 0.000</td> <td>   -1.656</td> <td>   -1.061</td>\n",
       "</tr>\n",
       "</table>"
      ],
      "text/plain": [
       "<class 'statsmodels.iolib.summary.Summary'>\n",
       "\"\"\"\n",
       "                 Generalized Linear Model Regression Results                  \n",
       "==============================================================================\n",
       "Dep. Variable:             churn_flag   No. Observations:                37962\n",
       "Model:                            GLM   Df Residuals:                    37881\n",
       "Model Family:                Binomial   Df Model:                           80\n",
       "Link Function:                  logit   Scale:                          1.0000\n",
       "Method:                          IRLS   Log-Likelihood:                -15763.\n",
       "Date:                Wed, 09 Mar 2022   Deviance:                       31526.\n",
       "Time:                        23:07:04   Pearson chi2:                 4.49e+05\n",
       "No. Iterations:                     8                                         \n",
       "Covariance Type:            nonrobust                                         \n",
       "======================================================================================================\n",
       "                                         coef    std err          z      P>|z|      [0.025      0.975]\n",
       "------------------------------------------------------------------------------------------------------\n",
       "const                                  0.4022      0.024     16.680      0.000       0.355       0.449\n",
       "arpu_7                                 0.9424      0.067     14.101      0.000       0.811       1.073\n",
       "arpu_8                                 0.6100      0.063      9.627      0.000       0.486       0.734\n",
       "std_og_mou_6                           0.4720      0.023     20.446      0.000       0.427       0.517\n",
       "total_og_mou_8                        -0.8134      0.030    -26.835      0.000      -0.873      -0.754\n",
       "loc_ic_t2m_mou_7                       0.5038      0.036     14.184      0.000       0.434       0.573\n",
       "loc_ic_t2m_mou_8                      -0.6830      0.100     -6.799      0.000      -0.880      -0.486\n",
       "loc_ic_mou_8                          -1.9636      0.101    -19.442      0.000      -2.162      -1.766\n",
       "total_rech_amt_7                      -0.5024      0.065     -7.731      0.000      -0.630      -0.375\n",
       "total_rech_amt_8                      -0.5343      0.060     -8.859      0.000      -0.653      -0.416\n",
       "aon                                   -0.4224      0.015    -27.745      0.000      -0.452      -0.393\n",
       "sep_vbc_3g                            -0.4792      0.062     -7.727      0.000      -0.601      -0.358\n",
       "fb_user_8_1.0                         -1.7792      0.062    -28.781      0.000      -1.900      -1.658\n",
       "night_pck_user_8_1.0                  -0.9960      0.390     -2.554      0.011      -1.761      -0.232\n",
       "date_of_last_rech_data_6_6/13/2014     0.7864      0.187      4.211      0.000       0.420       1.152\n",
       "date_of_last_rech_data_6_6/15/2014     0.7254      0.208      3.490      0.000       0.318       1.133\n",
       "date_of_last_rech_data_6_6/16/2014     0.8917      0.170      5.246      0.000       0.559       1.225\n",
       "date_of_last_rech_data_6_6/18/2014    -0.9331      0.214     -4.369      0.000      -1.352      -0.514\n",
       "date_of_last_rech_data_6_6/19/2014     0.9546      0.172      5.550      0.000       0.617       1.292\n",
       "date_of_last_rech_data_6_6/21/2014     0.9476      0.154      6.165      0.000       0.646       1.249\n",
       "date_of_last_rech_data_6_6/22/2014     0.6851      0.161      4.258      0.000       0.370       1.000\n",
       "date_of_last_rech_data_6_6/23/2014     0.9074      0.166      5.458      0.000       0.582       1.233\n",
       "date_of_last_rech_data_6_6/25/2014     0.5954      0.138      4.302      0.000       0.324       0.867\n",
       "date_of_last_rech_data_6_6/27/2014    -0.5145      0.158     -3.257      0.001      -0.824      -0.205\n",
       "date_of_last_rech_data_6_6/9/2014      0.6884      0.205      3.352      0.001       0.286       1.091\n",
       "date_of_last_rech_data_7_7/1/2014      0.7023      0.317      2.216      0.027       0.081       1.323\n",
       "date_of_last_rech_data_7_7/14/2014    -0.8230      0.193     -4.255      0.000      -1.202      -0.444\n",
       "date_of_last_rech_data_7_7/16/2014    -0.7672      0.199     -3.858      0.000      -1.157      -0.377\n",
       "date_of_last_rech_data_7_7/17/2014    -1.0431      0.217     -4.801      0.000      -1.469      -0.617\n",
       "date_of_last_rech_data_7_7/20/2014    -0.5911      0.227     -2.600      0.009      -1.037      -0.145\n",
       "date_of_last_rech_data_7_7/21/2014     0.4977      0.187      2.662      0.008       0.131       0.864\n",
       "date_of_last_rech_data_7_7/27/2014    -0.4797      0.148     -3.236      0.001      -0.770      -0.189\n",
       "date_of_last_rech_data_7_7/28/2014    -0.7561      0.182     -4.162      0.000      -1.112      -0.400\n",
       "date_of_last_rech_data_7_7/29/2014    -0.8200      0.152     -5.393      0.000      -1.118      -0.522\n",
       "date_of_last_rech_data_7_7/3/2014     -0.8620      0.323     -2.667      0.008      -1.496      -0.228\n",
       "date_of_last_rech_data_7_7/30/2014    -0.8704      0.146     -5.953      0.000      -1.157      -0.584\n",
       "date_of_last_rech_data_7_7/6/2014     -0.5451      0.277     -1.967      0.049      -1.088      -0.002\n",
       "date_of_last_rech_data_7_7/7/2014     -0.6980      0.240     -2.911      0.004      -1.168      -0.228\n",
       "date_of_last_rech_data_8_8/1/2014      0.6587      0.265      2.485      0.013       0.139       1.178\n",
       "date_of_last_rech_data_8_8/10/2014     0.8324      0.191      4.351      0.000       0.457       1.207\n",
       "date_of_last_rech_data_8_8/12/2014     0.8677      0.205      4.229      0.000       0.466       1.270\n",
       "date_of_last_rech_data_8_8/13/2014     1.4743      0.186      7.943      0.000       1.110       1.838\n",
       "date_of_last_rech_data_8_8/15/2014     0.4716      0.196      2.411      0.016       0.088       0.855\n",
       "date_of_last_rech_data_8_8/19/2014     1.0105      0.176      5.734      0.000       0.665       1.356\n",
       "date_of_last_rech_data_8_8/2/2014      0.9529      0.252      3.787      0.000       0.460       1.446\n",
       "date_of_last_rech_data_8_8/20/2014    -1.6735      0.317     -5.272      0.000      -2.296      -1.051\n",
       "date_of_last_rech_data_8_8/24/2014     0.7823      0.181      4.327      0.000       0.428       1.137\n",
       "date_of_last_rech_data_8_8/28/2014    -1.4239      0.236     -6.027      0.000      -1.887      -0.961\n",
       "date_of_last_rech_data_8_8/30/2014     0.6663      0.206      3.240      0.001       0.263       1.069\n",
       "date_of_last_rech_data_8_8/31/2014     1.5865      0.163      9.741      0.000       1.267       1.906\n",
       "date_of_last_rech_data_8_8/4/2014      0.9363      0.203      4.605      0.000       0.538       1.335\n",
       "date_of_last_rech_data_8_8/5/2014     -1.3310      0.354     -3.762      0.000      -2.024      -0.638\n",
       "date_of_last_rech_data_8_8/6/2014      0.8670      0.212      4.098      0.000       0.452       1.282\n",
       "date_of_last_rech_data_8_8/7/2014     -0.5221      0.272     -1.916      0.055      -1.056       0.012\n",
       "date_of_last_rech_data_8_8/8/2014     -2.4690      0.505     -4.892      0.000      -3.458      -1.480\n",
       "date_of_last_rech_6_6/10/2014          0.8419      0.216      3.894      0.000       0.418       1.266\n",
       "date_of_last_rech_6_6/16/2014         -0.4459      0.137     -3.263      0.001      -0.714      -0.178\n",
       "date_of_last_rech_6_6/18/2014         -0.3341      0.084     -3.966      0.000      -0.499      -0.169\n",
       "date_of_last_rech_6_6/23/2014         -0.3801      0.086     -4.399      0.000      -0.549      -0.211\n",
       "date_of_last_rech_6_6/3/2014           0.9543      0.229      4.176      0.000       0.506       1.402\n",
       "date_of_last_rech_6_6/4/2014           1.0777      0.316      3.413      0.001       0.459       1.697\n",
       "date_of_last_rech_6_6/8/2014           1.0938      0.159      6.869      0.000       0.782       1.406\n",
       "date_of_last_rech_6_6/9/2014           0.7937      0.282      2.813      0.005       0.241       1.347\n",
       "date_of_last_rech_7_7/18/2014         -0.5535      0.118     -4.678      0.000      -0.785      -0.322\n",
       "date_of_last_rech_7_7/20/2014         -0.4657      0.083     -5.594      0.000      -0.629      -0.303\n",
       "date_of_last_rech_7_7/28/2014         -0.6326      0.065     -9.695      0.000      -0.760      -0.505\n",
       "date_of_last_rech_7_7/9/2014          -0.6144      0.142     -4.338      0.000      -0.892      -0.337\n",
       "date_of_last_rech_8_8/1/2014           0.6040      0.221      2.732      0.006       0.171       1.037\n",
       "date_of_last_rech_8_8/10/2014         -0.7922      0.201     -3.944      0.000      -1.186      -0.399\n",
       "date_of_last_rech_8_8/15/2014         -0.5517      0.151     -3.645      0.000      -0.848      -0.255\n",
       "date_of_last_rech_8_8/17/2014         -0.5894      0.155     -3.802      0.000      -0.893      -0.286\n",
       "date_of_last_rech_8_8/23/2014         -0.5741      0.115     -4.982      0.000      -0.800      -0.348\n",
       "date_of_last_rech_8_8/24/2014         -0.7582      0.049    -15.616      0.000      -0.853      -0.663\n",
       "date_of_last_rech_8_8/27/2014         -1.0792      0.074    -14.611      0.000      -1.224      -0.934\n",
       "date_of_last_rech_8_8/29/2014         -0.8805      0.050    -17.565      0.000      -0.979      -0.782\n",
       "date_of_last_rech_8_8/3/2014          -0.8156      0.317     -2.569      0.010      -1.438      -0.193\n",
       "date_of_last_rech_8_8/30/2014         -2.2524      0.078    -28.777      0.000      -2.406      -2.099\n",
       "date_of_last_rech_8_8/31/2014         -2.4186      0.071    -34.139      0.000      -2.557      -2.280\n",
       "date_of_last_rech_8_8/6/2014          -0.5607      0.158     -3.547      0.000      -0.871      -0.251\n",
       "date_of_last_rech_8_8/8/2014          -0.6315      0.149     -4.235      0.000      -0.924      -0.339\n",
       "date_of_last_rech_8_8/9/2014          -1.3583      0.152     -8.948      0.000      -1.656      -1.061\n",
       "======================================================================================================\n",
       "\"\"\""
      ]
     },
     "execution_count": 400,
     "metadata": {},
     "output_type": "execute_result"
    }
   ],
   "source": [
    "#re-run the model and check statistics\n",
    "X_train_sm = sm.add_constant(X)\n",
    "logm2 = sm.GLM(y_train,X_train_sm, family = sm.families.Binomial())\n",
    "res = logm2.fit()\n",
    "res.summary()"
   ]
  },
  {
   "cell_type": "code",
   "execution_count": 401,
   "id": "878c36b3",
   "metadata": {},
   "outputs": [
    {
     "data": {
      "text/html": [
       "<div>\n",
       "<style scoped>\n",
       "    .dataframe tbody tr th:only-of-type {\n",
       "        vertical-align: middle;\n",
       "    }\n",
       "\n",
       "    .dataframe tbody tr th {\n",
       "        vertical-align: top;\n",
       "    }\n",
       "\n",
       "    .dataframe thead th {\n",
       "        text-align: right;\n",
       "    }\n",
       "</style>\n",
       "<table border=\"1\" class=\"dataframe\">\n",
       "  <thead>\n",
       "    <tr style=\"text-align: right;\">\n",
       "      <th></th>\n",
       "      <th>Features</th>\n",
       "      <th>VIF</th>\n",
       "    </tr>\n",
       "  </thead>\n",
       "  <tbody>\n",
       "    <tr>\n",
       "      <th>2</th>\n",
       "      <td>arpu_8</td>\n",
       "      <td>13.04</td>\n",
       "    </tr>\n",
       "    <tr>\n",
       "      <th>8</th>\n",
       "      <td>total_rech_amt_7</td>\n",
       "      <td>11.82</td>\n",
       "    </tr>\n",
       "    <tr>\n",
       "      <th>9</th>\n",
       "      <td>total_rech_amt_8</td>\n",
       "      <td>11.72</td>\n",
       "    </tr>\n",
       "    <tr>\n",
       "      <th>1</th>\n",
       "      <td>arpu_7</td>\n",
       "      <td>11.72</td>\n",
       "    </tr>\n",
       "    <tr>\n",
       "      <th>6</th>\n",
       "      <td>loc_ic_t2m_mou_8</td>\n",
       "      <td>5.14</td>\n",
       "    </tr>\n",
       "    <tr>\n",
       "      <th>...</th>\n",
       "      <td>...</td>\n",
       "      <td>...</td>\n",
       "    </tr>\n",
       "    <tr>\n",
       "      <th>61</th>\n",
       "      <td>date_of_last_rech_6_6/8/2014</td>\n",
       "      <td>1.01</td>\n",
       "    </tr>\n",
       "    <tr>\n",
       "      <th>60</th>\n",
       "      <td>date_of_last_rech_6_6/4/2014</td>\n",
       "      <td>1.01</td>\n",
       "    </tr>\n",
       "    <tr>\n",
       "      <th>59</th>\n",
       "      <td>date_of_last_rech_6_6/3/2014</td>\n",
       "      <td>1.01</td>\n",
       "    </tr>\n",
       "    <tr>\n",
       "      <th>55</th>\n",
       "      <td>date_of_last_rech_6_6/10/2014</td>\n",
       "      <td>1.01</td>\n",
       "    </tr>\n",
       "    <tr>\n",
       "      <th>80</th>\n",
       "      <td>date_of_last_rech_8_8/9/2014</td>\n",
       "      <td>1.01</td>\n",
       "    </tr>\n",
       "  </tbody>\n",
       "</table>\n",
       "<p>81 rows × 2 columns</p>\n",
       "</div>"
      ],
      "text/plain": [
       "                         Features    VIF\n",
       "2                          arpu_8  13.04\n",
       "8                total_rech_amt_7  11.82\n",
       "9                total_rech_amt_8  11.72\n",
       "1                          arpu_7  11.72\n",
       "6                loc_ic_t2m_mou_8   5.14\n",
       "..                            ...    ...\n",
       "61   date_of_last_rech_6_6/8/2014   1.01\n",
       "60   date_of_last_rech_6_6/4/2014   1.01\n",
       "59   date_of_last_rech_6_6/3/2014   1.01\n",
       "55  date_of_last_rech_6_6/10/2014   1.01\n",
       "80   date_of_last_rech_8_8/9/2014   1.01\n",
       "\n",
       "[81 rows x 2 columns]"
      ]
     },
     "execution_count": 401,
     "metadata": {},
     "output_type": "execute_result"
    }
   ],
   "source": [
    "# Create a dataframe that will contain the names of all the feature variables and their respective VIFs\n",
    "vif = pd.DataFrame()\n",
    "vif['Features'] = X_train_sm.columns\n",
    "vif['VIF'] = [variance_inflation_factor(X_train_sm.values, i) for i in range(X_train_sm.shape[1])]\n",
    "vif['VIF'] = round(vif['VIF'], 2)\n",
    "vif = vif.sort_values(by = \"VIF\", ascending = False)\n",
    "vif"
   ]
  },
  {
   "cell_type": "code",
   "execution_count": 402,
   "id": "bb6207f9",
   "metadata": {},
   "outputs": [],
   "source": [
    "X = X.drop(['arpu_8'],axis=1)"
   ]
  },
  {
   "cell_type": "code",
   "execution_count": 403,
   "id": "e4ffafdd",
   "metadata": {},
   "outputs": [
    {
     "data": {
      "text/html": [
       "<table class=\"simpletable\">\n",
       "<caption>Generalized Linear Model Regression Results</caption>\n",
       "<tr>\n",
       "  <th>Dep. Variable:</th>      <td>churn_flag</td>    <th>  No. Observations:  </th>  <td> 37962</td> \n",
       "</tr>\n",
       "<tr>\n",
       "  <th>Model:</th>                  <td>GLM</td>       <th>  Df Residuals:      </th>  <td> 37882</td> \n",
       "</tr>\n",
       "<tr>\n",
       "  <th>Model Family:</th>        <td>Binomial</td>     <th>  Df Model:          </th>  <td>    79</td> \n",
       "</tr>\n",
       "<tr>\n",
       "  <th>Link Function:</th>         <td>logit</td>      <th>  Scale:             </th> <td>  1.0000</td>\n",
       "</tr>\n",
       "<tr>\n",
       "  <th>Method:</th>                <td>IRLS</td>       <th>  Log-Likelihood:    </th> <td> -15813.</td>\n",
       "</tr>\n",
       "<tr>\n",
       "  <th>Date:</th>            <td>Wed, 09 Mar 2022</td> <th>  Deviance:          </th> <td>  31626.</td>\n",
       "</tr>\n",
       "<tr>\n",
       "  <th>Time:</th>                <td>23:07:24</td>     <th>  Pearson chi2:      </th> <td>4.70e+05</td>\n",
       "</tr>\n",
       "<tr>\n",
       "  <th>No. Iterations:</th>          <td>8</td>        <th>                     </th>     <td> </td>   \n",
       "</tr>\n",
       "<tr>\n",
       "  <th>Covariance Type:</th>     <td>nonrobust</td>    <th>                     </th>     <td> </td>   \n",
       "</tr>\n",
       "</table>\n",
       "<table class=\"simpletable\">\n",
       "<tr>\n",
       "                   <td></td>                     <th>coef</th>     <th>std err</th>      <th>z</th>      <th>P>|z|</th>  <th>[0.025</th>    <th>0.975]</th>  \n",
       "</tr>\n",
       "<tr>\n",
       "  <th>const</th>                              <td>    0.4038</td> <td>    0.024</td> <td>   16.775</td> <td> 0.000</td> <td>    0.357</td> <td>    0.451</td>\n",
       "</tr>\n",
       "<tr>\n",
       "  <th>arpu_7</th>                             <td>    0.8674</td> <td>    0.064</td> <td>   13.652</td> <td> 0.000</td> <td>    0.743</td> <td>    0.992</td>\n",
       "</tr>\n",
       "<tr>\n",
       "  <th>std_og_mou_6</th>                       <td>    0.4668</td> <td>    0.023</td> <td>   20.301</td> <td> 0.000</td> <td>    0.422</td> <td>    0.512</td>\n",
       "</tr>\n",
       "<tr>\n",
       "  <th>total_og_mou_8</th>                     <td>   -0.7787</td> <td>    0.030</td> <td>  -25.912</td> <td> 0.000</td> <td>   -0.838</td> <td>   -0.720</td>\n",
       "</tr>\n",
       "<tr>\n",
       "  <th>loc_ic_t2m_mou_7</th>                   <td>    0.4844</td> <td>    0.036</td> <td>   13.573</td> <td> 0.000</td> <td>    0.414</td> <td>    0.554</td>\n",
       "</tr>\n",
       "<tr>\n",
       "  <th>loc_ic_t2m_mou_8</th>                   <td>   -0.6406</td> <td>    0.101</td> <td>   -6.367</td> <td> 0.000</td> <td>   -0.838</td> <td>   -0.443</td>\n",
       "</tr>\n",
       "<tr>\n",
       "  <th>loc_ic_mou_8</th>                       <td>   -1.9592</td> <td>    0.101</td> <td>  -19.366</td> <td> 0.000</td> <td>   -2.158</td> <td>   -1.761</td>\n",
       "</tr>\n",
       "<tr>\n",
       "  <th>total_rech_amt_7</th>                   <td>   -0.3603</td> <td>    0.061</td> <td>   -5.923</td> <td> 0.000</td> <td>   -0.480</td> <td>   -0.241</td>\n",
       "</tr>\n",
       "<tr>\n",
       "  <th>total_rech_amt_8</th>                   <td>   -0.0281</td> <td>    0.028</td> <td>   -1.014</td> <td> 0.311</td> <td>   -0.082</td> <td>    0.026</td>\n",
       "</tr>\n",
       "<tr>\n",
       "  <th>aon</th>                                <td>   -0.4215</td> <td>    0.015</td> <td>  -27.744</td> <td> 0.000</td> <td>   -0.451</td> <td>   -0.392</td>\n",
       "</tr>\n",
       "<tr>\n",
       "  <th>sep_vbc_3g</th>                         <td>   -0.4610</td> <td>    0.060</td> <td>   -7.680</td> <td> 0.000</td> <td>   -0.579</td> <td>   -0.343</td>\n",
       "</tr>\n",
       "<tr>\n",
       "  <th>fb_user_8_1.0</th>                      <td>   -1.7380</td> <td>    0.061</td> <td>  -28.272</td> <td> 0.000</td> <td>   -1.859</td> <td>   -1.618</td>\n",
       "</tr>\n",
       "<tr>\n",
       "  <th>night_pck_user_8_1.0</th>               <td>   -1.0154</td> <td>    0.388</td> <td>   -2.619</td> <td> 0.009</td> <td>   -1.775</td> <td>   -0.255</td>\n",
       "</tr>\n",
       "<tr>\n",
       "  <th>date_of_last_rech_data_6_6/13/2014</th> <td>    0.8419</td> <td>    0.188</td> <td>    4.470</td> <td> 0.000</td> <td>    0.473</td> <td>    1.211</td>\n",
       "</tr>\n",
       "<tr>\n",
       "  <th>date_of_last_rech_data_6_6/15/2014</th> <td>    0.7046</td> <td>    0.208</td> <td>    3.391</td> <td> 0.001</td> <td>    0.297</td> <td>    1.112</td>\n",
       "</tr>\n",
       "<tr>\n",
       "  <th>date_of_last_rech_data_6_6/16/2014</th> <td>    0.8748</td> <td>    0.171</td> <td>    5.112</td> <td> 0.000</td> <td>    0.539</td> <td>    1.210</td>\n",
       "</tr>\n",
       "<tr>\n",
       "  <th>date_of_last_rech_data_6_6/18/2014</th> <td>   -0.9505</td> <td>    0.213</td> <td>   -4.455</td> <td> 0.000</td> <td>   -1.369</td> <td>   -0.532</td>\n",
       "</tr>\n",
       "<tr>\n",
       "  <th>date_of_last_rech_data_6_6/19/2014</th> <td>    0.9413</td> <td>    0.171</td> <td>    5.509</td> <td> 0.000</td> <td>    0.606</td> <td>    1.276</td>\n",
       "</tr>\n",
       "<tr>\n",
       "  <th>date_of_last_rech_data_6_6/21/2014</th> <td>    0.9734</td> <td>    0.155</td> <td>    6.277</td> <td> 0.000</td> <td>    0.669</td> <td>    1.277</td>\n",
       "</tr>\n",
       "<tr>\n",
       "  <th>date_of_last_rech_data_6_6/22/2014</th> <td>    0.6719</td> <td>    0.161</td> <td>    4.184</td> <td> 0.000</td> <td>    0.357</td> <td>    0.987</td>\n",
       "</tr>\n",
       "<tr>\n",
       "  <th>date_of_last_rech_data_6_6/23/2014</th> <td>    0.9131</td> <td>    0.166</td> <td>    5.505</td> <td> 0.000</td> <td>    0.588</td> <td>    1.238</td>\n",
       "</tr>\n",
       "<tr>\n",
       "  <th>date_of_last_rech_data_6_6/25/2014</th> <td>    0.5957</td> <td>    0.139</td> <td>    4.290</td> <td> 0.000</td> <td>    0.323</td> <td>    0.868</td>\n",
       "</tr>\n",
       "<tr>\n",
       "  <th>date_of_last_rech_data_6_6/27/2014</th> <td>   -0.5182</td> <td>    0.158</td> <td>   -3.286</td> <td> 0.001</td> <td>   -0.827</td> <td>   -0.209</td>\n",
       "</tr>\n",
       "<tr>\n",
       "  <th>date_of_last_rech_data_6_6/9/2014</th>  <td>    0.6999</td> <td>    0.205</td> <td>    3.422</td> <td> 0.001</td> <td>    0.299</td> <td>    1.101</td>\n",
       "</tr>\n",
       "<tr>\n",
       "  <th>date_of_last_rech_data_7_7/1/2014</th>  <td>    0.6615</td> <td>    0.319</td> <td>    2.077</td> <td> 0.038</td> <td>    0.037</td> <td>    1.286</td>\n",
       "</tr>\n",
       "<tr>\n",
       "  <th>date_of_last_rech_data_7_7/14/2014</th> <td>   -0.7794</td> <td>    0.194</td> <td>   -4.021</td> <td> 0.000</td> <td>   -1.159</td> <td>   -0.399</td>\n",
       "</tr>\n",
       "<tr>\n",
       "  <th>date_of_last_rech_data_7_7/16/2014</th> <td>   -0.7143</td> <td>    0.198</td> <td>   -3.602</td> <td> 0.000</td> <td>   -1.103</td> <td>   -0.326</td>\n",
       "</tr>\n",
       "<tr>\n",
       "  <th>date_of_last_rech_data_7_7/17/2014</th> <td>   -1.0589</td> <td>    0.217</td> <td>   -4.880</td> <td> 0.000</td> <td>   -1.484</td> <td>   -0.634</td>\n",
       "</tr>\n",
       "<tr>\n",
       "  <th>date_of_last_rech_data_7_7/20/2014</th> <td>   -0.5955</td> <td>    0.225</td> <td>   -2.646</td> <td> 0.008</td> <td>   -1.037</td> <td>   -0.154</td>\n",
       "</tr>\n",
       "<tr>\n",
       "  <th>date_of_last_rech_data_7_7/21/2014</th> <td>    0.4657</td> <td>    0.186</td> <td>    2.510</td> <td> 0.012</td> <td>    0.102</td> <td>    0.829</td>\n",
       "</tr>\n",
       "<tr>\n",
       "  <th>date_of_last_rech_data_7_7/27/2014</th> <td>   -0.5501</td> <td>    0.149</td> <td>   -3.692</td> <td> 0.000</td> <td>   -0.842</td> <td>   -0.258</td>\n",
       "</tr>\n",
       "<tr>\n",
       "  <th>date_of_last_rech_data_7_7/28/2014</th> <td>   -0.7833</td> <td>    0.182</td> <td>   -4.296</td> <td> 0.000</td> <td>   -1.141</td> <td>   -0.426</td>\n",
       "</tr>\n",
       "<tr>\n",
       "  <th>date_of_last_rech_data_7_7/29/2014</th> <td>   -0.8491</td> <td>    0.152</td> <td>   -5.568</td> <td> 0.000</td> <td>   -1.148</td> <td>   -0.550</td>\n",
       "</tr>\n",
       "<tr>\n",
       "  <th>date_of_last_rech_data_7_7/3/2014</th>  <td>   -0.8975</td> <td>    0.327</td> <td>   -2.748</td> <td> 0.006</td> <td>   -1.538</td> <td>   -0.257</td>\n",
       "</tr>\n",
       "<tr>\n",
       "  <th>date_of_last_rech_data_7_7/30/2014</th> <td>   -0.8859</td> <td>    0.146</td> <td>   -6.079</td> <td> 0.000</td> <td>   -1.171</td> <td>   -0.600</td>\n",
       "</tr>\n",
       "<tr>\n",
       "  <th>date_of_last_rech_data_7_7/6/2014</th>  <td>   -0.5458</td> <td>    0.277</td> <td>   -1.971</td> <td> 0.049</td> <td>   -1.088</td> <td>   -0.003</td>\n",
       "</tr>\n",
       "<tr>\n",
       "  <th>date_of_last_rech_data_7_7/7/2014</th>  <td>   -0.7021</td> <td>    0.240</td> <td>   -2.923</td> <td> 0.003</td> <td>   -1.173</td> <td>   -0.231</td>\n",
       "</tr>\n",
       "<tr>\n",
       "  <th>date_of_last_rech_data_8_8/1/2014</th>  <td>    0.8411</td> <td>    0.257</td> <td>    3.275</td> <td> 0.001</td> <td>    0.338</td> <td>    1.344</td>\n",
       "</tr>\n",
       "<tr>\n",
       "  <th>date_of_last_rech_data_8_8/10/2014</th> <td>    0.8586</td> <td>    0.189</td> <td>    4.543</td> <td> 0.000</td> <td>    0.488</td> <td>    1.229</td>\n",
       "</tr>\n",
       "<tr>\n",
       "  <th>date_of_last_rech_data_8_8/12/2014</th> <td>    0.9349</td> <td>    0.205</td> <td>    4.559</td> <td> 0.000</td> <td>    0.533</td> <td>    1.337</td>\n",
       "</tr>\n",
       "<tr>\n",
       "  <th>date_of_last_rech_data_8_8/13/2014</th> <td>    1.6246</td> <td>    0.186</td> <td>    8.737</td> <td> 0.000</td> <td>    1.260</td> <td>    1.989</td>\n",
       "</tr>\n",
       "<tr>\n",
       "  <th>date_of_last_rech_data_8_8/15/2014</th> <td>    0.4346</td> <td>    0.196</td> <td>    2.221</td> <td> 0.026</td> <td>    0.051</td> <td>    0.818</td>\n",
       "</tr>\n",
       "<tr>\n",
       "  <th>date_of_last_rech_data_8_8/19/2014</th> <td>    1.0011</td> <td>    0.177</td> <td>    5.665</td> <td> 0.000</td> <td>    0.655</td> <td>    1.347</td>\n",
       "</tr>\n",
       "<tr>\n",
       "  <th>date_of_last_rech_data_8_8/2/2014</th>  <td>    0.9652</td> <td>    0.252</td> <td>    3.835</td> <td> 0.000</td> <td>    0.472</td> <td>    1.459</td>\n",
       "</tr>\n",
       "<tr>\n",
       "  <th>date_of_last_rech_data_8_8/20/2014</th> <td>   -1.6936</td> <td>    0.319</td> <td>   -5.314</td> <td> 0.000</td> <td>   -2.318</td> <td>   -1.069</td>\n",
       "</tr>\n",
       "<tr>\n",
       "  <th>date_of_last_rech_data_8_8/24/2014</th> <td>    0.7810</td> <td>    0.180</td> <td>    4.331</td> <td> 0.000</td> <td>    0.428</td> <td>    1.134</td>\n",
       "</tr>\n",
       "<tr>\n",
       "  <th>date_of_last_rech_data_8_8/28/2014</th> <td>   -1.4413</td> <td>    0.236</td> <td>   -6.110</td> <td> 0.000</td> <td>   -1.904</td> <td>   -0.979</td>\n",
       "</tr>\n",
       "<tr>\n",
       "  <th>date_of_last_rech_data_8_8/30/2014</th> <td>    0.6790</td> <td>    0.206</td> <td>    3.292</td> <td> 0.001</td> <td>    0.275</td> <td>    1.083</td>\n",
       "</tr>\n",
       "<tr>\n",
       "  <th>date_of_last_rech_data_8_8/31/2014</th> <td>    1.6228</td> <td>    0.160</td> <td>   10.116</td> <td> 0.000</td> <td>    1.308</td> <td>    1.937</td>\n",
       "</tr>\n",
       "<tr>\n",
       "  <th>date_of_last_rech_data_8_8/4/2014</th>  <td>    0.9067</td> <td>    0.204</td> <td>    4.447</td> <td> 0.000</td> <td>    0.507</td> <td>    1.306</td>\n",
       "</tr>\n",
       "<tr>\n",
       "  <th>date_of_last_rech_data_8_8/5/2014</th>  <td>   -1.3578</td> <td>    0.354</td> <td>   -3.831</td> <td> 0.000</td> <td>   -2.052</td> <td>   -0.663</td>\n",
       "</tr>\n",
       "<tr>\n",
       "  <th>date_of_last_rech_data_8_8/6/2014</th>  <td>    0.8039</td> <td>    0.211</td> <td>    3.805</td> <td> 0.000</td> <td>    0.390</td> <td>    1.218</td>\n",
       "</tr>\n",
       "<tr>\n",
       "  <th>date_of_last_rech_data_8_8/7/2014</th>  <td>   -0.5326</td> <td>    0.273</td> <td>   -1.948</td> <td> 0.051</td> <td>   -1.068</td> <td>    0.003</td>\n",
       "</tr>\n",
       "<tr>\n",
       "  <th>date_of_last_rech_data_8_8/8/2014</th>  <td>   -2.4647</td> <td>    0.502</td> <td>   -4.908</td> <td> 0.000</td> <td>   -3.449</td> <td>   -1.480</td>\n",
       "</tr>\n",
       "<tr>\n",
       "  <th>date_of_last_rech_6_6/10/2014</th>      <td>    0.8432</td> <td>    0.216</td> <td>    3.907</td> <td> 0.000</td> <td>    0.420</td> <td>    1.266</td>\n",
       "</tr>\n",
       "<tr>\n",
       "  <th>date_of_last_rech_6_6/16/2014</th>      <td>   -0.5022</td> <td>    0.137</td> <td>   -3.663</td> <td> 0.000</td> <td>   -0.771</td> <td>   -0.233</td>\n",
       "</tr>\n",
       "<tr>\n",
       "  <th>date_of_last_rech_6_6/18/2014</th>      <td>   -0.3243</td> <td>    0.084</td> <td>   -3.875</td> <td> 0.000</td> <td>   -0.488</td> <td>   -0.160</td>\n",
       "</tr>\n",
       "<tr>\n",
       "  <th>date_of_last_rech_6_6/23/2014</th>      <td>   -0.4000</td> <td>    0.086</td> <td>   -4.633</td> <td> 0.000</td> <td>   -0.569</td> <td>   -0.231</td>\n",
       "</tr>\n",
       "<tr>\n",
       "  <th>date_of_last_rech_6_6/3/2014</th>       <td>    0.9526</td> <td>    0.228</td> <td>    4.170</td> <td> 0.000</td> <td>    0.505</td> <td>    1.400</td>\n",
       "</tr>\n",
       "<tr>\n",
       "  <th>date_of_last_rech_6_6/4/2014</th>       <td>    1.0296</td> <td>    0.314</td> <td>    3.275</td> <td> 0.001</td> <td>    0.413</td> <td>    1.646</td>\n",
       "</tr>\n",
       "<tr>\n",
       "  <th>date_of_last_rech_6_6/8/2014</th>       <td>    1.0891</td> <td>    0.159</td> <td>    6.844</td> <td> 0.000</td> <td>    0.777</td> <td>    1.401</td>\n",
       "</tr>\n",
       "<tr>\n",
       "  <th>date_of_last_rech_6_6/9/2014</th>       <td>    0.8440</td> <td>    0.276</td> <td>    3.054</td> <td> 0.002</td> <td>    0.302</td> <td>    1.386</td>\n",
       "</tr>\n",
       "<tr>\n",
       "  <th>date_of_last_rech_7_7/18/2014</th>      <td>   -0.5653</td> <td>    0.119</td> <td>   -4.767</td> <td> 0.000</td> <td>   -0.798</td> <td>   -0.333</td>\n",
       "</tr>\n",
       "<tr>\n",
       "  <th>date_of_last_rech_7_7/20/2014</th>      <td>   -0.4814</td> <td>    0.083</td> <td>   -5.796</td> <td> 0.000</td> <td>   -0.644</td> <td>   -0.319</td>\n",
       "</tr>\n",
       "<tr>\n",
       "  <th>date_of_last_rech_7_7/28/2014</th>      <td>   -0.6183</td> <td>    0.065</td> <td>   -9.510</td> <td> 0.000</td> <td>   -0.746</td> <td>   -0.491</td>\n",
       "</tr>\n",
       "<tr>\n",
       "  <th>date_of_last_rech_7_7/9/2014</th>       <td>   -0.6028</td> <td>    0.140</td> <td>   -4.292</td> <td> 0.000</td> <td>   -0.878</td> <td>   -0.328</td>\n",
       "</tr>\n",
       "<tr>\n",
       "  <th>date_of_last_rech_8_8/1/2014</th>       <td>    0.5961</td> <td>    0.221</td> <td>    2.703</td> <td> 0.007</td> <td>    0.164</td> <td>    1.028</td>\n",
       "</tr>\n",
       "<tr>\n",
       "  <th>date_of_last_rech_8_8/10/2014</th>      <td>   -0.7672</td> <td>    0.198</td> <td>   -3.868</td> <td> 0.000</td> <td>   -1.156</td> <td>   -0.378</td>\n",
       "</tr>\n",
       "<tr>\n",
       "  <th>date_of_last_rech_8_8/15/2014</th>      <td>   -0.5026</td> <td>    0.151</td> <td>   -3.326</td> <td> 0.001</td> <td>   -0.799</td> <td>   -0.206</td>\n",
       "</tr>\n",
       "<tr>\n",
       "  <th>date_of_last_rech_8_8/17/2014</th>      <td>   -0.6070</td> <td>    0.155</td> <td>   -3.915</td> <td> 0.000</td> <td>   -0.911</td> <td>   -0.303</td>\n",
       "</tr>\n",
       "<tr>\n",
       "  <th>date_of_last_rech_8_8/23/2014</th>      <td>   -0.5806</td> <td>    0.115</td> <td>   -5.044</td> <td> 0.000</td> <td>   -0.806</td> <td>   -0.355</td>\n",
       "</tr>\n",
       "<tr>\n",
       "  <th>date_of_last_rech_8_8/24/2014</th>      <td>   -0.7550</td> <td>    0.048</td> <td>  -15.594</td> <td> 0.000</td> <td>   -0.850</td> <td>   -0.660</td>\n",
       "</tr>\n",
       "<tr>\n",
       "  <th>date_of_last_rech_8_8/27/2014</th>      <td>   -1.0721</td> <td>    0.073</td> <td>  -14.633</td> <td> 0.000</td> <td>   -1.216</td> <td>   -0.929</td>\n",
       "</tr>\n",
       "<tr>\n",
       "  <th>date_of_last_rech_8_8/29/2014</th>      <td>   -0.8852</td> <td>    0.050</td> <td>  -17.668</td> <td> 0.000</td> <td>   -0.983</td> <td>   -0.787</td>\n",
       "</tr>\n",
       "<tr>\n",
       "  <th>date_of_last_rech_8_8/3/2014</th>       <td>   -0.8267</td> <td>    0.318</td> <td>   -2.598</td> <td> 0.009</td> <td>   -1.450</td> <td>   -0.203</td>\n",
       "</tr>\n",
       "<tr>\n",
       "  <th>date_of_last_rech_8_8/30/2014</th>      <td>   -2.2606</td> <td>    0.078</td> <td>  -28.988</td> <td> 0.000</td> <td>   -2.413</td> <td>   -2.108</td>\n",
       "</tr>\n",
       "<tr>\n",
       "  <th>date_of_last_rech_8_8/31/2014</th>      <td>   -2.4237</td> <td>    0.071</td> <td>  -34.354</td> <td> 0.000</td> <td>   -2.562</td> <td>   -2.285</td>\n",
       "</tr>\n",
       "<tr>\n",
       "  <th>date_of_last_rech_8_8/6/2014</th>       <td>   -0.5580</td> <td>    0.159</td> <td>   -3.520</td> <td> 0.000</td> <td>   -0.869</td> <td>   -0.247</td>\n",
       "</tr>\n",
       "<tr>\n",
       "  <th>date_of_last_rech_8_8/8/2014</th>       <td>   -0.6253</td> <td>    0.149</td> <td>   -4.204</td> <td> 0.000</td> <td>   -0.917</td> <td>   -0.334</td>\n",
       "</tr>\n",
       "<tr>\n",
       "  <th>date_of_last_rech_8_8/9/2014</th>       <td>   -1.3802</td> <td>    0.151</td> <td>   -9.115</td> <td> 0.000</td> <td>   -1.677</td> <td>   -1.083</td>\n",
       "</tr>\n",
       "</table>"
      ],
      "text/plain": [
       "<class 'statsmodels.iolib.summary.Summary'>\n",
       "\"\"\"\n",
       "                 Generalized Linear Model Regression Results                  \n",
       "==============================================================================\n",
       "Dep. Variable:             churn_flag   No. Observations:                37962\n",
       "Model:                            GLM   Df Residuals:                    37882\n",
       "Model Family:                Binomial   Df Model:                           79\n",
       "Link Function:                  logit   Scale:                          1.0000\n",
       "Method:                          IRLS   Log-Likelihood:                -15813.\n",
       "Date:                Wed, 09 Mar 2022   Deviance:                       31626.\n",
       "Time:                        23:07:24   Pearson chi2:                 4.70e+05\n",
       "No. Iterations:                     8                                         \n",
       "Covariance Type:            nonrobust                                         \n",
       "======================================================================================================\n",
       "                                         coef    std err          z      P>|z|      [0.025      0.975]\n",
       "------------------------------------------------------------------------------------------------------\n",
       "const                                  0.4038      0.024     16.775      0.000       0.357       0.451\n",
       "arpu_7                                 0.8674      0.064     13.652      0.000       0.743       0.992\n",
       "std_og_mou_6                           0.4668      0.023     20.301      0.000       0.422       0.512\n",
       "total_og_mou_8                        -0.7787      0.030    -25.912      0.000      -0.838      -0.720\n",
       "loc_ic_t2m_mou_7                       0.4844      0.036     13.573      0.000       0.414       0.554\n",
       "loc_ic_t2m_mou_8                      -0.6406      0.101     -6.367      0.000      -0.838      -0.443\n",
       "loc_ic_mou_8                          -1.9592      0.101    -19.366      0.000      -2.158      -1.761\n",
       "total_rech_amt_7                      -0.3603      0.061     -5.923      0.000      -0.480      -0.241\n",
       "total_rech_amt_8                      -0.0281      0.028     -1.014      0.311      -0.082       0.026\n",
       "aon                                   -0.4215      0.015    -27.744      0.000      -0.451      -0.392\n",
       "sep_vbc_3g                            -0.4610      0.060     -7.680      0.000      -0.579      -0.343\n",
       "fb_user_8_1.0                         -1.7380      0.061    -28.272      0.000      -1.859      -1.618\n",
       "night_pck_user_8_1.0                  -1.0154      0.388     -2.619      0.009      -1.775      -0.255\n",
       "date_of_last_rech_data_6_6/13/2014     0.8419      0.188      4.470      0.000       0.473       1.211\n",
       "date_of_last_rech_data_6_6/15/2014     0.7046      0.208      3.391      0.001       0.297       1.112\n",
       "date_of_last_rech_data_6_6/16/2014     0.8748      0.171      5.112      0.000       0.539       1.210\n",
       "date_of_last_rech_data_6_6/18/2014    -0.9505      0.213     -4.455      0.000      -1.369      -0.532\n",
       "date_of_last_rech_data_6_6/19/2014     0.9413      0.171      5.509      0.000       0.606       1.276\n",
       "date_of_last_rech_data_6_6/21/2014     0.9734      0.155      6.277      0.000       0.669       1.277\n",
       "date_of_last_rech_data_6_6/22/2014     0.6719      0.161      4.184      0.000       0.357       0.987\n",
       "date_of_last_rech_data_6_6/23/2014     0.9131      0.166      5.505      0.000       0.588       1.238\n",
       "date_of_last_rech_data_6_6/25/2014     0.5957      0.139      4.290      0.000       0.323       0.868\n",
       "date_of_last_rech_data_6_6/27/2014    -0.5182      0.158     -3.286      0.001      -0.827      -0.209\n",
       "date_of_last_rech_data_6_6/9/2014      0.6999      0.205      3.422      0.001       0.299       1.101\n",
       "date_of_last_rech_data_7_7/1/2014      0.6615      0.319      2.077      0.038       0.037       1.286\n",
       "date_of_last_rech_data_7_7/14/2014    -0.7794      0.194     -4.021      0.000      -1.159      -0.399\n",
       "date_of_last_rech_data_7_7/16/2014    -0.7143      0.198     -3.602      0.000      -1.103      -0.326\n",
       "date_of_last_rech_data_7_7/17/2014    -1.0589      0.217     -4.880      0.000      -1.484      -0.634\n",
       "date_of_last_rech_data_7_7/20/2014    -0.5955      0.225     -2.646      0.008      -1.037      -0.154\n",
       "date_of_last_rech_data_7_7/21/2014     0.4657      0.186      2.510      0.012       0.102       0.829\n",
       "date_of_last_rech_data_7_7/27/2014    -0.5501      0.149     -3.692      0.000      -0.842      -0.258\n",
       "date_of_last_rech_data_7_7/28/2014    -0.7833      0.182     -4.296      0.000      -1.141      -0.426\n",
       "date_of_last_rech_data_7_7/29/2014    -0.8491      0.152     -5.568      0.000      -1.148      -0.550\n",
       "date_of_last_rech_data_7_7/3/2014     -0.8975      0.327     -2.748      0.006      -1.538      -0.257\n",
       "date_of_last_rech_data_7_7/30/2014    -0.8859      0.146     -6.079      0.000      -1.171      -0.600\n",
       "date_of_last_rech_data_7_7/6/2014     -0.5458      0.277     -1.971      0.049      -1.088      -0.003\n",
       "date_of_last_rech_data_7_7/7/2014     -0.7021      0.240     -2.923      0.003      -1.173      -0.231\n",
       "date_of_last_rech_data_8_8/1/2014      0.8411      0.257      3.275      0.001       0.338       1.344\n",
       "date_of_last_rech_data_8_8/10/2014     0.8586      0.189      4.543      0.000       0.488       1.229\n",
       "date_of_last_rech_data_8_8/12/2014     0.9349      0.205      4.559      0.000       0.533       1.337\n",
       "date_of_last_rech_data_8_8/13/2014     1.6246      0.186      8.737      0.000       1.260       1.989\n",
       "date_of_last_rech_data_8_8/15/2014     0.4346      0.196      2.221      0.026       0.051       0.818\n",
       "date_of_last_rech_data_8_8/19/2014     1.0011      0.177      5.665      0.000       0.655       1.347\n",
       "date_of_last_rech_data_8_8/2/2014      0.9652      0.252      3.835      0.000       0.472       1.459\n",
       "date_of_last_rech_data_8_8/20/2014    -1.6936      0.319     -5.314      0.000      -2.318      -1.069\n",
       "date_of_last_rech_data_8_8/24/2014     0.7810      0.180      4.331      0.000       0.428       1.134\n",
       "date_of_last_rech_data_8_8/28/2014    -1.4413      0.236     -6.110      0.000      -1.904      -0.979\n",
       "date_of_last_rech_data_8_8/30/2014     0.6790      0.206      3.292      0.001       0.275       1.083\n",
       "date_of_last_rech_data_8_8/31/2014     1.6228      0.160     10.116      0.000       1.308       1.937\n",
       "date_of_last_rech_data_8_8/4/2014      0.9067      0.204      4.447      0.000       0.507       1.306\n",
       "date_of_last_rech_data_8_8/5/2014     -1.3578      0.354     -3.831      0.000      -2.052      -0.663\n",
       "date_of_last_rech_data_8_8/6/2014      0.8039      0.211      3.805      0.000       0.390       1.218\n",
       "date_of_last_rech_data_8_8/7/2014     -0.5326      0.273     -1.948      0.051      -1.068       0.003\n",
       "date_of_last_rech_data_8_8/8/2014     -2.4647      0.502     -4.908      0.000      -3.449      -1.480\n",
       "date_of_last_rech_6_6/10/2014          0.8432      0.216      3.907      0.000       0.420       1.266\n",
       "date_of_last_rech_6_6/16/2014         -0.5022      0.137     -3.663      0.000      -0.771      -0.233\n",
       "date_of_last_rech_6_6/18/2014         -0.3243      0.084     -3.875      0.000      -0.488      -0.160\n",
       "date_of_last_rech_6_6/23/2014         -0.4000      0.086     -4.633      0.000      -0.569      -0.231\n",
       "date_of_last_rech_6_6/3/2014           0.9526      0.228      4.170      0.000       0.505       1.400\n",
       "date_of_last_rech_6_6/4/2014           1.0296      0.314      3.275      0.001       0.413       1.646\n",
       "date_of_last_rech_6_6/8/2014           1.0891      0.159      6.844      0.000       0.777       1.401\n",
       "date_of_last_rech_6_6/9/2014           0.8440      0.276      3.054      0.002       0.302       1.386\n",
       "date_of_last_rech_7_7/18/2014         -0.5653      0.119     -4.767      0.000      -0.798      -0.333\n",
       "date_of_last_rech_7_7/20/2014         -0.4814      0.083     -5.796      0.000      -0.644      -0.319\n",
       "date_of_last_rech_7_7/28/2014         -0.6183      0.065     -9.510      0.000      -0.746      -0.491\n",
       "date_of_last_rech_7_7/9/2014          -0.6028      0.140     -4.292      0.000      -0.878      -0.328\n",
       "date_of_last_rech_8_8/1/2014           0.5961      0.221      2.703      0.007       0.164       1.028\n",
       "date_of_last_rech_8_8/10/2014         -0.7672      0.198     -3.868      0.000      -1.156      -0.378\n",
       "date_of_last_rech_8_8/15/2014         -0.5026      0.151     -3.326      0.001      -0.799      -0.206\n",
       "date_of_last_rech_8_8/17/2014         -0.6070      0.155     -3.915      0.000      -0.911      -0.303\n",
       "date_of_last_rech_8_8/23/2014         -0.5806      0.115     -5.044      0.000      -0.806      -0.355\n",
       "date_of_last_rech_8_8/24/2014         -0.7550      0.048    -15.594      0.000      -0.850      -0.660\n",
       "date_of_last_rech_8_8/27/2014         -1.0721      0.073    -14.633      0.000      -1.216      -0.929\n",
       "date_of_last_rech_8_8/29/2014         -0.8852      0.050    -17.668      0.000      -0.983      -0.787\n",
       "date_of_last_rech_8_8/3/2014          -0.8267      0.318     -2.598      0.009      -1.450      -0.203\n",
       "date_of_last_rech_8_8/30/2014         -2.2606      0.078    -28.988      0.000      -2.413      -2.108\n",
       "date_of_last_rech_8_8/31/2014         -2.4237      0.071    -34.354      0.000      -2.562      -2.285\n",
       "date_of_last_rech_8_8/6/2014          -0.5580      0.159     -3.520      0.000      -0.869      -0.247\n",
       "date_of_last_rech_8_8/8/2014          -0.6253      0.149     -4.204      0.000      -0.917      -0.334\n",
       "date_of_last_rech_8_8/9/2014          -1.3802      0.151     -9.115      0.000      -1.677      -1.083\n",
       "======================================================================================================\n",
       "\"\"\""
      ]
     },
     "execution_count": 403,
     "metadata": {},
     "output_type": "execute_result"
    }
   ],
   "source": [
    "#re-run the model and check statistics\n",
    "X_train_sm = sm.add_constant(X)\n",
    "logm2 = sm.GLM(y_train,X_train_sm, family = sm.families.Binomial())\n",
    "res = logm2.fit()\n",
    "res.summary()"
   ]
  },
  {
   "cell_type": "code",
   "execution_count": 404,
   "id": "96c45fea",
   "metadata": {},
   "outputs": [
    {
     "data": {
      "text/html": [
       "<div>\n",
       "<style scoped>\n",
       "    .dataframe tbody tr th:only-of-type {\n",
       "        vertical-align: middle;\n",
       "    }\n",
       "\n",
       "    .dataframe tbody tr th {\n",
       "        vertical-align: top;\n",
       "    }\n",
       "\n",
       "    .dataframe thead th {\n",
       "        text-align: right;\n",
       "    }\n",
       "</style>\n",
       "<table border=\"1\" class=\"dataframe\">\n",
       "  <thead>\n",
       "    <tr style=\"text-align: right;\">\n",
       "      <th></th>\n",
       "      <th>Features</th>\n",
       "      <th>VIF</th>\n",
       "    </tr>\n",
       "  </thead>\n",
       "  <tbody>\n",
       "    <tr>\n",
       "      <th>1</th>\n",
       "      <td>arpu_7</td>\n",
       "      <td>11.58</td>\n",
       "    </tr>\n",
       "    <tr>\n",
       "      <th>7</th>\n",
       "      <td>total_rech_amt_7</td>\n",
       "      <td>11.07</td>\n",
       "    </tr>\n",
       "    <tr>\n",
       "      <th>5</th>\n",
       "      <td>loc_ic_t2m_mou_8</td>\n",
       "      <td>5.14</td>\n",
       "    </tr>\n",
       "    <tr>\n",
       "      <th>6</th>\n",
       "      <td>loc_ic_mou_8</td>\n",
       "      <td>3.99</td>\n",
       "    </tr>\n",
       "    <tr>\n",
       "      <th>8</th>\n",
       "      <td>total_rech_amt_8</td>\n",
       "      <td>2.90</td>\n",
       "    </tr>\n",
       "    <tr>\n",
       "      <th>...</th>\n",
       "      <td>...</td>\n",
       "      <td>...</td>\n",
       "    </tr>\n",
       "    <tr>\n",
       "      <th>59</th>\n",
       "      <td>date_of_last_rech_6_6/4/2014</td>\n",
       "      <td>1.01</td>\n",
       "    </tr>\n",
       "    <tr>\n",
       "      <th>58</th>\n",
       "      <td>date_of_last_rech_6_6/3/2014</td>\n",
       "      <td>1.01</td>\n",
       "    </tr>\n",
       "    <tr>\n",
       "      <th>54</th>\n",
       "      <td>date_of_last_rech_6_6/10/2014</td>\n",
       "      <td>1.01</td>\n",
       "    </tr>\n",
       "    <tr>\n",
       "      <th>35</th>\n",
       "      <td>date_of_last_rech_data_7_7/6/2014</td>\n",
       "      <td>1.01</td>\n",
       "    </tr>\n",
       "    <tr>\n",
       "      <th>79</th>\n",
       "      <td>date_of_last_rech_8_8/9/2014</td>\n",
       "      <td>1.01</td>\n",
       "    </tr>\n",
       "  </tbody>\n",
       "</table>\n",
       "<p>80 rows × 2 columns</p>\n",
       "</div>"
      ],
      "text/plain": [
       "                             Features    VIF\n",
       "1                              arpu_7  11.58\n",
       "7                    total_rech_amt_7  11.07\n",
       "5                    loc_ic_t2m_mou_8   5.14\n",
       "6                        loc_ic_mou_8   3.99\n",
       "8                    total_rech_amt_8   2.90\n",
       "..                                ...    ...\n",
       "59       date_of_last_rech_6_6/4/2014   1.01\n",
       "58       date_of_last_rech_6_6/3/2014   1.01\n",
       "54      date_of_last_rech_6_6/10/2014   1.01\n",
       "35  date_of_last_rech_data_7_7/6/2014   1.01\n",
       "79       date_of_last_rech_8_8/9/2014   1.01\n",
       "\n",
       "[80 rows x 2 columns]"
      ]
     },
     "execution_count": 404,
     "metadata": {},
     "output_type": "execute_result"
    }
   ],
   "source": [
    "# Create a dataframe that will contain the names of all the feature variables and their respective VIFs\n",
    "vif = pd.DataFrame()\n",
    "vif['Features'] = X_train_sm.columns\n",
    "vif['VIF'] = [variance_inflation_factor(X_train_sm.values, i) for i in range(X_train_sm.shape[1])]\n",
    "vif['VIF'] = round(vif['VIF'], 2)\n",
    "vif = vif.sort_values(by = \"VIF\", ascending = False)\n",
    "vif"
   ]
  },
  {
   "cell_type": "code",
   "execution_count": 405,
   "id": "f499d78d",
   "metadata": {},
   "outputs": [],
   "source": [
    "X = X.drop(['arpu_7'],axis=1)"
   ]
  },
  {
   "cell_type": "code",
   "execution_count": 406,
   "id": "a0b508df",
   "metadata": {},
   "outputs": [
    {
     "data": {
      "text/html": [
       "<table class=\"simpletable\">\n",
       "<caption>Generalized Linear Model Regression Results</caption>\n",
       "<tr>\n",
       "  <th>Dep. Variable:</th>      <td>churn_flag</td>    <th>  No. Observations:  </th>  <td> 37962</td> \n",
       "</tr>\n",
       "<tr>\n",
       "  <th>Model:</th>                  <td>GLM</td>       <th>  Df Residuals:      </th>  <td> 37883</td> \n",
       "</tr>\n",
       "<tr>\n",
       "  <th>Model Family:</th>        <td>Binomial</td>     <th>  Df Model:          </th>  <td>    78</td> \n",
       "</tr>\n",
       "<tr>\n",
       "  <th>Link Function:</th>         <td>logit</td>      <th>  Scale:             </th> <td>  1.0000</td>\n",
       "</tr>\n",
       "<tr>\n",
       "  <th>Method:</th>                <td>IRLS</td>       <th>  Log-Likelihood:    </th> <td> -15916.</td>\n",
       "</tr>\n",
       "<tr>\n",
       "  <th>Date:</th>            <td>Wed, 09 Mar 2022</td> <th>  Deviance:          </th> <td>  31832.</td>\n",
       "</tr>\n",
       "<tr>\n",
       "  <th>Time:</th>                <td>23:07:44</td>     <th>  Pearson chi2:      </th> <td>2.32e+08</td>\n",
       "</tr>\n",
       "<tr>\n",
       "  <th>No. Iterations:</th>          <td>9</td>        <th>                     </th>     <td> </td>   \n",
       "</tr>\n",
       "<tr>\n",
       "  <th>Covariance Type:</th>     <td>nonrobust</td>    <th>                     </th>     <td> </td>   \n",
       "</tr>\n",
       "</table>\n",
       "<table class=\"simpletable\">\n",
       "<tr>\n",
       "                   <td></td>                     <th>coef</th>     <th>std err</th>      <th>z</th>      <th>P>|z|</th>  <th>[0.025</th>    <th>0.975]</th>  \n",
       "</tr>\n",
       "<tr>\n",
       "  <th>const</th>                              <td>    0.3840</td> <td>    0.024</td> <td>   15.926</td> <td> 0.000</td> <td>    0.337</td> <td>    0.431</td>\n",
       "</tr>\n",
       "<tr>\n",
       "  <th>std_og_mou_6</th>                       <td>    0.4952</td> <td>    0.023</td> <td>   21.533</td> <td> 0.000</td> <td>    0.450</td> <td>    0.540</td>\n",
       "</tr>\n",
       "<tr>\n",
       "  <th>total_og_mou_8</th>                     <td>   -0.7905</td> <td>    0.030</td> <td>  -26.227</td> <td> 0.000</td> <td>   -0.850</td> <td>   -0.731</td>\n",
       "</tr>\n",
       "<tr>\n",
       "  <th>loc_ic_t2m_mou_7</th>                   <td>    0.5364</td> <td>    0.035</td> <td>   15.191</td> <td> 0.000</td> <td>    0.467</td> <td>    0.606</td>\n",
       "</tr>\n",
       "<tr>\n",
       "  <th>loc_ic_t2m_mou_8</th>                   <td>   -0.6741</td> <td>    0.100</td> <td>   -6.769</td> <td> 0.000</td> <td>   -0.869</td> <td>   -0.479</td>\n",
       "</tr>\n",
       "<tr>\n",
       "  <th>loc_ic_mou_8</th>                       <td>   -1.9800</td> <td>    0.101</td> <td>  -19.674</td> <td> 0.000</td> <td>   -2.177</td> <td>   -1.783</td>\n",
       "</tr>\n",
       "<tr>\n",
       "  <th>total_rech_amt_7</th>                   <td>    0.4130</td> <td>    0.025</td> <td>   16.418</td> <td> 0.000</td> <td>    0.364</td> <td>    0.462</td>\n",
       "</tr>\n",
       "<tr>\n",
       "  <th>total_rech_amt_8</th>                   <td>    0.0546</td> <td>    0.027</td> <td>    2.018</td> <td> 0.044</td> <td>    0.002</td> <td>    0.108</td>\n",
       "</tr>\n",
       "<tr>\n",
       "  <th>aon</th>                                <td>   -0.4181</td> <td>    0.015</td> <td>  -27.655</td> <td> 0.000</td> <td>   -0.448</td> <td>   -0.388</td>\n",
       "</tr>\n",
       "<tr>\n",
       "  <th>sep_vbc_3g</th>                         <td>   -0.4436</td> <td>    0.060</td> <td>   -7.350</td> <td> 0.000</td> <td>   -0.562</td> <td>   -0.325</td>\n",
       "</tr>\n",
       "<tr>\n",
       "  <th>fb_user_8_1.0</th>                      <td>   -1.7404</td> <td>    0.061</td> <td>  -28.424</td> <td> 0.000</td> <td>   -1.860</td> <td>   -1.620</td>\n",
       "</tr>\n",
       "<tr>\n",
       "  <th>night_pck_user_8_1.0</th>               <td>   -1.0153</td> <td>    0.387</td> <td>   -2.622</td> <td> 0.009</td> <td>   -1.774</td> <td>   -0.256</td>\n",
       "</tr>\n",
       "<tr>\n",
       "  <th>date_of_last_rech_data_6_6/13/2014</th> <td>    0.8450</td> <td>    0.187</td> <td>    4.519</td> <td> 0.000</td> <td>    0.478</td> <td>    1.212</td>\n",
       "</tr>\n",
       "<tr>\n",
       "  <th>date_of_last_rech_data_6_6/15/2014</th> <td>    0.7184</td> <td>    0.206</td> <td>    3.492</td> <td> 0.000</td> <td>    0.315</td> <td>    1.122</td>\n",
       "</tr>\n",
       "<tr>\n",
       "  <th>date_of_last_rech_data_6_6/16/2014</th> <td>    0.9248</td> <td>    0.173</td> <td>    5.359</td> <td> 0.000</td> <td>    0.587</td> <td>    1.263</td>\n",
       "</tr>\n",
       "<tr>\n",
       "  <th>date_of_last_rech_data_6_6/18/2014</th> <td>   -0.8456</td> <td>    0.205</td> <td>   -4.127</td> <td> 0.000</td> <td>   -1.247</td> <td>   -0.444</td>\n",
       "</tr>\n",
       "<tr>\n",
       "  <th>date_of_last_rech_data_6_6/19/2014</th> <td>    0.9370</td> <td>    0.169</td> <td>    5.539</td> <td> 0.000</td> <td>    0.605</td> <td>    1.269</td>\n",
       "</tr>\n",
       "<tr>\n",
       "  <th>date_of_last_rech_data_6_6/21/2014</th> <td>    1.0043</td> <td>    0.153</td> <td>    6.569</td> <td> 0.000</td> <td>    0.705</td> <td>    1.304</td>\n",
       "</tr>\n",
       "<tr>\n",
       "  <th>date_of_last_rech_data_6_6/22/2014</th> <td>    0.6570</td> <td>    0.160</td> <td>    4.108</td> <td> 0.000</td> <td>    0.344</td> <td>    0.970</td>\n",
       "</tr>\n",
       "<tr>\n",
       "  <th>date_of_last_rech_data_6_6/23/2014</th> <td>    1.0115</td> <td>    0.164</td> <td>    6.176</td> <td> 0.000</td> <td>    0.691</td> <td>    1.332</td>\n",
       "</tr>\n",
       "<tr>\n",
       "  <th>date_of_last_rech_data_6_6/25/2014</th> <td>    0.5683</td> <td>    0.138</td> <td>    4.125</td> <td> 0.000</td> <td>    0.298</td> <td>    0.838</td>\n",
       "</tr>\n",
       "<tr>\n",
       "  <th>date_of_last_rech_data_6_6/27/2014</th> <td>   -0.4663</td> <td>    0.157</td> <td>   -2.968</td> <td> 0.003</td> <td>   -0.774</td> <td>   -0.158</td>\n",
       "</tr>\n",
       "<tr>\n",
       "  <th>date_of_last_rech_data_6_6/9/2014</th>  <td>    0.7365</td> <td>    0.203</td> <td>    3.632</td> <td> 0.000</td> <td>    0.339</td> <td>    1.134</td>\n",
       "</tr>\n",
       "<tr>\n",
       "  <th>date_of_last_rech_data_7_7/1/2014</th>  <td>    0.5963</td> <td>    0.322</td> <td>    1.853</td> <td> 0.064</td> <td>   -0.035</td> <td>    1.227</td>\n",
       "</tr>\n",
       "<tr>\n",
       "  <th>date_of_last_rech_data_7_7/14/2014</th> <td>   -0.5774</td> <td>    0.188</td> <td>   -3.072</td> <td> 0.002</td> <td>   -0.946</td> <td>   -0.209</td>\n",
       "</tr>\n",
       "<tr>\n",
       "  <th>date_of_last_rech_data_7_7/16/2014</th> <td>   -0.5416</td> <td>    0.196</td> <td>   -2.765</td> <td> 0.006</td> <td>   -0.926</td> <td>   -0.158</td>\n",
       "</tr>\n",
       "<tr>\n",
       "  <th>date_of_last_rech_data_7_7/17/2014</th> <td>   -1.0372</td> <td>    0.217</td> <td>   -4.786</td> <td> 0.000</td> <td>   -1.462</td> <td>   -0.612</td>\n",
       "</tr>\n",
       "<tr>\n",
       "  <th>date_of_last_rech_data_7_7/20/2014</th> <td>   -0.5646</td> <td>    0.225</td> <td>   -2.514</td> <td> 0.012</td> <td>   -1.005</td> <td>   -0.124</td>\n",
       "</tr>\n",
       "<tr>\n",
       "  <th>date_of_last_rech_data_7_7/21/2014</th> <td>    0.4681</td> <td>    0.184</td> <td>    2.543</td> <td> 0.011</td> <td>    0.107</td> <td>    0.829</td>\n",
       "</tr>\n",
       "<tr>\n",
       "  <th>date_of_last_rech_data_7_7/27/2014</th> <td>   -0.4818</td> <td>    0.148</td> <td>   -3.265</td> <td> 0.001</td> <td>   -0.771</td> <td>   -0.193</td>\n",
       "</tr>\n",
       "<tr>\n",
       "  <th>date_of_last_rech_data_7_7/28/2014</th> <td>   -0.7410</td> <td>    0.180</td> <td>   -4.107</td> <td> 0.000</td> <td>   -1.095</td> <td>   -0.387</td>\n",
       "</tr>\n",
       "<tr>\n",
       "  <th>date_of_last_rech_data_7_7/29/2014</th> <td>   -0.7886</td> <td>    0.151</td> <td>   -5.221</td> <td> 0.000</td> <td>   -1.085</td> <td>   -0.493</td>\n",
       "</tr>\n",
       "<tr>\n",
       "  <th>date_of_last_rech_data_7_7/3/2014</th>  <td>   -0.8490</td> <td>    0.310</td> <td>   -2.742</td> <td> 0.006</td> <td>   -1.456</td> <td>   -0.242</td>\n",
       "</tr>\n",
       "<tr>\n",
       "  <th>date_of_last_rech_data_7_7/30/2014</th> <td>   -0.8324</td> <td>    0.145</td> <td>   -5.757</td> <td> 0.000</td> <td>   -1.116</td> <td>   -0.549</td>\n",
       "</tr>\n",
       "<tr>\n",
       "  <th>date_of_last_rech_data_7_7/6/2014</th>  <td>   -0.5581</td> <td>    0.275</td> <td>   -2.029</td> <td> 0.042</td> <td>   -1.097</td> <td>   -0.019</td>\n",
       "</tr>\n",
       "<tr>\n",
       "  <th>date_of_last_rech_data_7_7/7/2014</th>  <td>   -0.6559</td> <td>    0.236</td> <td>   -2.778</td> <td> 0.005</td> <td>   -1.119</td> <td>   -0.193</td>\n",
       "</tr>\n",
       "<tr>\n",
       "  <th>date_of_last_rech_data_8_8/1/2014</th>  <td>    1.2575</td> <td>    0.261</td> <td>    4.819</td> <td> 0.000</td> <td>    0.746</td> <td>    1.769</td>\n",
       "</tr>\n",
       "<tr>\n",
       "  <th>date_of_last_rech_data_8_8/10/2014</th> <td>    0.8777</td> <td>    0.187</td> <td>    4.695</td> <td> 0.000</td> <td>    0.511</td> <td>    1.244</td>\n",
       "</tr>\n",
       "<tr>\n",
       "  <th>date_of_last_rech_data_8_8/12/2014</th> <td>    0.9363</td> <td>    0.208</td> <td>    4.512</td> <td> 0.000</td> <td>    0.530</td> <td>    1.343</td>\n",
       "</tr>\n",
       "<tr>\n",
       "  <th>date_of_last_rech_data_8_8/13/2014</th> <td>    1.5575</td> <td>    0.185</td> <td>    8.437</td> <td> 0.000</td> <td>    1.196</td> <td>    1.919</td>\n",
       "</tr>\n",
       "<tr>\n",
       "  <th>date_of_last_rech_data_8_8/15/2014</th> <td>    0.4128</td> <td>    0.196</td> <td>    2.104</td> <td> 0.035</td> <td>    0.028</td> <td>    0.797</td>\n",
       "</tr>\n",
       "<tr>\n",
       "  <th>date_of_last_rech_data_8_8/19/2014</th> <td>    0.9982</td> <td>    0.177</td> <td>    5.630</td> <td> 0.000</td> <td>    0.651</td> <td>    1.346</td>\n",
       "</tr>\n",
       "<tr>\n",
       "  <th>date_of_last_rech_data_8_8/2/2014</th>  <td>    0.8736</td> <td>    0.253</td> <td>    3.448</td> <td> 0.001</td> <td>    0.377</td> <td>    1.370</td>\n",
       "</tr>\n",
       "<tr>\n",
       "  <th>date_of_last_rech_data_8_8/20/2014</th> <td>   -1.6391</td> <td>    0.314</td> <td>   -5.217</td> <td> 0.000</td> <td>   -2.255</td> <td>   -1.023</td>\n",
       "</tr>\n",
       "<tr>\n",
       "  <th>date_of_last_rech_data_8_8/24/2014</th> <td>    0.7637</td> <td>    0.180</td> <td>    4.247</td> <td> 0.000</td> <td>    0.411</td> <td>    1.116</td>\n",
       "</tr>\n",
       "<tr>\n",
       "  <th>date_of_last_rech_data_8_8/28/2014</th> <td>   -1.4089</td> <td>    0.233</td> <td>   -6.036</td> <td> 0.000</td> <td>   -1.866</td> <td>   -0.951</td>\n",
       "</tr>\n",
       "<tr>\n",
       "  <th>date_of_last_rech_data_8_8/30/2014</th> <td>    0.6448</td> <td>    0.204</td> <td>    3.160</td> <td> 0.002</td> <td>    0.245</td> <td>    1.045</td>\n",
       "</tr>\n",
       "<tr>\n",
       "  <th>date_of_last_rech_data_8_8/31/2014</th> <td>    1.6543</td> <td>    0.160</td> <td>   10.366</td> <td> 0.000</td> <td>    1.341</td> <td>    1.967</td>\n",
       "</tr>\n",
       "<tr>\n",
       "  <th>date_of_last_rech_data_8_8/4/2014</th>  <td>    0.9307</td> <td>    0.203</td> <td>    4.588</td> <td> 0.000</td> <td>    0.533</td> <td>    1.328</td>\n",
       "</tr>\n",
       "<tr>\n",
       "  <th>date_of_last_rech_data_8_8/5/2014</th>  <td>   -1.3345</td> <td>    0.356</td> <td>   -3.748</td> <td> 0.000</td> <td>   -2.032</td> <td>   -0.637</td>\n",
       "</tr>\n",
       "<tr>\n",
       "  <th>date_of_last_rech_data_8_8/6/2014</th>  <td>    0.9463</td> <td>    0.203</td> <td>    4.655</td> <td> 0.000</td> <td>    0.548</td> <td>    1.345</td>\n",
       "</tr>\n",
       "<tr>\n",
       "  <th>date_of_last_rech_data_8_8/7/2014</th>  <td>   -0.5834</td> <td>    0.275</td> <td>   -2.122</td> <td> 0.034</td> <td>   -1.122</td> <td>   -0.045</td>\n",
       "</tr>\n",
       "<tr>\n",
       "  <th>date_of_last_rech_data_8_8/8/2014</th>  <td>   -2.4871</td> <td>    0.504</td> <td>   -4.931</td> <td> 0.000</td> <td>   -3.476</td> <td>   -1.499</td>\n",
       "</tr>\n",
       "<tr>\n",
       "  <th>date_of_last_rech_6_6/10/2014</th>      <td>    0.8582</td> <td>    0.216</td> <td>    3.969</td> <td> 0.000</td> <td>    0.434</td> <td>    1.282</td>\n",
       "</tr>\n",
       "<tr>\n",
       "  <th>date_of_last_rech_6_6/16/2014</th>      <td>   -0.5329</td> <td>    0.137</td> <td>   -3.891</td> <td> 0.000</td> <td>   -0.801</td> <td>   -0.264</td>\n",
       "</tr>\n",
       "<tr>\n",
       "  <th>date_of_last_rech_6_6/18/2014</th>      <td>   -0.3317</td> <td>    0.083</td> <td>   -3.988</td> <td> 0.000</td> <td>   -0.495</td> <td>   -0.169</td>\n",
       "</tr>\n",
       "<tr>\n",
       "  <th>date_of_last_rech_6_6/23/2014</th>      <td>   -0.3863</td> <td>    0.086</td> <td>   -4.486</td> <td> 0.000</td> <td>   -0.555</td> <td>   -0.218</td>\n",
       "</tr>\n",
       "<tr>\n",
       "  <th>date_of_last_rech_6_6/3/2014</th>       <td>    0.9187</td> <td>    0.227</td> <td>    4.042</td> <td> 0.000</td> <td>    0.473</td> <td>    1.364</td>\n",
       "</tr>\n",
       "<tr>\n",
       "  <th>date_of_last_rech_6_6/4/2014</th>       <td>    0.9526</td> <td>    0.312</td> <td>    3.055</td> <td> 0.002</td> <td>    0.341</td> <td>    1.564</td>\n",
       "</tr>\n",
       "<tr>\n",
       "  <th>date_of_last_rech_6_6/8/2014</th>       <td>    1.0823</td> <td>    0.158</td> <td>    6.852</td> <td> 0.000</td> <td>    0.773</td> <td>    1.392</td>\n",
       "</tr>\n",
       "<tr>\n",
       "  <th>date_of_last_rech_6_6/9/2014</th>       <td>    0.8452</td> <td>    0.272</td> <td>    3.104</td> <td> 0.002</td> <td>    0.312</td> <td>    1.379</td>\n",
       "</tr>\n",
       "<tr>\n",
       "  <th>date_of_last_rech_7_7/18/2014</th>      <td>   -0.5101</td> <td>    0.117</td> <td>   -4.348</td> <td> 0.000</td> <td>   -0.740</td> <td>   -0.280</td>\n",
       "</tr>\n",
       "<tr>\n",
       "  <th>date_of_last_rech_7_7/20/2014</th>      <td>   -0.4687</td> <td>    0.083</td> <td>   -5.653</td> <td> 0.000</td> <td>   -0.631</td> <td>   -0.306</td>\n",
       "</tr>\n",
       "<tr>\n",
       "  <th>date_of_last_rech_7_7/28/2014</th>      <td>   -0.6164</td> <td>    0.065</td> <td>   -9.550</td> <td> 0.000</td> <td>   -0.743</td> <td>   -0.490</td>\n",
       "</tr>\n",
       "<tr>\n",
       "  <th>date_of_last_rech_7_7/9/2014</th>       <td>   -0.6040</td> <td>    0.140</td> <td>   -4.318</td> <td> 0.000</td> <td>   -0.878</td> <td>   -0.330</td>\n",
       "</tr>\n",
       "<tr>\n",
       "  <th>date_of_last_rech_8_8/1/2014</th>       <td>    0.6186</td> <td>    0.223</td> <td>    2.768</td> <td> 0.006</td> <td>    0.181</td> <td>    1.057</td>\n",
       "</tr>\n",
       "<tr>\n",
       "  <th>date_of_last_rech_8_8/10/2014</th>      <td>   -0.7475</td> <td>    0.196</td> <td>   -3.813</td> <td> 0.000</td> <td>   -1.132</td> <td>   -0.363</td>\n",
       "</tr>\n",
       "<tr>\n",
       "  <th>date_of_last_rech_8_8/15/2014</th>      <td>   -0.4747</td> <td>    0.150</td> <td>   -3.161</td> <td> 0.002</td> <td>   -0.769</td> <td>   -0.180</td>\n",
       "</tr>\n",
       "<tr>\n",
       "  <th>date_of_last_rech_8_8/17/2014</th>      <td>   -0.6250</td> <td>    0.156</td> <td>   -4.011</td> <td> 0.000</td> <td>   -0.930</td> <td>   -0.320</td>\n",
       "</tr>\n",
       "<tr>\n",
       "  <th>date_of_last_rech_8_8/23/2014</th>      <td>   -0.5857</td> <td>    0.115</td> <td>   -5.085</td> <td> 0.000</td> <td>   -0.811</td> <td>   -0.360</td>\n",
       "</tr>\n",
       "<tr>\n",
       "  <th>date_of_last_rech_8_8/24/2014</th>      <td>   -0.7607</td> <td>    0.048</td> <td>  -15.750</td> <td> 0.000</td> <td>   -0.855</td> <td>   -0.666</td>\n",
       "</tr>\n",
       "<tr>\n",
       "  <th>date_of_last_rech_8_8/27/2014</th>      <td>   -1.0596</td> <td>    0.073</td> <td>  -14.510</td> <td> 0.000</td> <td>   -1.203</td> <td>   -0.916</td>\n",
       "</tr>\n",
       "<tr>\n",
       "  <th>date_of_last_rech_8_8/29/2014</th>      <td>   -0.8763</td> <td>    0.050</td> <td>  -17.593</td> <td> 0.000</td> <td>   -0.974</td> <td>   -0.779</td>\n",
       "</tr>\n",
       "<tr>\n",
       "  <th>date_of_last_rech_8_8/3/2014</th>       <td>   -0.7367</td> <td>    0.317</td> <td>   -2.324</td> <td> 0.020</td> <td>   -1.358</td> <td>   -0.116</td>\n",
       "</tr>\n",
       "<tr>\n",
       "  <th>date_of_last_rech_8_8/30/2014</th>      <td>   -2.2409</td> <td>    0.077</td> <td>  -28.973</td> <td> 0.000</td> <td>   -2.393</td> <td>   -2.089</td>\n",
       "</tr>\n",
       "<tr>\n",
       "  <th>date_of_last_rech_8_8/31/2014</th>      <td>   -2.4402</td> <td>    0.070</td> <td>  -34.624</td> <td> 0.000</td> <td>   -2.578</td> <td>   -2.302</td>\n",
       "</tr>\n",
       "<tr>\n",
       "  <th>date_of_last_rech_8_8/6/2014</th>       <td>   -0.5362</td> <td>    0.156</td> <td>   -3.441</td> <td> 0.001</td> <td>   -0.842</td> <td>   -0.231</td>\n",
       "</tr>\n",
       "<tr>\n",
       "  <th>date_of_last_rech_8_8/8/2014</th>       <td>   -0.5645</td> <td>    0.148</td> <td>   -3.810</td> <td> 0.000</td> <td>   -0.855</td> <td>   -0.274</td>\n",
       "</tr>\n",
       "<tr>\n",
       "  <th>date_of_last_rech_8_8/9/2014</th>       <td>   -1.2951</td> <td>    0.150</td> <td>   -8.609</td> <td> 0.000</td> <td>   -1.590</td> <td>   -1.000</td>\n",
       "</tr>\n",
       "</table>"
      ],
      "text/plain": [
       "<class 'statsmodels.iolib.summary.Summary'>\n",
       "\"\"\"\n",
       "                 Generalized Linear Model Regression Results                  \n",
       "==============================================================================\n",
       "Dep. Variable:             churn_flag   No. Observations:                37962\n",
       "Model:                            GLM   Df Residuals:                    37883\n",
       "Model Family:                Binomial   Df Model:                           78\n",
       "Link Function:                  logit   Scale:                          1.0000\n",
       "Method:                          IRLS   Log-Likelihood:                -15916.\n",
       "Date:                Wed, 09 Mar 2022   Deviance:                       31832.\n",
       "Time:                        23:07:44   Pearson chi2:                 2.32e+08\n",
       "No. Iterations:                     9                                         \n",
       "Covariance Type:            nonrobust                                         \n",
       "======================================================================================================\n",
       "                                         coef    std err          z      P>|z|      [0.025      0.975]\n",
       "------------------------------------------------------------------------------------------------------\n",
       "const                                  0.3840      0.024     15.926      0.000       0.337       0.431\n",
       "std_og_mou_6                           0.4952      0.023     21.533      0.000       0.450       0.540\n",
       "total_og_mou_8                        -0.7905      0.030    -26.227      0.000      -0.850      -0.731\n",
       "loc_ic_t2m_mou_7                       0.5364      0.035     15.191      0.000       0.467       0.606\n",
       "loc_ic_t2m_mou_8                      -0.6741      0.100     -6.769      0.000      -0.869      -0.479\n",
       "loc_ic_mou_8                          -1.9800      0.101    -19.674      0.000      -2.177      -1.783\n",
       "total_rech_amt_7                       0.4130      0.025     16.418      0.000       0.364       0.462\n",
       "total_rech_amt_8                       0.0546      0.027      2.018      0.044       0.002       0.108\n",
       "aon                                   -0.4181      0.015    -27.655      0.000      -0.448      -0.388\n",
       "sep_vbc_3g                            -0.4436      0.060     -7.350      0.000      -0.562      -0.325\n",
       "fb_user_8_1.0                         -1.7404      0.061    -28.424      0.000      -1.860      -1.620\n",
       "night_pck_user_8_1.0                  -1.0153      0.387     -2.622      0.009      -1.774      -0.256\n",
       "date_of_last_rech_data_6_6/13/2014     0.8450      0.187      4.519      0.000       0.478       1.212\n",
       "date_of_last_rech_data_6_6/15/2014     0.7184      0.206      3.492      0.000       0.315       1.122\n",
       "date_of_last_rech_data_6_6/16/2014     0.9248      0.173      5.359      0.000       0.587       1.263\n",
       "date_of_last_rech_data_6_6/18/2014    -0.8456      0.205     -4.127      0.000      -1.247      -0.444\n",
       "date_of_last_rech_data_6_6/19/2014     0.9370      0.169      5.539      0.000       0.605       1.269\n",
       "date_of_last_rech_data_6_6/21/2014     1.0043      0.153      6.569      0.000       0.705       1.304\n",
       "date_of_last_rech_data_6_6/22/2014     0.6570      0.160      4.108      0.000       0.344       0.970\n",
       "date_of_last_rech_data_6_6/23/2014     1.0115      0.164      6.176      0.000       0.691       1.332\n",
       "date_of_last_rech_data_6_6/25/2014     0.5683      0.138      4.125      0.000       0.298       0.838\n",
       "date_of_last_rech_data_6_6/27/2014    -0.4663      0.157     -2.968      0.003      -0.774      -0.158\n",
       "date_of_last_rech_data_6_6/9/2014      0.7365      0.203      3.632      0.000       0.339       1.134\n",
       "date_of_last_rech_data_7_7/1/2014      0.5963      0.322      1.853      0.064      -0.035       1.227\n",
       "date_of_last_rech_data_7_7/14/2014    -0.5774      0.188     -3.072      0.002      -0.946      -0.209\n",
       "date_of_last_rech_data_7_7/16/2014    -0.5416      0.196     -2.765      0.006      -0.926      -0.158\n",
       "date_of_last_rech_data_7_7/17/2014    -1.0372      0.217     -4.786      0.000      -1.462      -0.612\n",
       "date_of_last_rech_data_7_7/20/2014    -0.5646      0.225     -2.514      0.012      -1.005      -0.124\n",
       "date_of_last_rech_data_7_7/21/2014     0.4681      0.184      2.543      0.011       0.107       0.829\n",
       "date_of_last_rech_data_7_7/27/2014    -0.4818      0.148     -3.265      0.001      -0.771      -0.193\n",
       "date_of_last_rech_data_7_7/28/2014    -0.7410      0.180     -4.107      0.000      -1.095      -0.387\n",
       "date_of_last_rech_data_7_7/29/2014    -0.7886      0.151     -5.221      0.000      -1.085      -0.493\n",
       "date_of_last_rech_data_7_7/3/2014     -0.8490      0.310     -2.742      0.006      -1.456      -0.242\n",
       "date_of_last_rech_data_7_7/30/2014    -0.8324      0.145     -5.757      0.000      -1.116      -0.549\n",
       "date_of_last_rech_data_7_7/6/2014     -0.5581      0.275     -2.029      0.042      -1.097      -0.019\n",
       "date_of_last_rech_data_7_7/7/2014     -0.6559      0.236     -2.778      0.005      -1.119      -0.193\n",
       "date_of_last_rech_data_8_8/1/2014      1.2575      0.261      4.819      0.000       0.746       1.769\n",
       "date_of_last_rech_data_8_8/10/2014     0.8777      0.187      4.695      0.000       0.511       1.244\n",
       "date_of_last_rech_data_8_8/12/2014     0.9363      0.208      4.512      0.000       0.530       1.343\n",
       "date_of_last_rech_data_8_8/13/2014     1.5575      0.185      8.437      0.000       1.196       1.919\n",
       "date_of_last_rech_data_8_8/15/2014     0.4128      0.196      2.104      0.035       0.028       0.797\n",
       "date_of_last_rech_data_8_8/19/2014     0.9982      0.177      5.630      0.000       0.651       1.346\n",
       "date_of_last_rech_data_8_8/2/2014      0.8736      0.253      3.448      0.001       0.377       1.370\n",
       "date_of_last_rech_data_8_8/20/2014    -1.6391      0.314     -5.217      0.000      -2.255      -1.023\n",
       "date_of_last_rech_data_8_8/24/2014     0.7637      0.180      4.247      0.000       0.411       1.116\n",
       "date_of_last_rech_data_8_8/28/2014    -1.4089      0.233     -6.036      0.000      -1.866      -0.951\n",
       "date_of_last_rech_data_8_8/30/2014     0.6448      0.204      3.160      0.002       0.245       1.045\n",
       "date_of_last_rech_data_8_8/31/2014     1.6543      0.160     10.366      0.000       1.341       1.967\n",
       "date_of_last_rech_data_8_8/4/2014      0.9307      0.203      4.588      0.000       0.533       1.328\n",
       "date_of_last_rech_data_8_8/5/2014     -1.3345      0.356     -3.748      0.000      -2.032      -0.637\n",
       "date_of_last_rech_data_8_8/6/2014      0.9463      0.203      4.655      0.000       0.548       1.345\n",
       "date_of_last_rech_data_8_8/7/2014     -0.5834      0.275     -2.122      0.034      -1.122      -0.045\n",
       "date_of_last_rech_data_8_8/8/2014     -2.4871      0.504     -4.931      0.000      -3.476      -1.499\n",
       "date_of_last_rech_6_6/10/2014          0.8582      0.216      3.969      0.000       0.434       1.282\n",
       "date_of_last_rech_6_6/16/2014         -0.5329      0.137     -3.891      0.000      -0.801      -0.264\n",
       "date_of_last_rech_6_6/18/2014         -0.3317      0.083     -3.988      0.000      -0.495      -0.169\n",
       "date_of_last_rech_6_6/23/2014         -0.3863      0.086     -4.486      0.000      -0.555      -0.218\n",
       "date_of_last_rech_6_6/3/2014           0.9187      0.227      4.042      0.000       0.473       1.364\n",
       "date_of_last_rech_6_6/4/2014           0.9526      0.312      3.055      0.002       0.341       1.564\n",
       "date_of_last_rech_6_6/8/2014           1.0823      0.158      6.852      0.000       0.773       1.392\n",
       "date_of_last_rech_6_6/9/2014           0.8452      0.272      3.104      0.002       0.312       1.379\n",
       "date_of_last_rech_7_7/18/2014         -0.5101      0.117     -4.348      0.000      -0.740      -0.280\n",
       "date_of_last_rech_7_7/20/2014         -0.4687      0.083     -5.653      0.000      -0.631      -0.306\n",
       "date_of_last_rech_7_7/28/2014         -0.6164      0.065     -9.550      0.000      -0.743      -0.490\n",
       "date_of_last_rech_7_7/9/2014          -0.6040      0.140     -4.318      0.000      -0.878      -0.330\n",
       "date_of_last_rech_8_8/1/2014           0.6186      0.223      2.768      0.006       0.181       1.057\n",
       "date_of_last_rech_8_8/10/2014         -0.7475      0.196     -3.813      0.000      -1.132      -0.363\n",
       "date_of_last_rech_8_8/15/2014         -0.4747      0.150     -3.161      0.002      -0.769      -0.180\n",
       "date_of_last_rech_8_8/17/2014         -0.6250      0.156     -4.011      0.000      -0.930      -0.320\n",
       "date_of_last_rech_8_8/23/2014         -0.5857      0.115     -5.085      0.000      -0.811      -0.360\n",
       "date_of_last_rech_8_8/24/2014         -0.7607      0.048    -15.750      0.000      -0.855      -0.666\n",
       "date_of_last_rech_8_8/27/2014         -1.0596      0.073    -14.510      0.000      -1.203      -0.916\n",
       "date_of_last_rech_8_8/29/2014         -0.8763      0.050    -17.593      0.000      -0.974      -0.779\n",
       "date_of_last_rech_8_8/3/2014          -0.7367      0.317     -2.324      0.020      -1.358      -0.116\n",
       "date_of_last_rech_8_8/30/2014         -2.2409      0.077    -28.973      0.000      -2.393      -2.089\n",
       "date_of_last_rech_8_8/31/2014         -2.4402      0.070    -34.624      0.000      -2.578      -2.302\n",
       "date_of_last_rech_8_8/6/2014          -0.5362      0.156     -3.441      0.001      -0.842      -0.231\n",
       "date_of_last_rech_8_8/8/2014          -0.5645      0.148     -3.810      0.000      -0.855      -0.274\n",
       "date_of_last_rech_8_8/9/2014          -1.2951      0.150     -8.609      0.000      -1.590      -1.000\n",
       "======================================================================================================\n",
       "\"\"\""
      ]
     },
     "execution_count": 406,
     "metadata": {},
     "output_type": "execute_result"
    }
   ],
   "source": [
    "#re-run the model and check statistics\n",
    "X_train_sm = sm.add_constant(X)\n",
    "logm2 = sm.GLM(y_train,X_train_sm, family = sm.families.Binomial())\n",
    "res = logm2.fit()\n",
    "res.summary()"
   ]
  },
  {
   "cell_type": "code",
   "execution_count": 407,
   "id": "f87addf8",
   "metadata": {},
   "outputs": [
    {
     "data": {
      "text/html": [
       "<div>\n",
       "<style scoped>\n",
       "    .dataframe tbody tr th:only-of-type {\n",
       "        vertical-align: middle;\n",
       "    }\n",
       "\n",
       "    .dataframe tbody tr th {\n",
       "        vertical-align: top;\n",
       "    }\n",
       "\n",
       "    .dataframe thead th {\n",
       "        text-align: right;\n",
       "    }\n",
       "</style>\n",
       "<table border=\"1\" class=\"dataframe\">\n",
       "  <thead>\n",
       "    <tr style=\"text-align: right;\">\n",
       "      <th></th>\n",
       "      <th>Features</th>\n",
       "      <th>VIF</th>\n",
       "    </tr>\n",
       "  </thead>\n",
       "  <tbody>\n",
       "    <tr>\n",
       "      <th>4</th>\n",
       "      <td>loc_ic_t2m_mou_8</td>\n",
       "      <td>5.13</td>\n",
       "    </tr>\n",
       "    <tr>\n",
       "      <th>5</th>\n",
       "      <td>loc_ic_mou_8</td>\n",
       "      <td>3.99</td>\n",
       "    </tr>\n",
       "    <tr>\n",
       "      <th>7</th>\n",
       "      <td>total_rech_amt_8</td>\n",
       "      <td>2.83</td>\n",
       "    </tr>\n",
       "    <tr>\n",
       "      <th>3</th>\n",
       "      <td>loc_ic_t2m_mou_7</td>\n",
       "      <td>2.57</td>\n",
       "    </tr>\n",
       "    <tr>\n",
       "      <th>0</th>\n",
       "      <td>const</td>\n",
       "      <td>2.38</td>\n",
       "    </tr>\n",
       "    <tr>\n",
       "      <th>...</th>\n",
       "      <td>...</td>\n",
       "      <td>...</td>\n",
       "    </tr>\n",
       "    <tr>\n",
       "      <th>58</th>\n",
       "      <td>date_of_last_rech_6_6/4/2014</td>\n",
       "      <td>1.01</td>\n",
       "    </tr>\n",
       "    <tr>\n",
       "      <th>57</th>\n",
       "      <td>date_of_last_rech_6_6/3/2014</td>\n",
       "      <td>1.01</td>\n",
       "    </tr>\n",
       "    <tr>\n",
       "      <th>53</th>\n",
       "      <td>date_of_last_rech_6_6/10/2014</td>\n",
       "      <td>1.01</td>\n",
       "    </tr>\n",
       "    <tr>\n",
       "      <th>34</th>\n",
       "      <td>date_of_last_rech_data_7_7/6/2014</td>\n",
       "      <td>1.01</td>\n",
       "    </tr>\n",
       "    <tr>\n",
       "      <th>78</th>\n",
       "      <td>date_of_last_rech_8_8/9/2014</td>\n",
       "      <td>1.01</td>\n",
       "    </tr>\n",
       "  </tbody>\n",
       "</table>\n",
       "<p>79 rows × 2 columns</p>\n",
       "</div>"
      ],
      "text/plain": [
       "                             Features   VIF\n",
       "4                    loc_ic_t2m_mou_8  5.13\n",
       "5                        loc_ic_mou_8  3.99\n",
       "7                    total_rech_amt_8  2.83\n",
       "3                    loc_ic_t2m_mou_7  2.57\n",
       "0                               const  2.38\n",
       "..                                ...   ...\n",
       "58       date_of_last_rech_6_6/4/2014  1.01\n",
       "57       date_of_last_rech_6_6/3/2014  1.01\n",
       "53      date_of_last_rech_6_6/10/2014  1.01\n",
       "34  date_of_last_rech_data_7_7/6/2014  1.01\n",
       "78       date_of_last_rech_8_8/9/2014  1.01\n",
       "\n",
       "[79 rows x 2 columns]"
      ]
     },
     "execution_count": 407,
     "metadata": {},
     "output_type": "execute_result"
    }
   ],
   "source": [
    "# Create a dataframe that will contain the names of all the feature variables and their respective VIFs\n",
    "vif = pd.DataFrame()\n",
    "vif['Features'] = X_train_sm.columns\n",
    "vif['VIF'] = [variance_inflation_factor(X_train_sm.values, i) for i in range(X_train_sm.shape[1])]\n",
    "vif['VIF'] = round(vif['VIF'], 2)\n",
    "vif = vif.sort_values(by = \"VIF\", ascending = False)\n",
    "vif"
   ]
  },
  {
   "cell_type": "code",
   "execution_count": null,
   "id": "fd377b95",
   "metadata": {},
   "outputs": [],
   "source": []
  },
  {
   "cell_type": "code",
   "execution_count": 415,
   "id": "15e74200",
   "metadata": {},
   "outputs": [
    {
     "data": {
      "text/html": [
       "<div>\n",
       "<style scoped>\n",
       "    .dataframe tbody tr th:only-of-type {\n",
       "        vertical-align: middle;\n",
       "    }\n",
       "\n",
       "    .dataframe tbody tr th {\n",
       "        vertical-align: top;\n",
       "    }\n",
       "\n",
       "    .dataframe thead th {\n",
       "        text-align: right;\n",
       "    }\n",
       "</style>\n",
       "<table border=\"1\" class=\"dataframe\">\n",
       "  <thead>\n",
       "    <tr style=\"text-align: right;\">\n",
       "      <th></th>\n",
       "      <th>night_pck_user_8_1.0</th>\n",
       "      <th>fb_user_8_1.0</th>\n",
       "      <th>loc_ic_mou_8</th>\n",
       "      <th>loc_ic_t2m_mou_7</th>\n",
       "      <th>total_og_mou_8</th>\n",
       "      <th>std_og_mou_6</th>\n",
       "    </tr>\n",
       "    <tr>\n",
       "      <th>mobile_number_and_circle_id</th>\n",
       "      <th></th>\n",
       "      <th></th>\n",
       "      <th></th>\n",
       "      <th></th>\n",
       "      <th></th>\n",
       "      <th></th>\n",
       "    </tr>\n",
       "  </thead>\n",
       "  <tbody>\n",
       "    <tr>\n",
       "      <th>7002049668_109</th>\n",
       "      <td>0</td>\n",
       "      <td>0</td>\n",
       "      <td>2.604136</td>\n",
       "      <td>3.450526</td>\n",
       "      <td>-0.185592</td>\n",
       "      <td>-0.421942</td>\n",
       "    </tr>\n",
       "    <tr>\n",
       "      <th>7000937354_109</th>\n",
       "      <td>0</td>\n",
       "      <td>1</td>\n",
       "      <td>0.437492</td>\n",
       "      <td>1.205902</td>\n",
       "      <td>-0.368239</td>\n",
       "      <td>-0.405947</td>\n",
       "    </tr>\n",
       "    <tr>\n",
       "      <th>7001439111_109</th>\n",
       "      <td>0</td>\n",
       "      <td>0</td>\n",
       "      <td>0.217047</td>\n",
       "      <td>-0.398906</td>\n",
       "      <td>-0.093291</td>\n",
       "      <td>-0.396480</td>\n",
       "    </tr>\n",
       "    <tr>\n",
       "      <th>7001925801_109</th>\n",
       "      <td>0</td>\n",
       "      <td>0</td>\n",
       "      <td>-0.111718</td>\n",
       "      <td>-0.513928</td>\n",
       "      <td>2.298193</td>\n",
       "      <td>-0.439024</td>\n",
       "    </tr>\n",
       "    <tr>\n",
       "      <th>7000965172_109</th>\n",
       "      <td>0</td>\n",
       "      <td>0</td>\n",
       "      <td>5.745806</td>\n",
       "      <td>1.303062</td>\n",
       "      <td>-0.106152</td>\n",
       "      <td>-0.335186</td>\n",
       "    </tr>\n",
       "    <tr>\n",
       "      <th>...</th>\n",
       "      <td>...</td>\n",
       "      <td>...</td>\n",
       "      <td>...</td>\n",
       "      <td>...</td>\n",
       "      <td>...</td>\n",
       "      <td>...</td>\n",
       "    </tr>\n",
       "    <tr>\n",
       "      <th>7001597665_109</th>\n",
       "      <td>0</td>\n",
       "      <td>1</td>\n",
       "      <td>0.382333</td>\n",
       "      <td>0.510603</td>\n",
       "      <td>-0.238395</td>\n",
       "      <td>-0.395369</td>\n",
       "    </tr>\n",
       "    <tr>\n",
       "      <th>7000664212_109</th>\n",
       "      <td>0</td>\n",
       "      <td>0</td>\n",
       "      <td>-0.493026</td>\n",
       "      <td>-0.513928</td>\n",
       "      <td>-0.505528</td>\n",
       "      <td>-0.439024</td>\n",
       "    </tr>\n",
       "    <tr>\n",
       "      <th>7001113708_109</th>\n",
       "      <td>0</td>\n",
       "      <td>0</td>\n",
       "      <td>-0.493026</td>\n",
       "      <td>-0.177565</td>\n",
       "      <td>-0.505528</td>\n",
       "      <td>1.964668</td>\n",
       "    </tr>\n",
       "    <tr>\n",
       "      <th>7001750126_109</th>\n",
       "      <td>0</td>\n",
       "      <td>0</td>\n",
       "      <td>-0.493026</td>\n",
       "      <td>-0.513928</td>\n",
       "      <td>-0.505528</td>\n",
       "      <td>-0.420506</td>\n",
       "    </tr>\n",
       "    <tr>\n",
       "      <th>7001256107_109</th>\n",
       "      <td>0</td>\n",
       "      <td>0</td>\n",
       "      <td>-0.493026</td>\n",
       "      <td>-0.513928</td>\n",
       "      <td>-0.505528</td>\n",
       "      <td>-0.439024</td>\n",
       "    </tr>\n",
       "  </tbody>\n",
       "</table>\n",
       "<p>37962 rows × 6 columns</p>\n",
       "</div>"
      ],
      "text/plain": [
       "                             night_pck_user_8_1.0  fb_user_8_1.0  \\\n",
       "mobile_number_and_circle_id                                        \n",
       "7002049668_109                                  0              0   \n",
       "7000937354_109                                  0              1   \n",
       "7001439111_109                                  0              0   \n",
       "7001925801_109                                  0              0   \n",
       "7000965172_109                                  0              0   \n",
       "...                                           ...            ...   \n",
       "7001597665_109                                  0              1   \n",
       "7000664212_109                                  0              0   \n",
       "7001113708_109                                  0              0   \n",
       "7001750126_109                                  0              0   \n",
       "7001256107_109                                  0              0   \n",
       "\n",
       "                             loc_ic_mou_8  loc_ic_t2m_mou_7  total_og_mou_8  \\\n",
       "mobile_number_and_circle_id                                                   \n",
       "7002049668_109                   2.604136          3.450526       -0.185592   \n",
       "7000937354_109                   0.437492          1.205902       -0.368239   \n",
       "7001439111_109                   0.217047         -0.398906       -0.093291   \n",
       "7001925801_109                  -0.111718         -0.513928        2.298193   \n",
       "7000965172_109                   5.745806          1.303062       -0.106152   \n",
       "...                                   ...               ...             ...   \n",
       "7001597665_109                   0.382333          0.510603       -0.238395   \n",
       "7000664212_109                  -0.493026         -0.513928       -0.505528   \n",
       "7001113708_109                  -0.493026         -0.177565       -0.505528   \n",
       "7001750126_109                  -0.493026         -0.513928       -0.505528   \n",
       "7001256107_109                  -0.493026         -0.513928       -0.505528   \n",
       "\n",
       "                             std_og_mou_6  \n",
       "mobile_number_and_circle_id                \n",
       "7002049668_109                  -0.421942  \n",
       "7000937354_109                  -0.405947  \n",
       "7001439111_109                  -0.396480  \n",
       "7001925801_109                  -0.439024  \n",
       "7000965172_109                  -0.335186  \n",
       "...                                   ...  \n",
       "7001597665_109                  -0.395369  \n",
       "7000664212_109                  -0.439024  \n",
       "7001113708_109                   1.964668  \n",
       "7001750126_109                  -0.420506  \n",
       "7001256107_109                  -0.439024  \n",
       "\n",
       "[37962 rows x 6 columns]"
      ]
     },
     "execution_count": 415,
     "metadata": {},
     "output_type": "execute_result"
    }
   ],
   "source": [
    "X_train2=X_train[['night_pck_user_8_1.0','fb_user_8_1.0','loc_ic_mou_8','loc_ic_t2m_mou_7','total_og_mou_8','std_og_mou_6']]\n",
    "X_train2"
   ]
  },
  {
   "cell_type": "code",
   "execution_count": 416,
   "id": "4871d6a3",
   "metadata": {},
   "outputs": [],
   "source": [
    "X_train2['night_pck_user_8_1.0'] =X_train2['night_pck_user_8_1.0'].astype('category').cat.codes\n",
    "X_train2['fb_user_8_1.0'] =X_train2['fb_user_8_1.0'].astype('category').cat.codes\n",
    "X_train2['loc_ic_mou_8'] =X_train2['loc_ic_mou_8'].astype('category').cat.codes\n",
    "X_train2['loc_ic_t2m_mou_7'] =X_train2['loc_ic_t2m_mou_7'].astype('category').cat.codes\n",
    "X_train2['total_og_mou_8'] =X_train2['total_og_mou_8'].astype('category').cat.codes\n",
    "X_train2['std_og_mou_6'] =X_train2['std_og_mou_6'].astype('category').cat.codes"
   ]
  },
  {
   "cell_type": "code",
   "execution_count": 417,
   "id": "6a39462d",
   "metadata": {},
   "outputs": [
    {
     "data": {
      "text/html": [
       "<div>\n",
       "<style scoped>\n",
       "    .dataframe tbody tr th:only-of-type {\n",
       "        vertical-align: middle;\n",
       "    }\n",
       "\n",
       "    .dataframe tbody tr th {\n",
       "        vertical-align: top;\n",
       "    }\n",
       "\n",
       "    .dataframe thead th {\n",
       "        text-align: right;\n",
       "    }\n",
       "</style>\n",
       "<table border=\"1\" class=\"dataframe\">\n",
       "  <thead>\n",
       "    <tr style=\"text-align: right;\">\n",
       "      <th></th>\n",
       "      <th>night_pck_user_8_1.0</th>\n",
       "      <th>fb_user_8_1.0</th>\n",
       "      <th>loc_ic_mou_8</th>\n",
       "      <th>loc_ic_t2m_mou_7</th>\n",
       "      <th>total_og_mou_8</th>\n",
       "      <th>std_og_mou_6</th>\n",
       "      <th>churn_flag</th>\n",
       "    </tr>\n",
       "    <tr>\n",
       "      <th>mobile_number_and_circle_id</th>\n",
       "      <th></th>\n",
       "      <th></th>\n",
       "      <th></th>\n",
       "      <th></th>\n",
       "      <th></th>\n",
       "      <th></th>\n",
       "      <th></th>\n",
       "    </tr>\n",
       "  </thead>\n",
       "  <tbody>\n",
       "    <tr>\n",
       "      <th>7002049668_109</th>\n",
       "      <td>0</td>\n",
       "      <td>0</td>\n",
       "      <td>11732</td>\n",
       "      <td>10317</td>\n",
       "      <td>4854</td>\n",
       "      <td>557</td>\n",
       "      <td>0</td>\n",
       "    </tr>\n",
       "    <tr>\n",
       "      <th>7000937354_109</th>\n",
       "      <td>0</td>\n",
       "      <td>1</td>\n",
       "      <td>7591</td>\n",
       "      <td>8741</td>\n",
       "      <td>2298</td>\n",
       "      <td>1001</td>\n",
       "      <td>0</td>\n",
       "    </tr>\n",
       "    <tr>\n",
       "      <th>7001439111_109</th>\n",
       "      <td>0</td>\n",
       "      <td>0</td>\n",
       "      <td>6318</td>\n",
       "      <td>1095</td>\n",
       "      <td>5852</td>\n",
       "      <td>1231</td>\n",
       "      <td>0</td>\n",
       "    </tr>\n",
       "    <tr>\n",
       "      <th>7001925801_109</th>\n",
       "      <td>0</td>\n",
       "      <td>0</td>\n",
       "      <td>3851</td>\n",
       "      <td>0</td>\n",
       "      <td>13417</td>\n",
       "      <td>0</td>\n",
       "      <td>0</td>\n",
       "    </tr>\n",
       "    <tr>\n",
       "      <th>7000965172_109</th>\n",
       "      <td>0</td>\n",
       "      <td>0</td>\n",
       "      <td>12404</td>\n",
       "      <td>8915</td>\n",
       "      <td>5730</td>\n",
       "      <td>2320</td>\n",
       "      <td>0</td>\n",
       "    </tr>\n",
       "    <tr>\n",
       "      <th>...</th>\n",
       "      <td>...</td>\n",
       "      <td>...</td>\n",
       "      <td>...</td>\n",
       "      <td>...</td>\n",
       "      <td>...</td>\n",
       "      <td>...</td>\n",
       "      <td>...</td>\n",
       "    </tr>\n",
       "    <tr>\n",
       "      <th>7001597665_109</th>\n",
       "      <td>0</td>\n",
       "      <td>1</td>\n",
       "      <td>7285</td>\n",
       "      <td>6860</td>\n",
       "      <td>4192</td>\n",
       "      <td>1254</td>\n",
       "      <td>1</td>\n",
       "    </tr>\n",
       "    <tr>\n",
       "      <th>7000664212_109</th>\n",
       "      <td>0</td>\n",
       "      <td>0</td>\n",
       "      <td>0</td>\n",
       "      <td>0</td>\n",
       "      <td>0</td>\n",
       "      <td>0</td>\n",
       "      <td>1</td>\n",
       "    </tr>\n",
       "    <tr>\n",
       "      <th>7001113708_109</th>\n",
       "      <td>0</td>\n",
       "      <td>0</td>\n",
       "      <td>0</td>\n",
       "      <td>2903</td>\n",
       "      <td>0</td>\n",
       "      <td>8203</td>\n",
       "      <td>1</td>\n",
       "    </tr>\n",
       "    <tr>\n",
       "      <th>7001750126_109</th>\n",
       "      <td>0</td>\n",
       "      <td>0</td>\n",
       "      <td>0</td>\n",
       "      <td>0</td>\n",
       "      <td>0</td>\n",
       "      <td>604</td>\n",
       "      <td>1</td>\n",
       "    </tr>\n",
       "    <tr>\n",
       "      <th>7001256107_109</th>\n",
       "      <td>0</td>\n",
       "      <td>0</td>\n",
       "      <td>0</td>\n",
       "      <td>0</td>\n",
       "      <td>0</td>\n",
       "      <td>0</td>\n",
       "      <td>1</td>\n",
       "    </tr>\n",
       "  </tbody>\n",
       "</table>\n",
       "<p>37962 rows × 7 columns</p>\n",
       "</div>"
      ],
      "text/plain": [
       "                             night_pck_user_8_1.0  fb_user_8_1.0  \\\n",
       "mobile_number_and_circle_id                                        \n",
       "7002049668_109                                  0              0   \n",
       "7000937354_109                                  0              1   \n",
       "7001439111_109                                  0              0   \n",
       "7001925801_109                                  0              0   \n",
       "7000965172_109                                  0              0   \n",
       "...                                           ...            ...   \n",
       "7001597665_109                                  0              1   \n",
       "7000664212_109                                  0              0   \n",
       "7001113708_109                                  0              0   \n",
       "7001750126_109                                  0              0   \n",
       "7001256107_109                                  0              0   \n",
       "\n",
       "                             loc_ic_mou_8  loc_ic_t2m_mou_7  total_og_mou_8  \\\n",
       "mobile_number_and_circle_id                                                   \n",
       "7002049668_109                      11732             10317            4854   \n",
       "7000937354_109                       7591              8741            2298   \n",
       "7001439111_109                       6318              1095            5852   \n",
       "7001925801_109                       3851                 0           13417   \n",
       "7000965172_109                      12404              8915            5730   \n",
       "...                                   ...               ...             ...   \n",
       "7001597665_109                       7285              6860            4192   \n",
       "7000664212_109                          0                 0               0   \n",
       "7001113708_109                          0              2903               0   \n",
       "7001750126_109                          0                 0               0   \n",
       "7001256107_109                          0                 0               0   \n",
       "\n",
       "                             std_og_mou_6  churn_flag  \n",
       "mobile_number_and_circle_id                            \n",
       "7002049668_109                        557           0  \n",
       "7000937354_109                       1001           0  \n",
       "7001439111_109                       1231           0  \n",
       "7001925801_109                          0           0  \n",
       "7000965172_109                       2320           0  \n",
       "...                                   ...         ...  \n",
       "7001597665_109                       1254           1  \n",
       "7000664212_109                          0           1  \n",
       "7001113708_109                       8203           1  \n",
       "7001750126_109                        604           1  \n",
       "7001256107_109                          0           1  \n",
       "\n",
       "[37962 rows x 7 columns]"
      ]
     },
     "execution_count": 417,
     "metadata": {},
     "output_type": "execute_result"
    }
   ],
   "source": [
    "X_test_comb_2 = pd.concat([X_train2, y_train], axis=1)\n",
    "X_test_comb_2"
   ]
  },
  {
   "cell_type": "code",
   "execution_count": 418,
   "id": "09743572",
   "metadata": {},
   "outputs": [
    {
     "data": {
      "text/plain": [
       "fb_user_8_1.0      -0.293199\n",
       "loc_ic_mou_8       -0.577526\n",
       "loc_ic_t2m_mou_7   -0.385096\n",
       "total_og_mou_8     -0.492693\n",
       "std_og_mou_6        0.136067\n",
       "churn_flag          1.000000\n",
       "Name: churn_flag, dtype: float64"
      ]
     },
     "execution_count": 418,
     "metadata": {},
     "output_type": "execute_result"
    }
   ],
   "source": [
    "X_test_comb_2[X_test_comb_2.columns[1:]].corr()['churn_flag'][:] #correaltion to visualise impact on Churn flag"
   ]
  },
  {
   "cell_type": "markdown",
   "id": "8f31a025",
   "metadata": {},
   "source": [
    "### In summary:\n",
    "\n",
    "The following variables are important factor defining chrun rate:\n",
    "1. Local Incoming minutes: higher the number of minutes(i.e. usage), lower the churn rate\n",
    "2. Local Incoming minutes (to other mobile phones): higher the usae, lower the churn rate\n",
    "3. STD Outgoing minutes: Higher the usage, higher the churn rate\n",
    "4. FB User: Higher the usage, lower the churn\n",
    "5. Date of last recharge (voice and data): latest the date of recharge, lower/less likely the churn\n",
    "\n",
    "Recommendations:\n",
    "\n",
    "a. Introduce promotional offers that promote FB usage and Local incoming calls - this will further reduce the churn rate\n",
    "\n",
    "b. Introduce discount schemes for std outgoing calls: to reduce the issue of high charges which will reduce churn rate f high value customers\n"
   ]
  },
  {
   "cell_type": "code",
   "execution_count": null,
   "id": "02e1025f",
   "metadata": {},
   "outputs": [],
   "source": []
  },
  {
   "cell_type": "code",
   "execution_count": null,
   "id": "992304ce",
   "metadata": {},
   "outputs": [],
   "source": []
  },
  {
   "cell_type": "code",
   "execution_count": null,
   "id": "1b77c317",
   "metadata": {},
   "outputs": [],
   "source": []
  },
  {
   "cell_type": "markdown",
   "id": "35cd3efc",
   "metadata": {},
   "source": [
    "### Using Random Forest Classifier to identify relevant features"
   ]
  },
  {
   "cell_type": "code",
   "execution_count": 248,
   "id": "2b32b175",
   "metadata": {},
   "outputs": [],
   "source": [
    "from sklearn.ensemble import RandomForestClassifier"
   ]
  },
  {
   "cell_type": "code",
   "execution_count": 250,
   "id": "caf8ff8b",
   "metadata": {},
   "outputs": [],
   "source": [
    "#using same configuration as the best estimator identified through Randomized GridSearch CV\n",
    "rf2= RandomForestClassifier(max_depth=30, max_features=45, min_samples_leaf=20, n_estimators=60, n_jobs=-1, random_state=42)"
   ]
  },
  {
   "cell_type": "code",
   "execution_count": 251,
   "id": "ec0bd2a6",
   "metadata": {},
   "outputs": [
    {
     "data": {
      "text/plain": [
       "RandomForestClassifier(max_depth=30, max_features=45, min_samples_leaf=20,\n",
       "                       n_estimators=60, n_jobs=-1, random_state=42)"
      ]
     },
     "execution_count": 251,
     "metadata": {},
     "output_type": "execute_result"
    }
   ],
   "source": [
    "rf2.fit(X_train,y_train)"
   ]
  },
  {
   "cell_type": "markdown",
   "id": "f197585c",
   "metadata": {},
   "source": [
    "#### Variable importance"
   ]
  },
  {
   "cell_type": "code",
   "execution_count": 252,
   "id": "6eee903e",
   "metadata": {},
   "outputs": [
    {
     "data": {
      "text/plain": [
       "array([0.00000000e+00, 0.00000000e+00, 0.00000000e+00, 3.26522311e-03,\n",
       "       5.80187154e-03, 3.00274634e-02, 2.10220942e-03, 1.87936678e-03,\n",
       "       7.69559473e-03, 2.61083109e-03, 3.77633526e-03, 1.57715681e-02,\n",
       "       8.12444740e-04, 1.13862011e-03, 2.81099955e-02, 6.79602789e-04,\n",
       "       1.24096615e-03, 3.53358181e-02, 1.69578943e-03, 4.60367147e-03,\n",
       "       2.48183746e-02, 2.65412366e-03, 2.80542070e-03, 4.33011915e-02,\n",
       "       1.36343704e-03, 8.99512933e-04, 3.18406394e-03, 3.84385181e-04,\n",
       "       6.49225077e-04, 7.06905173e-04, 3.21743916e-03, 2.67208415e-03,\n",
       "       1.44052318e-02, 1.41449230e-03, 2.05834176e-03, 2.13228190e-03,\n",
       "       1.65218985e-03, 2.84154508e-03, 2.72956363e-03, 6.11312425e-04,\n",
       "       3.19692439e-04, 1.79826972e-04, 0.00000000e+00, 0.00000000e+00,\n",
       "       0.00000000e+00, 1.86956628e-03, 3.73463435e-03, 4.30429856e-03,\n",
       "       9.93083963e-04, 6.05548166e-04, 8.05959867e-04, 1.04002750e-03,\n",
       "       1.72561527e-03, 3.09329322e-03, 1.09285395e-03, 0.00000000e+00,\n",
       "       0.00000000e+00, 3.19090317e-03, 4.11284439e-03, 4.01738871e-02,\n",
       "       2.96281749e-03, 2.11245420e-03, 4.92297669e-02, 3.75662235e-03,\n",
       "       3.20004874e-03, 4.50068175e-02, 2.65067196e-03, 1.58971684e-03,\n",
       "       9.96156577e-03, 2.98478229e-03, 1.57345461e-02, 1.41270980e-01,\n",
       "       9.82428307e-04, 1.14148249e-03, 1.63143668e-03, 1.54115609e-03,\n",
       "       1.96242909e-03, 1.00710437e-02, 5.57338057e-04, 5.78478341e-04,\n",
       "       1.10518054e-03, 0.00000000e+00, 0.00000000e+00, 0.00000000e+00,\n",
       "       1.38111718e-03, 2.47678137e-03, 9.82745230e-03, 2.99878141e-03,\n",
       "       7.44251777e-03, 1.07775939e-01, 8.28696584e-04, 4.05517353e-04,\n",
       "       1.83685730e-03, 3.87141440e-02, 1.39511720e-03, 7.84464127e-04,\n",
       "       6.07123496e-04, 3.57035637e-04, 5.36434514e-04, 6.54616872e-04,\n",
       "       2.26641448e-03, 3.68658599e-03, 1.96976236e-03, 1.97338134e-03,\n",
       "       4.85315150e-03, 1.90865826e-02, 1.44238016e-03, 1.77493511e-03,\n",
       "       2.52374303e-02, 1.19075529e-03, 1.47312174e-03, 3.22311728e-02,\n",
       "       1.68793216e-03, 1.48910395e-03, 1.47396709e-03, 2.06783768e-03,\n",
       "       2.11326177e-03, 2.69863162e-03, 2.31133407e-03, 1.60780303e-03,\n",
       "       1.75753098e-03, 1.57022169e-03, 1.79814530e-03, 1.13544278e-03,\n",
       "       2.24608449e-03, 2.40407777e-03, 3.37898855e-03, 1.65123549e-03,\n",
       "       1.10174789e-03, 5.25495373e-03, 8.54278433e-04, 1.66733595e-03,\n",
       "       6.46414591e-03, 1.72949749e-03, 2.50279312e-03, 1.72548698e-03,\n",
       "       2.04733195e-03, 2.06439981e-03, 1.84147302e-03, 5.23277408e-05,\n",
       "       1.14770767e-04, 1.62663627e-04, 1.70471378e-04, 9.94300490e-05,\n",
       "       6.10404640e-05, 4.24580431e-04, 1.60067432e-04, 2.79105994e-04,\n",
       "       4.59761707e-05, 1.39031095e-04, 9.23106547e-05, 9.15179179e-03,\n",
       "       2.42949262e-03, 1.50831089e-03, 1.08993642e-03, 1.18948772e-04,\n",
       "       0.00000000e+00, 2.32764823e-04, 0.00000000e+00, 8.68416160e-04,\n",
       "       7.11057825e-05, 4.34422121e-03, 3.12910457e-04, 0.00000000e+00,\n",
       "       6.23879378e-04, 0.00000000e+00, 4.18776015e-03, 0.00000000e+00,\n",
       "       0.00000000e+00, 0.00000000e+00, 0.00000000e+00, 2.72984901e-05,\n",
       "       0.00000000e+00, 5.36956141e-06, 9.19622863e-06, 0.00000000e+00,\n",
       "       0.00000000e+00, 0.00000000e+00, 4.09676119e-05, 2.60951205e-06,\n",
       "       0.00000000e+00, 1.04594469e-04, 0.00000000e+00, 5.65403662e-05,\n",
       "       0.00000000e+00, 4.68043456e-06, 5.79871398e-06, 0.00000000e+00,\n",
       "       1.06568062e-05, 0.00000000e+00, 0.00000000e+00, 1.12624395e-05,\n",
       "       2.37418123e-05, 1.08595118e-05, 2.46028542e-05, 0.00000000e+00,\n",
       "       0.00000000e+00, 1.05063781e-05, 1.78302167e-05, 0.00000000e+00,\n",
       "       1.71090342e-05, 1.27409904e-05, 0.00000000e+00, 0.00000000e+00,\n",
       "       0.00000000e+00, 3.26985833e-05, 0.00000000e+00, 4.00102494e-05,\n",
       "       0.00000000e+00, 0.00000000e+00, 0.00000000e+00, 6.27467464e-05,\n",
       "       1.26585264e-05, 9.49167660e-06, 1.57912523e-04, 2.75262290e-05,\n",
       "       8.70023469e-06, 8.69273262e-06, 7.44456275e-06, 2.09645977e-06,\n",
       "       0.00000000e+00, 2.10010056e-05, 4.05502285e-05, 0.00000000e+00,\n",
       "       0.00000000e+00, 0.00000000e+00, 2.49510473e-07, 0.00000000e+00,\n",
       "       0.00000000e+00, 3.16420238e-05, 0.00000000e+00, 0.00000000e+00,\n",
       "       2.08656350e-05, 1.44387758e-04, 0.00000000e+00, 0.00000000e+00,\n",
       "       1.38371938e-05, 0.00000000e+00, 0.00000000e+00, 5.23522578e-05,\n",
       "       0.00000000e+00, 0.00000000e+00, 4.89742383e-06, 0.00000000e+00,\n",
       "       0.00000000e+00, 4.68164612e-05, 0.00000000e+00, 0.00000000e+00,\n",
       "       0.00000000e+00, 0.00000000e+00, 4.23049155e-06, 0.00000000e+00,\n",
       "       7.43440164e-07, 1.31347028e-05, 0.00000000e+00, 0.00000000e+00,\n",
       "       3.47611303e-05, 0.00000000e+00, 0.00000000e+00, 0.00000000e+00,\n",
       "       0.00000000e+00, 0.00000000e+00, 0.00000000e+00, 5.54043853e-07,\n",
       "       0.00000000e+00, 1.52740423e-05, 3.57272203e-05, 5.46007825e-05,\n",
       "       0.00000000e+00, 1.47202790e-04, 2.13106525e-06, 1.13319152e-04,\n",
       "       0.00000000e+00, 3.05178347e-05, 1.08538667e-04, 1.39274236e-05,\n",
       "       2.01122608e-06, 1.34403160e-05, 4.58696809e-05, 5.99937367e-05,\n",
       "       2.14152865e-05, 4.76765341e-05, 6.59005598e-05, 0.00000000e+00,\n",
       "       1.11319986e-04, 0.00000000e+00, 6.29992934e-08, 0.00000000e+00,\n",
       "       1.55350647e-05, 0.00000000e+00, 6.95161375e-08, 0.00000000e+00,\n",
       "       0.00000000e+00, 1.89930603e-07, 0.00000000e+00, 1.70415112e-06,\n",
       "       0.00000000e+00, 3.39874512e-05, 1.61592662e-06, 3.41864321e-06,\n",
       "       1.14086705e-05, 1.82840758e-05, 0.00000000e+00, 2.04238142e-05,\n",
       "       0.00000000e+00, 4.80780053e-06, 1.37682163e-05, 2.69839535e-05,\n",
       "       9.80613648e-05, 1.78508798e-05, 1.22198381e-04, 9.24061757e-05,\n",
       "       5.64709508e-05, 0.00000000e+00, 1.37975919e-04, 1.94671535e-04,\n",
       "       0.00000000e+00, 0.00000000e+00, 0.00000000e+00, 1.14282367e-06,\n",
       "       0.00000000e+00, 3.97335458e-08, 3.12680576e-07, 4.57309757e-06,\n",
       "       1.94416577e-05, 3.37795116e-04, 2.04744132e-04, 6.50003430e-05,\n",
       "       4.64733693e-05, 1.36024760e-04, 4.15142845e-06, 1.19163632e-04,\n",
       "       8.05010865e-06, 0.00000000e+00, 2.47578776e-04, 1.17711998e-04,\n",
       "       1.29615597e-05, 4.42910457e-06, 1.34334157e-04, 8.59783691e-05,\n",
       "       2.22259884e-03, 2.19301957e-05, 1.36624868e-03, 1.65097348e-05,\n",
       "       2.69727007e-05, 4.65521853e-04, 2.02582663e-03, 0.00000000e+00,\n",
       "       5.82470518e-05, 0.00000000e+00, 4.55597553e-06, 2.47497409e-04,\n",
       "       8.07473078e-06, 0.00000000e+00, 3.59790497e-06, 1.08464016e-04])"
      ]
     },
     "execution_count": 252,
     "metadata": {},
     "output_type": "execute_result"
    }
   ],
   "source": [
    "rf2.feature_importances_"
   ]
  },
  {
   "cell_type": "code",
   "execution_count": 254,
   "id": "2e093005",
   "metadata": {},
   "outputs": [],
   "source": [
    "imp_df=pd.DataFrame({\n",
    "    \"Varname\":X_train.columns,\n",
    "    \"Imp\":rf2.feature_importances_\n",
    "})"
   ]
  },
  {
   "cell_type": "code",
   "execution_count": 257,
   "id": "aaaf5b69",
   "metadata": {},
   "outputs": [
    {
     "name": "stdout",
     "output_type": "stream",
     "text": [
      "                                Varname           Imp\n",
      "71                         loc_ic_mou_8  1.412710e-01\n",
      "89                       total_ic_mou_8  1.077759e-01\n",
      "62                     loc_ic_t2t_mou_8  4.922977e-02\n",
      "65                     loc_ic_t2m_mou_8  4.500682e-02\n",
      "23                     loc_og_t2m_mou_8  4.330119e-02\n",
      "59                       total_og_mou_8  4.017389e-02\n",
      "93                         spl_ic_mou_9  3.871414e-02\n",
      "17                        roam_og_mou_8  3.533582e-02\n",
      "111                  last_day_rch_amt_8  3.223117e-02\n",
      "5                                arpu_8  3.002746e-02\n",
      "14                        roam_ic_mou_8  2.811000e-02\n",
      "108                      max_rech_amt_8  2.523743e-02\n",
      "20                     loc_og_t2t_mou_8  2.481837e-02\n",
      "105                    total_rech_amt_8  1.908658e-02\n",
      "11                         offnet_mou_8  1.577157e-02\n",
      "70                         loc_ic_mou_7  1.573455e-02\n",
      "32                         loc_og_mou_8  1.440523e-02\n",
      "77                     std_ic_t2m_mou_8  1.007104e-02\n",
      "68                     loc_ic_t2f_mou_8  9.961566e-03\n",
      "86                         std_ic_mou_8  9.827452e-03\n",
      "151                                 aon  9.151792e-03\n",
      "8                           onnet_mou_8  7.695595e-03\n",
      "88                       total_ic_mou_7  7.442518e-03\n",
      "132                         vol_3g_mb_8  6.464146e-03\n",
      "4                                arpu_7  5.801872e-03\n",
      "129                         vol_2g_mb_8  5.254954e-03\n",
      "104                    total_rech_amt_7  4.853152e-03\n",
      "19                     loc_og_t2t_mou_7  4.603671e-03\n",
      "161                       fb_user_8_1.0  4.344221e-03\n",
      "47                         std_og_mou_8  4.304299e-03\n",
      "166                night_pck_user_8_0.0  4.187760e-03\n",
      "58                       total_og_mou_7  4.112844e-03\n",
      "10                         offnet_mou_7  3.776335e-03\n",
      "63                     loc_ic_t2m_mou_6  3.756622e-03\n",
      "46                         std_og_mou_7  3.734634e-03\n",
      "101                    total_rech_num_7  3.686586e-03\n",
      "126                  av_rech_amt_data_8  3.378989e-03\n",
      "3                                arpu_6  3.265223e-03\n",
      "30                         loc_og_mou_6  3.217439e-03\n",
      "64                     loc_ic_t2m_mou_7  3.200049e-03\n",
      "57                       total_og_mou_6  3.190903e-03\n",
      "26                     loc_og_t2f_mou_8  3.184064e-03\n",
      "53                         spl_og_mou_8  3.093293e-03\n",
      "87                       total_ic_mou_6  2.998781e-03\n",
      "69                         loc_ic_mou_6  2.984782e-03\n",
      "60                     loc_ic_t2t_mou_6  2.962817e-03\n",
      "37                     std_og_t2m_mou_7  2.841545e-03\n",
      "22                     loc_og_t2m_mou_7  2.805421e-03\n",
      "38                     std_og_t2m_mou_8  2.729564e-03\n",
      "117                     max_rech_data_8  2.698632e-03\n",
      "31                         loc_og_mou_7  2.672084e-03\n",
      "21                     loc_og_t2m_mou_6  2.654124e-03\n",
      "66                     loc_ic_t2f_mou_6  2.650672e-03\n",
      "9                          offnet_mou_6  2.610831e-03\n",
      "134                           arpu_3g_7  2.502793e-03\n",
      "85                         std_ic_mou_7  2.476781e-03\n",
      "152                          aug_vbc_3g  2.429493e-03\n",
      "125                  av_rech_amt_data_7  2.404078e-03\n",
      "118                     count_rech_2g_6  2.311334e-03\n",
      "100                    total_rech_num_6  2.266414e-03\n",
      "124                  av_rech_amt_data_6  2.246084e-03\n",
      "340       date_of_last_rech_8_8/26/2014  2.222599e-03\n",
      "35                     std_og_t2t_mou_8  2.132282e-03\n",
      "116                     max_rech_data_7  2.113262e-03\n",
      "61                     loc_ic_t2t_mou_7  2.112454e-03\n",
      "6                           onnet_mou_6  2.102209e-03\n",
      "115                     max_rech_data_6  2.067838e-03\n",
      "137                           arpu_2g_7  2.064400e-03\n",
      "34                     std_og_t2t_mou_7  2.058342e-03\n",
      "136                           arpu_2g_6  2.047332e-03\n",
      "346       date_of_last_rech_8_8/31/2014  2.025827e-03\n",
      "103                    total_rech_amt_6  1.973381e-03\n",
      "102                    total_rech_num_8  1.969762e-03\n",
      "76                     std_ic_t2m_mou_7  1.962429e-03\n",
      "7                           onnet_mou_7  1.879367e-03\n",
      "45                         std_og_mou_6  1.869566e-03\n",
      "138                           arpu_2g_8  1.841473e-03\n",
      "92                         spl_ic_mou_8  1.836857e-03\n",
      "122                     count_rech_3g_7  1.798145e-03\n",
      "107                      max_rech_amt_7  1.774935e-03\n",
      "120                     count_rech_2g_8  1.757531e-03\n",
      "133                           arpu_3g_6  1.729497e-03\n",
      "52                         spl_og_mou_7  1.725615e-03\n",
      "135                           arpu_3g_8  1.725487e-03\n",
      "18                     loc_og_t2t_mou_6  1.695789e-03\n",
      "112                   total_rech_data_6  1.687932e-03\n",
      "131                         vol_3g_mb_7  1.667336e-03\n",
      "36                     std_og_t2m_mou_6  1.652190e-03\n",
      "127                         vol_2g_mb_6  1.651235e-03\n",
      "74                     std_ic_t2t_mou_8  1.631437e-03\n",
      "119                     count_rech_2g_7  1.607803e-03\n",
      "67                     loc_ic_t2f_mou_7  1.589717e-03\n",
      "121                     count_rech_3g_6  1.570222e-03\n",
      "75                     std_ic_t2m_mou_6  1.541156e-03\n",
      "153                          jul_vbc_3g  1.508311e-03\n",
      "113                   total_rech_data_7  1.489104e-03\n",
      "114                   total_rech_data_8  1.473967e-03\n",
      "110                  last_day_rch_amt_7  1.473122e-03\n",
      "106                      max_rech_amt_6  1.442380e-03\n",
      "33                     std_og_t2t_mou_6  1.414492e-03\n",
      "94                         isd_ic_mou_6  1.395117e-03\n",
      "84                         std_ic_mou_6  1.381117e-03\n",
      "342       date_of_last_rech_8_8/28/2014  1.366249e-03\n",
      "24                     loc_og_t2f_mou_6  1.363437e-03\n",
      "16                        roam_og_mou_7  1.240966e-03\n",
      "109                  last_day_rch_amt_6  1.190755e-03\n",
      "73                     std_ic_t2t_mou_7  1.141482e-03\n",
      "13                        roam_ic_mou_7  1.138620e-03\n",
      "123                     count_rech_3g_8  1.135443e-03\n",
      "80                     std_ic_t2f_mou_8  1.105181e-03\n",
      "128                         vol_2g_mb_7  1.101748e-03\n",
      "54                          og_others_6  1.092854e-03\n",
      "154                          jun_vbc_3g  1.089936e-03\n",
      "51                         spl_og_mou_6  1.040028e-03\n",
      "48                         isd_og_mou_6  9.930840e-04\n",
      "72                     std_ic_t2t_mou_6  9.824283e-04\n",
      "25                     loc_og_t2f_mou_7  8.995129e-04\n",
      "159                       fb_user_7_1.0  8.684162e-04\n",
      "130                         vol_3g_mb_6  8.542784e-04\n",
      "90                         spl_ic_mou_6  8.286966e-04\n",
      "12                        roam_ic_mou_6  8.124447e-04\n",
      "50                         isd_og_mou_8  8.059599e-04\n",
      "95                         isd_ic_mou_7  7.844641e-04\n",
      "29                     loc_og_t2c_mou_8  7.069052e-04\n",
      "15                        roam_og_mou_6  6.796028e-04\n",
      "99                          ic_others_8  6.546169e-04\n",
      "28                     loc_og_t2c_mou_7  6.492251e-04\n",
      "164                night_pck_user_7_0.0  6.238794e-04\n",
      "39                     std_og_t2f_mou_6  6.113124e-04\n",
      "96                         isd_ic_mou_8  6.071235e-04\n",
      "49                         isd_og_mou_7  6.055482e-04\n",
      "79                     std_ic_t2f_mou_7  5.784783e-04\n",
      "78                     std_ic_t2f_mou_6  5.573381e-04\n",
      "98                          ic_others_7  5.364345e-04\n",
      "345       date_of_last_rech_8_8/30/2014  4.655219e-04\n",
      "145                        monthly_3g_6  4.245804e-04\n",
      "91                         spl_ic_mou_7  4.055174e-04\n",
      "27                     loc_og_t2c_mou_6  3.843852e-04\n",
      "97                          ic_others_6  3.570356e-04\n",
      "325       date_of_last_rech_8_8/12/2014  3.377951e-04\n",
      "40                     std_og_t2f_mou_7  3.196924e-04\n",
      "162                night_pck_user_6_0.0  3.129105e-04\n",
      "147                        monthly_3g_8  2.791060e-04\n",
      "334       date_of_last_rech_8_8/20/2014  2.475788e-04\n",
      "351        date_of_last_rech_8_8/8/2014  2.474974e-04\n",
      "157                       fb_user_6_1.0  2.327648e-04\n",
      "326       date_of_last_rech_8_8/13/2014  2.047441e-04\n",
      "315       date_of_last_rech_7_7/31/2014  1.946715e-04\n",
      "41                     std_og_t2f_mou_8  1.798270e-04\n",
      "142                         sachet_2g_6  1.704714e-04\n",
      "141                        monthly_2g_8  1.626636e-04\n",
      "146                        monthly_3g_7  1.600674e-04\n",
      "214  date_of_last_rech_data_7_7/24/2014  1.579125e-04\n",
      "269       date_of_last_rech_6_6/17/2014  1.472028e-04\n",
      "233  date_of_last_rech_data_8_8/13/2014  1.443878e-04\n",
      "149                         sachet_3g_7  1.390311e-04\n",
      "314       date_of_last_rech_7_7/30/2014  1.379759e-04\n",
      "329       date_of_last_rech_8_8/16/2014  1.360248e-04\n",
      "338       date_of_last_rech_8_8/24/2014  1.343342e-04\n",
      "310       date_of_last_rech_7_7/27/2014  1.221984e-04\n",
      "331       date_of_last_rech_8_8/18/2014  1.191636e-04\n",
      "155                          sep_vbc_3g  1.189488e-04\n",
      "335       date_of_last_rech_8_8/21/2014  1.177120e-04\n",
      "140                        monthly_2g_7  1.147708e-04\n",
      "271       date_of_last_rech_6_6/19/2014  1.133192e-04\n",
      "284       date_of_last_rech_6_6/30/2014  1.113200e-04\n",
      "274       date_of_last_rech_6_6/21/2014  1.085387e-04\n",
      "355      last_date_of_month_8_8/31/2014  1.084640e-04\n",
      "181  date_of_last_rech_data_6_6/21/2014  1.045945e-04\n",
      "143                         sachet_2g_7  9.943005e-05\n",
      "308       date_of_last_rech_7_7/25/2014  9.806136e-05\n",
      "311       date_of_last_rech_7_7/28/2014  9.240618e-05\n",
      "150                         sachet_3g_8  9.231065e-05\n",
      "339       date_of_last_rech_8_8/25/2014  8.597837e-05\n",
      "160                       fb_user_8_0.0  7.110578e-05\n",
      "282       date_of_last_rech_6_6/29/2014  6.590056e-05\n",
      "327       date_of_last_rech_8_8/14/2014  6.500034e-05\n",
      "211  date_of_last_rech_data_7_7/21/2014  6.274675e-05\n",
      "144                         sachet_2g_8  6.104046e-05\n",
      "279       date_of_last_rech_6_6/26/2014  5.999374e-05\n",
      "348        date_of_last_rech_8_8/5/2014  5.824705e-05\n",
      "183  date_of_last_rech_data_6_6/23/2014  5.654037e-05\n",
      "312       date_of_last_rech_7_7/29/2014  5.647095e-05\n",
      "267       date_of_last_rech_6_6/15/2014  5.460078e-05\n",
      "239  date_of_last_rech_data_8_8/19/2014  5.235226e-05\n",
      "139                        monthly_2g_6  5.232774e-05\n",
      "281       date_of_last_rech_6_6/28/2014  4.767653e-05\n",
      "245  date_of_last_rech_data_8_8/24/2014  4.681646e-05\n",
      "328       date_of_last_rech_8_8/15/2014  4.647337e-05\n",
      "148                         sachet_3g_6  4.597617e-05\n",
      "278       date_of_last_rech_6_6/25/2014  4.586968e-05\n",
      "178  date_of_last_rech_data_6_6/19/2014  4.096761e-05\n",
      "222  date_of_last_rech_data_7_7/31/2014  4.055023e-05\n",
      "207  date_of_last_rech_data_7_7/18/2014  4.001025e-05\n",
      "266       date_of_last_rech_6_6/14/2014  3.572722e-05\n",
      "256   date_of_last_rech_data_8_8/6/2014  3.476113e-05\n",
      "297       date_of_last_rech_7_7/15/2014  3.398745e-05\n",
      "205  date_of_last_rech_data_7_7/16/2014  3.269858e-05\n",
      "229   date_of_last_rech_data_8_8/1/2014  3.164202e-05\n",
      "273       date_of_last_rech_6_6/20/2014  3.051783e-05\n",
      "215  date_of_last_rech_data_7_7/25/2014  2.752623e-05\n",
      "171  date_of_last_rech_data_6_6/12/2014  2.729849e-05\n",
      "307       date_of_last_rech_7_7/24/2014  2.698395e-05\n",
      "344        date_of_last_rech_8_8/3/2014  2.697270e-05\n",
      "194   date_of_last_rech_data_6_6/6/2014  2.460285e-05\n",
      "192   date_of_last_rech_data_6_6/4/2014  2.374181e-05\n",
      "341       date_of_last_rech_8_8/27/2014  2.193020e-05\n",
      "280       date_of_last_rech_6_6/27/2014  2.141529e-05\n",
      "221  date_of_last_rech_data_7_7/30/2014  2.100101e-05\n",
      "232  date_of_last_rech_data_8_8/12/2014  2.086564e-05\n",
      "303       date_of_last_rech_7_7/20/2014  2.042381e-05\n",
      "324       date_of_last_rech_8_8/11/2014  1.944166e-05\n",
      "301       date_of_last_rech_7_7/19/2014  1.828408e-05\n",
      "309       date_of_last_rech_7_7/26/2014  1.785088e-05\n",
      "198   date_of_last_rech_data_7_7/1/2014  1.783022e-05\n",
      "200  date_of_last_rech_data_7_7/11/2014  1.710903e-05\n",
      "343       date_of_last_rech_8_8/29/2014  1.650973e-05\n",
      "288        date_of_last_rech_6_6/7/2014  1.553506e-05\n",
      "265       date_of_last_rech_6_6/13/2014  1.527404e-05\n",
      "275       date_of_last_rech_6_6/22/2014  1.392742e-05\n",
      "236  date_of_last_rech_data_8_8/16/2014  1.383719e-05\n",
      "306       date_of_last_rech_7_7/23/2014  1.376822e-05\n",
      "277       date_of_last_rech_6_6/24/2014  1.344032e-05\n",
      "253  date_of_last_rech_data_8_8/31/2014  1.313470e-05\n",
      "336       date_of_last_rech_8_8/22/2014  1.296156e-05\n",
      "201  date_of_last_rech_data_7_7/12/2014  1.274099e-05\n",
      "212  date_of_last_rech_data_7_7/22/2014  1.265853e-05\n",
      "300       date_of_last_rech_7_7/18/2014  1.140867e-05\n",
      "191  date_of_last_rech_data_6_6/30/2014  1.126244e-05\n",
      "193   date_of_last_rech_data_6_6/5/2014  1.085951e-05\n",
      "188  date_of_last_rech_data_6_6/28/2014  1.065681e-05\n",
      "197   date_of_last_rech_data_6_6/9/2014  1.050638e-05\n",
      "213  date_of_last_rech_data_7_7/23/2014  9.491677e-06\n",
      "174  date_of_last_rech_data_6_6/15/2014  9.196229e-06\n",
      "216  date_of_last_rech_data_7_7/26/2014  8.700235e-06\n",
      "217  date_of_last_rech_data_7_7/27/2014  8.692733e-06\n",
      "352        date_of_last_rech_8_8/9/2014  8.074731e-06\n",
      "332       date_of_last_rech_8_8/19/2014  8.050109e-06\n",
      "218  date_of_last_rech_data_7_7/28/2014  7.444563e-06\n",
      "186  date_of_last_rech_data_6_6/26/2014  5.798714e-06\n",
      "173  date_of_last_rech_data_6_6/14/2014  5.369561e-06\n",
      "242  date_of_last_rech_data_8_8/21/2014  4.897424e-06\n",
      "305       date_of_last_rech_7_7/22/2014  4.807801e-06\n",
      "185  date_of_last_rech_data_6_6/25/2014  4.680435e-06\n",
      "323       date_of_last_rech_8_8/10/2014  4.573098e-06\n",
      "350        date_of_last_rech_8_8/7/2014  4.555976e-06\n",
      "337       date_of_last_rech_8_8/23/2014  4.429105e-06\n",
      "250  date_of_last_rech_data_8_8/29/2014  4.230492e-06\n",
      "330       date_of_last_rech_8_8/17/2014  4.151428e-06\n",
      "354      last_date_of_month_7_7/31/2014  3.597905e-06\n",
      "299       date_of_last_rech_7_7/17/2014  3.418643e-06\n",
      "179   date_of_last_rech_data_6_6/2/2014  2.609512e-06\n",
      "270       date_of_last_rech_6_6/18/2014  2.131065e-06\n",
      "219  date_of_last_rech_data_7_7/29/2014  2.096460e-06\n",
      "276       date_of_last_rech_6_6/23/2014  2.011226e-06\n",
      "295       date_of_last_rech_7_7/13/2014  1.704151e-06\n",
      "298       date_of_last_rech_7_7/16/2014  1.615927e-06\n",
      "319        date_of_last_rech_7_7/7/2014  1.142824e-06\n",
      "252  date_of_last_rech_data_8_8/30/2014  7.434402e-07\n",
      "263       date_of_last_rech_6_6/11/2014  5.540439e-07\n",
      "322        date_of_last_rech_8_8/1/2014  3.126806e-07\n",
      "226   date_of_last_rech_data_7_7/7/2014  2.495105e-07\n",
      "293       date_of_last_rech_7_7/11/2014  1.899306e-07\n",
      "290        date_of_last_rech_6_6/9/2014  6.951614e-08\n",
      "286        date_of_last_rech_6_6/5/2014  6.299929e-08\n",
      "321        date_of_last_rech_7_7/9/2014  3.973355e-08\n",
      "304       date_of_last_rech_7_7/21/2014  0.000000e+00\n",
      "56                          og_others_8  0.000000e+00\n",
      "55                          og_others_7  0.000000e+00\n",
      "44                     std_og_t2c_mou_8  0.000000e+00\n",
      "43                     std_og_t2c_mou_7  0.000000e+00\n",
      "2                        loc_ic_t2o_mou  0.000000e+00\n",
      "347        date_of_last_rech_8_8/4/2014  0.000000e+00\n",
      "42                     std_og_t2c_mou_6  0.000000e+00\n",
      "175  date_of_last_rech_data_6_6/16/2014  0.000000e+00\n",
      "349        date_of_last_rech_8_8/6/2014  0.000000e+00\n",
      "353      last_date_of_month_6_6/30/2014  0.000000e+00\n",
      "302        date_of_last_rech_7_7/2/2014  0.000000e+00\n",
      "82                     std_ic_t2o_mou_7  0.000000e+00\n",
      "81                     std_ic_t2o_mou_6  0.000000e+00\n",
      "169  date_of_last_rech_data_6_6/10/2014  0.000000e+00\n",
      "317        date_of_last_rech_7_7/5/2014  0.000000e+00\n",
      "316        date_of_last_rech_7_7/4/2014  0.000000e+00\n",
      "170  date_of_last_rech_data_6_6/11/2014  0.000000e+00\n",
      "320        date_of_last_rech_7_7/8/2014  0.000000e+00\n",
      "313        date_of_last_rech_7_7/3/2014  0.000000e+00\n",
      "172  date_of_last_rech_data_6_6/13/2014  0.000000e+00\n",
      "168   date_of_last_rech_data_6_6/1/2014  0.000000e+00\n",
      "318        date_of_last_rech_7_7/6/2014  0.000000e+00\n",
      "165                night_pck_user_7_1.0  0.000000e+00\n",
      "163                night_pck_user_6_1.0  0.000000e+00\n",
      "158                       fb_user_7_0.0  0.000000e+00\n",
      "333        date_of_last_rech_8_8/2/2014  0.000000e+00\n",
      "156                       fb_user_6_0.0  0.000000e+00\n",
      "83                     std_ic_t2o_mou_8  0.000000e+00\n",
      "167                night_pck_user_8_1.0  0.000000e+00\n",
      "182  date_of_last_rech_data_6_6/22/2014  0.000000e+00\n",
      "296       date_of_last_rech_7_7/14/2014  0.000000e+00\n",
      "224   date_of_last_rech_data_7_7/5/2014  0.000000e+00\n",
      "241  date_of_last_rech_data_8_8/20/2014  0.000000e+00\n",
      "240   date_of_last_rech_data_8_8/2/2014  0.000000e+00\n",
      "238  date_of_last_rech_data_8_8/18/2014  0.000000e+00\n",
      "237  date_of_last_rech_data_8_8/17/2014  0.000000e+00\n",
      "235  date_of_last_rech_data_8_8/15/2014  0.000000e+00\n",
      "234  date_of_last_rech_data_8_8/14/2014  0.000000e+00\n",
      "189  date_of_last_rech_data_6_6/29/2014  0.000000e+00\n",
      "231  date_of_last_rech_data_8_8/11/2014  0.000000e+00\n",
      "230  date_of_last_rech_data_8_8/10/2014  0.000000e+00\n",
      "228   date_of_last_rech_data_7_7/9/2014  0.000000e+00\n",
      "227   date_of_last_rech_data_7_7/8/2014  0.000000e+00\n",
      "225   date_of_last_rech_data_7_7/6/2014  0.000000e+00\n",
      "223   date_of_last_rech_data_7_7/4/2014  0.000000e+00\n",
      "244  date_of_last_rech_data_8_8/23/2014  0.000000e+00\n",
      "220   date_of_last_rech_data_7_7/3/2014  0.000000e+00\n",
      "190   date_of_last_rech_data_6_6/3/2014  0.000000e+00\n",
      "210  date_of_last_rech_data_7_7/20/2014  0.000000e+00\n",
      "209   date_of_last_rech_data_7_7/2/2014  0.000000e+00\n",
      "208  date_of_last_rech_data_7_7/19/2014  0.000000e+00\n",
      "206  date_of_last_rech_data_7_7/17/2014  0.000000e+00\n",
      "204  date_of_last_rech_data_7_7/15/2014  0.000000e+00\n",
      "203  date_of_last_rech_data_7_7/14/2014  0.000000e+00\n",
      "202  date_of_last_rech_data_7_7/13/2014  0.000000e+00\n",
      "199  date_of_last_rech_data_7_7/10/2014  0.000000e+00\n",
      "196   date_of_last_rech_data_6_6/8/2014  0.000000e+00\n",
      "195   date_of_last_rech_data_6_6/7/2014  0.000000e+00\n",
      "243  date_of_last_rech_data_8_8/22/2014  0.000000e+00\n",
      "187  date_of_last_rech_data_6_6/27/2014  0.000000e+00\n",
      "294       date_of_last_rech_7_7/12/2014  0.000000e+00\n",
      "268       date_of_last_rech_6_6/16/2014  0.000000e+00\n",
      "292       date_of_last_rech_7_7/10/2014  0.000000e+00\n",
      "291        date_of_last_rech_7_7/1/2014  0.000000e+00\n",
      "289        date_of_last_rech_6_6/8/2014  0.000000e+00\n",
      "287        date_of_last_rech_6_6/6/2014  0.000000e+00\n",
      "285        date_of_last_rech_6_6/4/2014  0.000000e+00\n",
      "176  date_of_last_rech_data_6_6/17/2014  0.000000e+00\n",
      "283        date_of_last_rech_6_6/3/2014  0.000000e+00\n",
      "177  date_of_last_rech_data_6_6/18/2014  0.000000e+00\n",
      "1                        std_og_t2o_mou  0.000000e+00\n",
      "180  date_of_last_rech_data_6_6/20/2014  0.000000e+00\n",
      "272        date_of_last_rech_6_6/2/2014  0.000000e+00\n",
      "184  date_of_last_rech_data_6_6/24/2014  0.000000e+00\n",
      "264       date_of_last_rech_6_6/12/2014  0.000000e+00\n",
      "246  date_of_last_rech_data_8_8/25/2014  0.000000e+00\n",
      "262       date_of_last_rech_6_6/10/2014  0.000000e+00\n",
      "261        date_of_last_rech_6_6/1/2014  0.000000e+00\n",
      "260   date_of_last_rech_data_9_9/1/2014  0.000000e+00\n",
      "259   date_of_last_rech_data_8_8/9/2014  0.000000e+00\n",
      "258   date_of_last_rech_data_8_8/8/2014  0.000000e+00\n",
      "257   date_of_last_rech_data_8_8/7/2014  0.000000e+00\n",
      "255   date_of_last_rech_data_8_8/5/2014  0.000000e+00\n",
      "254   date_of_last_rech_data_8_8/4/2014  0.000000e+00\n",
      "251   date_of_last_rech_data_8_8/3/2014  0.000000e+00\n",
      "249  date_of_last_rech_data_8_8/28/2014  0.000000e+00\n",
      "248  date_of_last_rech_data_8_8/27/2014  0.000000e+00\n",
      "247  date_of_last_rech_data_8_8/26/2014  0.000000e+00\n",
      "0                        loc_og_t2o_mou  0.000000e+00\n"
     ]
    }
   ],
   "source": [
    "print(imp_df.sort_values(by=\"Imp\",ascending=False).to_string())"
   ]
  },
  {
   "cell_type": "markdown",
   "id": "3753e104",
   "metadata": {},
   "source": [
    "### although both total_ic_mou_8 and total_ic_mou_8 are listed as important variables, they are highly correlated and hence total_ic_mou_8 cannot be important"
   ]
  },
  {
   "cell_type": "markdown",
   "id": "ec415ff1",
   "metadata": {},
   "source": [
    "## Hence, idenifying feature importance using Random forest may not as reliable as logistic"
   ]
  },
  {
   "cell_type": "code",
   "execution_count": null,
   "id": "1b45993a",
   "metadata": {},
   "outputs": [],
   "source": []
  },
  {
   "cell_type": "code",
   "execution_count": null,
   "id": "02bef467",
   "metadata": {},
   "outputs": [],
   "source": []
  }
 ],
 "metadata": {
  "kernelspec": {
   "display_name": "Python 3",
   "language": "python",
   "name": "python3"
  },
  "language_info": {
   "codemirror_mode": {
    "name": "ipython",
    "version": 3
   },
   "file_extension": ".py",
   "mimetype": "text/x-python",
   "name": "python",
   "nbconvert_exporter": "python",
   "pygments_lexer": "ipython3",
   "version": "3.8.8"
  }
 },
 "nbformat": 4,
 "nbformat_minor": 5
}
